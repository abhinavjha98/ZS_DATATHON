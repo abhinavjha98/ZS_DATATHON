{
  "nbformat": 4,
  "nbformat_minor": 0,
  "metadata": {
    "kernelspec": {
      "display_name": "Python 3",
      "language": "python",
      "name": "python3"
    },
    "language_info": {
      "codemirror_mode": {
        "name": "ipython",
        "version": 3
      },
      "file_extension": ".py",
      "mimetype": "text/x-python",
      "name": "python",
      "nbconvert_exporter": "python",
      "pygments_lexer": "ipython3",
      "version": "3.6.4"
    },
    "colab": {
      "name": "ZS_final_sub .ipynb",
      "version": "0.3.2",
      "provenance": []
    }
  },
  "cells": [
    {
      "cell_type": "code",
      "metadata": {
        "id": "S6bT9gsrHGfF",
        "colab_type": "code",
        "colab": {}
      },
      "source": [
        "import pandas as pd \n",
        "import numpy as np \n",
        "import scipy as sp \n",
        "import matplotlib.pyplot as plt "
      ],
      "execution_count": 0,
      "outputs": []
    },
    {
      "cell_type": "markdown",
      "metadata": {
        "id": "Oz15Q0lwHGfc",
        "colab_type": "text"
      },
      "source": [
        "Reading and Analysis of whole data"
      ]
    },
    {
      "cell_type": "code",
      "metadata": {
        "id": "_VDDElskHGfh",
        "colab_type": "code",
        "colab": {}
      },
      "source": [
        "d1 = pd.read_csv('data.csv')"
      ],
      "execution_count": 0,
      "outputs": []
    },
    {
      "cell_type": "code",
      "metadata": {
        "id": "VQBuUHWCHGfx",
        "colab_type": "code",
        "colab": {
          "base_uri": "https://localhost:8080/",
          "height": 34
        },
        "outputId": "fba67f5c-87f8-4968-9934-9f6b5ec0e4e7"
      },
      "source": [
        "d1.shape"
      ],
      "execution_count": 6,
      "outputs": [
        {
          "output_type": "execute_result",
          "data": {
            "text/plain": [
              "(30697, 28)"
            ]
          },
          "metadata": {
            "tags": []
          },
          "execution_count": 6
        }
      ]
    },
    {
      "cell_type": "code",
      "metadata": {
        "id": "hKRKViK3HGgN",
        "colab_type": "code",
        "colab": {
          "base_uri": "https://localhost:8080/",
          "height": 170
        },
        "outputId": "3095950a-26d2-4527-e67f-4327d9981e1b"
      },
      "source": [
        "d1.columns"
      ],
      "execution_count": 7,
      "outputs": [
        {
          "output_type": "execute_result",
          "data": {
            "text/plain": [
              "Index(['Unnamed: 0', 'match_event_id', 'location_x', 'location_y',\n",
              "       'remaining_min', 'power_of_shot', 'knockout_match', 'game_season',\n",
              "       'remaining_sec', 'distance_of_shot', 'is_goal', 'area_of_shot',\n",
              "       'shot_basics', 'range_of_shot', 'team_name', 'date_of_game',\n",
              "       'home/away', 'shot_id_number', 'lat/lng', 'type_of_shot',\n",
              "       'type_of_combined_shot', 'match_id', 'team_id', 'remaining_min.1',\n",
              "       'power_of_shot.1', 'knockout_match.1', 'remaining_sec.1',\n",
              "       'distance_of_shot.1'],\n",
              "      dtype='object')"
            ]
          },
          "metadata": {
            "tags": []
          },
          "execution_count": 7
        }
      ]
    },
    {
      "cell_type": "code",
      "metadata": {
        "id": "7hdHy3uTHGiQ",
        "colab_type": "code",
        "colab": {}
      },
      "source": [
        "#dropping column team name, team id because it's same throughout and seconds don't hold much importance in goal detection\n",
        "d1 = d1.drop(['team_name','team_id','shot_id_number','remaining_sec','remaining_sec.1'],axis=1)"
      ],
      "execution_count": 0,
      "outputs": []
    },
    {
      "cell_type": "code",
      "metadata": {
        "id": "pC38JZhlHGjY",
        "colab_type": "code",
        "colab": {}
      },
      "source": [
        "#filling in the missing values in shot_id_number column \n",
        "d1['Unnamed: 0'] += 1\n",
        "d1 = d1.rename(columns={'Unnamed: 0': 'shot_id_number'})"
      ],
      "execution_count": 0,
      "outputs": []
    },
    {
      "cell_type": "markdown",
      "metadata": {
        "id": "9HthS4n_HGkt",
        "colab_type": "text"
      },
      "source": [
        "Distance_of_shot Analysis"
      ]
    },
    {
      "cell_type": "code",
      "metadata": {
        "id": "gHV6ZzcSHGkx",
        "colab_type": "code",
        "colab": {
          "base_uri": "https://localhost:8080/",
          "height": 266
        },
        "outputId": "bc720df0-03b0-45ae-fadd-cf28ab752910"
      },
      "source": [
        "#to see whether the values are same or not \n",
        "d2 = d1[['distance_of_shot','distance_of_shot.1']]\n",
        "d2 = d2.rename(columns={'distance_of_shot.1':'distance_of_shot_1'})\n",
        "d2.sample(7)"
      ],
      "execution_count": 10,
      "outputs": [
        {
          "output_type": "execute_result",
          "data": {
            "text/html": [
              "<div>\n",
              "<style scoped>\n",
              "    .dataframe tbody tr th:only-of-type {\n",
              "        vertical-align: middle;\n",
              "    }\n",
              "\n",
              "    .dataframe tbody tr th {\n",
              "        vertical-align: top;\n",
              "    }\n",
              "\n",
              "    .dataframe thead th {\n",
              "        text-align: right;\n",
              "    }\n",
              "</style>\n",
              "<table border=\"1\" class=\"dataframe\">\n",
              "  <thead>\n",
              "    <tr style=\"text-align: right;\">\n",
              "      <th></th>\n",
              "      <th>distance_of_shot</th>\n",
              "      <th>distance_of_shot_1</th>\n",
              "    </tr>\n",
              "  </thead>\n",
              "  <tbody>\n",
              "    <tr>\n",
              "      <th>15117</th>\n",
              "      <td>NaN</td>\n",
              "      <td>27.0</td>\n",
              "    </tr>\n",
              "    <tr>\n",
              "      <th>19785</th>\n",
              "      <td>38.0</td>\n",
              "      <td>38.0</td>\n",
              "    </tr>\n",
              "    <tr>\n",
              "      <th>28170</th>\n",
              "      <td>33.0</td>\n",
              "      <td>33.0</td>\n",
              "    </tr>\n",
              "    <tr>\n",
              "      <th>24198</th>\n",
              "      <td>32.0</td>\n",
              "      <td>23.4</td>\n",
              "    </tr>\n",
              "    <tr>\n",
              "      <th>4835</th>\n",
              "      <td>20.0</td>\n",
              "      <td>46.4</td>\n",
              "    </tr>\n",
              "    <tr>\n",
              "      <th>13957</th>\n",
              "      <td>35.0</td>\n",
              "      <td>35.0</td>\n",
              "    </tr>\n",
              "    <tr>\n",
              "      <th>11817</th>\n",
              "      <td>36.0</td>\n",
              "      <td>36.0</td>\n",
              "    </tr>\n",
              "  </tbody>\n",
              "</table>\n",
              "</div>"
            ],
            "text/plain": [
              "       distance_of_shot  distance_of_shot_1\n",
              "15117               NaN                27.0\n",
              "19785              38.0                38.0\n",
              "28170              33.0                33.0\n",
              "24198              32.0                23.4\n",
              "4835               20.0                46.4\n",
              "13957              35.0                35.0\n",
              "11817              36.0                36.0"
            ]
          },
          "metadata": {
            "tags": []
          },
          "execution_count": 10
        }
      ]
    },
    {
      "cell_type": "code",
      "metadata": {
        "id": "9GGPp28uHGlI",
        "colab_type": "code",
        "colab": {
          "base_uri": "https://localhost:8080/",
          "height": 204
        },
        "outputId": "d375e4e1-88f6-487f-ff80-4e68929da7dd"
      },
      "source": [
        "#filling na values and finding average of the 2 cols\n",
        "d2.distance_of_shot.fillna(d2.distance_of_shot_1, inplace=True)\n",
        "d2.distance_of_shot_1.fillna(d2.distance_of_shot, inplace=True)\n",
        "d2['distance_of_shot_avg']=d2.mean(axis=1)\n",
        "d2.head()"
      ],
      "execution_count": 11,
      "outputs": [
        {
          "output_type": "execute_result",
          "data": {
            "text/html": [
              "<div>\n",
              "<style scoped>\n",
              "    .dataframe tbody tr th:only-of-type {\n",
              "        vertical-align: middle;\n",
              "    }\n",
              "\n",
              "    .dataframe tbody tr th {\n",
              "        vertical-align: top;\n",
              "    }\n",
              "\n",
              "    .dataframe thead th {\n",
              "        text-align: right;\n",
              "    }\n",
              "</style>\n",
              "<table border=\"1\" class=\"dataframe\">\n",
              "  <thead>\n",
              "    <tr style=\"text-align: right;\">\n",
              "      <th></th>\n",
              "      <th>distance_of_shot</th>\n",
              "      <th>distance_of_shot_1</th>\n",
              "      <th>distance_of_shot_avg</th>\n",
              "    </tr>\n",
              "  </thead>\n",
              "  <tbody>\n",
              "    <tr>\n",
              "      <th>0</th>\n",
              "      <td>38.0</td>\n",
              "      <td>38.0</td>\n",
              "      <td>38.0</td>\n",
              "    </tr>\n",
              "    <tr>\n",
              "      <th>1</th>\n",
              "      <td>35.0</td>\n",
              "      <td>35.0</td>\n",
              "      <td>35.0</td>\n",
              "    </tr>\n",
              "    <tr>\n",
              "      <th>2</th>\n",
              "      <td>36.0</td>\n",
              "      <td>54.4</td>\n",
              "      <td>45.2</td>\n",
              "    </tr>\n",
              "    <tr>\n",
              "      <th>3</th>\n",
              "      <td>42.0</td>\n",
              "      <td>42.0</td>\n",
              "      <td>42.0</td>\n",
              "    </tr>\n",
              "    <tr>\n",
              "      <th>4</th>\n",
              "      <td>20.0</td>\n",
              "      <td>20.0</td>\n",
              "      <td>20.0</td>\n",
              "    </tr>\n",
              "  </tbody>\n",
              "</table>\n",
              "</div>"
            ],
            "text/plain": [
              "   distance_of_shot  distance_of_shot_1  distance_of_shot_avg\n",
              "0              38.0                38.0                  38.0\n",
              "1              35.0                35.0                  35.0\n",
              "2              36.0                54.4                  45.2\n",
              "3              42.0                42.0                  42.0\n",
              "4              20.0                20.0                  20.0"
            ]
          },
          "metadata": {
            "tags": []
          },
          "execution_count": 11
        }
      ]
    },
    {
      "cell_type": "code",
      "metadata": {
        "id": "I1T_fFkCHGlo",
        "colab_type": "code",
        "colab": {
          "base_uri": "https://localhost:8080/",
          "height": 165
        },
        "outputId": "94b4af83-5eb6-47df-8584-a2608dc1be69"
      },
      "source": [
        "#concatinating d1 and d2 \n",
        "d1 = d1.drop(['distance_of_shot','distance_of_shot.1'],axis=1)\n",
        "d3 = pd.concat([d1, d2], axis=1)\n",
        "d3.sample(2)"
      ],
      "execution_count": 12,
      "outputs": [
        {
          "output_type": "execute_result",
          "data": {
            "text/html": [
              "<div>\n",
              "<style scoped>\n",
              "    .dataframe tbody tr th:only-of-type {\n",
              "        vertical-align: middle;\n",
              "    }\n",
              "\n",
              "    .dataframe tbody tr th {\n",
              "        vertical-align: top;\n",
              "    }\n",
              "\n",
              "    .dataframe thead th {\n",
              "        text-align: right;\n",
              "    }\n",
              "</style>\n",
              "<table border=\"1\" class=\"dataframe\">\n",
              "  <thead>\n",
              "    <tr style=\"text-align: right;\">\n",
              "      <th></th>\n",
              "      <th>shot_id_number</th>\n",
              "      <th>match_event_id</th>\n",
              "      <th>location_x</th>\n",
              "      <th>location_y</th>\n",
              "      <th>remaining_min</th>\n",
              "      <th>power_of_shot</th>\n",
              "      <th>knockout_match</th>\n",
              "      <th>game_season</th>\n",
              "      <th>is_goal</th>\n",
              "      <th>area_of_shot</th>\n",
              "      <th>shot_basics</th>\n",
              "      <th>range_of_shot</th>\n",
              "      <th>date_of_game</th>\n",
              "      <th>home/away</th>\n",
              "      <th>lat/lng</th>\n",
              "      <th>type_of_shot</th>\n",
              "      <th>type_of_combined_shot</th>\n",
              "      <th>match_id</th>\n",
              "      <th>remaining_min.1</th>\n",
              "      <th>power_of_shot.1</th>\n",
              "      <th>knockout_match.1</th>\n",
              "      <th>distance_of_shot</th>\n",
              "      <th>distance_of_shot_1</th>\n",
              "      <th>distance_of_shot_avg</th>\n",
              "    </tr>\n",
              "  </thead>\n",
              "  <tbody>\n",
              "    <tr>\n",
              "      <th>9982</th>\n",
              "      <td>9983</td>\n",
              "      <td>262.0</td>\n",
              "      <td>85.0</td>\n",
              "      <td>31.0</td>\n",
              "      <td>7.0</td>\n",
              "      <td>3.0</td>\n",
              "      <td>0.0</td>\n",
              "      <td>2006-07</td>\n",
              "      <td>0.0</td>\n",
              "      <td>Right Side(R)</td>\n",
              "      <td>Mid Range</td>\n",
              "      <td>8-16 ft.</td>\n",
              "      <td>2006-12-06</td>\n",
              "      <td>MANU vs. NOK</td>\n",
              "      <td>42.982923, -71.446094</td>\n",
              "      <td>shot - 52</td>\n",
              "      <td>NaN</td>\n",
              "      <td>20600270</td>\n",
              "      <td>7.0</td>\n",
              "      <td>3.0</td>\n",
              "      <td>0.0</td>\n",
              "      <td>29.0</td>\n",
              "      <td>29.0</td>\n",
              "      <td>29.0</td>\n",
              "    </tr>\n",
              "    <tr>\n",
              "      <th>14746</th>\n",
              "      <td>14747</td>\n",
              "      <td>181.0</td>\n",
              "      <td>-89.0</td>\n",
              "      <td>148.0</td>\n",
              "      <td>3.0</td>\n",
              "      <td>2.0</td>\n",
              "      <td>0.0</td>\n",
              "      <td>2008-09</td>\n",
              "      <td>1.0</td>\n",
              "      <td>Left Side Center(LC)</td>\n",
              "      <td>Mid Range</td>\n",
              "      <td>16-24 ft.</td>\n",
              "      <td>2009-04-01</td>\n",
              "      <td>MANU @ MIL</td>\n",
              "      <td>43.062206, -87.944754</td>\n",
              "      <td>shot - 44</td>\n",
              "      <td>NaN</td>\n",
              "      <td>20801117</td>\n",
              "      <td>3.0</td>\n",
              "      <td>2.0</td>\n",
              "      <td>0.0</td>\n",
              "      <td>37.0</td>\n",
              "      <td>37.0</td>\n",
              "      <td>37.0</td>\n",
              "    </tr>\n",
              "  </tbody>\n",
              "</table>\n",
              "</div>"
            ],
            "text/plain": [
              "       shot_id_number  match_event_id  ...  distance_of_shot_1  distance_of_shot_avg\n",
              "9982             9983           262.0  ...                29.0                  29.0\n",
              "14746           14747           181.0  ...                37.0                  37.0\n",
              "\n",
              "[2 rows x 24 columns]"
            ]
          },
          "metadata": {
            "tags": []
          },
          "execution_count": 12
        }
      ]
    },
    {
      "cell_type": "code",
      "metadata": {
        "id": "MmPJcmobHGnG",
        "colab_type": "code",
        "colab": {
          "base_uri": "https://localhost:8080/",
          "height": 34
        },
        "outputId": "3329afc5-9356-432e-e3b7-d732fd4a6f88"
      },
      "source": [
        "#filling in the na values in distance of shot avg with the help of range of shot \n",
        "n1 = d3['distance_of_shot_avg'].isnull()\n",
        "n1[n1==True].count()"
      ],
      "execution_count": 13,
      "outputs": [
        {
          "output_type": "execute_result",
          "data": {
            "text/plain": [
              "97"
            ]
          },
          "metadata": {
            "tags": []
          },
          "execution_count": 13
        }
      ]
    },
    {
      "cell_type": "code",
      "metadata": {
        "id": "qPRoqzdiHGnX",
        "colab_type": "code",
        "colab": {
          "base_uri": "https://localhost:8080/",
          "height": 136
        },
        "outputId": "7abec0d9-6416-40f9-9c64-b58502460f01"
      },
      "source": [
        "r = d3.groupby('range_of_shot')['distance_of_shot_avg'].agg('mean')\n",
        "r"
      ],
      "execution_count": 14,
      "outputs": [
        {
          "output_type": "execute_result",
          "data": {
            "text/plain": [
              "range_of_shot\n",
              "16-24 ft.          40.742291\n",
              "24+ ft.            46.707029\n",
              "8-16 ft.           34.827985\n",
              "Back Court Shot    72.619210\n",
              "Less Than 8 ft.    25.586323\n",
              "Name: distance_of_shot_avg, dtype: float64"
            ]
          },
          "metadata": {
            "tags": []
          },
          "execution_count": 14
        }
      ]
    },
    {
      "cell_type": "code",
      "metadata": {
        "id": "L_vHjmpaHGnp",
        "colab_type": "code",
        "colab": {}
      },
      "source": [
        "d3.distance_of_shot_avg.fillna(d3.range_of_shot, inplace=True)"
      ],
      "execution_count": 0,
      "outputs": []
    },
    {
      "cell_type": "code",
      "metadata": {
        "id": "omjdNVM6HGn1",
        "colab_type": "code",
        "colab": {
          "base_uri": "https://localhost:8080/",
          "height": 207
        },
        "outputId": "0b07ddb5-e25b-4299-b48d-e4df3d473df3"
      },
      "source": [
        "for i in d3.index:\n",
        "  val = d3.get_value(i,'distance_of_shot_avg')\n",
        "  if(val=='Less Than 8 ft.'):\n",
        "    d3.set_value(i,'distance_of_shot_avg',25.5863)\n",
        "  elif(val=='16-24 ft.'):\n",
        "    d3.set_value(i,'distance_of_shot_avg',40.74)\n",
        "  elif(val=='24+ ft.'):\n",
        "    d3.set_value(i,'distance_of_shot_avg',46.707029)\n",
        "  elif(val=='8-16 ft.'):\n",
        "    d3.set_value(i,'distance_of_shot_avg',34.8279)\n",
        "  elif(val=='Back Court Shot'):\n",
        "    d3.set_value(i,'distance_of_shot_avg',72.619)"
      ],
      "execution_count": 16,
      "outputs": [
        {
          "output_type": "stream",
          "text": [
            "/usr/local/lib/python3.6/dist-packages/ipykernel_launcher.py:2: FutureWarning: get_value is deprecated and will be removed in a future release. Please use .at[] or .iat[] accessors instead\n",
            "  \n",
            "/usr/local/lib/python3.6/dist-packages/ipykernel_launcher.py:8: FutureWarning: set_value is deprecated and will be removed in a future release. Please use .at[] or .iat[] accessors instead\n",
            "  \n",
            "/usr/local/lib/python3.6/dist-packages/ipykernel_launcher.py:10: FutureWarning: set_value is deprecated and will be removed in a future release. Please use .at[] or .iat[] accessors instead\n",
            "  # Remove the CWD from sys.path while we load stuff.\n",
            "/usr/local/lib/python3.6/dist-packages/ipykernel_launcher.py:4: FutureWarning: set_value is deprecated and will be removed in a future release. Please use .at[] or .iat[] accessors instead\n",
            "  after removing the cwd from sys.path.\n",
            "/usr/local/lib/python3.6/dist-packages/ipykernel_launcher.py:6: FutureWarning: set_value is deprecated and will be removed in a future release. Please use .at[] or .iat[] accessors instead\n",
            "  \n"
          ],
          "name": "stderr"
        }
      ]
    },
    {
      "cell_type": "code",
      "metadata": {
        "id": "0CSwimPQHGoQ",
        "colab_type": "code",
        "colab": {
          "base_uri": "https://localhost:8080/",
          "height": 153
        },
        "outputId": "6a8ff9a7-8dd3-4d41-a6ed-323981fe474e"
      },
      "source": [
        "d3.columns"
      ],
      "execution_count": 17,
      "outputs": [
        {
          "output_type": "execute_result",
          "data": {
            "text/plain": [
              "Index(['shot_id_number', 'match_event_id', 'location_x', 'location_y',\n",
              "       'remaining_min', 'power_of_shot', 'knockout_match', 'game_season',\n",
              "       'is_goal', 'area_of_shot', 'shot_basics', 'range_of_shot',\n",
              "       'date_of_game', 'home/away', 'lat/lng', 'type_of_shot',\n",
              "       'type_of_combined_shot', 'match_id', 'remaining_min.1',\n",
              "       'power_of_shot.1', 'knockout_match.1', 'distance_of_shot',\n",
              "       'distance_of_shot_1', 'distance_of_shot_avg'],\n",
              "      dtype='object')"
            ]
          },
          "metadata": {
            "tags": []
          },
          "execution_count": 17
        }
      ]
    },
    {
      "cell_type": "code",
      "metadata": {
        "id": "YhS8dMaxHGoq",
        "colab_type": "code",
        "colab": {}
      },
      "source": [
        "d3['distance_of_shot_avg'].fillna(36, inplace=True)"
      ],
      "execution_count": 0,
      "outputs": []
    },
    {
      "cell_type": "markdown",
      "metadata": {
        "id": "qVl6U6Z6HGo4",
        "colab_type": "text"
      },
      "source": [
        "Remaining_min Analysis"
      ]
    },
    {
      "cell_type": "code",
      "metadata": {
        "id": "g2uDFD8iHGpD",
        "colab_type": "code",
        "colab": {
          "base_uri": "https://localhost:8080/",
          "height": 204
        },
        "outputId": "fbb1734e-a3b2-4f5f-d082-49c71be87537"
      },
      "source": [
        "#to see whether the values are same or not \n",
        "d4 = d1[['remaining_min','remaining_min.1']]\n",
        "d4 = d4.rename(columns={'remaining_min.1':'remaining_min_1'})\n",
        "d4.head()"
      ],
      "execution_count": 19,
      "outputs": [
        {
          "output_type": "execute_result",
          "data": {
            "text/html": [
              "<div>\n",
              "<style scoped>\n",
              "    .dataframe tbody tr th:only-of-type {\n",
              "        vertical-align: middle;\n",
              "    }\n",
              "\n",
              "    .dataframe tbody tr th {\n",
              "        vertical-align: top;\n",
              "    }\n",
              "\n",
              "    .dataframe thead th {\n",
              "        text-align: right;\n",
              "    }\n",
              "</style>\n",
              "<table border=\"1\" class=\"dataframe\">\n",
              "  <thead>\n",
              "    <tr style=\"text-align: right;\">\n",
              "      <th></th>\n",
              "      <th>remaining_min</th>\n",
              "      <th>remaining_min_1</th>\n",
              "    </tr>\n",
              "  </thead>\n",
              "  <tbody>\n",
              "    <tr>\n",
              "      <th>0</th>\n",
              "      <td>10.0</td>\n",
              "      <td>10.00</td>\n",
              "    </tr>\n",
              "    <tr>\n",
              "      <th>1</th>\n",
              "      <td>10.0</td>\n",
              "      <td>10.00</td>\n",
              "    </tr>\n",
              "    <tr>\n",
              "      <th>2</th>\n",
              "      <td>7.0</td>\n",
              "      <td>92.64</td>\n",
              "    </tr>\n",
              "    <tr>\n",
              "      <th>3</th>\n",
              "      <td>6.0</td>\n",
              "      <td>NaN</td>\n",
              "    </tr>\n",
              "    <tr>\n",
              "      <th>4</th>\n",
              "      <td>NaN</td>\n",
              "      <td>42.64</td>\n",
              "    </tr>\n",
              "  </tbody>\n",
              "</table>\n",
              "</div>"
            ],
            "text/plain": [
              "   remaining_min  remaining_min_1\n",
              "0           10.0            10.00\n",
              "1           10.0            10.00\n",
              "2            7.0            92.64\n",
              "3            6.0              NaN\n",
              "4            NaN            42.64"
            ]
          },
          "metadata": {
            "tags": []
          },
          "execution_count": 19
        }
      ]
    },
    {
      "cell_type": "code",
      "metadata": {
        "id": "TvLLBu7zHGpd",
        "colab_type": "code",
        "colab": {
          "base_uri": "https://localhost:8080/",
          "height": 297
        },
        "outputId": "93179c56-ec03-4620-93dd-7ffbe6a4fe02"
      },
      "source": [
        "d4.describe()"
      ],
      "execution_count": 20,
      "outputs": [
        {
          "output_type": "execute_result",
          "data": {
            "text/html": [
              "<div>\n",
              "<style scoped>\n",
              "    .dataframe tbody tr th:only-of-type {\n",
              "        vertical-align: middle;\n",
              "    }\n",
              "\n",
              "    .dataframe tbody tr th {\n",
              "        vertical-align: top;\n",
              "    }\n",
              "\n",
              "    .dataframe thead th {\n",
              "        text-align: right;\n",
              "    }\n",
              "</style>\n",
              "<table border=\"1\" class=\"dataframe\">\n",
              "  <thead>\n",
              "    <tr style=\"text-align: right;\">\n",
              "      <th></th>\n",
              "      <th>remaining_min</th>\n",
              "      <th>remaining_min_1</th>\n",
              "    </tr>\n",
              "  </thead>\n",
              "  <tbody>\n",
              "    <tr>\n",
              "      <th>count</th>\n",
              "      <td>29135.000000</td>\n",
              "      <td>29162.000000</td>\n",
              "    </tr>\n",
              "    <tr>\n",
              "      <th>mean</th>\n",
              "      <td>4.883233</td>\n",
              "      <td>18.204615</td>\n",
              "    </tr>\n",
              "    <tr>\n",
              "      <th>std</th>\n",
              "      <td>3.452533</td>\n",
              "      <td>29.416973</td>\n",
              "    </tr>\n",
              "    <tr>\n",
              "      <th>min</th>\n",
              "      <td>0.000000</td>\n",
              "      <td>0.000000</td>\n",
              "    </tr>\n",
              "    <tr>\n",
              "      <th>25%</th>\n",
              "      <td>2.000000</td>\n",
              "      <td>3.000000</td>\n",
              "    </tr>\n",
              "    <tr>\n",
              "      <th>50%</th>\n",
              "      <td>5.000000</td>\n",
              "      <td>6.000000</td>\n",
              "    </tr>\n",
              "    <tr>\n",
              "      <th>75%</th>\n",
              "      <td>8.000000</td>\n",
              "      <td>11.000000</td>\n",
              "    </tr>\n",
              "    <tr>\n",
              "      <th>max</th>\n",
              "      <td>11.000000</td>\n",
              "      <td>128.761600</td>\n",
              "    </tr>\n",
              "  </tbody>\n",
              "</table>\n",
              "</div>"
            ],
            "text/plain": [
              "       remaining_min  remaining_min_1\n",
              "count   29135.000000     29162.000000\n",
              "mean        4.883233        18.204615\n",
              "std         3.452533        29.416973\n",
              "min         0.000000         0.000000\n",
              "25%         2.000000         3.000000\n",
              "50%         5.000000         6.000000\n",
              "75%         8.000000        11.000000\n",
              "max        11.000000       128.761600"
            ]
          },
          "metadata": {
            "tags": []
          },
          "execution_count": 20
        }
      ]
    },
    {
      "cell_type": "code",
      "metadata": {
        "id": "en3H_g-WHGp6",
        "colab_type": "code",
        "colab": {}
      },
      "source": [
        "#filling na values in remaining_min_1 with remaining_min \n",
        "d4.remaining_min_1.fillna(d4.remaining_min, inplace=True)\n",
        "d4= d4.drop('remaining_min',axis=1)"
      ],
      "execution_count": 0,
      "outputs": []
    },
    {
      "cell_type": "code",
      "metadata": {
        "id": "75bQb11gHGqN",
        "colab_type": "code",
        "colab": {
          "base_uri": "https://localhost:8080/",
          "height": 136
        },
        "outputId": "7fefbcf2-8de4-4fc1-c5a4-ef7290713620"
      },
      "source": [
        "#concatinating these the average now d5 is latest \n",
        "d5 = pd.concat([d3, d4], axis=1)\n",
        "d5 = d5.drop(['remaining_min','remaining_min.1'],axis=1)\n",
        "d5.columns"
      ],
      "execution_count": 22,
      "outputs": [
        {
          "output_type": "execute_result",
          "data": {
            "text/plain": [
              "Index(['shot_id_number', 'match_event_id', 'location_x', 'location_y',\n",
              "       'power_of_shot', 'knockout_match', 'game_season', 'is_goal',\n",
              "       'area_of_shot', 'shot_basics', 'range_of_shot', 'date_of_game',\n",
              "       'home/away', 'lat/lng', 'type_of_shot', 'type_of_combined_shot',\n",
              "       'match_id', 'power_of_shot.1', 'knockout_match.1', 'distance_of_shot',\n",
              "       'distance_of_shot_1', 'distance_of_shot_avg', 'remaining_min_1'],\n",
              "      dtype='object')"
            ]
          },
          "metadata": {
            "tags": []
          },
          "execution_count": 22
        }
      ]
    },
    {
      "cell_type": "code",
      "metadata": {
        "id": "e5iqX3-IHGqn",
        "colab_type": "code",
        "colab": {
          "base_uri": "https://localhost:8080/",
          "height": 170
        },
        "outputId": "82102de0-42c8-4ca8-c562-f40174d55ad9"
      },
      "source": [
        "d5['remaining_min_1'].describe()"
      ],
      "execution_count": 23,
      "outputs": [
        {
          "output_type": "execute_result",
          "data": {
            "text/plain": [
              "count    30616.000000\n",
              "mean        17.575091\n",
              "std         28.857798\n",
              "min          0.000000\n",
              "25%          3.000000\n",
              "50%          6.000000\n",
              "75%         10.000000\n",
              "max        128.761600\n",
              "Name: remaining_min_1, dtype: float64"
            ]
          },
          "metadata": {
            "tags": []
          },
          "execution_count": 23
        }
      ]
    },
    {
      "cell_type": "code",
      "metadata": {
        "id": "4lEzwNMWHGq1",
        "colab_type": "code",
        "colab": {}
      },
      "source": [
        "d5['remaining_min_1'].fillna(17,inplace=True)"
      ],
      "execution_count": 0,
      "outputs": []
    },
    {
      "cell_type": "markdown",
      "metadata": {
        "id": "f4h5PoNQHGq-",
        "colab_type": "text"
      },
      "source": [
        "knockout match Analysis"
      ]
    },
    {
      "cell_type": "code",
      "metadata": {
        "id": "6g9r89MyHGrD",
        "colab_type": "code",
        "colab": {}
      },
      "source": [
        "#selecting the appropriate column for knockout match \n",
        "d5 = d5.rename(columns={'knockout_match.1':'knockout_match_1'})\n",
        "d5.knockout_match.fillna(d5.knockout_match_1, inplace=True)\n",
        "d5 = d5.drop('knockout_match_1',axis=1)"
      ],
      "execution_count": 0,
      "outputs": []
    },
    {
      "cell_type": "code",
      "metadata": {
        "id": "8WRDGtDuHGrM",
        "colab_type": "code",
        "colab": {}
      },
      "source": [
        "d5['knockout_match'].fillna(\"U\", inplace = True)"
      ],
      "execution_count": 0,
      "outputs": []
    },
    {
      "cell_type": "code",
      "metadata": {
        "id": "95R5yAebHGrX",
        "colab_type": "code",
        "colab": {
          "base_uri": "https://localhost:8080/",
          "height": 105
        },
        "outputId": "755d7002-8bca-472a-8cd2-185d014e4c00"
      },
      "source": [
        "d5['knockout_match'] = d5['knockout_match'].replace(to_replace ='U', value = '0.0', regex = True) \n",
        "d5['knockout_match'] = pd.to_numeric(d5['knockout_match'])\n",
        "\n",
        "for i in d5.index:\n",
        "  val = d5.get_value(i,'knockout_match')\n",
        "  if(val>1.0):\n",
        "    d5.set_value(i,'knockout_match',1.0)"
      ],
      "execution_count": 27,
      "outputs": [
        {
          "output_type": "stream",
          "text": [
            "/usr/local/lib/python3.6/dist-packages/ipykernel_launcher.py:5: FutureWarning: get_value is deprecated and will be removed in a future release. Please use .at[] or .iat[] accessors instead\n",
            "  \"\"\"\n",
            "/usr/local/lib/python3.6/dist-packages/ipykernel_launcher.py:7: FutureWarning: set_value is deprecated and will be removed in a future release. Please use .at[] or .iat[] accessors instead\n",
            "  import sys\n"
          ],
          "name": "stderr"
        }
      ]
    },
    {
      "cell_type": "code",
      "metadata": {
        "id": "LizGY6TjHGri",
        "colab_type": "code",
        "colab": {
          "base_uri": "https://localhost:8080/",
          "height": 34
        },
        "outputId": "bbe0d951-aa6b-44ef-dfd4-73e445525015"
      },
      "source": [
        "d5['knockout_match'].unique()"
      ],
      "execution_count": 28,
      "outputs": [
        {
          "output_type": "execute_result",
          "data": {
            "text/plain": [
              "array([0., 1.])"
            ]
          },
          "metadata": {
            "tags": []
          },
          "execution_count": 28
        }
      ]
    },
    {
      "cell_type": "markdown",
      "metadata": {
        "id": "Tz3yrc9oHGrx",
        "colab_type": "text"
      },
      "source": [
        "power of shot Analysis"
      ]
    },
    {
      "cell_type": "code",
      "metadata": {
        "id": "RbW7EUXAHGr6",
        "colab_type": "code",
        "colab": {}
      },
      "source": [
        "#power of shot has 1 to 7 makes more sense\n",
        "d5 = d5.rename(columns={'power_of_shot.1':'power_of_shot_1'})\n",
        "d5.power_of_shot.fillna(d5.power_of_shot_1, inplace=True)\n",
        "d5 = d5.drop('power_of_shot_1',axis=1)"
      ],
      "execution_count": 0,
      "outputs": []
    },
    {
      "cell_type": "code",
      "metadata": {
        "id": "BusyuQGOHGsQ",
        "colab_type": "code",
        "colab": {
          "base_uri": "https://localhost:8080/",
          "height": 170
        },
        "outputId": "4ac3a9bc-b69d-4dce-ed20-40e42941dba1"
      },
      "source": [
        "d5['power_of_shot'].describe()"
      ],
      "execution_count": 30,
      "outputs": [
        {
          "output_type": "execute_result",
          "data": {
            "text/plain": [
              "count    30627.000000\n",
              "mean         3.108937\n",
              "std          6.761758\n",
              "min          1.000000\n",
              "25%          1.000000\n",
              "50%          3.000000\n",
              "75%          4.000000\n",
              "max        118.360000\n",
              "Name: power_of_shot, dtype: float64"
            ]
          },
          "metadata": {
            "tags": []
          },
          "execution_count": 30
        }
      ]
    },
    {
      "cell_type": "code",
      "metadata": {
        "id": "NErBlx36HGsf",
        "colab_type": "code",
        "colab": {}
      },
      "source": [
        "d5.loc[d5['power_of_shot'] > 7, 'power_of_shot'] = np.nan"
      ],
      "execution_count": 0,
      "outputs": []
    },
    {
      "cell_type": "code",
      "metadata": {
        "id": "NDR9YGqrHGsv",
        "colab_type": "code",
        "colab": {
          "base_uri": "https://localhost:8080/",
          "height": 34
        },
        "outputId": "39b5b16a-5350-4b3e-8013-84878c5a1896"
      },
      "source": [
        "d5['power_of_shot'].unique()"
      ],
      "execution_count": 32,
      "outputs": [
        {
          "output_type": "execute_result",
          "data": {
            "text/plain": [
              "array([ 1.,  2.,  3.,  4., nan,  5.,  6.,  7.])"
            ]
          },
          "metadata": {
            "tags": []
          },
          "execution_count": 32
        }
      ]
    },
    {
      "cell_type": "code",
      "metadata": {
        "id": "ig6dJWXVHGs_",
        "colab_type": "code",
        "colab": {
          "base_uri": "https://localhost:8080/",
          "height": 51
        },
        "outputId": "f1c5fabb-e4e5-4ee2-ee69-8c73af760a61"
      },
      "source": [
        "d5['power_of_shot'].mode()"
      ],
      "execution_count": 33,
      "outputs": [
        {
          "output_type": "execute_result",
          "data": {
            "text/plain": [
              "0    3.0\n",
              "dtype: float64"
            ]
          },
          "metadata": {
            "tags": []
          },
          "execution_count": 33
        }
      ]
    },
    {
      "cell_type": "code",
      "metadata": {
        "id": "r_HS_g5cHGtM",
        "colab_type": "code",
        "colab": {
          "base_uri": "https://localhost:8080/",
          "height": 34
        },
        "outputId": "6771d9ff-d8e7-4f58-de46-4073f3052360"
      },
      "source": [
        "d5['power_of_shot'].fillna(3, inplace = True)\n",
        "d5['power_of_shot'].unique()"
      ],
      "execution_count": 34,
      "outputs": [
        {
          "output_type": "execute_result",
          "data": {
            "text/plain": [
              "array([1., 2., 3., 4., 5., 6., 7.])"
            ]
          },
          "metadata": {
            "tags": []
          },
          "execution_count": 34
        }
      ]
    },
    {
      "cell_type": "markdown",
      "metadata": {
        "id": "e-RK3W4UHGtY",
        "colab_type": "text"
      },
      "source": [
        "shot basics and area of shot Analysis"
      ]
    },
    {
      "cell_type": "code",
      "metadata": {
        "id": "IQHVeiWwHGtb",
        "colab_type": "code",
        "colab": {
          "base_uri": "https://localhost:8080/",
          "height": 34
        },
        "outputId": "b5d6f327-f74f-47ef-aaae-37d31aea7e6c"
      },
      "source": [
        "n2=d5['area_of_shot'].isnull()\n",
        "n2[n2==True].count()"
      ],
      "execution_count": 35,
      "outputs": [
        {
          "output_type": "execute_result",
          "data": {
            "text/plain": [
              "1502"
            ]
          },
          "metadata": {
            "tags": []
          },
          "execution_count": 35
        }
      ]
    },
    {
      "cell_type": "code",
      "metadata": {
        "id": "NIMzCHFnHGtr",
        "colab_type": "code",
        "colab": {}
      },
      "source": [
        "#because the value of na is large shouldn't be replaced by mode\n",
        "d5['area_of_shot'].fillna(\"U\", inplace = True)\n",
        "d5['shot_basics'].fillna(\"U\", inplace = True)"
      ],
      "execution_count": 0,
      "outputs": []
    },
    {
      "cell_type": "code",
      "metadata": {
        "id": "Q7XoQHZxHGt9",
        "colab_type": "code",
        "colab": {
          "base_uri": "https://localhost:8080/",
          "height": 34
        },
        "outputId": "c8102d17-87b1-402e-f8b3-391b020cc5a6"
      },
      "source": [
        "d5 = pd.get_dummies(d5,prefix_sep=\"_\",columns=[\"area_of_shot\",\"shot_basics\"])\n",
        "d5.shape"
      ],
      "execution_count": 37,
      "outputs": [
        {
          "output_type": "execute_result",
          "data": {
            "text/plain": [
              "(30697, 34)"
            ]
          },
          "metadata": {
            "tags": []
          },
          "execution_count": 37
        }
      ]
    },
    {
      "cell_type": "code",
      "metadata": {
        "id": "xJNnLtkoHGuN",
        "colab_type": "code",
        "colab": {
          "base_uri": "https://localhost:8080/",
          "height": 612
        },
        "outputId": "09f54260-a0c5-4906-c4c8-6558e4bb3252"
      },
      "source": [
        "d5.dtypes"
      ],
      "execution_count": 38,
      "outputs": [
        {
          "output_type": "execute_result",
          "data": {
            "text/plain": [
              "shot_id_number                          int64\n",
              "match_event_id                        float64\n",
              "location_x                            float64\n",
              "location_y                            float64\n",
              "power_of_shot                         float64\n",
              "knockout_match                        float64\n",
              "game_season                            object\n",
              "is_goal                               float64\n",
              "range_of_shot                          object\n",
              "date_of_game                           object\n",
              "home/away                              object\n",
              "lat/lng                                object\n",
              "type_of_shot                           object\n",
              "type_of_combined_shot                  object\n",
              "match_id                                int64\n",
              "distance_of_shot                      float64\n",
              "distance_of_shot_1                    float64\n",
              "distance_of_shot_avg                  float64\n",
              "remaining_min_1                       float64\n",
              "area_of_shot_Center(C)                  uint8\n",
              "area_of_shot_Left Side Center(LC)       uint8\n",
              "area_of_shot_Left Side(L)               uint8\n",
              "area_of_shot_Mid Ground(MG)             uint8\n",
              "area_of_shot_Right Side Center(RC)      uint8\n",
              "area_of_shot_Right Side(R)              uint8\n",
              "area_of_shot_U                          uint8\n",
              "shot_basics_Goal Area                   uint8\n",
              "shot_basics_Goal Line                   uint8\n",
              "shot_basics_Left Corner                 uint8\n",
              "shot_basics_Mid Ground Line             uint8\n",
              "shot_basics_Mid Range                   uint8\n",
              "shot_basics_Penalty Spot                uint8\n",
              "shot_basics_Right Corner                uint8\n",
              "shot_basics_U                           uint8\n",
              "dtype: object"
            ]
          },
          "metadata": {
            "tags": []
          },
          "execution_count": 38
        }
      ]
    },
    {
      "cell_type": "markdown",
      "metadata": {
        "id": "lN_4qz-PHGuZ",
        "colab_type": "text"
      },
      "source": [
        "game_season Analysis"
      ]
    },
    {
      "cell_type": "code",
      "metadata": {
        "id": "wXIJAVQ8HGuc",
        "colab_type": "code",
        "colab": {}
      },
      "source": [
        "d5['game_season'].unique()\n",
        "d5['game_season'].fillna(method='ffill', inplace=True)"
      ],
      "execution_count": 0,
      "outputs": []
    },
    {
      "cell_type": "markdown",
      "metadata": {
        "id": "pAfB1QQKHGuo",
        "colab_type": "text"
      },
      "source": [
        "type of shot Analysis"
      ]
    },
    {
      "cell_type": "code",
      "metadata": {
        "id": "F2VPWNJOHGur",
        "colab_type": "code",
        "colab": {}
      },
      "source": [
        "#filling 0 in place of na \n",
        "d5['type_of_combined_shot'].fillna(0, inplace=True)\n",
        "d5['type_of_shot'].fillna(0, inplace = True)"
      ],
      "execution_count": 0,
      "outputs": []
    },
    {
      "cell_type": "code",
      "metadata": {
        "id": "NfH_I27tHGu1",
        "colab_type": "code",
        "colab": {}
      },
      "source": [
        "d5.to_csv('first.csv',index=False)"
      ],
      "execution_count": 0,
      "outputs": []
    },
    {
      "cell_type": "markdown",
      "metadata": {
        "id": "N2anjPaLHGu6",
        "colab_type": "text"
      },
      "source": [
        "location x and y Analysis"
      ]
    },
    {
      "cell_type": "code",
      "metadata": {
        "id": "YgRiwaKNHGvA",
        "colab_type": "code",
        "colab": {}
      },
      "source": [
        "d5 = pd.read_csv('first.csv')\n",
        "d6 = d5.drop('location_x',axis=1)\n",
        "d6 = d6.drop('location_y',axis=1)"
      ],
      "execution_count": 0,
      "outputs": []
    },
    {
      "cell_type": "markdown",
      "metadata": {
        "id": "nKRAciFNHGxN",
        "colab_type": "text"
      },
      "source": [
        "home/away and lat/lng analysis"
      ]
    },
    {
      "cell_type": "code",
      "metadata": {
        "id": "E5if7CXPHGxd",
        "colab_type": "code",
        "colab": {}
      },
      "source": [
        "d6['home/away'] = d6.groupby(['match_id'])['home/away'].ffill()\n",
        "d6['home/away'] = d6.groupby(['match_id'])['home/away'].bfill()"
      ],
      "execution_count": 0,
      "outputs": []
    },
    {
      "cell_type": "code",
      "metadata": {
        "id": "rQ5Iz4nGHGzJ",
        "colab_type": "code",
        "colab": {}
      },
      "source": [
        "d6['lat/lng'].fillna(d6['home/away'],inplace=True)\n",
        "d6['lat/lng'] = d6['lat/lng'].replace(to_replace ='@', value = 0 , regex = True) \n",
        "d6['lat/lng'] = d6['lat/lng'].replace(to_replace ='vs', value = 1 , regex = True) "
      ],
      "execution_count": 0,
      "outputs": []
    },
    {
      "cell_type": "code",
      "metadata": {
        "id": "pRDvh-8WHGzg",
        "colab_type": "code",
        "colab": {
          "base_uri": "https://localhost:8080/",
          "height": 34
        },
        "outputId": "3188dea2-6a9e-4dad-bc6b-913c46c8f8e3"
      },
      "source": [
        "d6.loc[(d6['lat/lng'] != '42.982923, -71.446094') & (d6['lat/lng'] != 1) &  (d6['lat/lng'].notnull()), 'lat/lng'] = 0\n",
        "d6.loc[d6['lat/lng'] == '42.982923, -71.446094','lat/lng'] = 1\n",
        "d6['lat/lng'].unique()"
      ],
      "execution_count": 45,
      "outputs": [
        {
          "output_type": "execute_result",
          "data": {
            "text/plain": [
              "array([0, 1])"
            ]
          },
          "metadata": {
            "tags": []
          },
          "execution_count": 45
        }
      ]
    },
    {
      "cell_type": "code",
      "metadata": {
        "id": "j2cjbBSeHG0i",
        "colab_type": "code",
        "colab": {}
      },
      "source": [
        "#to get name of opposition teams\n",
        "d6['home/away']=d6['home/away'].astype(\"str\").apply(lambda x: x.lstrip(\"MANU\"))\n",
        "d6['home/away']=d6['home/away'].astype(\"str\").apply(lambda x: x.lstrip(\"vs. \"))\n",
        "d6['home/away']=d6['home/away'].astype(\"str\").apply(lambda x: x.lstrip(\"@ \"))"
      ],
      "execution_count": 0,
      "outputs": []
    },
    {
      "cell_type": "code",
      "metadata": {
        "id": "Dj5xAX7tHG00",
        "colab_type": "code",
        "colab": {}
      },
      "source": [
        "d6 = d6.drop(['range_of_shot','distance_of_shot','distance_of_shot_1'], axis=1)\n",
        "d6 = d6.drop(['match_event_id','date_of_game'],axis=1)"
      ],
      "execution_count": 0,
      "outputs": []
    },
    {
      "cell_type": "code",
      "metadata": {
        "id": "MoPhAYKtHG0_",
        "colab_type": "code",
        "colab": {}
      },
      "source": [
        "#d7 = d6['is_goal']"
      ],
      "execution_count": 0,
      "outputs": []
    },
    {
      "cell_type": "code",
      "metadata": {
        "id": "BCyUMaoPHG1J",
        "colab_type": "code",
        "colab": {
          "base_uri": "https://localhost:8080/",
          "height": 493
        },
        "outputId": "a4f9a695-42dc-4a8a-bef8-29ab5578d7cf"
      },
      "source": [
        "#to check if we got rid of all na values\n",
        "c= d6.isnull()\n",
        "c[c==True].count()"
      ],
      "execution_count": 49,
      "outputs": [
        {
          "output_type": "execute_result",
          "data": {
            "text/plain": [
              "shot_id_number                           0\n",
              "power_of_shot                            0\n",
              "knockout_match                           0\n",
              "game_season                              0\n",
              "is_goal                               6268\n",
              "home/away                                0\n",
              "lat/lng                                  0\n",
              "type_of_shot                             0\n",
              "type_of_combined_shot                    0\n",
              "match_id                                 0\n",
              "distance_of_shot_avg                     0\n",
              "remaining_min_1                          0\n",
              "area_of_shot_Center(C)                   0\n",
              "area_of_shot_Left Side Center(LC)        0\n",
              "area_of_shot_Left Side(L)                0\n",
              "area_of_shot_Mid Ground(MG)              0\n",
              "area_of_shot_Right Side Center(RC)       0\n",
              "area_of_shot_Right Side(R)               0\n",
              "area_of_shot_U                           0\n",
              "shot_basics_Goal Area                    0\n",
              "shot_basics_Goal Line                    0\n",
              "shot_basics_Left Corner                  0\n",
              "shot_basics_Mid Ground Line              0\n",
              "shot_basics_Mid Range                    0\n",
              "shot_basics_Penalty Spot                 0\n",
              "shot_basics_Right Corner                 0\n",
              "shot_basics_U                            0\n",
              "dtype: int64"
            ]
          },
          "metadata": {
            "tags": []
          },
          "execution_count": 49
        }
      ]
    },
    {
      "cell_type": "code",
      "metadata": {
        "id": "jpNDbCSVHG1p",
        "colab_type": "code",
        "colab": {}
      },
      "source": [
        "d6['is_goal'].fillna(5, inplace=True)\n",
        "d6['is_goal'] = pd.to_numeric(d6['is_goal'])"
      ],
      "execution_count": 0,
      "outputs": []
    },
    {
      "cell_type": "code",
      "metadata": {
        "id": "OW9DRBT1HG13",
        "colab_type": "code",
        "colab": {}
      },
      "source": [
        "d6.to_csv('second.csv',index=False)"
      ],
      "execution_count": 0,
      "outputs": []
    },
    {
      "cell_type": "markdown",
      "metadata": {
        "id": "YSBZ7U4_HG2a",
        "colab_type": "text"
      },
      "source": [
        "handling categorical data"
      ]
    },
    {
      "cell_type": "code",
      "metadata": {
        "id": "kiyLcxK5HG2d",
        "colab_type": "code",
        "colab": {}
      },
      "source": [
        "f1 = pd.read_csv('second.csv')"
      ],
      "execution_count": 0,
      "outputs": []
    },
    {
      "cell_type": "code",
      "metadata": {
        "id": "snJWQHDZHG2w",
        "colab_type": "code",
        "colab": {
          "base_uri": "https://localhost:8080/",
          "height": 34
        },
        "outputId": "fa3e25a4-57ad-4376-8b0a-0a2d2ca84e02"
      },
      "source": [
        "f1.shape"
      ],
      "execution_count": 53,
      "outputs": [
        {
          "output_type": "execute_result",
          "data": {
            "text/plain": [
              "(30697, 27)"
            ]
          },
          "metadata": {
            "tags": []
          },
          "execution_count": 53
        }
      ]
    },
    {
      "cell_type": "code",
      "metadata": {
        "id": "eUHlmbe0HG3O",
        "colab_type": "code",
        "colab": {}
      },
      "source": [
        "f2 = f1.groupby(['home/away'])['is_goal'].agg('sum').reset_index().sort_values(by='is_goal',ascending=False)\n",
        "f2 = pd.DataFrame(f2)\n",
        "#f2.head()"
      ],
      "execution_count": 0,
      "outputs": []
    },
    {
      "cell_type": "code",
      "metadata": {
        "id": "3-B-o3-wHG3b",
        "colab_type": "code",
        "colab": {}
      },
      "source": [
        "f3 = f1.groupby(['match_id'])['is_goal'].agg('sum').reset_index().sort_values(by='is_goal',ascending=False)\n",
        "f3 = pd.DataFrame(f3)\n",
        "#f3.head()"
      ],
      "execution_count": 0,
      "outputs": []
    },
    {
      "cell_type": "code",
      "metadata": {
        "id": "5J5MFmWJHG3v",
        "colab_type": "code",
        "colab": {}
      },
      "source": [
        "#f4 = f1.groupby(['area_of_shot'])['is_goal'].agg('sum').reset_index().sort_values(by='is_goal',ascending=False)\n",
        "#f4 = pd.DataFrame(f4)\n",
        "#f4"
      ],
      "execution_count": 0,
      "outputs": []
    },
    {
      "cell_type": "code",
      "metadata": {
        "id": "MACaO6ZnHG3-",
        "colab_type": "code",
        "colab": {}
      },
      "source": [
        "#f5 = f1.groupby(['shot_basics'])['is_goal'].agg('sum').reset_index().sort_values(by='is_goal',ascending=False)\n",
        "#f5 = pd.DataFrame(f5)\n",
        "#f5"
      ],
      "execution_count": 0,
      "outputs": []
    },
    {
      "cell_type": "code",
      "metadata": {
        "id": "Fu3kP2iMHG4T",
        "colab_type": "code",
        "colab": {}
      },
      "source": [
        "f6 = f1.groupby(['game_season'])['is_goal'].agg('sum').reset_index().sort_values(by='is_goal',ascending=False)\n",
        "f6 = pd.DataFrame(f6)\n",
        "#f6.head()"
      ],
      "execution_count": 0,
      "outputs": []
    },
    {
      "cell_type": "code",
      "metadata": {
        "id": "P-hyeVGGHG4h",
        "colab_type": "code",
        "colab": {
          "base_uri": "https://localhost:8080/",
          "height": 204
        },
        "outputId": "822a25a7-958d-4672-d19d-25f0518131b8"
      },
      "source": [
        "f7 = f1.groupby(['type_of_shot'])['is_goal'].agg('sum').reset_index().sort_values(by='is_goal',ascending=False)\n",
        "f7 = pd.DataFrame(f7)\n",
        "f7.head()"
      ],
      "execution_count": 59,
      "outputs": [
        {
          "output_type": "execute_result",
          "data": {
            "text/html": [
              "<div>\n",
              "<style scoped>\n",
              "    .dataframe tbody tr th:only-of-type {\n",
              "        vertical-align: middle;\n",
              "    }\n",
              "\n",
              "    .dataframe tbody tr th {\n",
              "        vertical-align: top;\n",
              "    }\n",
              "\n",
              "    .dataframe thead th {\n",
              "        text-align: right;\n",
              "    }\n",
              "</style>\n",
              "<table border=\"1\" class=\"dataframe\">\n",
              "  <thead>\n",
              "    <tr style=\"text-align: right;\">\n",
              "      <th></th>\n",
              "      <th>type_of_shot</th>\n",
              "      <th>is_goal</th>\n",
              "    </tr>\n",
              "  </thead>\n",
              "  <tbody>\n",
              "    <tr>\n",
              "      <th>0</th>\n",
              "      <td>0</td>\n",
              "      <td>21133.0</td>\n",
              "    </tr>\n",
              "    <tr>\n",
              "      <th>34</th>\n",
              "      <td>shot - 39</td>\n",
              "      <td>1932.0</td>\n",
              "    </tr>\n",
              "    <tr>\n",
              "      <th>35</th>\n",
              "      <td>shot - 4</td>\n",
              "      <td>1874.0</td>\n",
              "    </tr>\n",
              "    <tr>\n",
              "      <th>31</th>\n",
              "      <td>shot - 36</td>\n",
              "      <td>1576.0</td>\n",
              "    </tr>\n",
              "    <tr>\n",
              "      <th>33</th>\n",
              "      <td>shot - 38</td>\n",
              "      <td>1043.0</td>\n",
              "    </tr>\n",
              "  </tbody>\n",
              "</table>\n",
              "</div>"
            ],
            "text/plain": [
              "   type_of_shot  is_goal\n",
              "0             0  21133.0\n",
              "34    shot - 39   1932.0\n",
              "35     shot - 4   1874.0\n",
              "31    shot - 36   1576.0\n",
              "33    shot - 38   1043.0"
            ]
          },
          "metadata": {
            "tags": []
          },
          "execution_count": 59
        }
      ]
    },
    {
      "cell_type": "code",
      "metadata": {
        "id": "crYspnEQHG43",
        "colab_type": "code",
        "colab": {
          "base_uri": "https://localhost:8080/",
          "height": 204
        },
        "outputId": "ae0f72ff-5133-488c-b31e-ee9b91ff63fc"
      },
      "source": [
        "f8 = f1.groupby(['type_of_combined_shot'])['is_goal'].agg('sum').reset_index().sort_values(by='is_goal',ascending=False)\n",
        "f8 = pd.DataFrame(f8)\n",
        "f8.head()"
      ],
      "execution_count": 60,
      "outputs": [
        {
          "output_type": "execute_result",
          "data": {
            "text/html": [
              "<div>\n",
              "<style scoped>\n",
              "    .dataframe tbody tr th:only-of-type {\n",
              "        vertical-align: middle;\n",
              "    }\n",
              "\n",
              "    .dataframe tbody tr th {\n",
              "        vertical-align: top;\n",
              "    }\n",
              "\n",
              "    .dataframe thead th {\n",
              "        text-align: right;\n",
              "    }\n",
              "</style>\n",
              "<table border=\"1\" class=\"dataframe\">\n",
              "  <thead>\n",
              "    <tr style=\"text-align: right;\">\n",
              "      <th></th>\n",
              "      <th>type_of_combined_shot</th>\n",
              "      <th>is_goal</th>\n",
              "    </tr>\n",
              "  </thead>\n",
              "  <tbody>\n",
              "    <tr>\n",
              "      <th>0</th>\n",
              "      <td>0</td>\n",
              "      <td>21086.0</td>\n",
              "    </tr>\n",
              "    <tr>\n",
              "      <th>4</th>\n",
              "      <td>shot - 3</td>\n",
              "      <td>15399.0</td>\n",
              "    </tr>\n",
              "    <tr>\n",
              "      <th>5</th>\n",
              "      <td>shot - 4</td>\n",
              "      <td>4241.0</td>\n",
              "    </tr>\n",
              "    <tr>\n",
              "      <th>2</th>\n",
              "      <td>shot - 1</td>\n",
              "      <td>1131.0</td>\n",
              "    </tr>\n",
              "    <tr>\n",
              "      <th>1</th>\n",
              "      <td>shot - 0</td>\n",
              "      <td>130.0</td>\n",
              "    </tr>\n",
              "  </tbody>\n",
              "</table>\n",
              "</div>"
            ],
            "text/plain": [
              "  type_of_combined_shot  is_goal\n",
              "0                     0  21086.0\n",
              "4              shot - 3  15399.0\n",
              "5              shot - 4   4241.0\n",
              "2              shot - 1   1131.0\n",
              "1              shot - 0    130.0"
            ]
          },
          "metadata": {
            "tags": []
          },
          "execution_count": 60
        }
      ]
    },
    {
      "cell_type": "markdown",
      "metadata": {
        "id": "Pyi-Tg7qHG59",
        "colab_type": "text"
      },
      "source": [
        "replacing the string values with numeric values using merge"
      ]
    },
    {
      "cell_type": "code",
      "metadata": {
        "id": "nZyX2ygoHG6I",
        "colab_type": "code",
        "colab": {}
      },
      "source": [
        "m1 = pd.merge(f1, f2, on ='home/away')\n",
        "m1 = m1.rename(columns={'is_goal_y':'home/away_n'})\n",
        "#m1.columns"
      ],
      "execution_count": 0,
      "outputs": []
    },
    {
      "cell_type": "code",
      "metadata": {
        "id": "ybDB0UQxHG6Z",
        "colab_type": "code",
        "colab": {}
      },
      "source": [
        "m2 = pd.merge(m1, f3, on ='match_id')\n",
        "m2 = m2.rename(columns={'is_goal':'match_id_n'})\n",
        "#m2.columns"
      ],
      "execution_count": 0,
      "outputs": []
    },
    {
      "cell_type": "code",
      "metadata": {
        "id": "-xLomlRAHG7I",
        "colab_type": "code",
        "colab": {}
      },
      "source": [
        "#m3 = pd.merge(m2, f4, on ='area_of_shot')\n",
        "#m3 = m3.rename(columns={'is_goal':'area_of_shot_n'})\n",
        "#m3.columns"
      ],
      "execution_count": 0,
      "outputs": []
    },
    {
      "cell_type": "code",
      "metadata": {
        "id": "KKdIeuVWHG7d",
        "colab_type": "code",
        "colab": {}
      },
      "source": [
        "#m4 = pd.merge(m3, f5, on ='shot_basics')\n",
        "#m4 = m4.rename(columns={'is_goal':'shot_basics_n'})\n",
        "#m4.columns"
      ],
      "execution_count": 0,
      "outputs": []
    },
    {
      "cell_type": "code",
      "metadata": {
        "id": "1PWvzZ3HHG8Y",
        "colab_type": "code",
        "colab": {}
      },
      "source": [
        "m5 = pd.merge(m2, f6, on ='game_season')\n",
        "m5 = m5.rename(columns={'is_goal':'game_season_n'})\n",
        "#m5.columns"
      ],
      "execution_count": 0,
      "outputs": []
    },
    {
      "cell_type": "code",
      "metadata": {
        "id": "0yhcxZObHG86",
        "colab_type": "code",
        "colab": {}
      },
      "source": [
        "m6 = pd.merge(m5, f7, on ='type_of_shot')\n",
        "m6 = m6.rename(columns={'is_goal':'type_of_shot_n'})\n",
        "#m6.columns"
      ],
      "execution_count": 0,
      "outputs": []
    },
    {
      "cell_type": "code",
      "metadata": {
        "id": "LsVCJL7VHG9C",
        "colab_type": "code",
        "colab": {
          "base_uri": "https://localhost:8080/",
          "height": 238
        },
        "outputId": "1da39fa1-d4ec-44c5-fdf8-3d9a6b762785"
      },
      "source": [
        "m7 = pd.merge(m6, f8, on ='type_of_combined_shot')\n",
        "m7 = m7.rename(columns={'is_goal':'type_of_combined_shot_n'})\n",
        "m7.columns"
      ],
      "execution_count": 67,
      "outputs": [
        {
          "output_type": "execute_result",
          "data": {
            "text/plain": [
              "Index(['shot_id_number', 'power_of_shot', 'knockout_match', 'game_season',\n",
              "       'is_goal_x', 'home/away', 'lat/lng', 'type_of_shot',\n",
              "       'type_of_combined_shot', 'match_id', 'distance_of_shot_avg',\n",
              "       'remaining_min_1', 'area_of_shot_Center(C)',\n",
              "       'area_of_shot_Left Side Center(LC)', 'area_of_shot_Left Side(L)',\n",
              "       'area_of_shot_Mid Ground(MG)', 'area_of_shot_Right Side Center(RC)',\n",
              "       'area_of_shot_Right Side(R)', 'area_of_shot_U', 'shot_basics_Goal Area',\n",
              "       'shot_basics_Goal Line', 'shot_basics_Left Corner',\n",
              "       'shot_basics_Mid Ground Line', 'shot_basics_Mid Range',\n",
              "       'shot_basics_Penalty Spot', 'shot_basics_Right Corner', 'shot_basics_U',\n",
              "       'home/away_n', 'match_id_n', 'game_season_n', 'type_of_shot_n',\n",
              "       'type_of_combined_shot_n'],\n",
              "      dtype='object')"
            ]
          },
          "metadata": {
            "tags": []
          },
          "execution_count": 67
        }
      ]
    },
    {
      "cell_type": "code",
      "metadata": {
        "id": "8TOwR5_oHG9m",
        "colab_type": "code",
        "colab": {
          "base_uri": "https://localhost:8080/",
          "height": 221
        },
        "outputId": "7d89dc07-b3d2-4f31-a9ee-2eadb87abffb"
      },
      "source": [
        "m8 = m7.drop(['home/away','match_id', 'game_season'],axis=1)\n",
        "m8 = m8.drop(['type_of_shot','type_of_combined_shot'],axis=1)\n",
        "m8.columns"
      ],
      "execution_count": 68,
      "outputs": [
        {
          "output_type": "execute_result",
          "data": {
            "text/plain": [
              "Index(['shot_id_number', 'power_of_shot', 'knockout_match', 'is_goal_x',\n",
              "       'lat/lng', 'distance_of_shot_avg', 'remaining_min_1',\n",
              "       'area_of_shot_Center(C)', 'area_of_shot_Left Side Center(LC)',\n",
              "       'area_of_shot_Left Side(L)', 'area_of_shot_Mid Ground(MG)',\n",
              "       'area_of_shot_Right Side Center(RC)', 'area_of_shot_Right Side(R)',\n",
              "       'area_of_shot_U', 'shot_basics_Goal Area', 'shot_basics_Goal Line',\n",
              "       'shot_basics_Left Corner', 'shot_basics_Mid Ground Line',\n",
              "       'shot_basics_Mid Range', 'shot_basics_Penalty Spot',\n",
              "       'shot_basics_Right Corner', 'shot_basics_U', 'home/away_n',\n",
              "       'match_id_n', 'game_season_n', 'type_of_shot_n',\n",
              "       'type_of_combined_shot_n'],\n",
              "      dtype='object')"
            ]
          },
          "metadata": {
            "tags": []
          },
          "execution_count": 68
        }
      ]
    },
    {
      "cell_type": "code",
      "metadata": {
        "id": "0UynnxBBHG-O",
        "colab_type": "code",
        "colab": {}
      },
      "source": [
        "m8 = m8.rename(columns={'lat/lng':'home/away', 'home/away_n':'opposing_team'})"
      ],
      "execution_count": 0,
      "outputs": []
    },
    {
      "cell_type": "code",
      "metadata": {
        "id": "spFZehyjHG-c",
        "colab_type": "code",
        "colab": {
          "base_uri": "https://localhost:8080/",
          "height": 34
        },
        "outputId": "a0bb8611-b4da-4ae2-9097-b2b189a2b7dc"
      },
      "source": [
        "m8['is_goal_x'].unique()"
      ],
      "execution_count": 70,
      "outputs": [
        {
          "output_type": "execute_result",
          "data": {
            "text/plain": [
              "array([5., 0., 1.])"
            ]
          },
          "metadata": {
            "tags": []
          },
          "execution_count": 70
        }
      ]
    },
    {
      "cell_type": "code",
      "metadata": {
        "id": "s9cW0oh1HG_H",
        "colab_type": "code",
        "colab": {
          "base_uri": "https://localhost:8080/",
          "height": 34
        },
        "outputId": "ec7e114d-99ee-4195-a231-2f82b92e27fc"
      },
      "source": [
        "g=m8['is_goal_x']==5\n",
        "g[g==True].count()"
      ],
      "execution_count": 71,
      "outputs": [
        {
          "output_type": "execute_result",
          "data": {
            "text/plain": [
              "6268"
            ]
          },
          "metadata": {
            "tags": []
          },
          "execution_count": 71
        }
      ]
    },
    {
      "cell_type": "code",
      "metadata": {
        "id": "oBe7zcomHHAP",
        "colab_type": "code",
        "colab": {}
      },
      "source": [
        "m10= m8.loc[m8['is_goal_x'] != 5]\n",
        "m10.to_csv('train_data.csv',index=False)"
      ],
      "execution_count": 0,
      "outputs": []
    },
    {
      "cell_type": "code",
      "metadata": {
        "id": "_skolzSdHYe4",
        "colab_type": "code",
        "colab": {}
      },
      "source": [
        "m9= m8.loc[m8['is_goal_x'] == 5]\n",
        "m9.to_csv('test_data.csv',index=False)"
      ],
      "execution_count": 0,
      "outputs": []
    },
    {
      "cell_type": "markdown",
      "metadata": {
        "id": "atLiSxidHHA0",
        "colab_type": "text"
      },
      "source": [
        "machine learning model"
      ]
    },
    {
      "cell_type": "code",
      "metadata": {
        "id": "XWljazL0HHA2",
        "colab_type": "code",
        "colab": {}
      },
      "source": [
        "from sklearn.model_selection import train_test_split\n",
        "from sklearn.metrics import accuracy_score\n",
        "from sklearn.metrics import precision_score\n",
        "from sklearn.metrics import recall_score\n",
        "\n",
        "from sklearn.linear_model import LogisticRegression\n",
        "from sklearn.discriminant_analysis import LinearDiscriminantAnalysis\n",
        "from sklearn.discriminant_analysis import QuadraticDiscriminantAnalysis\n",
        "from sklearn.linear_model import SGDClassifier\n",
        "from sklearn.svm import LinearSVC\n",
        "from sklearn.neighbors import RadiusNeighborsClassifier\n",
        "from sklearn.naive_bayes import GaussianNB\n",
        "from sklearn.tree import DecisionTreeClassifier"
      ],
      "execution_count": 0,
      "outputs": []
    },
    {
      "cell_type": "code",
      "metadata": {
        "id": "NrXVkV2VHHBG",
        "colab_type": "code",
        "colab": {}
      },
      "source": [
        "result_dict = {}"
      ],
      "execution_count": 0,
      "outputs": []
    },
    {
      "cell_type": "code",
      "metadata": {
        "id": "b3TYjsGSHHBU",
        "colab_type": "code",
        "colab": {}
      },
      "source": [
        "def summarize_classification(y_test, y_pred):\n",
        "    \n",
        "    acc = accuracy_score(y_test, y_pred, normalize=True)\n",
        "    num_acc = accuracy_score(y_test, y_pred, normalize=False)\n",
        "\n",
        "    prec = precision_score(y_test, y_pred)\n",
        "    recall = recall_score(y_test, y_pred)\n",
        "    \n",
        "    return {'accuracy': acc, \n",
        "            'precision': prec,\n",
        "            'recall':recall, \n",
        "            'accuracy_count':num_acc}"
      ],
      "execution_count": 0,
      "outputs": []
    },
    {
      "cell_type": "code",
      "metadata": {
        "id": "5wz6MC-3HHBb",
        "colab_type": "code",
        "colab": {}
      },
      "source": [
        "def build_model(classifier_fn,                \n",
        "                name_of_y_col, \n",
        "                names_of_x_cols, \n",
        "                dataset, \n",
        "                test_frac=0.2):\n",
        "    \n",
        "    X = dataset[names_of_x_cols]\n",
        "    Y = dataset[name_of_y_col]\n",
        "\n",
        "    x_train, x_test, y_train, y_test = train_test_split(X, Y, test_size=test_frac)\n",
        "       \n",
        "    model = classifier_fn(x_train, y_train)\n",
        "    \n",
        "    y_pred = model.predict(x_test)\n",
        "\n",
        "    y_pred_train = model.predict(x_train)\n",
        "    \n",
        "    train_summary = summarize_classification(y_train, y_pred_train)\n",
        "    test_summary = summarize_classification(y_test, y_pred)\n",
        "    \n",
        "    pred_results = pd.DataFrame({'y_test': y_test,\n",
        "                                 'y_pred': y_pred})\n",
        "    \n",
        "    print(pred_results.sample(10))\n",
        "    \n",
        "    model_crosstab = pd.crosstab(pred_results.y_pred, pred_results.y_test)\n",
        "    \n",
        "    return {'training': train_summary, \n",
        "            'test': test_summary,\n",
        "            'confusion_matrix': model_crosstab}"
      ],
      "execution_count": 0,
      "outputs": []
    },
    {
      "cell_type": "code",
      "metadata": {
        "id": "sLP6nzJpHHCP",
        "colab_type": "code",
        "colab": {}
      },
      "source": [
        "def compare_results():\n",
        "    for key in result_dict:\n",
        "        print('Classification: ', key)\n",
        "\n",
        "        print()\n",
        "        print('Training data')\n",
        "        for score in result_dict[key]['training']:\n",
        "            print(score, result_dict[key]['training'][score])\n",
        "\n",
        "        print()\n",
        "        print('Test data')\n",
        "        for score in result_dict[key]['test']:\n",
        "            print(score, result_dict[key]['test'][score])\n",
        "       \n",
        "        print()"
      ],
      "execution_count": 0,
      "outputs": []
    },
    {
      "cell_type": "code",
      "metadata": {
        "id": "nqoj6FA3HHCr",
        "colab_type": "code",
        "colab": {}
      },
      "source": [
        "def logistic_fn(x_train, y_train):\n",
        "    \n",
        "    model = LogisticRegression(solver='liblinear')\n",
        "    model.fit(x_train, y_train)\n",
        "    \n",
        "    return model"
      ],
      "execution_count": 0,
      "outputs": []
    },
    {
      "cell_type": "code",
      "metadata": {
        "id": "oPTYrJY9HHDX",
        "colab_type": "code",
        "colab": {}
      },
      "source": [
        "def linear_discriminant_fn(x_train, y_train, solver='svd'):\n",
        "    \n",
        "    model = LinearDiscriminantAnalysis(solver=solver)\n",
        "    model.fit(x_train, y_train)\n",
        "    \n",
        "    return model"
      ],
      "execution_count": 0,
      "outputs": []
    },
    {
      "cell_type": "code",
      "metadata": {
        "id": "AyMU7eHnHHD5",
        "colab_type": "code",
        "colab": {}
      },
      "source": [
        "def quadratic_discriminant_fn(x_train, y_train):\n",
        "    \n",
        "    model = QuadraticDiscriminantAnalysis()\n",
        "    model.fit(x_train, y_train)\n",
        "    \n",
        "    return model"
      ],
      "execution_count": 0,
      "outputs": []
    },
    {
      "cell_type": "code",
      "metadata": {
        "id": "qryO09wlHHEA",
        "colab_type": "code",
        "colab": {}
      },
      "source": [
        "def sgd_fn(x_train, y_train, max_iter=1000, tol=1e-3):\n",
        "    \n",
        "    model = SGDClassifier(max_iter=max_iter, tol=tol)\n",
        "    model.fit(x_train, y_train)\n",
        "     \n",
        "    return model"
      ],
      "execution_count": 0,
      "outputs": []
    },
    {
      "cell_type": "code",
      "metadata": {
        "id": "9lJ0vouBHHEK",
        "colab_type": "code",
        "colab": {}
      },
      "source": [
        "def linear_svc_fn(x_train, y_train, C=1.0, max_iter=1000, tol=1e-3):\n",
        "    \n",
        "    model = LinearSVC(C=C, max_iter=max_iter, tol=tol, dual=False)\n",
        "    model.fit(x_train, y_train) \n",
        "    \n",
        "    return model"
      ],
      "execution_count": 0,
      "outputs": []
    },
    {
      "cell_type": "code",
      "metadata": {
        "id": "vWVYsbewHHES",
        "colab_type": "code",
        "colab": {}
      },
      "source": [
        "def decision_tree_fn(x_train, y_train, max_depth=None, max_features=None): \n",
        "    \n",
        "    model = DecisionTreeClassifier(max_depth=max_depth, max_features=max_features)\n",
        "    model.fit(x_train, y_train)\n",
        "    \n",
        "    return model"
      ],
      "execution_count": 0,
      "outputs": []
    },
    {
      "cell_type": "code",
      "metadata": {
        "id": "SXrhwfwSHHEn",
        "colab_type": "code",
        "colab": {}
      },
      "source": [
        "def naive_bayes_fn(x_train,y_train, priors=None):\n",
        "    \n",
        "    model = GaussianNB(priors=priors)\n",
        "    model.fit(x_train, y_train)\n",
        "    \n",
        "    return model"
      ],
      "execution_count": 0,
      "outputs": []
    },
    {
      "cell_type": "code",
      "metadata": {
        "id": "gMct_wWRHHEv",
        "colab_type": "code",
        "colab": {}
      },
      "source": [
        "a1 = pd.read_csv(\"train_data.csv\")\n",
        "a2 = pd.read_csv(\"test_data.csv\")\n",
        "a2.columns\n",
        "col = ['shot_id_number', 'power_of_shot', 'knockout_match', 'is_goal_x',\n",
        "       'home/away', 'distance_of_shot_avg', 'remaining_min_1',\n",
        "       'area_of_shot_Center(C)', 'area_of_shot_Left Side Center(LC)',\n",
        "       'area_of_shot_Left Side(L)', 'area_of_shot_Mid Ground(MG)',\n",
        "       'area_of_shot_Right Side Center(RC)', 'area_of_shot_Right Side(R)',\n",
        "       'area_of_shot_U', 'shot_basics_Goal Area', 'shot_basics_Goal Line',\n",
        "       'shot_basics_Left Corner', 'shot_basics_Mid Ground Line',\n",
        "       'shot_basics_Mid Range', 'shot_basics_Penalty Spot',\n",
        "       'shot_basics_Right Corner', 'shot_basics_U', 'opposing_team',\n",
        "       'match_id_n', 'game_season_n', 'type_of_shot_n',\n",
        "       'type_of_combined_shot_n']\n",
        "for i in col:\n",
        "    a2[i] = pd.to_numeric(a2[i])\n",
        "\n",
        "new_x = a2.drop('is_goal_x',axis=1)"
      ],
      "execution_count": 0,
      "outputs": []
    },
    {
      "cell_type": "code",
      "metadata": {
        "id": "v1jN0sDoHHE_",
        "colab_type": "code",
        "colab": {
          "base_uri": "https://localhost:8080/",
          "height": 241
        },
        "outputId": "0c8b5fbf-afe1-46f0-879c-25da752750ea"
      },
      "source": [
        "new_x.head()"
      ],
      "execution_count": 102,
      "outputs": [
        {
          "output_type": "execute_result",
          "data": {
            "text/html": [
              "<div>\n",
              "<style scoped>\n",
              "    .dataframe tbody tr th:only-of-type {\n",
              "        vertical-align: middle;\n",
              "    }\n",
              "\n",
              "    .dataframe tbody tr th {\n",
              "        vertical-align: top;\n",
              "    }\n",
              "\n",
              "    .dataframe thead th {\n",
              "        text-align: right;\n",
              "    }\n",
              "</style>\n",
              "<table border=\"1\" class=\"dataframe\">\n",
              "  <thead>\n",
              "    <tr style=\"text-align: right;\">\n",
              "      <th></th>\n",
              "      <th>shot_id_number</th>\n",
              "      <th>power_of_shot</th>\n",
              "      <th>knockout_match</th>\n",
              "      <th>home/away</th>\n",
              "      <th>distance_of_shot_avg</th>\n",
              "      <th>remaining_min_1</th>\n",
              "      <th>area_of_shot_Center(C)</th>\n",
              "      <th>area_of_shot_Left Side Center(LC)</th>\n",
              "      <th>area_of_shot_Left Side(L)</th>\n",
              "      <th>area_of_shot_Mid Ground(MG)</th>\n",
              "      <th>area_of_shot_Right Side Center(RC)</th>\n",
              "      <th>area_of_shot_Right Side(R)</th>\n",
              "      <th>area_of_shot_U</th>\n",
              "      <th>shot_basics_Goal Area</th>\n",
              "      <th>shot_basics_Goal Line</th>\n",
              "      <th>shot_basics_Left Corner</th>\n",
              "      <th>shot_basics_Mid Ground Line</th>\n",
              "      <th>shot_basics_Mid Range</th>\n",
              "      <th>shot_basics_Penalty Spot</th>\n",
              "      <th>shot_basics_Right Corner</th>\n",
              "      <th>shot_basics_U</th>\n",
              "      <th>opposing_team</th>\n",
              "      <th>match_id_n</th>\n",
              "      <th>game_season_n</th>\n",
              "      <th>type_of_shot_n</th>\n",
              "      <th>type_of_combined_shot_n</th>\n",
              "    </tr>\n",
              "  </thead>\n",
              "  <tbody>\n",
              "    <tr>\n",
              "      <th>0</th>\n",
              "      <td>1</td>\n",
              "      <td>1.0</td>\n",
              "      <td>0.0</td>\n",
              "      <td>0</td>\n",
              "      <td>38.0</td>\n",
              "      <td>10.00</td>\n",
              "      <td>0</td>\n",
              "      <td>0</td>\n",
              "      <td>0</td>\n",
              "      <td>0</td>\n",
              "      <td>0</td>\n",
              "      <td>1</td>\n",
              "      <td>0</td>\n",
              "      <td>0</td>\n",
              "      <td>0</td>\n",
              "      <td>0</td>\n",
              "      <td>0</td>\n",
              "      <td>1</td>\n",
              "      <td>0</td>\n",
              "      <td>0</td>\n",
              "      <td>0</td>\n",
              "      <td>2133.0</td>\n",
              "      <td>14.0</td>\n",
              "      <td>2543.0</td>\n",
              "      <td>223.0</td>\n",
              "      <td>21086.0</td>\n",
              "    </tr>\n",
              "    <tr>\n",
              "      <th>1</th>\n",
              "      <td>26367</td>\n",
              "      <td>3.0</td>\n",
              "      <td>1.0</td>\n",
              "      <td>0</td>\n",
              "      <td>26.0</td>\n",
              "      <td>25.64</td>\n",
              "      <td>1</td>\n",
              "      <td>0</td>\n",
              "      <td>0</td>\n",
              "      <td>0</td>\n",
              "      <td>0</td>\n",
              "      <td>0</td>\n",
              "      <td>0</td>\n",
              "      <td>0</td>\n",
              "      <td>1</td>\n",
              "      <td>0</td>\n",
              "      <td>0</td>\n",
              "      <td>0</td>\n",
              "      <td>0</td>\n",
              "      <td>0</td>\n",
              "      <td>0</td>\n",
              "      <td>2777.0</td>\n",
              "      <td>45.0</td>\n",
              "      <td>2543.0</td>\n",
              "      <td>223.0</td>\n",
              "      <td>21086.0</td>\n",
              "    </tr>\n",
              "    <tr>\n",
              "      <th>2</th>\n",
              "      <td>26313</td>\n",
              "      <td>4.0</td>\n",
              "      <td>1.0</td>\n",
              "      <td>0</td>\n",
              "      <td>36.2</td>\n",
              "      <td>11.00</td>\n",
              "      <td>0</td>\n",
              "      <td>0</td>\n",
              "      <td>0</td>\n",
              "      <td>0</td>\n",
              "      <td>0</td>\n",
              "      <td>1</td>\n",
              "      <td>0</td>\n",
              "      <td>0</td>\n",
              "      <td>0</td>\n",
              "      <td>0</td>\n",
              "      <td>0</td>\n",
              "      <td>0</td>\n",
              "      <td>0</td>\n",
              "      <td>0</td>\n",
              "      <td>1</td>\n",
              "      <td>2182.0</td>\n",
              "      <td>29.0</td>\n",
              "      <td>2543.0</td>\n",
              "      <td>223.0</td>\n",
              "      <td>21086.0</td>\n",
              "    </tr>\n",
              "    <tr>\n",
              "      <th>3</th>\n",
              "      <td>417</td>\n",
              "      <td>4.0</td>\n",
              "      <td>0.0</td>\n",
              "      <td>1</td>\n",
              "      <td>39.0</td>\n",
              "      <td>5.00</td>\n",
              "      <td>1</td>\n",
              "      <td>0</td>\n",
              "      <td>0</td>\n",
              "      <td>0</td>\n",
              "      <td>0</td>\n",
              "      <td>0</td>\n",
              "      <td>0</td>\n",
              "      <td>0</td>\n",
              "      <td>0</td>\n",
              "      <td>0</td>\n",
              "      <td>0</td>\n",
              "      <td>1</td>\n",
              "      <td>0</td>\n",
              "      <td>0</td>\n",
              "      <td>0</td>\n",
              "      <td>969.0</td>\n",
              "      <td>32.0</td>\n",
              "      <td>2543.0</td>\n",
              "      <td>223.0</td>\n",
              "      <td>21086.0</td>\n",
              "    </tr>\n",
              "    <tr>\n",
              "      <th>4</th>\n",
              "      <td>26977</td>\n",
              "      <td>2.0</td>\n",
              "      <td>1.0</td>\n",
              "      <td>0</td>\n",
              "      <td>36.0</td>\n",
              "      <td>11.00</td>\n",
              "      <td>0</td>\n",
              "      <td>0</td>\n",
              "      <td>0</td>\n",
              "      <td>0</td>\n",
              "      <td>1</td>\n",
              "      <td>0</td>\n",
              "      <td>0</td>\n",
              "      <td>0</td>\n",
              "      <td>0</td>\n",
              "      <td>0</td>\n",
              "      <td>0</td>\n",
              "      <td>1</td>\n",
              "      <td>0</td>\n",
              "      <td>0</td>\n",
              "      <td>0</td>\n",
              "      <td>770.0</td>\n",
              "      <td>16.0</td>\n",
              "      <td>2711.0</td>\n",
              "      <td>223.0</td>\n",
              "      <td>21086.0</td>\n",
              "    </tr>\n",
              "  </tbody>\n",
              "</table>\n",
              "</div>"
            ],
            "text/plain": [
              "   shot_id_number  power_of_shot  ...  type_of_shot_n  type_of_combined_shot_n\n",
              "0               1            1.0  ...           223.0                  21086.0\n",
              "1           26367            3.0  ...           223.0                  21086.0\n",
              "2           26313            4.0  ...           223.0                  21086.0\n",
              "3             417            4.0  ...           223.0                  21086.0\n",
              "4           26977            2.0  ...           223.0                  21086.0\n",
              "\n",
              "[5 rows x 26 columns]"
            ]
          },
          "metadata": {
            "tags": []
          },
          "execution_count": 102
        }
      ]
    },
    {
      "cell_type": "code",
      "metadata": {
        "id": "YexUyRwvHHFb",
        "colab_type": "code",
        "colab": {
          "base_uri": "https://localhost:8080/",
          "height": 221
        },
        "outputId": "031e06d1-42f3-4b42-b2e1-f4cf3cc0e8ed"
      },
      "source": [
        "a1.columns"
      ],
      "execution_count": 103,
      "outputs": [
        {
          "output_type": "execute_result",
          "data": {
            "text/plain": [
              "Index(['shot_id_number', 'power_of_shot', 'knockout_match', 'is_goal_x',\n",
              "       'home/away', 'distance_of_shot_avg', 'remaining_min_1',\n",
              "       'area_of_shot_Center(C)', 'area_of_shot_Left Side Center(LC)',\n",
              "       'area_of_shot_Left Side(L)', 'area_of_shot_Mid Ground(MG)',\n",
              "       'area_of_shot_Right Side Center(RC)', 'area_of_shot_Right Side(R)',\n",
              "       'area_of_shot_U', 'shot_basics_Goal Area', 'shot_basics_Goal Line',\n",
              "       'shot_basics_Left Corner', 'shot_basics_Mid Ground Line',\n",
              "       'shot_basics_Mid Range', 'shot_basics_Penalty Spot',\n",
              "       'shot_basics_Right Corner', 'shot_basics_U', 'opposing_team',\n",
              "       'match_id_n', 'game_season_n', 'type_of_shot_n',\n",
              "       'type_of_combined_shot_n'],\n",
              "      dtype='object')"
            ]
          },
          "metadata": {
            "tags": []
          },
          "execution_count": 103
        }
      ]
    },
    {
      "cell_type": "code",
      "metadata": {
        "id": "XEymx-HGHHGD",
        "colab_type": "code",
        "colab": {
          "base_uri": "https://localhost:8080/",
          "height": 442
        },
        "outputId": "9d0f0cda-e949-4c1b-a1f7-a14b73808c95"
      },
      "source": [
        "result_dict['survived ~ dt'] = build_model(decision_tree_fn,\n",
        "                                              'is_goal_x',\n",
        "                                               [ 'power_of_shot', 'knockout_match',\n",
        "       'home/away', 'distance_of_shot_avg', 'remaining_min_1',\n",
        "       'area_of_shot_Center(C)', 'area_of_shot_Left Side Center(LC)',\n",
        "       'area_of_shot_Left Side(L)', 'area_of_shot_Mid Ground(MG)',\n",
        "       'area_of_shot_Right Side Center(RC)', 'area_of_shot_Right Side(R)',\n",
        "       'area_of_shot_U', 'shot_basics_Goal Area', 'shot_basics_Goal Line',\n",
        "       'shot_basics_Left Corner', 'shot_basics_Mid Ground Line',\n",
        "       'shot_basics_Mid Range', 'shot_basics_Penalty Spot',\n",
        "       'shot_basics_Right Corner', 'shot_basics_U', 'opposing_team',\n",
        "       'match_id_n', 'game_season_n', 'type_of_shot_n',\n",
        "       'type_of_combined_shot_n'],\n",
        "                                               a1)\n",
        "\n",
        "compare_results()"
      ],
      "execution_count": 104,
      "outputs": [
        {
          "output_type": "stream",
          "text": [
            "       y_test  y_pred\n",
            "22266     0.0     1.0\n",
            "462       1.0     1.0\n",
            "11387     0.0     0.0\n",
            "24235     1.0     0.0\n",
            "23811     0.0     1.0\n",
            "11269     0.0     1.0\n",
            "7878      0.0     0.0\n",
            "10268     0.0     0.0\n",
            "1305      1.0     0.0\n",
            "12452     1.0     0.0\n",
            "Classification:  survived ~ dt\n",
            "\n",
            "Training data\n",
            "accuracy 0.9995906462672056\n",
            "precision 1.0\n",
            "recall 0.9990817263544536\n",
            "accuracy_count 19535\n",
            "\n",
            "Test data\n",
            "accuracy 0.5493246009005321\n",
            "precision 0.49212775528565\n",
            "recall 0.5048454083987078\n",
            "accuracy_count 2684\n",
            "\n"
          ],
          "name": "stdout"
        }
      ]
    },
    {
      "cell_type": "code",
      "metadata": {
        "id": "uo5ZTqOtHHGO",
        "colab_type": "code",
        "colab": {}
      },
      "source": [
        "from sklearn.model_selection import train_test_split\n",
        "\n",
        "X = a1.drop('is_goal_x', axis=1)\n",
        "Y = a1['is_goal_x']\n",
        "\n",
        "\n",
        "\n",
        "x_train, x_test, y_train, y_test = train_test_split(X, Y, test_size=0.2565802939)\n",
        "#x_test = a2.drop('is_goal_x',axis=1)"
      ],
      "execution_count": 0,
      "outputs": []
    },
    {
      "cell_type": "code",
      "metadata": {
        "id": "EqOJ-ji3HHGV",
        "colab_type": "code",
        "colab": {
          "base_uri": "https://localhost:8080/",
          "height": 34
        },
        "outputId": "572a6c19-1044-4605-c14b-0cf30d0fd6e9"
      },
      "source": [
        "a1.shape"
      ],
      "execution_count": 106,
      "outputs": [
        {
          "output_type": "execute_result",
          "data": {
            "text/plain": [
              "(24429, 27)"
            ]
          },
          "metadata": {
            "tags": []
          },
          "execution_count": 106
        }
      ]
    },
    {
      "cell_type": "code",
      "metadata": {
        "id": "fEZg71-lHHGs",
        "colab_type": "code",
        "colab": {}
      },
      "source": [
        "from sklearn.ensemble import RandomForestClassifier\n",
        "\n",
        "#Create a Gaussian Classifier\n",
        "clf=RandomForestClassifier(n_estimators=100)\n",
        "\n",
        "#Train the model using the training sets y_pred=clf.predict(X_test)\n",
        "clf.fit(x_train,y_train)\n",
        "\n",
        "y_pred=clf.predict(new_x)"
      ],
      "execution_count": 0,
      "outputs": []
    },
    {
      "cell_type": "code",
      "metadata": {
        "id": "PbhB0lb7HHHJ",
        "colab_type": "code",
        "colab": {
          "base_uri": "https://localhost:8080/",
          "height": 34
        },
        "outputId": "7a1b3ff6-b565-4ab5-be53-33ad6db798a2"
      },
      "source": [
        "from sklearn import metrics\n",
        "# Model Accuracy, how often is the classifier correct?\n",
        "print(\"Accuracy:\",metrics.accuracy_score(y_test, y_pred))"
      ],
      "execution_count": 108,
      "outputs": [
        {
          "output_type": "stream",
          "text": [
            "Accuracy: 0.517230376515635\n"
          ],
          "name": "stdout"
        }
      ]
    },
    {
      "cell_type": "code",
      "metadata": {
        "id": "4cn_zfo1HHHQ",
        "colab_type": "code",
        "colab": {
          "base_uri": "https://localhost:8080/",
          "height": 68
        },
        "outputId": "8937defd-8167-4ddf-a54d-1a9acc8ae306"
      },
      "source": [
        "! pip install --user xgboost"
      ],
      "execution_count": 109,
      "outputs": [
        {
          "output_type": "stream",
          "text": [
            "Requirement already satisfied: xgboost in /usr/local/lib/python3.6/dist-packages (0.90)\n",
            "Requirement already satisfied: scipy in /usr/local/lib/python3.6/dist-packages (from xgboost) (1.3.0)\n",
            "Requirement already satisfied: numpy in /usr/local/lib/python3.6/dist-packages (from xgboost) (1.16.4)\n"
          ],
          "name": "stdout"
        }
      ]
    },
    {
      "cell_type": "code",
      "metadata": {
        "id": "l994BPH4HHHY",
        "colab_type": "code",
        "colab": {
          "base_uri": "https://localhost:8080/",
          "height": 34
        },
        "outputId": "e8a97490-baa1-4e28-81b0-c5d7cb318c1f"
      },
      "source": [
        "# First XGBoost model for Pima Indians dataset\n",
        "import xgboost\n",
        "from numpy import loadtxt\n",
        "from xgboost import XGBClassifier\n",
        "from sklearn.model_selection import train_test_split\n",
        "from sklearn.metrics import accuracy_score\n",
        "\n",
        "# fit model no training data\n",
        "model = XGBClassifier()\n",
        "model.fit(x_train, y_train)\n",
        "# make predictions for test data\n",
        "y_pred = model.predict(new_x)\n",
        "predictions = [round(value) for value in y_pred]\n",
        "# evaluate predictions\n",
        "accuracy = accuracy_score(y_test, predictions)\n",
        "print(\"Accuracy: %.2f%%\" % (accuracy * 100.0))"
      ],
      "execution_count": 110,
      "outputs": [
        {
          "output_type": "stream",
          "text": [
            "Accuracy: 52.33%\n"
          ],
          "name": "stdout"
        }
      ]
    },
    {
      "cell_type": "code",
      "metadata": {
        "id": "a91BBhc8HHH1",
        "colab_type": "code",
        "colab": {
          "base_uri": "https://localhost:8080/",
          "height": 204
        },
        "outputId": "51cea99e-6a63-4d2c-e6ca-7db4a2f5206f"
      },
      "source": [
        "pred_results = pd.DataFrame({'y_pred': y_pred})\n",
        "pred_results.to_csv('sub.csv',index=False)\n",
        "pred_results.reset_index()\n",
        "pred_results.sample(5)"
      ],
      "execution_count": 118,
      "outputs": [
        {
          "output_type": "execute_result",
          "data": {
            "text/html": [
              "<div>\n",
              "<style scoped>\n",
              "    .dataframe tbody tr th:only-of-type {\n",
              "        vertical-align: middle;\n",
              "    }\n",
              "\n",
              "    .dataframe tbody tr th {\n",
              "        vertical-align: top;\n",
              "    }\n",
              "\n",
              "    .dataframe thead th {\n",
              "        text-align: right;\n",
              "    }\n",
              "</style>\n",
              "<table border=\"1\" class=\"dataframe\">\n",
              "  <thead>\n",
              "    <tr style=\"text-align: right;\">\n",
              "      <th></th>\n",
              "      <th>y_pred</th>\n",
              "    </tr>\n",
              "  </thead>\n",
              "  <tbody>\n",
              "    <tr>\n",
              "      <th>4515</th>\n",
              "      <td>0.0</td>\n",
              "    </tr>\n",
              "    <tr>\n",
              "      <th>5286</th>\n",
              "      <td>0.0</td>\n",
              "    </tr>\n",
              "    <tr>\n",
              "      <th>705</th>\n",
              "      <td>1.0</td>\n",
              "    </tr>\n",
              "    <tr>\n",
              "      <th>4920</th>\n",
              "      <td>0.0</td>\n",
              "    </tr>\n",
              "    <tr>\n",
              "      <th>125</th>\n",
              "      <td>1.0</td>\n",
              "    </tr>\n",
              "  </tbody>\n",
              "</table>\n",
              "</div>"
            ],
            "text/plain": [
              "      y_pred\n",
              "4515     0.0\n",
              "5286     0.0\n",
              "705      1.0\n",
              "4920     0.0\n",
              "125      1.0"
            ]
          },
          "metadata": {
            "tags": []
          },
          "execution_count": 118
        }
      ]
    },
    {
      "cell_type": "code",
      "metadata": {
        "id": "o7SCqPT7HHIA",
        "colab_type": "code",
        "colab": {}
      },
      "source": [
        ""
      ],
      "execution_count": 0,
      "outputs": []
    }
  ]
}