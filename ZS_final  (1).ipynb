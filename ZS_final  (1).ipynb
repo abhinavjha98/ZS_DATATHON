{
 "cells": [
  {
   "cell_type": "code",
   "execution_count": 3,
   "metadata": {
    "colab": {},
    "colab_type": "code",
    "collapsed": true,
    "id": "GnZNkCNjoBLP"
   },
   "outputs": [],
   "source": [
    "import pandas as pd \n",
    "import numpy as np \n",
    "import scipy as sp \n",
    "import matplotlib.pyplot as plt "
   ]
  },
  {
   "cell_type": "markdown",
   "metadata": {
    "colab_type": "text",
    "id": "ewvHOV5OoBLU"
   },
   "source": [
    "Reading and Analysis of whole data"
   ]
  },
  {
   "cell_type": "code",
   "execution_count": 111,
   "metadata": {
    "colab": {},
    "colab_type": "code",
    "collapsed": true,
    "id": "wIfLVrNQoBLV"
   },
   "outputs": [],
   "source": [
    "data = pd.read_csv('data.csv')"
   ]
  },
  {
   "cell_type": "code",
   "execution_count": 5,
   "metadata": {
    "colab": {
     "base_uri": "https://localhost:8080/",
     "height": 34
    },
    "colab_type": "code",
    "executionInfo": {
     "elapsed": 1222,
     "status": "ok",
     "timestamp": 1563731550369,
     "user": {
      "displayName": "Yash Chhabria",
      "photoUrl": "",
      "userId": "13566742523063708139"
     },
     "user_tz": -330
    },
    "id": "w5JIAxhNoBLY",
    "outputId": "e8bab4a3-4d30-4b7c-ccef-d516ef104ac3"
   },
   "outputs": [
    {
     "data": {
      "text/plain": [
       "(30697, 28)"
      ]
     },
     "execution_count": 5,
     "metadata": {},
     "output_type": "execute_result"
    }
   ],
   "source": [
    "d1.shape"
   ]
  },
  {
   "cell_type": "code",
   "execution_count": 6,
   "metadata": {
    "colab": {
     "base_uri": "https://localhost:8080/",
     "height": 170
    },
    "colab_type": "code",
    "executionInfo": {
     "elapsed": 1094,
     "status": "ok",
     "timestamp": 1563731555414,
     "user": {
      "displayName": "Yash Chhabria",
      "photoUrl": "",
      "userId": "13566742523063708139"
     },
     "user_tz": -330
    },
    "id": "dVX7bRN5oBLe",
    "outputId": "68a917d7-25b4-4c88-fd0c-c1ff29c14449"
   },
   "outputs": [
    {
     "data": {
      "text/plain": [
       "Index(['Unnamed: 0', 'match_event_id', 'location_x', 'location_y',\n",
       "       'remaining_min', 'power_of_shot', 'knockout_match', 'game_season',\n",
       "       'remaining_sec', 'distance_of_shot', 'is_goal', 'area_of_shot',\n",
       "       'shot_basics', 'range_of_shot', 'team_name', 'date_of_game',\n",
       "       'home/away', 'shot_id_number', 'lat/lng', 'type_of_shot',\n",
       "       'type_of_combined_shot', 'match_id', 'team_id', 'remaining_min.1',\n",
       "       'power_of_shot.1', 'knockout_match.1', 'remaining_sec.1',\n",
       "       'distance_of_shot.1'],\n",
       "      dtype='object')"
      ]
     },
     "execution_count": 6,
     "metadata": {},
     "output_type": "execute_result"
    }
   ],
   "source": [
    "d1.columns"
   ]
  },
  {
   "cell_type": "code",
   "execution_count": 7,
   "metadata": {
    "colab": {},
    "colab_type": "code",
    "collapsed": true,
    "id": "-iA7oO2toBLj"
   },
   "outputs": [],
   "source": [
    "#dropping column team name, team id because it's same throughout and seconds don't hold much importance in goal detection\n",
    "d1 = d1.drop(['team_name','team_id','shot_id_number','remaining_sec','remaining_sec.1'],axis=1)"
   ]
  },
  {
   "cell_type": "code",
   "execution_count": 8,
   "metadata": {
    "colab": {},
    "colab_type": "code",
    "collapsed": true,
    "id": "YsC_GE5koBLl"
   },
   "outputs": [],
   "source": [
    "#filling in the missing values in shot_id_number column \n",
    "d1['Unnamed: 0'] += 1\n",
    "d1 = d1.rename(columns={'Unnamed: 0': 'shot_id_number'})"
   ]
  },
  {
   "cell_type": "markdown",
   "metadata": {
    "colab_type": "text",
    "id": "YdeDo9qdoBLo"
   },
   "source": [
    "Distance_of_shot Analysis"
   ]
  },
  {
   "cell_type": "code",
   "execution_count": 9,
   "metadata": {
    "colab": {
     "base_uri": "https://localhost:8080/",
     "height": 266
    },
    "colab_type": "code",
    "executionInfo": {
     "elapsed": 1225,
     "status": "ok",
     "timestamp": 1563731567333,
     "user": {
      "displayName": "Yash Chhabria",
      "photoUrl": "",
      "userId": "13566742523063708139"
     },
     "user_tz": -330
    },
    "id": "q42HmymfoBLp",
    "outputId": "06909b5b-b1fd-4beb-c0f3-35de5e0da1f2"
   },
   "outputs": [
    {
     "data": {
      "text/html": [
       "<div>\n",
       "<style>\n",
       "    .dataframe thead tr:only-child th {\n",
       "        text-align: right;\n",
       "    }\n",
       "\n",
       "    .dataframe thead th {\n",
       "        text-align: left;\n",
       "    }\n",
       "\n",
       "    .dataframe tbody tr th {\n",
       "        vertical-align: top;\n",
       "    }\n",
       "</style>\n",
       "<table border=\"1\" class=\"dataframe\">\n",
       "  <thead>\n",
       "    <tr style=\"text-align: right;\">\n",
       "      <th></th>\n",
       "      <th>distance_of_shot</th>\n",
       "      <th>distance_of_shot_1</th>\n",
       "    </tr>\n",
       "  </thead>\n",
       "  <tbody>\n",
       "    <tr>\n",
       "      <th>4895</th>\n",
       "      <td>40.0</td>\n",
       "      <td>40.000</td>\n",
       "    </tr>\n",
       "    <tr>\n",
       "      <th>357</th>\n",
       "      <td>28.0</td>\n",
       "      <td>28.000</td>\n",
       "    </tr>\n",
       "    <tr>\n",
       "      <th>24473</th>\n",
       "      <td>29.0</td>\n",
       "      <td>29.000</td>\n",
       "    </tr>\n",
       "    <tr>\n",
       "      <th>16743</th>\n",
       "      <td>37.0</td>\n",
       "      <td>89.728</td>\n",
       "    </tr>\n",
       "    <tr>\n",
       "      <th>6255</th>\n",
       "      <td>20.0</td>\n",
       "      <td>20.000</td>\n",
       "    </tr>\n",
       "    <tr>\n",
       "      <th>4032</th>\n",
       "      <td>46.0</td>\n",
       "      <td>86.728</td>\n",
       "    </tr>\n",
       "    <tr>\n",
       "      <th>11091</th>\n",
       "      <td>39.0</td>\n",
       "      <td>39.000</td>\n",
       "    </tr>\n",
       "  </tbody>\n",
       "</table>\n",
       "</div>"
      ],
      "text/plain": [
       "       distance_of_shot  distance_of_shot_1\n",
       "4895               40.0              40.000\n",
       "357                28.0              28.000\n",
       "24473              29.0              29.000\n",
       "16743              37.0              89.728\n",
       "6255               20.0              20.000\n",
       "4032               46.0              86.728\n",
       "11091              39.0              39.000"
      ]
     },
     "execution_count": 9,
     "metadata": {},
     "output_type": "execute_result"
    }
   ],
   "source": [
    "#to see whether the values are same or not \n",
    "d2 = d1[['distance_of_shot','distance_of_shot.1']]\n",
    "d2 = d2.rename(columns={'distance_of_shot.1':'distance_of_shot_1'})\n",
    "d2.sample(7)"
   ]
  },
  {
   "cell_type": "code",
   "execution_count": 10,
   "metadata": {
    "colab": {
     "base_uri": "https://localhost:8080/",
     "height": 204
    },
    "colab_type": "code",
    "executionInfo": {
     "elapsed": 1436,
     "status": "ok",
     "timestamp": 1563731573089,
     "user": {
      "displayName": "Yash Chhabria",
      "photoUrl": "",
      "userId": "13566742523063708139"
     },
     "user_tz": -330
    },
    "id": "hQ1539LQoBLu",
    "outputId": "eef116eb-b844-472d-9b72-74b6089a78ac"
   },
   "outputs": [
    {
     "data": {
      "text/html": [
       "<div>\n",
       "<style>\n",
       "    .dataframe thead tr:only-child th {\n",
       "        text-align: right;\n",
       "    }\n",
       "\n",
       "    .dataframe thead th {\n",
       "        text-align: left;\n",
       "    }\n",
       "\n",
       "    .dataframe tbody tr th {\n",
       "        vertical-align: top;\n",
       "    }\n",
       "</style>\n",
       "<table border=\"1\" class=\"dataframe\">\n",
       "  <thead>\n",
       "    <tr style=\"text-align: right;\">\n",
       "      <th></th>\n",
       "      <th>distance_of_shot</th>\n",
       "      <th>distance_of_shot_1</th>\n",
       "      <th>distance_of_shot_avg</th>\n",
       "    </tr>\n",
       "  </thead>\n",
       "  <tbody>\n",
       "    <tr>\n",
       "      <th>0</th>\n",
       "      <td>38.0</td>\n",
       "      <td>38.0</td>\n",
       "      <td>38.0</td>\n",
       "    </tr>\n",
       "    <tr>\n",
       "      <th>1</th>\n",
       "      <td>35.0</td>\n",
       "      <td>35.0</td>\n",
       "      <td>35.0</td>\n",
       "    </tr>\n",
       "    <tr>\n",
       "      <th>2</th>\n",
       "      <td>36.0</td>\n",
       "      <td>54.4</td>\n",
       "      <td>45.2</td>\n",
       "    </tr>\n",
       "    <tr>\n",
       "      <th>3</th>\n",
       "      <td>42.0</td>\n",
       "      <td>42.0</td>\n",
       "      <td>42.0</td>\n",
       "    </tr>\n",
       "    <tr>\n",
       "      <th>4</th>\n",
       "      <td>20.0</td>\n",
       "      <td>20.0</td>\n",
       "      <td>20.0</td>\n",
       "    </tr>\n",
       "  </tbody>\n",
       "</table>\n",
       "</div>"
      ],
      "text/plain": [
       "   distance_of_shot  distance_of_shot_1  distance_of_shot_avg\n",
       "0              38.0                38.0                  38.0\n",
       "1              35.0                35.0                  35.0\n",
       "2              36.0                54.4                  45.2\n",
       "3              42.0                42.0                  42.0\n",
       "4              20.0                20.0                  20.0"
      ]
     },
     "execution_count": 10,
     "metadata": {},
     "output_type": "execute_result"
    }
   ],
   "source": [
    "#filling na values and finding average of the 2 cols\n",
    "d2.distance_of_shot.fillna(d2.distance_of_shot_1, inplace=True)\n",
    "d2.distance_of_shot_1.fillna(d2.distance_of_shot, inplace=True)\n",
    "d2['distance_of_shot_avg']=d2.mean(axis=1)\n",
    "d2.head()"
   ]
  },
  {
   "cell_type": "code",
   "execution_count": 11,
   "metadata": {
    "colab": {
     "base_uri": "https://localhost:8080/",
     "height": 165
    },
    "colab_type": "code",
    "executionInfo": {
     "elapsed": 1052,
     "status": "ok",
     "timestamp": 1563731582268,
     "user": {
      "displayName": "Yash Chhabria",
      "photoUrl": "",
      "userId": "13566742523063708139"
     },
     "user_tz": -330
    },
    "id": "qr-T3DCNoBLy",
    "outputId": "80750f83-4f84-4f99-ae09-2d79b33dbcc9"
   },
   "outputs": [
    {
     "data": {
      "text/html": [
       "<div>\n",
       "<style>\n",
       "    .dataframe thead tr:only-child th {\n",
       "        text-align: right;\n",
       "    }\n",
       "\n",
       "    .dataframe thead th {\n",
       "        text-align: left;\n",
       "    }\n",
       "\n",
       "    .dataframe tbody tr th {\n",
       "        vertical-align: top;\n",
       "    }\n",
       "</style>\n",
       "<table border=\"1\" class=\"dataframe\">\n",
       "  <thead>\n",
       "    <tr style=\"text-align: right;\">\n",
       "      <th></th>\n",
       "      <th>shot_id_number</th>\n",
       "      <th>match_event_id</th>\n",
       "      <th>location_x</th>\n",
       "      <th>location_y</th>\n",
       "      <th>remaining_min</th>\n",
       "      <th>power_of_shot</th>\n",
       "      <th>knockout_match</th>\n",
       "      <th>game_season</th>\n",
       "      <th>is_goal</th>\n",
       "      <th>area_of_shot</th>\n",
       "      <th>...</th>\n",
       "      <th>lat/lng</th>\n",
       "      <th>type_of_shot</th>\n",
       "      <th>type_of_combined_shot</th>\n",
       "      <th>match_id</th>\n",
       "      <th>remaining_min.1</th>\n",
       "      <th>power_of_shot.1</th>\n",
       "      <th>knockout_match.1</th>\n",
       "      <th>distance_of_shot</th>\n",
       "      <th>distance_of_shot_1</th>\n",
       "      <th>distance_of_shot_avg</th>\n",
       "    </tr>\n",
       "  </thead>\n",
       "  <tbody>\n",
       "    <tr>\n",
       "      <th>1249</th>\n",
       "      <td>1250</td>\n",
       "      <td>353.0</td>\n",
       "      <td>0.0</td>\n",
       "      <td>0.0</td>\n",
       "      <td>2.0</td>\n",
       "      <td>3.0</td>\n",
       "      <td>0.0</td>\n",
       "      <td>2000-01</td>\n",
       "      <td>1.0</td>\n",
       "      <td>Center(C)</td>\n",
       "      <td>...</td>\n",
       "      <td>42.982923, -71.446094</td>\n",
       "      <td>NaN</td>\n",
       "      <td>shot - 4</td>\n",
       "      <td>20000860</td>\n",
       "      <td>2.0</td>\n",
       "      <td>3.0</td>\n",
       "      <td>0.0</td>\n",
       "      <td>20.0</td>\n",
       "      <td>20.0</td>\n",
       "      <td>20.0</td>\n",
       "    </tr>\n",
       "    <tr>\n",
       "      <th>19973</th>\n",
       "      <td>19974</td>\n",
       "      <td>377.0</td>\n",
       "      <td>-4.0</td>\n",
       "      <td>11.0</td>\n",
       "      <td>2.0</td>\n",
       "      <td>3.0</td>\n",
       "      <td>NaN</td>\n",
       "      <td>2012-13</td>\n",
       "      <td>1.0</td>\n",
       "      <td>Center(C)</td>\n",
       "      <td>...</td>\n",
       "      <td>37.754130, -122.437947</td>\n",
       "      <td>NaN</td>\n",
       "      <td>shot - 1</td>\n",
       "      <td>21200398</td>\n",
       "      <td>2.0</td>\n",
       "      <td>3.0</td>\n",
       "      <td>0.0</td>\n",
       "      <td>21.0</td>\n",
       "      <td>21.0</td>\n",
       "      <td>21.0</td>\n",
       "    </tr>\n",
       "  </tbody>\n",
       "</table>\n",
       "<p>2 rows × 24 columns</p>\n",
       "</div>"
      ],
      "text/plain": [
       "       shot_id_number  match_event_id  location_x  location_y  remaining_min  \\\n",
       "1249             1250           353.0         0.0         0.0            2.0   \n",
       "19973           19974           377.0        -4.0        11.0            2.0   \n",
       "\n",
       "       power_of_shot  knockout_match game_season  is_goal area_of_shot  \\\n",
       "1249             3.0             0.0     2000-01      1.0    Center(C)   \n",
       "19973            3.0             NaN     2012-13      1.0    Center(C)   \n",
       "\n",
       "               ...                          lat/lng type_of_shot  \\\n",
       "1249           ...            42.982923, -71.446094          NaN   \n",
       "19973          ...           37.754130, -122.437947          NaN   \n",
       "\n",
       "      type_of_combined_shot  match_id remaining_min.1 power_of_shot.1  \\\n",
       "1249               shot - 4  20000860             2.0             3.0   \n",
       "19973              shot - 1  21200398             2.0             3.0   \n",
       "\n",
       "      knockout_match.1  distance_of_shot  distance_of_shot_1  \\\n",
       "1249               0.0              20.0                20.0   \n",
       "19973              0.0              21.0                21.0   \n",
       "\n",
       "       distance_of_shot_avg  \n",
       "1249                   20.0  \n",
       "19973                  21.0  \n",
       "\n",
       "[2 rows x 24 columns]"
      ]
     },
     "execution_count": 11,
     "metadata": {},
     "output_type": "execute_result"
    }
   ],
   "source": [
    "#concatinating d1 and d2 \n",
    "d1 = d1.drop(['distance_of_shot','distance_of_shot.1'],axis=1)\n",
    "d3 = pd.concat([d1, d2], axis=1)\n",
    "d3.sample(2)"
   ]
  },
  {
   "cell_type": "code",
   "execution_count": 12,
   "metadata": {
    "colab": {
     "base_uri": "https://localhost:8080/",
     "height": 34
    },
    "colab_type": "code",
    "executionInfo": {
     "elapsed": 1087,
     "status": "ok",
     "timestamp": 1563731591363,
     "user": {
      "displayName": "Yash Chhabria",
      "photoUrl": "",
      "userId": "13566742523063708139"
     },
     "user_tz": -330
    },
    "id": "siC-myGBoBL2",
    "outputId": "e2850666-b20d-497f-8ff4-601421aabe6f"
   },
   "outputs": [
    {
     "data": {
      "text/plain": [
       "97"
      ]
     },
     "execution_count": 12,
     "metadata": {},
     "output_type": "execute_result"
    }
   ],
   "source": [
    "#filling in the na values in distance of shot avg with the help of range of shot \n",
    "n1 = d3['distance_of_shot_avg'].isnull()\n",
    "n1[n1==True].count()"
   ]
  },
  {
   "cell_type": "code",
   "execution_count": 13,
   "metadata": {
    "colab": {
     "base_uri": "https://localhost:8080/",
     "height": 136
    },
    "colab_type": "code",
    "executionInfo": {
     "elapsed": 1066,
     "status": "ok",
     "timestamp": 1563731596496,
     "user": {
      "displayName": "Yash Chhabria",
      "photoUrl": "",
      "userId": "13566742523063708139"
     },
     "user_tz": -330
    },
    "id": "960DlsrNoBL6",
    "outputId": "d7b872d7-d9cc-4572-e090-2652647433ae"
   },
   "outputs": [
    {
     "data": {
      "text/plain": [
       "range_of_shot\n",
       "16-24 ft.          40.742291\n",
       "24+ ft.            46.707029\n",
       "8-16 ft.           34.827985\n",
       "Back Court Shot    72.619210\n",
       "Less Than 8 ft.    25.586323\n",
       "Name: distance_of_shot_avg, dtype: float64"
      ]
     },
     "execution_count": 13,
     "metadata": {},
     "output_type": "execute_result"
    }
   ],
   "source": [
    "r = d3.groupby('range_of_shot')['distance_of_shot_avg'].agg('mean')\n",
    "r"
   ]
  },
  {
   "cell_type": "code",
   "execution_count": 14,
   "metadata": {
    "colab": {},
    "colab_type": "code",
    "collapsed": true,
    "id": "IKqTqp6HoBL_"
   },
   "outputs": [],
   "source": [
    "d3.distance_of_shot_avg.fillna(d3.range_of_shot, inplace=True)"
   ]
  },
  {
   "cell_type": "code",
   "execution_count": 15,
   "metadata": {
    "colab": {
     "base_uri": "https://localhost:8080/",
     "height": 207
    },
    "colab_type": "code",
    "executionInfo": {
     "elapsed": 1134,
     "status": "ok",
     "timestamp": 1563731601757,
     "user": {
      "displayName": "Yash Chhabria",
      "photoUrl": "",
      "userId": "13566742523063708139"
     },
     "user_tz": -330
    },
    "id": "5VM5UBnIoBMC",
    "outputId": "3ecf14dc-f4aa-43ad-9291-6d0da9ac628e"
   },
   "outputs": [],
   "source": [
    "for i in d3.index:\n",
    "  val = d3.get_value(i,'distance_of_shot_avg')\n",
    "  if(val=='Less Than 8 ft.'):\n",
    "    d3.set_value(i,'distance_of_shot_avg',25.5863)\n",
    "  elif(val=='16-24 ft.'):\n",
    "    d3.set_value(i,'distance_of_shot_avg',40.74)\n",
    "  elif(val=='24+ ft.'):\n",
    "    d3.set_value(i,'distance_of_shot_avg',46.707029)\n",
    "  elif(val=='8-16 ft.'):\n",
    "    d3.set_value(i,'distance_of_shot_avg',34.8279)\n",
    "  elif(val=='Back Court Shot'):\n",
    "    d3.set_value(i,'distance_of_shot_avg',72.619)"
   ]
  },
  {
   "cell_type": "code",
   "execution_count": 16,
   "metadata": {
    "colab": {
     "base_uri": "https://localhost:8080/",
     "height": 153
    },
    "colab_type": "code",
    "executionInfo": {
     "elapsed": 1064,
     "status": "ok",
     "timestamp": 1563731605272,
     "user": {
      "displayName": "Yash Chhabria",
      "photoUrl": "",
      "userId": "13566742523063708139"
     },
     "user_tz": -330
    },
    "id": "1Tjfji-PoBMG",
    "outputId": "646f83fd-0b12-487d-f57b-3d04378032ba"
   },
   "outputs": [
    {
     "data": {
      "text/plain": [
       "Index(['shot_id_number', 'match_event_id', 'location_x', 'location_y',\n",
       "       'remaining_min', 'power_of_shot', 'knockout_match', 'game_season',\n",
       "       'is_goal', 'area_of_shot', 'shot_basics', 'range_of_shot',\n",
       "       'date_of_game', 'home/away', 'lat/lng', 'type_of_shot',\n",
       "       'type_of_combined_shot', 'match_id', 'remaining_min.1',\n",
       "       'power_of_shot.1', 'knockout_match.1', 'distance_of_shot',\n",
       "       'distance_of_shot_1', 'distance_of_shot_avg'],\n",
       "      dtype='object')"
      ]
     },
     "execution_count": 16,
     "metadata": {},
     "output_type": "execute_result"
    }
   ],
   "source": [
    "d3.columns"
   ]
  },
  {
   "cell_type": "code",
   "execution_count": 17,
   "metadata": {
    "colab": {},
    "colab_type": "code",
    "collapsed": true,
    "id": "lBkojl7joBML"
   },
   "outputs": [],
   "source": [
    "d3['distance_of_shot_avg'].fillna(36, inplace=True)"
   ]
  },
  {
   "cell_type": "markdown",
   "metadata": {
    "colab_type": "text",
    "id": "AF8o7369oBMN"
   },
   "source": [
    "Remaining_min Analysis"
   ]
  },
  {
   "cell_type": "code",
   "execution_count": 18,
   "metadata": {
    "colab": {
     "base_uri": "https://localhost:8080/",
     "height": 204
    },
    "colab_type": "code",
    "executionInfo": {
     "elapsed": 1063,
     "status": "ok",
     "timestamp": 1563731613429,
     "user": {
      "displayName": "Yash Chhabria",
      "photoUrl": "",
      "userId": "13566742523063708139"
     },
     "user_tz": -330
    },
    "id": "GLfo8noUoBMQ",
    "outputId": "5eedbbde-83d6-470d-e08a-a7709d1875e6"
   },
   "outputs": [
    {
     "data": {
      "text/html": [
       "<div>\n",
       "<style>\n",
       "    .dataframe thead tr:only-child th {\n",
       "        text-align: right;\n",
       "    }\n",
       "\n",
       "    .dataframe thead th {\n",
       "        text-align: left;\n",
       "    }\n",
       "\n",
       "    .dataframe tbody tr th {\n",
       "        vertical-align: top;\n",
       "    }\n",
       "</style>\n",
       "<table border=\"1\" class=\"dataframe\">\n",
       "  <thead>\n",
       "    <tr style=\"text-align: right;\">\n",
       "      <th></th>\n",
       "      <th>remaining_min</th>\n",
       "      <th>remaining_min_1</th>\n",
       "    </tr>\n",
       "  </thead>\n",
       "  <tbody>\n",
       "    <tr>\n",
       "      <th>0</th>\n",
       "      <td>10.0</td>\n",
       "      <td>10.00</td>\n",
       "    </tr>\n",
       "    <tr>\n",
       "      <th>1</th>\n",
       "      <td>10.0</td>\n",
       "      <td>10.00</td>\n",
       "    </tr>\n",
       "    <tr>\n",
       "      <th>2</th>\n",
       "      <td>7.0</td>\n",
       "      <td>92.64</td>\n",
       "    </tr>\n",
       "    <tr>\n",
       "      <th>3</th>\n",
       "      <td>6.0</td>\n",
       "      <td>NaN</td>\n",
       "    </tr>\n",
       "    <tr>\n",
       "      <th>4</th>\n",
       "      <td>NaN</td>\n",
       "      <td>42.64</td>\n",
       "    </tr>\n",
       "  </tbody>\n",
       "</table>\n",
       "</div>"
      ],
      "text/plain": [
       "   remaining_min  remaining_min_1\n",
       "0           10.0            10.00\n",
       "1           10.0            10.00\n",
       "2            7.0            92.64\n",
       "3            6.0              NaN\n",
       "4            NaN            42.64"
      ]
     },
     "execution_count": 18,
     "metadata": {},
     "output_type": "execute_result"
    }
   ],
   "source": [
    "#to see whether the values are same or not \n",
    "d4 = d1[['remaining_min','remaining_min.1']]\n",
    "d4 = d4.rename(columns={'remaining_min.1':'remaining_min_1'})\n",
    "d4.head()"
   ]
  },
  {
   "cell_type": "code",
   "execution_count": 19,
   "metadata": {
    "colab": {
     "base_uri": "https://localhost:8080/",
     "height": 297
    },
    "colab_type": "code",
    "executionInfo": {
     "elapsed": 1272,
     "status": "ok",
     "timestamp": 1563731625040,
     "user": {
      "displayName": "Yash Chhabria",
      "photoUrl": "",
      "userId": "13566742523063708139"
     },
     "user_tz": -330
    },
    "id": "ZhBAjiOmoBMU",
    "outputId": "8f0c0b43-0d7f-4173-da37-4f01f6013aad"
   },
   "outputs": [
    {
     "data": {
      "text/html": [
       "<div>\n",
       "<style>\n",
       "    .dataframe thead tr:only-child th {\n",
       "        text-align: right;\n",
       "    }\n",
       "\n",
       "    .dataframe thead th {\n",
       "        text-align: left;\n",
       "    }\n",
       "\n",
       "    .dataframe tbody tr th {\n",
       "        vertical-align: top;\n",
       "    }\n",
       "</style>\n",
       "<table border=\"1\" class=\"dataframe\">\n",
       "  <thead>\n",
       "    <tr style=\"text-align: right;\">\n",
       "      <th></th>\n",
       "      <th>remaining_min</th>\n",
       "      <th>remaining_min_1</th>\n",
       "    </tr>\n",
       "  </thead>\n",
       "  <tbody>\n",
       "    <tr>\n",
       "      <th>count</th>\n",
       "      <td>29135.000000</td>\n",
       "      <td>29162.000000</td>\n",
       "    </tr>\n",
       "    <tr>\n",
       "      <th>mean</th>\n",
       "      <td>4.883233</td>\n",
       "      <td>18.204615</td>\n",
       "    </tr>\n",
       "    <tr>\n",
       "      <th>std</th>\n",
       "      <td>3.452533</td>\n",
       "      <td>29.416973</td>\n",
       "    </tr>\n",
       "    <tr>\n",
       "      <th>min</th>\n",
       "      <td>0.000000</td>\n",
       "      <td>0.000000</td>\n",
       "    </tr>\n",
       "    <tr>\n",
       "      <th>25%</th>\n",
       "      <td>2.000000</td>\n",
       "      <td>3.000000</td>\n",
       "    </tr>\n",
       "    <tr>\n",
       "      <th>50%</th>\n",
       "      <td>5.000000</td>\n",
       "      <td>6.000000</td>\n",
       "    </tr>\n",
       "    <tr>\n",
       "      <th>75%</th>\n",
       "      <td>8.000000</td>\n",
       "      <td>11.000000</td>\n",
       "    </tr>\n",
       "    <tr>\n",
       "      <th>max</th>\n",
       "      <td>11.000000</td>\n",
       "      <td>128.761600</td>\n",
       "    </tr>\n",
       "  </tbody>\n",
       "</table>\n",
       "</div>"
      ],
      "text/plain": [
       "       remaining_min  remaining_min_1\n",
       "count   29135.000000     29162.000000\n",
       "mean        4.883233        18.204615\n",
       "std         3.452533        29.416973\n",
       "min         0.000000         0.000000\n",
       "25%         2.000000         3.000000\n",
       "50%         5.000000         6.000000\n",
       "75%         8.000000        11.000000\n",
       "max        11.000000       128.761600"
      ]
     },
     "execution_count": 19,
     "metadata": {},
     "output_type": "execute_result"
    }
   ],
   "source": [
    "d4.describe()"
   ]
  },
  {
   "cell_type": "code",
   "execution_count": 20,
   "metadata": {
    "colab": {},
    "colab_type": "code",
    "collapsed": true,
    "id": "VRlV3VzOoBMs"
   },
   "outputs": [],
   "source": [
    "#filling na values in remaining_min_1 with remaining_min \n",
    "d4.remaining_min_1.fillna(d4.remaining_min, inplace=True)\n",
    "d4= d4.drop('remaining_min',axis=1)"
   ]
  },
  {
   "cell_type": "code",
   "execution_count": 21,
   "metadata": {
    "colab": {
     "base_uri": "https://localhost:8080/",
     "height": 156
    },
    "colab_type": "code",
    "executionInfo": {
     "elapsed": 1045,
     "status": "ok",
     "timestamp": 1563731637613,
     "user": {
      "displayName": "Yash Chhabria",
      "photoUrl": "",
      "userId": "13566742523063708139"
     },
     "user_tz": -330
    },
    "id": "0wQhEjrVoBMy",
    "outputId": "af8e49e8-9614-4399-d275-c554613ac5e5"
   },
   "outputs": [
    {
     "data": {
      "text/plain": [
       "Index(['shot_id_number', 'match_event_id', 'location_x', 'location_y',\n",
       "       'power_of_shot', 'knockout_match', 'game_season', 'is_goal',\n",
       "       'area_of_shot', 'shot_basics', 'range_of_shot', 'date_of_game',\n",
       "       'home/away', 'lat/lng', 'type_of_shot', 'type_of_combined_shot',\n",
       "       'match_id', 'power_of_shot.1', 'knockout_match.1', 'distance_of_shot',\n",
       "       'distance_of_shot_1', 'distance_of_shot_avg', 'remaining_min_1'],\n",
       "      dtype='object')"
      ]
     },
     "execution_count": 21,
     "metadata": {},
     "output_type": "execute_result"
    }
   ],
   "source": [
    "#concatinating these the average now d5 is latest \n",
    "d5 = pd.concat([d3, d4], axis=1)\n",
    "d5 = d5.drop(['remaining_min','remaining_min.1'],axis=1)\n",
    "d5.columns"
   ]
  },
  {
   "cell_type": "code",
   "execution_count": 22,
   "metadata": {
    "colab": {
     "base_uri": "https://localhost:8080/",
     "height": 170
    },
    "colab_type": "code",
    "executionInfo": {
     "elapsed": 1044,
     "status": "ok",
     "timestamp": 1563731642607,
     "user": {
      "displayName": "Yash Chhabria",
      "photoUrl": "",
      "userId": "13566742523063708139"
     },
     "user_tz": -330
    },
    "id": "SjpkRN3noBNL",
    "outputId": "67555e43-b108-4ecd-9b8a-41382c5de3aa"
   },
   "outputs": [
    {
     "data": {
      "text/plain": [
       "count    30616.000000\n",
       "mean        17.575091\n",
       "std         28.857798\n",
       "min          0.000000\n",
       "25%          3.000000\n",
       "50%          6.000000\n",
       "75%         10.000000\n",
       "max        128.761600\n",
       "Name: remaining_min_1, dtype: float64"
      ]
     },
     "execution_count": 22,
     "metadata": {},
     "output_type": "execute_result"
    }
   ],
   "source": [
    "d5['remaining_min_1'].describe()"
   ]
  },
  {
   "cell_type": "code",
   "execution_count": 23,
   "metadata": {
    "colab": {},
    "colab_type": "code",
    "collapsed": true,
    "id": "5mT1JZL9oBNO"
   },
   "outputs": [],
   "source": [
    "d5['remaining_min_1'].fillna(17,inplace=True)"
   ]
  },
  {
   "cell_type": "markdown",
   "metadata": {
    "colab_type": "text",
    "id": "BC_bZoP3oBNR"
   },
   "source": [
    "knockout match Analysis"
   ]
  },
  {
   "cell_type": "code",
   "execution_count": 24,
   "metadata": {
    "colab": {},
    "colab_type": "code",
    "collapsed": true,
    "id": "UAgw21eJoBNS"
   },
   "outputs": [],
   "source": [
    "#selecting the appropriate column for knockout match \n",
    "d5 = d5.rename(columns={'knockout_match.1':'knockout_match_1'})\n",
    "d5.knockout_match.fillna(d5.knockout_match_1, inplace=True)\n",
    "d5 = d5.drop('knockout_match_1',axis=1)"
   ]
  },
  {
   "cell_type": "code",
   "execution_count": 25,
   "metadata": {
    "colab": {},
    "colab_type": "code",
    "collapsed": true,
    "id": "p058hDAtoBNV"
   },
   "outputs": [],
   "source": [
    "d5['knockout_match'].fillna(\"U\", inplace = True)"
   ]
  },
  {
   "cell_type": "code",
   "execution_count": 26,
   "metadata": {
    "colab": {
     "base_uri": "https://localhost:8080/",
     "height": 105
    },
    "colab_type": "code",
    "executionInfo": {
     "elapsed": 1015,
     "status": "ok",
     "timestamp": 1563731670391,
     "user": {
      "displayName": "Yash Chhabria",
      "photoUrl": "",
      "userId": "13566742523063708139"
     },
     "user_tz": -330
    },
    "id": "007eKeQRoBNX",
    "outputId": "ea8e4d88-7377-4701-f800-731c64319b26"
   },
   "outputs": [],
   "source": [
    "d5['knockout_match'] = d5['knockout_match'].replace(to_replace ='U', value = '0.0', regex = True) \n",
    "d5['knockout_match'] = pd.to_numeric(d5['knockout_match'])\n",
    "\n",
    "for i in d5.index:\n",
    "  val = d5.get_value(i,'knockout_match')\n",
    "  if(val>1.0):\n",
    "    d5.set_value(i,'knockout_match',1.0)"
   ]
  },
  {
   "cell_type": "code",
   "execution_count": 27,
   "metadata": {
    "colab": {
     "base_uri": "https://localhost:8080/",
     "height": 34
    },
    "colab_type": "code",
    "executionInfo": {
     "elapsed": 1061,
     "status": "ok",
     "timestamp": 1563731674196,
     "user": {
      "displayName": "Yash Chhabria",
      "photoUrl": "",
      "userId": "13566742523063708139"
     },
     "user_tz": -330
    },
    "id": "aFQy8BKloBNa",
    "outputId": "99243990-da1e-4834-8a26-852dde55fbe6"
   },
   "outputs": [
    {
     "data": {
      "text/plain": [
       "array([0., 1.])"
      ]
     },
     "execution_count": 27,
     "metadata": {},
     "output_type": "execute_result"
    }
   ],
   "source": [
    "d5['knockout_match'].unique()"
   ]
  },
  {
   "cell_type": "markdown",
   "metadata": {
    "colab_type": "text",
    "id": "VyVCsb-4oBNd"
   },
   "source": [
    "power of shot Analysis"
   ]
  },
  {
   "cell_type": "code",
   "execution_count": 28,
   "metadata": {
    "colab": {},
    "colab_type": "code",
    "collapsed": true,
    "id": "728nVlS_oBNe"
   },
   "outputs": [],
   "source": [
    "#power of shot has 1 to 7 makes more sense\n",
    "d5 = d5.rename(columns={'power_of_shot.1':'power_of_shot_1'})\n",
    "d5.power_of_shot.fillna(d5.power_of_shot_1, inplace=True)\n",
    "d5 = d5.drop('power_of_shot_1',axis=1)"
   ]
  },
  {
   "cell_type": "code",
   "execution_count": 29,
   "metadata": {
    "colab": {
     "base_uri": "https://localhost:8080/",
     "height": 170
    },
    "colab_type": "code",
    "executionInfo": {
     "elapsed": 1039,
     "status": "ok",
     "timestamp": 1563731685942,
     "user": {
      "displayName": "Yash Chhabria",
      "photoUrl": "",
      "userId": "13566742523063708139"
     },
     "user_tz": -330
    },
    "id": "HF6XH8NboBNh",
    "outputId": "f1a70d5c-3b5e-4448-c09c-15623d36d2e7"
   },
   "outputs": [
    {
     "data": {
      "text/plain": [
       "count    30627.000000\n",
       "mean         3.108937\n",
       "std          6.761758\n",
       "min          1.000000\n",
       "25%          1.000000\n",
       "50%          3.000000\n",
       "75%          4.000000\n",
       "max        118.360000\n",
       "Name: power_of_shot, dtype: float64"
      ]
     },
     "execution_count": 29,
     "metadata": {},
     "output_type": "execute_result"
    }
   ],
   "source": [
    "d5['power_of_shot'].describe()"
   ]
  },
  {
   "cell_type": "code",
   "execution_count": 30,
   "metadata": {
    "colab": {},
    "colab_type": "code",
    "collapsed": true,
    "id": "5lrW5xzNoBNl"
   },
   "outputs": [],
   "source": [
    "d5.loc[d5['power_of_shot'] > 7, 'power_of_shot'] = np.nan"
   ]
  },
  {
   "cell_type": "code",
   "execution_count": 31,
   "metadata": {
    "colab": {
     "base_uri": "https://localhost:8080/",
     "height": 34
    },
    "colab_type": "code",
    "executionInfo": {
     "elapsed": 660,
     "status": "ok",
     "timestamp": 1563731692079,
     "user": {
      "displayName": "Yash Chhabria",
      "photoUrl": "",
      "userId": "13566742523063708139"
     },
     "user_tz": -330
    },
    "id": "qV_ERQl2oBNo",
    "outputId": "140474f6-a310-4194-e56e-1c4b5136bb55"
   },
   "outputs": [
    {
     "data": {
      "text/plain": [
       "array([ 1.,  2.,  3.,  4., nan,  5.,  6.,  7.])"
      ]
     },
     "execution_count": 31,
     "metadata": {},
     "output_type": "execute_result"
    }
   ],
   "source": [
    "d5['power_of_shot'].unique()"
   ]
  },
  {
   "cell_type": "code",
   "execution_count": 32,
   "metadata": {
    "colab": {
     "base_uri": "https://localhost:8080/",
     "height": 51
    },
    "colab_type": "code",
    "executionInfo": {
     "elapsed": 1446,
     "status": "ok",
     "timestamp": 1563731696761,
     "user": {
      "displayName": "Yash Chhabria",
      "photoUrl": "",
      "userId": "13566742523063708139"
     },
     "user_tz": -330
    },
    "id": "dqvSURz0oBNt",
    "outputId": "3dd03498-ce80-4fff-e005-dcbd1408aa9c"
   },
   "outputs": [
    {
     "data": {
      "text/plain": [
       "0    3.0\n",
       "dtype: float64"
      ]
     },
     "execution_count": 32,
     "metadata": {},
     "output_type": "execute_result"
    }
   ],
   "source": [
    "d5['power_of_shot'].mode()"
   ]
  },
  {
   "cell_type": "code",
   "execution_count": 33,
   "metadata": {
    "colab": {
     "base_uri": "https://localhost:8080/",
     "height": 34
    },
    "colab_type": "code",
    "executionInfo": {
     "elapsed": 1054,
     "status": "ok",
     "timestamp": 1563731699777,
     "user": {
      "displayName": "Yash Chhabria",
      "photoUrl": "",
      "userId": "13566742523063708139"
     },
     "user_tz": -330
    },
    "id": "dCQYyQproBNz",
    "outputId": "c45f4b2b-e531-4235-c67f-4f1e46493402"
   },
   "outputs": [
    {
     "data": {
      "text/plain": [
       "array([1., 2., 3., 4., 5., 6., 7.])"
      ]
     },
     "execution_count": 33,
     "metadata": {},
     "output_type": "execute_result"
    }
   ],
   "source": [
    "d5['power_of_shot'].fillna(3, inplace = True)\n",
    "d5['power_of_shot'].unique()"
   ]
  },
  {
   "cell_type": "markdown",
   "metadata": {
    "colab_type": "text",
    "id": "O3wC53kPoBN3"
   },
   "source": [
    "shot basics and area of shot Analysis"
   ]
  },
  {
   "cell_type": "code",
   "execution_count": 34,
   "metadata": {
    "colab": {
     "base_uri": "https://localhost:8080/",
     "height": 34
    },
    "colab_type": "code",
    "executionInfo": {
     "elapsed": 1102,
     "status": "ok",
     "timestamp": 1563731705157,
     "user": {
      "displayName": "Yash Chhabria",
      "photoUrl": "",
      "userId": "13566742523063708139"
     },
     "user_tz": -330
    },
    "id": "eDTnNLDEoBN4",
    "outputId": "4114a702-6eee-483d-ad53-095fa70ea727"
   },
   "outputs": [
    {
     "data": {
      "text/plain": [
       "1502"
      ]
     },
     "execution_count": 34,
     "metadata": {},
     "output_type": "execute_result"
    }
   ],
   "source": [
    "n2=d5['area_of_shot'].isnull()\n",
    "n2[n2==True].count()"
   ]
  },
  {
   "cell_type": "code",
   "execution_count": 35,
   "metadata": {
    "colab": {},
    "colab_type": "code",
    "collapsed": true,
    "id": "Hr02a6-5oBN8"
   },
   "outputs": [],
   "source": [
    "#because the value of na is large shouldn't be replaced by mode\n",
    "d5['area_of_shot'].fillna(\"U\", inplace = True)\n",
    "d5['shot_basics'].fillna(\"U\", inplace = True)"
   ]
  },
  {
   "cell_type": "code",
   "execution_count": 36,
   "metadata": {
    "colab": {
     "base_uri": "https://localhost:8080/",
     "height": 34
    },
    "colab_type": "code",
    "executionInfo": {
     "elapsed": 1358,
     "status": "ok",
     "timestamp": 1563731712941,
     "user": {
      "displayName": "Yash Chhabria",
      "photoUrl": "",
      "userId": "13566742523063708139"
     },
     "user_tz": -330
    },
    "id": "JER30MoMoBOB",
    "outputId": "7555173a-ea58-4e0d-fe44-6a77b9b0b4cc"
   },
   "outputs": [
    {
     "data": {
      "text/plain": [
       "(30697, 34)"
      ]
     },
     "execution_count": 36,
     "metadata": {},
     "output_type": "execute_result"
    }
   ],
   "source": [
    "d5 = pd.get_dummies(d5,prefix_sep=\"_\",columns=[\"area_of_shot\",\"shot_basics\"])\n",
    "d5.shape"
   ]
  },
  {
   "cell_type": "code",
   "execution_count": 37,
   "metadata": {
    "colab": {
     "base_uri": "https://localhost:8080/",
     "height": 612
    },
    "colab_type": "code",
    "executionInfo": {
     "elapsed": 856,
     "status": "ok",
     "timestamp": 1563731714465,
     "user": {
      "displayName": "Yash Chhabria",
      "photoUrl": "",
      "userId": "13566742523063708139"
     },
     "user_tz": -330
    },
    "id": "GSjf3p_moBOE",
    "outputId": "9fbc8841-adeb-45a4-da56-e93a111c6001"
   },
   "outputs": [
    {
     "data": {
      "text/plain": [
       "shot_id_number                          int64\n",
       "match_event_id                        float64\n",
       "location_x                            float64\n",
       "location_y                            float64\n",
       "power_of_shot                         float64\n",
       "knockout_match                        float64\n",
       "game_season                            object\n",
       "is_goal                               float64\n",
       "range_of_shot                          object\n",
       "date_of_game                           object\n",
       "home/away                              object\n",
       "lat/lng                                object\n",
       "type_of_shot                           object\n",
       "type_of_combined_shot                  object\n",
       "match_id                                int64\n",
       "distance_of_shot                      float64\n",
       "distance_of_shot_1                    float64\n",
       "distance_of_shot_avg                  float64\n",
       "remaining_min_1                       float64\n",
       "area_of_shot_Center(C)                  uint8\n",
       "area_of_shot_Left Side Center(LC)       uint8\n",
       "area_of_shot_Left Side(L)               uint8\n",
       "area_of_shot_Mid Ground(MG)             uint8\n",
       "area_of_shot_Right Side Center(RC)      uint8\n",
       "area_of_shot_Right Side(R)              uint8\n",
       "area_of_shot_U                          uint8\n",
       "shot_basics_Goal Area                   uint8\n",
       "shot_basics_Goal Line                   uint8\n",
       "shot_basics_Left Corner                 uint8\n",
       "shot_basics_Mid Ground Line             uint8\n",
       "shot_basics_Mid Range                   uint8\n",
       "shot_basics_Penalty Spot                uint8\n",
       "shot_basics_Right Corner                uint8\n",
       "shot_basics_U                           uint8\n",
       "dtype: object"
      ]
     },
     "execution_count": 37,
     "metadata": {},
     "output_type": "execute_result"
    }
   ],
   "source": [
    "d5.dtypes"
   ]
  },
  {
   "cell_type": "markdown",
   "metadata": {
    "colab_type": "text",
    "id": "iASdWFlUoBOJ"
   },
   "source": [
    "game_season Analysis"
   ]
  },
  {
   "cell_type": "code",
   "execution_count": 38,
   "metadata": {
    "colab": {},
    "colab_type": "code",
    "collapsed": true,
    "id": "gAUvK5eQoBOK"
   },
   "outputs": [],
   "source": [
    "d5['game_season'].unique()\n",
    "d5['game_season'].fillna(method='ffill', inplace=True)"
   ]
  },
  {
   "cell_type": "markdown",
   "metadata": {
    "colab_type": "text",
    "id": "r9fbxkw8oBOQ"
   },
   "source": [
    "type of shot Analysis"
   ]
  },
  {
   "cell_type": "code",
   "execution_count": 39,
   "metadata": {
    "colab": {},
    "colab_type": "code",
    "collapsed": true,
    "id": "br4na3xjoBOS"
   },
   "outputs": [],
   "source": [
    "#filling 0 in place of na \n",
    "d5['type_of_combined_shot'].fillna(0, inplace=True)\n",
    "d5['type_of_shot'].fillna(0, inplace = True)"
   ]
  },
  {
   "cell_type": "code",
   "execution_count": 40,
   "metadata": {
    "colab": {},
    "colab_type": "code",
    "collapsed": true,
    "id": "UaG3Z3MeoBOV"
   },
   "outputs": [],
   "source": [
    "d5.to_csv('first.csv',index=False)"
   ]
  },
  {
   "cell_type": "markdown",
   "metadata": {
    "colab_type": "text",
    "id": "nFPR_qdxoBOX"
   },
   "source": [
    "location x and y Analysis"
   ]
  },
  {
   "cell_type": "code",
   "execution_count": 41,
   "metadata": {
    "colab": {},
    "colab_type": "code",
    "collapsed": true,
    "id": "lIc-gM60oBOd"
   },
   "outputs": [],
   "source": [
    "d5 = pd.read_csv('first.csv')\n",
    "d6 = d5.drop('location_x',axis=1)\n",
    "d6 = d6.drop('location_y',axis=1)"
   ]
  },
  {
   "cell_type": "markdown",
   "metadata": {
    "colab_type": "text",
    "id": "xqfYkSHmoBOj"
   },
   "source": [
    "home/away and lat/lng analysis"
   ]
  },
  {
   "cell_type": "code",
   "execution_count": 42,
   "metadata": {
    "colab": {},
    "colab_type": "code",
    "collapsed": true,
    "id": "cOZ1w-qLoBOj"
   },
   "outputs": [],
   "source": [
    "d6['home/away'] = d6.groupby(['match_id'])['home/away'].ffill()\n",
    "d6['home/away'] = d6.groupby(['match_id'])['home/away'].bfill()"
   ]
  },
  {
   "cell_type": "code",
   "execution_count": 43,
   "metadata": {
    "colab": {},
    "colab_type": "code",
    "collapsed": true,
    "id": "pBB8GmryoBOn"
   },
   "outputs": [],
   "source": [
    "d6['lat/lng'].fillna(d6['home/away'],inplace=True)\n",
    "d6['lat/lng'] = d6['lat/lng'].replace(to_replace ='@', value = 0 , regex = True) \n",
    "d6['lat/lng'] = d6['lat/lng'].replace(to_replace ='vs', value = 1 , regex = True) "
   ]
  },
  {
   "cell_type": "code",
   "execution_count": 44,
   "metadata": {
    "colab": {
     "base_uri": "https://localhost:8080/",
     "height": 34
    },
    "colab_type": "code",
    "executionInfo": {
     "elapsed": 939,
     "status": "ok",
     "timestamp": 1563731911771,
     "user": {
      "displayName": "Yash Chhabria",
      "photoUrl": "",
      "userId": "13566742523063708139"
     },
     "user_tz": -330
    },
    "id": "ZyYplw1xoBOt",
    "outputId": "7272bea8-51c0-4b5b-fcb6-b2242e3488db"
   },
   "outputs": [
    {
     "data": {
      "text/plain": [
       "array([0, 1], dtype=object)"
      ]
     },
     "execution_count": 44,
     "metadata": {},
     "output_type": "execute_result"
    }
   ],
   "source": [
    "d6.loc[(d6['lat/lng'] != '42.982923, -71.446094') & (d6['lat/lng'] != 1) &  (d6['lat/lng'].notnull()), 'lat/lng'] = 0\n",
    "d6.loc[d6['lat/lng'] == '42.982923, -71.446094','lat/lng'] = 1\n",
    "d6['lat/lng'].unique()"
   ]
  },
  {
   "cell_type": "code",
   "execution_count": 45,
   "metadata": {
    "colab": {},
    "colab_type": "code",
    "collapsed": true,
    "id": "W4_vkLqToBOw"
   },
   "outputs": [],
   "source": [
    "#to get name of opposition teams\n",
    "d6['home/away']=d6['home/away'].astype(\"str\").apply(lambda x: x.lstrip(\"MANU\"))\n",
    "d6['home/away']=d6['home/away'].astype(\"str\").apply(lambda x: x.lstrip(\"vs. \"))\n",
    "d6['home/away']=d6['home/away'].astype(\"str\").apply(lambda x: x.lstrip(\"@ \"))"
   ]
  },
  {
   "cell_type": "code",
   "execution_count": 46,
   "metadata": {
    "colab": {},
    "colab_type": "code",
    "collapsed": true,
    "id": "o5voq2wjoBOx"
   },
   "outputs": [],
   "source": [
    "d6 = d6.drop(['range_of_shot','distance_of_shot','distance_of_shot_1'], axis=1)\n",
    "d6 = d6.drop(['match_event_id','date_of_game'],axis=1)"
   ]
  },
  {
   "cell_type": "code",
   "execution_count": 47,
   "metadata": {
    "colab": {},
    "colab_type": "code",
    "collapsed": true,
    "id": "FV_A11LJoBOz"
   },
   "outputs": [],
   "source": [
    "#d7 = d6['is_goal']"
   ]
  },
  {
   "cell_type": "code",
   "execution_count": 139,
   "metadata": {
    "colab": {
     "base_uri": "https://localhost:8080/",
     "height": 493
    },
    "colab_type": "code",
    "executionInfo": {
     "elapsed": 1040,
     "status": "ok",
     "timestamp": 1563731935894,
     "user": {
      "displayName": "Yash Chhabria",
      "photoUrl": "",
      "userId": "13566742523063708139"
     },
     "user_tz": -330
    },
    "id": "IFJpjFGioBO2",
    "outputId": "43862c71-c317-4fb7-c2a9-15f6ba186c73"
   },
   "outputs": [
    {
     "data": {
      "text/plain": [
       "shot_id_number                        0\n",
       "power_of_shot                         0\n",
       "knockout_match                        0\n",
       "game_season                           0\n",
       "is_goal                               0\n",
       "home/away                             0\n",
       "lat/lng                               0\n",
       "type_of_shot                          0\n",
       "type_of_combined_shot                 0\n",
       "match_id                              0\n",
       "distance_of_shot_avg                  0\n",
       "remaining_min_1                       0\n",
       "area_of_shot_Center(C)                0\n",
       "area_of_shot_Left Side Center(LC)     0\n",
       "area_of_shot_Left Side(L)             0\n",
       "area_of_shot_Mid Ground(MG)           0\n",
       "area_of_shot_Right Side Center(RC)    0\n",
       "area_of_shot_Right Side(R)            0\n",
       "area_of_shot_U                        0\n",
       "shot_basics_Goal Area                 0\n",
       "shot_basics_Goal Line                 0\n",
       "shot_basics_Left Corner               0\n",
       "shot_basics_Mid Ground Line           0\n",
       "shot_basics_Mid Range                 0\n",
       "shot_basics_Penalty Spot              0\n",
       "shot_basics_Right Corner              0\n",
       "shot_basics_U                         0\n",
       "dtype: int64"
      ]
     },
     "execution_count": 139,
     "metadata": {},
     "output_type": "execute_result"
    }
   ],
   "source": [
    "#to check if we got rid of all na values\n",
    "c= d6.isnull()\n",
    "c[c==True].count()"
   ]
  },
  {
   "cell_type": "code",
   "execution_count": 135,
   "metadata": {
    "colab": {},
    "colab_type": "code",
    "collapsed": true,
    "id": "ibRv8H2VrZr8"
   },
   "outputs": [],
   "source": [
    "d6['is_goal'].fillna(5, inplace=True)\n",
    "d6['is_goal'] = pd.to_numeric(d6['is_goal'])"
   ]
  },
  {
   "cell_type": "code",
   "execution_count": 136,
   "metadata": {
    "colab": {},
    "colab_type": "code",
    "collapsed": true,
    "id": "VuJYKF75oBO7"
   },
   "outputs": [],
   "source": [
    "d6.to_csv('second.csv',index=False)"
   ]
  },
  {
   "cell_type": "markdown",
   "metadata": {
    "colab_type": "text",
    "id": "jZmhWOWroBO9"
   },
   "source": [
    "handling categorical data"
   ]
  },
  {
   "cell_type": "code",
   "execution_count": 137,
   "metadata": {
    "colab": {},
    "colab_type": "code",
    "collapsed": true,
    "id": "117E5MXqoBO-"
   },
   "outputs": [],
   "source": [
    "f1 = pd.read_csv('second.csv')"
   ]
  },
  {
   "cell_type": "code",
   "execution_count": 138,
   "metadata": {
    "colab": {
     "base_uri": "https://localhost:8080/",
     "height": 34
    },
    "colab_type": "code",
    "executionInfo": {
     "elapsed": 1074,
     "status": "ok",
     "timestamp": 1563731949235,
     "user": {
      "displayName": "Yash Chhabria",
      "photoUrl": "",
      "userId": "13566742523063708139"
     },
     "user_tz": -330
    },
    "id": "iM9r8xQjoBO_",
    "outputId": "49578aa3-4b87-4791-c51f-23a7c48ebb95"
   },
   "outputs": [
    {
     "data": {
      "text/plain": [
       "(24429, 27)"
      ]
     },
     "execution_count": 138,
     "metadata": {},
     "output_type": "execute_result"
    }
   ],
   "source": [
    "f1.shape"
   ]
  },
  {
   "cell_type": "code",
   "execution_count": 117,
   "metadata": {
    "colab": {
     "base_uri": "https://localhost:8080/",
     "height": 204
    },
    "colab_type": "code",
    "executionInfo": {
     "elapsed": 1083,
     "status": "ok",
     "timestamp": 1563732017102,
     "user": {
      "displayName": "Yash Chhabria",
      "photoUrl": "",
      "userId": "13566742523063708139"
     },
     "user_tz": -330
    },
    "id": "-FtJY_hLoBPB",
    "outputId": "687184f5-99b9-4755-d207-c95ffc2a8f7d"
   },
   "outputs": [
    {
     "data": {
      "text/html": [
       "<div>\n",
       "<style>\n",
       "    .dataframe thead tr:only-child th {\n",
       "        text-align: right;\n",
       "    }\n",
       "\n",
       "    .dataframe thead th {\n",
       "        text-align: left;\n",
       "    }\n",
       "\n",
       "    .dataframe tbody tr th {\n",
       "        vertical-align: top;\n",
       "    }\n",
       "</style>\n",
       "<table border=\"1\" class=\"dataframe\">\n",
       "  <thead>\n",
       "    <tr style=\"text-align: right;\">\n",
       "      <th></th>\n",
       "      <th>home/away</th>\n",
       "      <th>is_goal</th>\n",
       "    </tr>\n",
       "  </thead>\n",
       "  <tbody>\n",
       "    <tr>\n",
       "      <th>31</th>\n",
       "      <td>SAS</td>\n",
       "      <td>672.0</td>\n",
       "    </tr>\n",
       "    <tr>\n",
       "      <th>27</th>\n",
       "      <td>PHX</td>\n",
       "      <td>655.0</td>\n",
       "    </tr>\n",
       "    <tr>\n",
       "      <th>29</th>\n",
       "      <td>SAC</td>\n",
       "      <td>617.0</td>\n",
       "    </tr>\n",
       "    <tr>\n",
       "      <th>11</th>\n",
       "      <td>HOU</td>\n",
       "      <td>585.0</td>\n",
       "    </tr>\n",
       "    <tr>\n",
       "      <th>8</th>\n",
       "      <td>DEN</td>\n",
       "      <td>584.0</td>\n",
       "    </tr>\n",
       "  </tbody>\n",
       "</table>\n",
       "</div>"
      ],
      "text/plain": [
       "   home/away  is_goal\n",
       "31       SAS    672.0\n",
       "27       PHX    655.0\n",
       "29       SAC    617.0\n",
       "11       HOU    585.0\n",
       "8        DEN    584.0"
      ]
     },
     "execution_count": 117,
     "metadata": {},
     "output_type": "execute_result"
    }
   ],
   "source": [
    "f2 = f1.groupby(['home/away'])['is_goal'].agg('sum').reset_index().sort_values(by='is_goal',ascending=False)\n",
    "f2 = pd.DataFrame(f2)\n",
    "f2.head()"
   ]
  },
  {
   "cell_type": "code",
   "execution_count": 118,
   "metadata": {
    "colab": {
     "base_uri": "https://localhost:8080/",
     "height": 204
    },
    "colab_type": "code",
    "executionInfo": {
     "elapsed": 1367,
     "status": "ok",
     "timestamp": 1563732024218,
     "user": {
      "displayName": "Yash Chhabria",
      "photoUrl": "",
      "userId": "13566742523063708139"
     },
     "user_tz": -330
    },
    "id": "oD1v1LL5oBPD",
    "outputId": "4ae7d40e-e311-4805-f04a-43b4301b9458"
   },
   "outputs": [
    {
     "data": {
      "text/html": [
       "<div>\n",
       "<style>\n",
       "    .dataframe thead tr:only-child th {\n",
       "        text-align: right;\n",
       "    }\n",
       "\n",
       "    .dataframe thead th {\n",
       "        text-align: left;\n",
       "    }\n",
       "\n",
       "    .dataframe tbody tr th {\n",
       "        vertical-align: top;\n",
       "    }\n",
       "</style>\n",
       "<table border=\"1\" class=\"dataframe\">\n",
       "  <thead>\n",
       "    <tr style=\"text-align: right;\">\n",
       "      <th></th>\n",
       "      <th>match_id</th>\n",
       "      <th>is_goal</th>\n",
       "    </tr>\n",
       "  </thead>\n",
       "  <tbody>\n",
       "    <tr>\n",
       "      <th>398</th>\n",
       "      <td>20500591</td>\n",
       "      <td>21.0</td>\n",
       "    </tr>\n",
       "    <tr>\n",
       "      <th>500</th>\n",
       "      <td>20600977</td>\n",
       "      <td>19.0</td>\n",
       "    </tr>\n",
       "    <tr>\n",
       "      <th>506</th>\n",
       "      <td>20601081</td>\n",
       "      <td>18.0</td>\n",
       "    </tr>\n",
       "    <tr>\n",
       "      <th>1078</th>\n",
       "      <td>21501228</td>\n",
       "      <td>17.0</td>\n",
       "    </tr>\n",
       "    <tr>\n",
       "      <th>553</th>\n",
       "      <td>20700553</td>\n",
       "      <td>17.0</td>\n",
       "    </tr>\n",
       "  </tbody>\n",
       "</table>\n",
       "</div>"
      ],
      "text/plain": [
       "      match_id  is_goal\n",
       "398   20500591     21.0\n",
       "500   20600977     19.0\n",
       "506   20601081     18.0\n",
       "1078  21501228     17.0\n",
       "553   20700553     17.0"
      ]
     },
     "execution_count": 118,
     "metadata": {},
     "output_type": "execute_result"
    }
   ],
   "source": [
    "f3 = f1.groupby(['match_id'])['is_goal'].agg('sum').reset_index().sort_values(by='is_goal',ascending=False)\n",
    "f3 = pd.DataFrame(f3)\n",
    "f3.head()"
   ]
  },
  {
   "cell_type": "code",
   "execution_count": 119,
   "metadata": {
    "colab": {},
    "colab_type": "code",
    "collapsed": true,
    "id": "mYgVSTH8oBPF"
   },
   "outputs": [],
   "source": [
    "#f4 = f1.groupby(['area_of_shot'])['is_goal'].agg('sum').reset_index().sort_values(by='is_goal',ascending=False)\n",
    "#f4 = pd.DataFrame(f4)\n",
    "#f4"
   ]
  },
  {
   "cell_type": "code",
   "execution_count": 120,
   "metadata": {
    "colab": {},
    "colab_type": "code",
    "collapsed": true,
    "id": "k8s0Ox7toBPI"
   },
   "outputs": [],
   "source": [
    "#f5 = f1.groupby(['shot_basics'])['is_goal'].agg('sum').reset_index().sort_values(by='is_goal',ascending=False)\n",
    "#f5 = pd.DataFrame(f5)\n",
    "#f5"
   ]
  },
  {
   "cell_type": "code",
   "execution_count": 121,
   "metadata": {
    "colab": {
     "base_uri": "https://localhost:8080/",
     "height": 204
    },
    "colab_type": "code",
    "executionInfo": {
     "elapsed": 1373,
     "status": "ok",
     "timestamp": 1563732038621,
     "user": {
      "displayName": "Yash Chhabria",
      "photoUrl": "",
      "userId": "13566742523063708139"
     },
     "user_tz": -330
    },
    "id": "6dtDFtctoBPJ",
    "outputId": "61883654-1860-4e17-97a9-b2f77dc31ebe"
   },
   "outputs": [
    {
     "data": {
      "text/html": [
       "<div>\n",
       "<style>\n",
       "    .dataframe thead tr:only-child th {\n",
       "        text-align: right;\n",
       "    }\n",
       "\n",
       "    .dataframe thead th {\n",
       "        text-align: left;\n",
       "    }\n",
       "\n",
       "    .dataframe tbody tr th {\n",
       "        vertical-align: top;\n",
       "    }\n",
       "</style>\n",
       "<table border=\"1\" class=\"dataframe\">\n",
       "  <thead>\n",
       "    <tr style=\"text-align: right;\">\n",
       "      <th></th>\n",
       "      <th>game_season</th>\n",
       "      <th>is_goal</th>\n",
       "    </tr>\n",
       "  </thead>\n",
       "  <tbody>\n",
       "    <tr>\n",
       "      <th>9</th>\n",
       "      <td>2005-06</td>\n",
       "      <td>822.0</td>\n",
       "    </tr>\n",
       "    <tr>\n",
       "      <th>12</th>\n",
       "      <td>2008-09</td>\n",
       "      <td>820.0</td>\n",
       "    </tr>\n",
       "    <tr>\n",
       "      <th>11</th>\n",
       "      <td>2007-08</td>\n",
       "      <td>806.0</td>\n",
       "    </tr>\n",
       "    <tr>\n",
       "      <th>13</th>\n",
       "      <td>2009-10</td>\n",
       "      <td>774.0</td>\n",
       "    </tr>\n",
       "    <tr>\n",
       "      <th>6</th>\n",
       "      <td>2002-03</td>\n",
       "      <td>773.0</td>\n",
       "    </tr>\n",
       "  </tbody>\n",
       "</table>\n",
       "</div>"
      ],
      "text/plain": [
       "   game_season  is_goal\n",
       "9      2005-06    822.0\n",
       "12     2008-09    820.0\n",
       "11     2007-08    806.0\n",
       "13     2009-10    774.0\n",
       "6      2002-03    773.0"
      ]
     },
     "execution_count": 121,
     "metadata": {},
     "output_type": "execute_result"
    }
   ],
   "source": [
    "f6 = f1.groupby(['game_season'])['is_goal'].agg('sum').reset_index().sort_values(by='is_goal',ascending=False)\n",
    "f6 = pd.DataFrame(f6)\n",
    "f6.head()"
   ]
  },
  {
   "cell_type": "code",
   "execution_count": 122,
   "metadata": {
    "colab": {},
    "colab_type": "code",
    "id": "3cn6OEQxoBPL",
    "outputId": "637b5198-e762-4e80-dfc2-d3a3ba9afc06"
   },
   "outputs": [],
   "source": [
    "f7 = f1.groupby(['type_of_shot'])['is_goal'].agg('sum').reset_index().sort_values(by='is_goal',ascending=False)\n",
    "f7 = pd.DataFrame(f7)\n",
    "#f7[type_of_shot].head()"
   ]
  },
  {
   "cell_type": "code",
   "execution_count": 123,
   "metadata": {
    "colab": {
     "base_uri": "https://localhost:8080/",
     "height": 51
    },
    "colab_type": "code",
    "executionInfo": {
     "elapsed": 1353,
     "status": "ok",
     "timestamp": 1563732229225,
     "user": {
      "displayName": "Yash Chhabria",
      "photoUrl": "",
      "userId": "13566742523063708139"
     },
     "user_tz": -330
    },
    "id": "VAkZEG8ZoBPO",
    "outputId": "b2828f1d-1156-4632-fc7f-ac5e70ade6a3"
   },
   "outputs": [
    {
     "data": {
      "text/plain": [
       "array(['0', 'shot - 3', 'shot - 4', 'shot - 1', 'shot - 0', 'shot - 2',\n",
       "       'shot - 5'], dtype=object)"
      ]
     },
     "execution_count": 123,
     "metadata": {},
     "output_type": "execute_result"
    }
   ],
   "source": [
    "f8 = f1.groupby(['type_of_combined_shot'])['is_goal'].agg('sum').reset_index().sort_values(by='is_goal',ascending=False)\n",
    "f8 = pd.DataFrame(f8)\n",
    "f8['type_of_combined_shot'].unique()"
   ]
  },
  {
   "cell_type": "markdown",
   "metadata": {
    "colab_type": "text",
    "id": "v8NH_z2IoBPR"
   },
   "source": [
    "replacing the string values with numeric values using merge"
   ]
  },
  {
   "cell_type": "code",
   "execution_count": 124,
   "metadata": {
    "colab": {
     "base_uri": "https://localhost:8080/",
     "height": 204
    },
    "colab_type": "code",
    "executionInfo": {
     "elapsed": 1344,
     "status": "ok",
     "timestamp": 1563732256542,
     "user": {
      "displayName": "Yash Chhabria",
      "photoUrl": "",
      "userId": "13566742523063708139"
     },
     "user_tz": -330
    },
    "id": "sQhi2fletHif",
    "outputId": "b2870f55-9074-4054-9857-ef5acc662aff"
   },
   "outputs": [],
   "source": [
    "tocs = ['0', 'shot - 3', 'shot - 4', 'shot - 1', 'shot - 0', 'shot - 2',\n",
    "       'shot - 5']"
   ]
  },
  {
   "cell_type": "code",
   "execution_count": 125,
   "metadata": {
    "colab": {},
    "colab_type": "code",
    "id": "FXIjO291oBPR"
   },
   "outputs": [],
   "source": [
    "m1 = pd.merge(f1, f2, on ='home/away')\n",
    "m1 = m1.rename(columns={'is_goal_y':'home/away_n'})\n",
    "#m1.columns "
   ]
  },
  {
   "cell_type": "code",
   "execution_count": 126,
   "metadata": {
    "colab": {},
    "colab_type": "code",
    "id": "f5pX3i45oBPT"
   },
   "outputs": [],
   "source": [
    "m2 = pd.merge(m1, f3, on ='match_id')\n",
    "m2 = m2.rename(columns={'is_goal':'match_id_n'})\n",
    "#m2.columns"
   ]
  },
  {
   "cell_type": "code",
   "execution_count": 127,
   "metadata": {
    "colab": {},
    "colab_type": "code",
    "collapsed": true,
    "id": "jbwz8vQXoBPV"
   },
   "outputs": [],
   "source": [
    "#m3 = pd.merge(m2, f4, on ='area_of_shot')\n",
    "#m3 = m3.rename(columns={'is_goal':'area_of_shot_n'})\n",
    "#m3.columns"
   ]
  },
  {
   "cell_type": "code",
   "execution_count": 65,
   "metadata": {
    "colab": {},
    "colab_type": "code",
    "collapsed": true,
    "id": "E6V_kk0ToBPW"
   },
   "outputs": [],
   "source": [
    "#m4 = pd.merge(m3, f5, on ='shot_basics')\n",
    "#m4 = m4.rename(columns={'is_goal':'shot_basics_n'})\n",
    "#m4.columns"
   ]
  },
  {
   "cell_type": "code",
   "execution_count": 128,
   "metadata": {
    "colab": {},
    "colab_type": "code",
    "id": "q8ZINbxsoBPa"
   },
   "outputs": [],
   "source": [
    "m5 = pd.merge(m2, f6, on ='game_season')\n",
    "m5 = m5.rename(columns={'is_goal':'game_season_n'})\n",
    "#m5.columns"
   ]
  },
  {
   "cell_type": "code",
   "execution_count": 129,
   "metadata": {
    "colab": {},
    "colab_type": "code",
    "id": "qfuNy-0ToBPd"
   },
   "outputs": [],
   "source": [
    "m6 = pd.merge(m5, f7, on ='type_of_shot')\n",
    "m6 = m6.rename(columns={'is_goal':'type_of_shot_n'})\n",
    "#m6.columns"
   ]
  },
  {
   "cell_type": "code",
   "execution_count": 130,
   "metadata": {
    "colab": {},
    "colab_type": "code",
    "id": "KBzK-MfxoBPf",
    "outputId": "eafe1058-e1d9-4b1a-c5e7-b94aacca7be1"
   },
   "outputs": [
    {
     "data": {
      "text/plain": [
       "Index(['shot_id_number', 'power_of_shot', 'knockout_match', 'game_season',\n",
       "       'is_goal_x', 'home/away', 'lat/lng', 'type_of_shot',\n",
       "       'type_of_combined_shot', 'match_id', 'distance_of_shot_avg',\n",
       "       'remaining_min_1', 'area_of_shot_Center(C)',\n",
       "       'area_of_shot_Left Side Center(LC)', 'area_of_shot_Left Side(L)',\n",
       "       'area_of_shot_Mid Ground(MG)', 'area_of_shot_Right Side Center(RC)',\n",
       "       'area_of_shot_Right Side(R)', 'area_of_shot_U', 'shot_basics_Goal Area',\n",
       "       'shot_basics_Goal Line', 'shot_basics_Left Corner',\n",
       "       'shot_basics_Mid Ground Line', 'shot_basics_Mid Range',\n",
       "       'shot_basics_Penalty Spot', 'shot_basics_Right Corner', 'shot_basics_U',\n",
       "       'home/away_n', 'match_id_n', 'game_season_n', 'type_of_shot_n',\n",
       "       'type_of_combined_shot_n'],\n",
       "      dtype='object')"
      ]
     },
     "execution_count": 130,
     "metadata": {},
     "output_type": "execute_result"
    }
   ],
   "source": [
    "m7 = pd.merge(m6, f8, on ='type_of_combined_shot')\n",
    "m7 = m7.rename(columns={'is_goal':'type_of_combined_shot_n'})\n",
    "m7.columns"
   ]
  },
  {
   "cell_type": "code",
   "execution_count": 131,
   "metadata": {
    "colab": {},
    "colab_type": "code",
    "id": "q04AuRXZoBPi",
    "outputId": "16eb6a35-bdbf-4839-84c0-1950ab220cde"
   },
   "outputs": [
    {
     "data": {
      "text/plain": [
       "Index(['shot_id_number', 'power_of_shot', 'knockout_match', 'is_goal_x',\n",
       "       'lat/lng', 'distance_of_shot_avg', 'remaining_min_1',\n",
       "       'area_of_shot_Center(C)', 'area_of_shot_Left Side Center(LC)',\n",
       "       'area_of_shot_Left Side(L)', 'area_of_shot_Mid Ground(MG)',\n",
       "       'area_of_shot_Right Side Center(RC)', 'area_of_shot_Right Side(R)',\n",
       "       'area_of_shot_U', 'shot_basics_Goal Area', 'shot_basics_Goal Line',\n",
       "       'shot_basics_Left Corner', 'shot_basics_Mid Ground Line',\n",
       "       'shot_basics_Mid Range', 'shot_basics_Penalty Spot',\n",
       "       'shot_basics_Right Corner', 'shot_basics_U', 'home/away_n',\n",
       "       'match_id_n', 'game_season_n', 'type_of_shot_n',\n",
       "       'type_of_combined_shot_n'],\n",
       "      dtype='object')"
      ]
     },
     "execution_count": 131,
     "metadata": {},
     "output_type": "execute_result"
    }
   ],
   "source": [
    "m8 = m7.drop(['home/away','match_id', 'game_season'],axis=1)\n",
    "m8 = m8.drop(['type_of_shot','type_of_combined_shot'],axis=1)\n",
    "m8.columns"
   ]
  },
  {
   "cell_type": "code",
   "execution_count": 132,
   "metadata": {
    "colab": {},
    "colab_type": "code",
    "collapsed": true,
    "id": "UVf4QAxhoBPk"
   },
   "outputs": [],
   "source": [
    "m8 = m8.rename(columns={'lat/lng':'home/away', 'home/away_n':'opposing_team'})"
   ]
  },
  {
   "cell_type": "code",
   "execution_count": 133,
   "metadata": {
    "colab": {},
    "colab_type": "code",
    "id": "MaNEKsIIoBPm",
    "outputId": "74d57774-d981-46fd-d8fb-2f1610f4868c"
   },
   "outputs": [
    {
     "data": {
      "text/plain": [
       "array([0., 1.])"
      ]
     },
     "execution_count": 133,
     "metadata": {},
     "output_type": "execute_result"
    }
   ],
   "source": [
    "m8['is_goal_x'].unique()"
   ]
  },
  {
   "cell_type": "code",
   "execution_count": 134,
   "metadata": {
    "colab": {},
    "colab_type": "code",
    "id": "KZnOANpkoBPo",
    "outputId": "dddb6c5f-fe14-4100-e160-2957c9951c2b"
   },
   "outputs": [
    {
     "data": {
      "text/plain": [
       "0"
      ]
     },
     "execution_count": 134,
     "metadata": {},
     "output_type": "execute_result"
    }
   ],
   "source": [
    "g=m8['is_goal_x']==5\n",
    "g[g==True].count()"
   ]
  },
  {
   "cell_type": "code",
   "execution_count": 98,
   "metadata": {
    "colab": {},
    "colab_type": "code",
    "id": "7j_jyK00oBPq"
   },
   "outputs": [
    {
     "ename": "NameError",
     "evalue": "name 'test' is not defined",
     "output_type": "error",
     "traceback": [
      "\u001b[1;31m---------------------------------------------------------------------------\u001b[0m",
      "\u001b[1;31mNameError\u001b[0m                                 Traceback (most recent call last)",
      "\u001b[1;32m<ipython-input-98-d297ab8142d2>\u001b[0m in \u001b[0;36m<module>\u001b[1;34m()\u001b[0m\n\u001b[0;32m      1\u001b[0m \u001b[0mm8\u001b[0m\u001b[1;33m.\u001b[0m\u001b[0mto_csv\u001b[0m\u001b[1;33m(\u001b[0m\u001b[1;34m'data(2).csv'\u001b[0m\u001b[1;33m,\u001b[0m\u001b[0mindex\u001b[0m\u001b[1;33m=\u001b[0m\u001b[1;32mFalse\u001b[0m\u001b[1;33m)\u001b[0m\u001b[1;33m\u001b[0m\u001b[0m\n\u001b[1;32m----> 2\u001b[1;33m \u001b[0mtest\u001b[0m\u001b[1;33m.\u001b[0m\u001b[0mto_csv\u001b[0m\u001b[1;33m(\u001b[0m\u001b[1;34m'test_data.csv'\u001b[0m\u001b[1;33m,\u001b[0m\u001b[0mindex\u001b[0m\u001b[1;33m=\u001b[0m\u001b[1;32mFalse\u001b[0m\u001b[1;33m)\u001b[0m\u001b[1;33m\u001b[0m\u001b[0m\n\u001b[0m",
      "\u001b[1;31mNameError\u001b[0m: name 'test' is not defined"
     ]
    }
   ],
   "source": []
  },
  {
   "cell_type": "markdown",
   "metadata": {
    "colab_type": "text",
    "id": "jEBKxb6zoBPs"
   },
   "source": [
    "machine learning model"
   ]
  },
  {
   "cell_type": "code",
   "execution_count": 84,
   "metadata": {
    "colab": {},
    "colab_type": "code",
    "collapsed": true,
    "id": "NHRbYkKRoBPt"
   },
   "outputs": [],
   "source": [
    "from sklearn.model_selection import train_test_split\n",
    "from sklearn.metrics import accuracy_score\n",
    "from sklearn.metrics import precision_score\n",
    "from sklearn.metrics import recall_score\n",
    "\n",
    "from sklearn.linear_model import LogisticRegression\n",
    "from sklearn.discriminant_analysis import LinearDiscriminantAnalysis\n",
    "from sklearn.discriminant_analysis import QuadraticDiscriminantAnalysis\n",
    "from sklearn.linear_model import SGDClassifier\n",
    "from sklearn.svm import LinearSVC\n",
    "from sklearn.neighbors import RadiusNeighborsClassifier\n",
    "from sklearn.naive_bayes import GaussianNB\n",
    "from sklearn.tree import DecisionTreeClassifier"
   ]
  },
  {
   "cell_type": "code",
   "execution_count": 85,
   "metadata": {
    "colab": {},
    "colab_type": "code",
    "collapsed": true,
    "id": "VshDbwHYoBPx"
   },
   "outputs": [],
   "source": [
    "result_dict = {}"
   ]
  },
  {
   "cell_type": "code",
   "execution_count": 86,
   "metadata": {
    "colab": {},
    "colab_type": "code",
    "collapsed": true,
    "id": "GvOEDJG_oBPy"
   },
   "outputs": [],
   "source": [
    "def summarize_classification(y_test, y_pred):\n",
    "    \n",
    "    acc = accuracy_score(y_test, y_pred, normalize=True)\n",
    "    num_acc = accuracy_score(y_test, y_pred, normalize=False)\n",
    "\n",
    "    prec = precision_score(y_test, y_pred)\n",
    "    recall = recall_score(y_test, y_pred)\n",
    "    \n",
    "    return {'accuracy': acc, \n",
    "            'precision': prec,\n",
    "            'recall':recall, \n",
    "            'accuracy_count':num_acc}"
   ]
  },
  {
   "cell_type": "code",
   "execution_count": 87,
   "metadata": {
    "colab": {},
    "colab_type": "code",
    "collapsed": true,
    "id": "F9YsoA9joBP0"
   },
   "outputs": [],
   "source": [
    "def build_model(classifier_fn,                \n",
    "                name_of_y_col, \n",
    "                names_of_x_cols, \n",
    "                dataset, \n",
    "                test_frac=0.2):\n",
    "    \n",
    "    X = dataset[names_of_x_cols]\n",
    "    Y = dataset[name_of_y_col]\n",
    "\n",
    "    x_train, x_test, y_train, y_test = train_test_split(X, Y, test_size=test_frac)\n",
    "       \n",
    "    model = classifier_fn(x_train, y_train)\n",
    "    \n",
    "    y_pred = model.predict(x_test)\n",
    "\n",
    "    y_pred_train = model.predict(x_train)\n",
    "    \n",
    "    train_summary = summarize_classification(y_train, y_pred_train)\n",
    "    test_summary = summarize_classification(y_test, y_pred)\n",
    "    \n",
    "    pred_results = pd.DataFrame({'y_test': y_test,\n",
    "                                 'y_pred': y_pred})\n",
    "    \n",
    "    print(pred_results.sample(10))\n",
    "    \n",
    "    model_crosstab = pd.crosstab(pred_results.y_pred, pred_results.y_test)\n",
    "    \n",
    "    return {'training': train_summary, \n",
    "            'test': test_summary,\n",
    "            'confusion_matrix': model_crosstab}"
   ]
  },
  {
   "cell_type": "code",
   "execution_count": 88,
   "metadata": {
    "colab": {},
    "colab_type": "code",
    "collapsed": true,
    "id": "GhTUDX09oBP1"
   },
   "outputs": [],
   "source": [
    "def compare_results():\n",
    "    for key in result_dict:\n",
    "        print('Classification: ', key)\n",
    "\n",
    "        print()\n",
    "        print('Training data')\n",
    "        for score in result_dict[key]['training']:\n",
    "            print(score, result_dict[key]['training'][score])\n",
    "\n",
    "        print()\n",
    "        print('Test data')\n",
    "        for score in result_dict[key]['test']:\n",
    "            print(score, result_dict[key]['test'][score])\n",
    "       \n",
    "        print()"
   ]
  },
  {
   "cell_type": "code",
   "execution_count": 89,
   "metadata": {
    "colab": {},
    "colab_type": "code",
    "collapsed": true,
    "id": "cAa63vEnoBP9"
   },
   "outputs": [],
   "source": [
    "def logistic_fn(x_train, y_train):\n",
    "    \n",
    "    model = LogisticRegression(solver='liblinear')\n",
    "    model.fit(x_train, y_train)\n",
    "    \n",
    "    return model"
   ]
  },
  {
   "cell_type": "code",
   "execution_count": 90,
   "metadata": {
    "colab": {},
    "colab_type": "code",
    "collapsed": true,
    "id": "h1YbCbpNoBQA"
   },
   "outputs": [],
   "source": [
    "def linear_discriminant_fn(x_train, y_train, solver='svd'):\n",
    "    \n",
    "    model = LinearDiscriminantAnalysis(solver=solver)\n",
    "    model.fit(x_train, y_train)\n",
    "    \n",
    "    return model"
   ]
  },
  {
   "cell_type": "code",
   "execution_count": 91,
   "metadata": {
    "colab": {},
    "colab_type": "code",
    "collapsed": true,
    "id": "ki7vjSwaoBQD"
   },
   "outputs": [],
   "source": [
    "def quadratic_discriminant_fn(x_train, y_train):\n",
    "    \n",
    "    model = QuadraticDiscriminantAnalysis()\n",
    "    model.fit(x_train, y_train)\n",
    "    \n",
    "    return model"
   ]
  },
  {
   "cell_type": "code",
   "execution_count": 92,
   "metadata": {
    "colab": {},
    "colab_type": "code",
    "collapsed": true,
    "id": "qDN6pifXoBQL"
   },
   "outputs": [],
   "source": [
    "def sgd_fn(x_train, y_train, max_iter=1000, tol=1e-3):\n",
    "    \n",
    "    model = SGDClassifier(max_iter=max_iter, tol=tol)\n",
    "    model.fit(x_train, y_train)\n",
    "     \n",
    "    return model"
   ]
  },
  {
   "cell_type": "code",
   "execution_count": 93,
   "metadata": {
    "colab": {},
    "colab_type": "code",
    "collapsed": true,
    "id": "J2b6MFlJoBQN"
   },
   "outputs": [],
   "source": [
    "def linear_svc_fn(x_train, y_train, C=1.0, max_iter=1000, tol=1e-3):\n",
    "    \n",
    "    model = LinearSVC(C=C, max_iter=max_iter, tol=tol, dual=False)\n",
    "    model.fit(x_train, y_train) \n",
    "    \n",
    "    return model"
   ]
  },
  {
   "cell_type": "code",
   "execution_count": 94,
   "metadata": {
    "colab": {},
    "colab_type": "code",
    "collapsed": true,
    "id": "gIzSMfsEoBQR"
   },
   "outputs": [],
   "source": [
    "def decision_tree_fn(x_train, y_train, max_depth=None, max_features=None): \n",
    "    \n",
    "    model = DecisionTreeClassifier(max_depth=max_depth, max_features=max_features)\n",
    "    model.fit(x_train, y_train)\n",
    "    \n",
    "    return model"
   ]
  },
  {
   "cell_type": "code",
   "execution_count": 95,
   "metadata": {
    "colab": {},
    "colab_type": "code",
    "collapsed": true,
    "id": "x-CwPSt_oBQU"
   },
   "outputs": [],
   "source": [
    "def naive_bayes_fn(x_train,y_train, priors=None):\n",
    "    \n",
    "    model = GaussianNB(priors=priors)\n",
    "    model.fit(x_train, y_train)\n",
    "    \n",
    "    return model"
   ]
  },
  {
   "cell_type": "code",
   "execution_count": 107,
   "metadata": {
    "collapsed": true
   },
   "outputs": [],
   "source": [
    "m9= m8.loc[m8['is_goal_x'] == 5]\n",
    "m9.to_csv('test_data.csv',index=False)"
   ]
  },
  {
   "cell_type": "code",
   "execution_count": 108,
   "metadata": {
    "collapsed": true
   },
   "outputs": [],
   "source": [
    "m10= m8.loc[m8['is_goal_x'] != 5]\n",
    "m10.to_csv('train_data.csv',index=False)"
   ]
  },
  {
   "cell_type": "code",
   "execution_count": 109,
   "metadata": {
    "colab": {},
    "colab_type": "code",
    "id": "q41h6js9oBQW"
   },
   "outputs": [],
   "source": [
    "a1 = pd.read_csv(\"train_data.csv\")\n",
    "a2 = pd.read_csv(\"test_data.csv\")\n",
    "a2.columns\n",
    "col = ['shot_id_number', 'power_of_shot', 'knockout_match', 'is_goal_x',\n",
    "       'home/away', 'distance_of_shot_avg', 'remaining_min_1',\n",
    "       'area_of_shot_Center(C)', 'area_of_shot_Left Side Center(LC)',\n",
    "       'area_of_shot_Left Side(L)', 'area_of_shot_Mid Ground(MG)',\n",
    "       'area_of_shot_Right Side Center(RC)', 'area_of_shot_Right Side(R)',\n",
    "       'area_of_shot_U', 'shot_basics_Goal Area', 'shot_basics_Goal Line',\n",
    "       'shot_basics_Left Corner', 'shot_basics_Mid Ground Line',\n",
    "       'shot_basics_Mid Range', 'shot_basics_Penalty Spot',\n",
    "       'shot_basics_Right Corner', 'shot_basics_U', 'opposing_team',\n",
    "       'match_id_n', 'game_season_n', 'type_of_shot_n',\n",
    "       'type_of_combined_shot_n']\n",
    "for i in col:\n",
    "    a2[i] = pd.to_numeric(a2[i])\n",
    "\n",
    "new_x = a2.drop('is_goal_x',axis=1)"
   ]
  },
  {
   "cell_type": "code",
   "execution_count": 110,
   "metadata": {
    "colab": {},
    "colab_type": "code",
    "id": "iPy6YYX4oBQY",
    "outputId": "a356caca-f073-45cf-e9b5-5527797a42e0"
   },
   "outputs": [
    {
     "data": {
      "text/html": [
       "<div>\n",
       "<style>\n",
       "    .dataframe thead tr:only-child th {\n",
       "        text-align: right;\n",
       "    }\n",
       "\n",
       "    .dataframe thead th {\n",
       "        text-align: left;\n",
       "    }\n",
       "\n",
       "    .dataframe tbody tr th {\n",
       "        vertical-align: top;\n",
       "    }\n",
       "</style>\n",
       "<table border=\"1\" class=\"dataframe\">\n",
       "  <thead>\n",
       "    <tr style=\"text-align: right;\">\n",
       "      <th></th>\n",
       "      <th>shot_id_number</th>\n",
       "      <th>power_of_shot</th>\n",
       "      <th>knockout_match</th>\n",
       "      <th>home/away</th>\n",
       "      <th>distance_of_shot_avg</th>\n",
       "      <th>remaining_min_1</th>\n",
       "      <th>area_of_shot_Center(C)</th>\n",
       "      <th>area_of_shot_Left Side Center(LC)</th>\n",
       "      <th>area_of_shot_Left Side(L)</th>\n",
       "      <th>area_of_shot_Mid Ground(MG)</th>\n",
       "      <th>...</th>\n",
       "      <th>shot_basics_Mid Ground Line</th>\n",
       "      <th>shot_basics_Mid Range</th>\n",
       "      <th>shot_basics_Penalty Spot</th>\n",
       "      <th>shot_basics_Right Corner</th>\n",
       "      <th>shot_basics_U</th>\n",
       "      <th>opposing_team</th>\n",
       "      <th>match_id_n</th>\n",
       "      <th>game_season_n</th>\n",
       "      <th>type_of_shot_n</th>\n",
       "      <th>type_of_combined_shot_n</th>\n",
       "    </tr>\n",
       "  </thead>\n",
       "  <tbody>\n",
       "  </tbody>\n",
       "</table>\n",
       "<p>0 rows × 26 columns</p>\n",
       "</div>"
      ],
      "text/plain": [
       "Empty DataFrame\n",
       "Columns: [shot_id_number, power_of_shot, knockout_match, home/away, distance_of_shot_avg, remaining_min_1, area_of_shot_Center(C), area_of_shot_Left Side Center(LC), area_of_shot_Left Side(L), area_of_shot_Mid Ground(MG), area_of_shot_Right Side Center(RC), area_of_shot_Right Side(R), area_of_shot_U, shot_basics_Goal Area, shot_basics_Goal Line, shot_basics_Left Corner, shot_basics_Mid Ground Line, shot_basics_Mid Range, shot_basics_Penalty Spot, shot_basics_Right Corner, shot_basics_U, opposing_team, match_id_n, game_season_n, type_of_shot_n, type_of_combined_shot_n]\n",
       "Index: []\n",
       "\n",
       "[0 rows x 26 columns]"
      ]
     },
     "execution_count": 110,
     "metadata": {},
     "output_type": "execute_result"
    }
   ],
   "source": [
    "new_x.head()"
   ]
  },
  {
   "cell_type": "code",
   "execution_count": 103,
   "metadata": {
    "colab": {},
    "colab_type": "code",
    "id": "2v-VyC4LoBQb",
    "outputId": "f0adec67-efb1-4d57-d036-23cf5b8607ef"
   },
   "outputs": [
    {
     "data": {
      "text/plain": [
       "Index(['shot_id_number', 'power_of_shot', 'knockout_match', 'is_goal_x',\n",
       "       'home/away', 'distance_of_shot_avg', 'remaining_min_1',\n",
       "       'area_of_shot_Center(C)', 'area_of_shot_Left Side Center(LC)',\n",
       "       'area_of_shot_Left Side(L)', 'area_of_shot_Mid Ground(MG)',\n",
       "       'area_of_shot_Right Side Center(RC)', 'area_of_shot_Right Side(R)',\n",
       "       'area_of_shot_U', 'shot_basics_Goal Area', 'shot_basics_Goal Line',\n",
       "       'shot_basics_Left Corner', 'shot_basics_Mid Ground Line',\n",
       "       'shot_basics_Mid Range', 'shot_basics_Penalty Spot',\n",
       "       'shot_basics_Right Corner', 'shot_basics_U', 'opposing_team',\n",
       "       'match_id_n', 'game_season_n', 'type_of_shot_n',\n",
       "       'type_of_combined_shot_n'],\n",
       "      dtype='object')"
      ]
     },
     "execution_count": 103,
     "metadata": {},
     "output_type": "execute_result"
    }
   ],
   "source": [
    "a1.columns"
   ]
  },
  {
   "cell_type": "code",
   "execution_count": null,
   "metadata": {
    "colab": {},
    "colab_type": "code",
    "id": "ZZrHmq8FoBQe",
    "outputId": "b128613d-88d8-48f5-86e8-9c1138d1b735"
   },
   "outputs": [],
   "source": [
    "result_dict['survived ~ dt'] = build_model(decision_tree_fn,\n",
    "                                              'is_goal_x',\n",
    "                                               [ 'power_of_shot', 'knockout_match',\n",
    "       'home/away', 'distance_of_shot_avg', 'remaining_min_1',\n",
    "       'area_of_shot_Center(C)', 'area_of_shot_Left Side Center(LC)',\n",
    "       'area_of_shot_Left Side(L)', 'area_of_shot_Mid Ground(MG)',\n",
    "       'area_of_shot_Right Side Center(RC)', 'area_of_shot_Right Side(R)',\n",
    "       'area_of_shot_U', 'shot_basics_Goal Area', 'shot_basics_Goal Line',\n",
    "       'shot_basics_Left Corner', 'shot_basics_Mid Ground Line',\n",
    "       'shot_basics_Mid Range', 'shot_basics_Penalty Spot',\n",
    "       'shot_basics_Right Corner', 'shot_basics_U', 'opposing_team',\n",
    "       'match_id_n', 'game_season_n', 'type_of_shot_n',\n",
    "       'type_of_combined_shot_n'],\n",
    "                                               a1)\n",
    "\n",
    "compare_results()"
   ]
  },
  {
   "cell_type": "code",
   "execution_count": null,
   "metadata": {
    "colab": {},
    "colab_type": "code",
    "collapsed": true,
    "id": "28g_rlzeoBQg"
   },
   "outputs": [],
   "source": [
    "from sklearn.model_selection import train_test_split\n",
    "\n",
    "X = a1.drop('is_goal_x', axis=1)\n",
    "Y = a1['is_goal_x']\n",
    "\n",
    "\n",
    "\n",
    "x_train, x_test, y_train, y_test = train_test_split(X, Y, test_size=0.2565802939)\n",
    "#x_test = a2.drop('is_goal_x',axis=1)"
   ]
  },
  {
   "cell_type": "code",
   "execution_count": null,
   "metadata": {
    "colab": {},
    "colab_type": "code",
    "id": "2g5cTXmzoBQi",
    "outputId": "a7d5bad4-ae98-4d30-a2ec-6b0d62352dbd"
   },
   "outputs": [],
   "source": [
    "a1.shape"
   ]
  },
  {
   "cell_type": "code",
   "execution_count": null,
   "metadata": {
    "colab": {},
    "colab_type": "code",
    "collapsed": true,
    "id": "F5zSxeTboBQk"
   },
   "outputs": [],
   "source": [
    "from sklearn.ensemble import RandomForestClassifier\n",
    "\n",
    "#Create a Gaussian Classifier\n",
    "clf=RandomForestClassifier(n_estimators=100)\n",
    "\n",
    "#Train the model using the training sets y_pred=clf.predict(X_test)\n",
    "clf.fit(x_train,y_train)\n",
    "\n",
    "y_pred=clf.predict(new_x)"
   ]
  },
  {
   "cell_type": "code",
   "execution_count": null,
   "metadata": {
    "colab": {},
    "colab_type": "code",
    "id": "pQmrE1O1oBQm",
    "outputId": "6eb2e425-30bb-42dc-e469-8b31b1fe333a"
   },
   "outputs": [],
   "source": [
    "from sklearn import metrics\n",
    "# Model Accuracy, how often is the classifier correct?\n",
    "print(\"Accuracy:\",metrics.accuracy_score(y_test, y_pred))"
   ]
  },
  {
   "cell_type": "code",
   "execution_count": null,
   "metadata": {
    "colab": {},
    "colab_type": "code",
    "id": "bYEbxkqRoBQo",
    "outputId": "4f2f4834-4cde-4067-d6f9-b09ec8fae477"
   },
   "outputs": [],
   "source": [
    "! pip install --user xgboost"
   ]
  },
  {
   "cell_type": "code",
   "execution_count": null,
   "metadata": {
    "colab": {},
    "colab_type": "code",
    "id": "CtCTFT4doBQq",
    "outputId": "90b45d38-7b91-4441-d8b8-fd84076f18d4"
   },
   "outputs": [],
   "source": [
    "# First XGBoost model for Pima Indians dataset\n",
    "import xgboost\n",
    "from numpy import loadtxt\n",
    "from xgboost import XGBClassifier\n",
    "from sklearn.model_selection import train_test_split\n",
    "from sklearn.metrics import accuracy_score\n",
    "\n",
    "# fit model no training data\n",
    "model = XGBClassifier()\n",
    "model.fit(x_train, y_train)\n",
    "# make predictions for test data\n",
    "y_pred = model.predict(new_x)\n",
    "predictions = [round(value) for value in y_pred]\n",
    "# evaluate predictions\n",
    "accuracy = accuracy_score(y_test, predictions)\n",
    "print(\"Accuracy: %.2f%%\" % (accuracy * 100.0))"
   ]
  },
  {
   "cell_type": "code",
   "execution_count": null,
   "metadata": {
    "colab": {},
    "colab_type": "code",
    "id": "iR7bEpXeoBQt",
    "outputId": "75459781-bfd6-4279-863e-2d2b8b6dfa42"
   },
   "outputs": [],
   "source": [
    "pred_results = pd.DataFrame({'y_pred': y_pred})\n",
    "pred_results.to_csv('sub.csv',index=False)\n",
    "pred_results"
   ]
  },
  {
   "cell_type": "code",
   "execution_count": null,
   "metadata": {
    "colab": {},
    "colab_type": "code",
    "collapsed": true,
    "id": "YzZeDFi7oBQv"
   },
   "outputs": [],
   "source": []
  }
 ],
 "metadata": {
  "colab": {
   "name": "ZS_final .ipynb",
   "provenance": [],
   "version": "0.3.2"
  },
  "kernelspec": {
   "display_name": "Python 3",
   "language": "python",
   "name": "python3"
  },
  "language_info": {
   "codemirror_mode": {
    "name": "ipython",
    "version": 3
   },
   "file_extension": ".py",
   "mimetype": "text/x-python",
   "name": "python",
   "nbconvert_exporter": "python",
   "pygments_lexer": "ipython3",
   "version": "3.6.3"
  }
 },
 "nbformat": 4,
 "nbformat_minor": 1
}
