{
 "cells": [
  {
   "cell_type": "code",
   "execution_count": 2,
   "metadata": {
    "collapsed": true
   },
   "outputs": [],
   "source": [
    "import pandas as pd \n",
    "import numpy as np \n",
    "import scipy as sp \n",
    "import matplotlib.pyplot as plt "
   ]
  },
  {
   "cell_type": "markdown",
   "metadata": {},
   "source": [
    "Reading and Analysis of whole data"
   ]
  },
  {
   "cell_type": "code",
   "execution_count": 3,
   "metadata": {
    "collapsed": true
   },
   "outputs": [],
   "source": [
    "d1 = pd.read_csv('data.csv')"
   ]
  },
  {
   "cell_type": "code",
   "execution_count": 4,
   "metadata": {},
   "outputs": [
    {
     "data": {
      "text/plain": [
       "(30697, 28)"
      ]
     },
     "execution_count": 4,
     "metadata": {},
     "output_type": "execute_result"
    }
   ],
   "source": [
    "d1.shape"
   ]
  },
  {
   "cell_type": "code",
   "execution_count": 5,
   "metadata": {},
   "outputs": [
    {
     "data": {
      "text/plain": [
       "Index(['Unnamed: 0', 'match_event_id', 'location_x', 'location_y',\n",
       "       'remaining_min', 'power_of_shot', 'knockout_match', 'game_season',\n",
       "       'remaining_sec', 'distance_of_shot', 'is_goal', 'area_of_shot',\n",
       "       'shot_basics', 'range_of_shot', 'team_name', 'date_of_game',\n",
       "       'home/away', 'shot_id_number', 'lat/lng', 'type_of_shot',\n",
       "       'type_of_combined_shot', 'match_id', 'team_id', 'remaining_min.1',\n",
       "       'power_of_shot.1', 'knockout_match.1', 'remaining_sec.1',\n",
       "       'distance_of_shot.1'],\n",
       "      dtype='object')"
      ]
     },
     "execution_count": 5,
     "metadata": {},
     "output_type": "execute_result"
    }
   ],
   "source": [
    "d1.columns"
   ]
  },
  {
   "cell_type": "code",
   "execution_count": 6,
   "metadata": {
    "collapsed": true
   },
   "outputs": [],
   "source": [
    "#dropping column team name, team id because it's same throughout and seconds don't hold much importance in goal detection\n",
    "d1 = d1.drop(['team_name','team_id','shot_id_number','remaining_sec','remaining_sec.1'],axis=1)"
   ]
  },
  {
   "cell_type": "code",
   "execution_count": 7,
   "metadata": {
    "collapsed": true
   },
   "outputs": [],
   "source": [
    "#filling in the missing values in shot_id_number column \n",
    "d1['Unnamed: 0'] += 1\n",
    "d1 = d1.rename(columns={'Unnamed: 0': 'shot_id_number'})"
   ]
  },
  {
   "cell_type": "markdown",
   "metadata": {},
   "source": [
    "Distance_of_shot Analysis"
   ]
  },
  {
   "cell_type": "code",
   "execution_count": 8,
   "metadata": {},
   "outputs": [
    {
     "data": {
      "text/html": [
       "<div>\n",
       "<style>\n",
       "    .dataframe thead tr:only-child th {\n",
       "        text-align: right;\n",
       "    }\n",
       "\n",
       "    .dataframe thead th {\n",
       "        text-align: left;\n",
       "    }\n",
       "\n",
       "    .dataframe tbody tr th {\n",
       "        vertical-align: top;\n",
       "    }\n",
       "</style>\n",
       "<table border=\"1\" class=\"dataframe\">\n",
       "  <thead>\n",
       "    <tr style=\"text-align: right;\">\n",
       "      <th></th>\n",
       "      <th>distance_of_shot</th>\n",
       "      <th>distance_of_shot_1</th>\n",
       "    </tr>\n",
       "  </thead>\n",
       "  <tbody>\n",
       "    <tr>\n",
       "      <th>3007</th>\n",
       "      <td>39.0</td>\n",
       "      <td>39.0</td>\n",
       "    </tr>\n",
       "    <tr>\n",
       "      <th>21159</th>\n",
       "      <td>34.0</td>\n",
       "      <td>34.0</td>\n",
       "    </tr>\n",
       "    <tr>\n",
       "      <th>11513</th>\n",
       "      <td>36.0</td>\n",
       "      <td>12.4</td>\n",
       "    </tr>\n",
       "    <tr>\n",
       "      <th>13488</th>\n",
       "      <td>20.0</td>\n",
       "      <td>20.0</td>\n",
       "    </tr>\n",
       "    <tr>\n",
       "      <th>7021</th>\n",
       "      <td>20.0</td>\n",
       "      <td>20.0</td>\n",
       "    </tr>\n",
       "    <tr>\n",
       "      <th>4658</th>\n",
       "      <td>34.0</td>\n",
       "      <td>34.0</td>\n",
       "    </tr>\n",
       "    <tr>\n",
       "      <th>12625</th>\n",
       "      <td>32.0</td>\n",
       "      <td>32.0</td>\n",
       "    </tr>\n",
       "  </tbody>\n",
       "</table>\n",
       "</div>"
      ],
      "text/plain": [
       "       distance_of_shot  distance_of_shot_1\n",
       "3007               39.0                39.0\n",
       "21159              34.0                34.0\n",
       "11513              36.0                12.4\n",
       "13488              20.0                20.0\n",
       "7021               20.0                20.0\n",
       "4658               34.0                34.0\n",
       "12625              32.0                32.0"
      ]
     },
     "execution_count": 8,
     "metadata": {},
     "output_type": "execute_result"
    }
   ],
   "source": [
    "#to see whether the values are same or not \n",
    "d2 = d1[['distance_of_shot','distance_of_shot.1']]\n",
    "d2 = d2.rename(columns={'distance_of_shot.1':'distance_of_shot_1'})\n",
    "d2.sample(7)"
   ]
  },
  {
   "cell_type": "code",
   "execution_count": 9,
   "metadata": {},
   "outputs": [
    {
     "data": {
      "text/html": [
       "<div>\n",
       "<style>\n",
       "    .dataframe thead tr:only-child th {\n",
       "        text-align: right;\n",
       "    }\n",
       "\n",
       "    .dataframe thead th {\n",
       "        text-align: left;\n",
       "    }\n",
       "\n",
       "    .dataframe tbody tr th {\n",
       "        vertical-align: top;\n",
       "    }\n",
       "</style>\n",
       "<table border=\"1\" class=\"dataframe\">\n",
       "  <thead>\n",
       "    <tr style=\"text-align: right;\">\n",
       "      <th></th>\n",
       "      <th>distance_of_shot</th>\n",
       "      <th>distance_of_shot_1</th>\n",
       "      <th>distance_of_shot_avg</th>\n",
       "    </tr>\n",
       "  </thead>\n",
       "  <tbody>\n",
       "    <tr>\n",
       "      <th>0</th>\n",
       "      <td>38.0</td>\n",
       "      <td>38.0</td>\n",
       "      <td>38.0</td>\n",
       "    </tr>\n",
       "    <tr>\n",
       "      <th>1</th>\n",
       "      <td>35.0</td>\n",
       "      <td>35.0</td>\n",
       "      <td>35.0</td>\n",
       "    </tr>\n",
       "    <tr>\n",
       "      <th>2</th>\n",
       "      <td>36.0</td>\n",
       "      <td>54.4</td>\n",
       "      <td>45.2</td>\n",
       "    </tr>\n",
       "    <tr>\n",
       "      <th>3</th>\n",
       "      <td>42.0</td>\n",
       "      <td>42.0</td>\n",
       "      <td>42.0</td>\n",
       "    </tr>\n",
       "    <tr>\n",
       "      <th>4</th>\n",
       "      <td>20.0</td>\n",
       "      <td>20.0</td>\n",
       "      <td>20.0</td>\n",
       "    </tr>\n",
       "  </tbody>\n",
       "</table>\n",
       "</div>"
      ],
      "text/plain": [
       "   distance_of_shot  distance_of_shot_1  distance_of_shot_avg\n",
       "0              38.0                38.0                  38.0\n",
       "1              35.0                35.0                  35.0\n",
       "2              36.0                54.4                  45.2\n",
       "3              42.0                42.0                  42.0\n",
       "4              20.0                20.0                  20.0"
      ]
     },
     "execution_count": 9,
     "metadata": {},
     "output_type": "execute_result"
    }
   ],
   "source": [
    "#filling na values and finding average of the 2 cols\n",
    "d2.distance_of_shot.fillna(d2.distance_of_shot_1, inplace=True)\n",
    "d2.distance_of_shot_1.fillna(d2.distance_of_shot, inplace=True)\n",
    "d2['distance_of_shot_avg']=d2.mean(axis=1)\n",
    "d2.head()"
   ]
  },
  {
   "cell_type": "code",
   "execution_count": 10,
   "metadata": {},
   "outputs": [
    {
     "data": {
      "text/html": [
       "<div>\n",
       "<style>\n",
       "    .dataframe thead tr:only-child th {\n",
       "        text-align: right;\n",
       "    }\n",
       "\n",
       "    .dataframe thead th {\n",
       "        text-align: left;\n",
       "    }\n",
       "\n",
       "    .dataframe tbody tr th {\n",
       "        vertical-align: top;\n",
       "    }\n",
       "</style>\n",
       "<table border=\"1\" class=\"dataframe\">\n",
       "  <thead>\n",
       "    <tr style=\"text-align: right;\">\n",
       "      <th></th>\n",
       "      <th>shot_id_number</th>\n",
       "      <th>match_event_id</th>\n",
       "      <th>location_x</th>\n",
       "      <th>location_y</th>\n",
       "      <th>remaining_min</th>\n",
       "      <th>power_of_shot</th>\n",
       "      <th>knockout_match</th>\n",
       "      <th>game_season</th>\n",
       "      <th>is_goal</th>\n",
       "      <th>area_of_shot</th>\n",
       "      <th>...</th>\n",
       "      <th>lat/lng</th>\n",
       "      <th>type_of_shot</th>\n",
       "      <th>type_of_combined_shot</th>\n",
       "      <th>match_id</th>\n",
       "      <th>remaining_min.1</th>\n",
       "      <th>power_of_shot.1</th>\n",
       "      <th>knockout_match.1</th>\n",
       "      <th>distance_of_shot</th>\n",
       "      <th>distance_of_shot_1</th>\n",
       "      <th>distance_of_shot_avg</th>\n",
       "    </tr>\n",
       "  </thead>\n",
       "  <tbody>\n",
       "    <tr>\n",
       "      <th>7838</th>\n",
       "      <td>7839</td>\n",
       "      <td>384.0</td>\n",
       "      <td>98.0</td>\n",
       "      <td>171.0</td>\n",
       "      <td>NaN</td>\n",
       "      <td>4.0</td>\n",
       "      <td>0.0</td>\n",
       "      <td>NaN</td>\n",
       "      <td>NaN</td>\n",
       "      <td>Right Side Center(RC)</td>\n",
       "      <td>...</td>\n",
       "      <td>42.982923, -71.446094</td>\n",
       "      <td>NaN</td>\n",
       "      <td>shot - 3</td>\n",
       "      <td>20500168</td>\n",
       "      <td>10.0</td>\n",
       "      <td>100.36</td>\n",
       "      <td>108.608</td>\n",
       "      <td>39.0</td>\n",
       "      <td>39.0</td>\n",
       "      <td>39.0</td>\n",
       "    </tr>\n",
       "    <tr>\n",
       "      <th>22542</th>\n",
       "      <td>22543</td>\n",
       "      <td>48.0</td>\n",
       "      <td>4.0</td>\n",
       "      <td>144.0</td>\n",
       "      <td>7.0</td>\n",
       "      <td>1.0</td>\n",
       "      <td>0.0</td>\n",
       "      <td>2015-16</td>\n",
       "      <td>NaN</td>\n",
       "      <td>Center(C)</td>\n",
       "      <td>...</td>\n",
       "      <td>42.982923, -71.446094</td>\n",
       "      <td>shot - 17</td>\n",
       "      <td>NaN</td>\n",
       "      <td>21500818</td>\n",
       "      <td>7.0</td>\n",
       "      <td>1.00</td>\n",
       "      <td>0.000</td>\n",
       "      <td>34.0</td>\n",
       "      <td>34.0</td>\n",
       "      <td>34.0</td>\n",
       "    </tr>\n",
       "  </tbody>\n",
       "</table>\n",
       "<p>2 rows × 24 columns</p>\n",
       "</div>"
      ],
      "text/plain": [
       "       shot_id_number  match_event_id  location_x  location_y  remaining_min  \\\n",
       "7838             7839           384.0        98.0       171.0            NaN   \n",
       "22542           22543            48.0         4.0       144.0            7.0   \n",
       "\n",
       "       power_of_shot  knockout_match game_season  is_goal  \\\n",
       "7838             4.0             0.0         NaN      NaN   \n",
       "22542            1.0             0.0     2015-16      NaN   \n",
       "\n",
       "                area_of_shot          ...                         lat/lng  \\\n",
       "7838   Right Side Center(RC)          ...           42.982923, -71.446094   \n",
       "22542              Center(C)          ...           42.982923, -71.446094   \n",
       "\n",
       "      type_of_shot type_of_combined_shot  match_id remaining_min.1  \\\n",
       "7838           NaN              shot - 3  20500168            10.0   \n",
       "22542    shot - 17                   NaN  21500818             7.0   \n",
       "\n",
       "      power_of_shot.1 knockout_match.1  distance_of_shot  distance_of_shot_1  \\\n",
       "7838           100.36          108.608              39.0                39.0   \n",
       "22542            1.00            0.000              34.0                34.0   \n",
       "\n",
       "       distance_of_shot_avg  \n",
       "7838                   39.0  \n",
       "22542                  34.0  \n",
       "\n",
       "[2 rows x 24 columns]"
      ]
     },
     "execution_count": 10,
     "metadata": {},
     "output_type": "execute_result"
    }
   ],
   "source": [
    "#concatinating d1 and d2 \n",
    "d1 = d1.drop(['distance_of_shot','distance_of_shot.1'],axis=1)\n",
    "d3 = pd.concat([d1, d2], axis=1)\n",
    "d3.sample(2)"
   ]
  },
  {
   "cell_type": "code",
   "execution_count": 11,
   "metadata": {},
   "outputs": [
    {
     "data": {
      "text/plain": [
       "97"
      ]
     },
     "execution_count": 11,
     "metadata": {},
     "output_type": "execute_result"
    }
   ],
   "source": [
    "#filling in the na values in distance of shot avg with the help of range of shot \n",
    "n1 = d3['distance_of_shot_avg'].isnull()\n",
    "n1[n1==True].count()"
   ]
  },
  {
   "cell_type": "code",
   "execution_count": 12,
   "metadata": {},
   "outputs": [
    {
     "data": {
      "text/plain": [
       "range_of_shot\n",
       "16-24 ft.          40.742291\n",
       "24+ ft.            46.707029\n",
       "8-16 ft.           34.827985\n",
       "Back Court Shot    72.619210\n",
       "Less Than 8 ft.    25.586323\n",
       "Name: distance_of_shot_avg, dtype: float64"
      ]
     },
     "execution_count": 12,
     "metadata": {},
     "output_type": "execute_result"
    }
   ],
   "source": [
    "r = d3.groupby('range_of_shot')['distance_of_shot_avg'].agg('mean')\n",
    "r"
   ]
  },
  {
   "cell_type": "code",
   "execution_count": 13,
   "metadata": {
    "collapsed": true
   },
   "outputs": [],
   "source": [
    "d3.distance_of_shot_avg.fillna(d3.range_of_shot, inplace=True)"
   ]
  },
  {
   "cell_type": "code",
   "execution_count": 14,
   "metadata": {
    "collapsed": true
   },
   "outputs": [],
   "source": [
    "for i in d3.index:\n",
    "  val = d3.get_value(i,'distance_of_shot_avg')\n",
    "  if(val=='Less Than 8 ft.'):\n",
    "    d3.set_value(i,'distance_of_shot_avg',25.5863)\n",
    "  elif(val=='16-24 ft.'):\n",
    "    d3.set_value(i,'distance_of_shot_avg',40.74)\n",
    "  elif(val=='24+ ft.'):\n",
    "    d3.set_value(i,'distance_of_shot_avg',46.707029)\n",
    "  elif(val=='8-16 ft.'):\n",
    "    d3.set_value(i,'distance_of_shot_avg',34.8279)\n",
    "  elif(val=='Back Court Shot'):\n",
    "    d3.set_value(i,'distance_of_shot_avg',72.619)"
   ]
  },
  {
   "cell_type": "code",
   "execution_count": 15,
   "metadata": {},
   "outputs": [
    {
     "data": {
      "text/plain": [
       "Index(['shot_id_number', 'match_event_id', 'location_x', 'location_y',\n",
       "       'remaining_min', 'power_of_shot', 'knockout_match', 'game_season',\n",
       "       'is_goal', 'area_of_shot', 'shot_basics', 'range_of_shot',\n",
       "       'date_of_game', 'home/away', 'lat/lng', 'type_of_shot',\n",
       "       'type_of_combined_shot', 'match_id', 'remaining_min.1',\n",
       "       'power_of_shot.1', 'knockout_match.1', 'distance_of_shot',\n",
       "       'distance_of_shot_1', 'distance_of_shot_avg'],\n",
       "      dtype='object')"
      ]
     },
     "execution_count": 15,
     "metadata": {},
     "output_type": "execute_result"
    }
   ],
   "source": [
    "d3.columns"
   ]
  },
  {
   "cell_type": "code",
   "execution_count": 16,
   "metadata": {
    "collapsed": true
   },
   "outputs": [],
   "source": [
    "d3['distance_of_shot_avg'].fillna(36, inplace=True)"
   ]
  },
  {
   "cell_type": "markdown",
   "metadata": {},
   "source": [
    "Remaining_min Analysis"
   ]
  },
  {
   "cell_type": "code",
   "execution_count": 17,
   "metadata": {},
   "outputs": [
    {
     "data": {
      "text/html": [
       "<div>\n",
       "<style>\n",
       "    .dataframe thead tr:only-child th {\n",
       "        text-align: right;\n",
       "    }\n",
       "\n",
       "    .dataframe thead th {\n",
       "        text-align: left;\n",
       "    }\n",
       "\n",
       "    .dataframe tbody tr th {\n",
       "        vertical-align: top;\n",
       "    }\n",
       "</style>\n",
       "<table border=\"1\" class=\"dataframe\">\n",
       "  <thead>\n",
       "    <tr style=\"text-align: right;\">\n",
       "      <th></th>\n",
       "      <th>remaining_min</th>\n",
       "      <th>remaining_min_1</th>\n",
       "    </tr>\n",
       "  </thead>\n",
       "  <tbody>\n",
       "    <tr>\n",
       "      <th>0</th>\n",
       "      <td>10.0</td>\n",
       "      <td>10.00</td>\n",
       "    </tr>\n",
       "    <tr>\n",
       "      <th>1</th>\n",
       "      <td>10.0</td>\n",
       "      <td>10.00</td>\n",
       "    </tr>\n",
       "    <tr>\n",
       "      <th>2</th>\n",
       "      <td>7.0</td>\n",
       "      <td>92.64</td>\n",
       "    </tr>\n",
       "    <tr>\n",
       "      <th>3</th>\n",
       "      <td>6.0</td>\n",
       "      <td>NaN</td>\n",
       "    </tr>\n",
       "    <tr>\n",
       "      <th>4</th>\n",
       "      <td>NaN</td>\n",
       "      <td>42.64</td>\n",
       "    </tr>\n",
       "  </tbody>\n",
       "</table>\n",
       "</div>"
      ],
      "text/plain": [
       "   remaining_min  remaining_min_1\n",
       "0           10.0            10.00\n",
       "1           10.0            10.00\n",
       "2            7.0            92.64\n",
       "3            6.0              NaN\n",
       "4            NaN            42.64"
      ]
     },
     "execution_count": 17,
     "metadata": {},
     "output_type": "execute_result"
    }
   ],
   "source": [
    "#to see whether the values are same or not \n",
    "d4 = d1[['remaining_min','remaining_min.1']]\n",
    "d4 = d4.rename(columns={'remaining_min.1':'remaining_min_1'})\n",
    "d4.head()"
   ]
  },
  {
   "cell_type": "code",
   "execution_count": 18,
   "metadata": {},
   "outputs": [
    {
     "data": {
      "text/html": [
       "<div>\n",
       "<style>\n",
       "    .dataframe thead tr:only-child th {\n",
       "        text-align: right;\n",
       "    }\n",
       "\n",
       "    .dataframe thead th {\n",
       "        text-align: left;\n",
       "    }\n",
       "\n",
       "    .dataframe tbody tr th {\n",
       "        vertical-align: top;\n",
       "    }\n",
       "</style>\n",
       "<table border=\"1\" class=\"dataframe\">\n",
       "  <thead>\n",
       "    <tr style=\"text-align: right;\">\n",
       "      <th></th>\n",
       "      <th>remaining_min</th>\n",
       "      <th>remaining_min_1</th>\n",
       "    </tr>\n",
       "  </thead>\n",
       "  <tbody>\n",
       "    <tr>\n",
       "      <th>count</th>\n",
       "      <td>29135.000000</td>\n",
       "      <td>29162.000000</td>\n",
       "    </tr>\n",
       "    <tr>\n",
       "      <th>mean</th>\n",
       "      <td>4.883233</td>\n",
       "      <td>18.204615</td>\n",
       "    </tr>\n",
       "    <tr>\n",
       "      <th>std</th>\n",
       "      <td>3.452533</td>\n",
       "      <td>29.416973</td>\n",
       "    </tr>\n",
       "    <tr>\n",
       "      <th>min</th>\n",
       "      <td>0.000000</td>\n",
       "      <td>0.000000</td>\n",
       "    </tr>\n",
       "    <tr>\n",
       "      <th>25%</th>\n",
       "      <td>2.000000</td>\n",
       "      <td>3.000000</td>\n",
       "    </tr>\n",
       "    <tr>\n",
       "      <th>50%</th>\n",
       "      <td>5.000000</td>\n",
       "      <td>6.000000</td>\n",
       "    </tr>\n",
       "    <tr>\n",
       "      <th>75%</th>\n",
       "      <td>8.000000</td>\n",
       "      <td>11.000000</td>\n",
       "    </tr>\n",
       "    <tr>\n",
       "      <th>max</th>\n",
       "      <td>11.000000</td>\n",
       "      <td>128.761600</td>\n",
       "    </tr>\n",
       "  </tbody>\n",
       "</table>\n",
       "</div>"
      ],
      "text/plain": [
       "       remaining_min  remaining_min_1\n",
       "count   29135.000000     29162.000000\n",
       "mean        4.883233        18.204615\n",
       "std         3.452533        29.416973\n",
       "min         0.000000         0.000000\n",
       "25%         2.000000         3.000000\n",
       "50%         5.000000         6.000000\n",
       "75%         8.000000        11.000000\n",
       "max        11.000000       128.761600"
      ]
     },
     "execution_count": 18,
     "metadata": {},
     "output_type": "execute_result"
    }
   ],
   "source": [
    "d4.describe()"
   ]
  },
  {
   "cell_type": "code",
   "execution_count": 19,
   "metadata": {
    "collapsed": true
   },
   "outputs": [],
   "source": [
    "#filling na values in remaining_min_1 with remaining_min \n",
    "d4.remaining_min_1.fillna(d4.remaining_min, inplace=True)\n",
    "d4= d4.drop('remaining_min',axis=1)"
   ]
  },
  {
   "cell_type": "code",
   "execution_count": 20,
   "metadata": {},
   "outputs": [
    {
     "data": {
      "text/plain": [
       "Index(['shot_id_number', 'match_event_id', 'location_x', 'location_y',\n",
       "       'power_of_shot', 'knockout_match', 'game_season', 'is_goal',\n",
       "       'area_of_shot', 'shot_basics', 'range_of_shot', 'date_of_game',\n",
       "       'home/away', 'lat/lng', 'type_of_shot', 'type_of_combined_shot',\n",
       "       'match_id', 'power_of_shot.1', 'knockout_match.1', 'distance_of_shot',\n",
       "       'distance_of_shot_1', 'distance_of_shot_avg', 'remaining_min_1'],\n",
       "      dtype='object')"
      ]
     },
     "execution_count": 20,
     "metadata": {},
     "output_type": "execute_result"
    }
   ],
   "source": [
    "#concatinating these the average now d5 is latest \n",
    "d5 = pd.concat([d3, d4], axis=1)\n",
    "d5 = d5.drop(['remaining_min','remaining_min.1'],axis=1)\n",
    "d5.columns"
   ]
  },
  {
   "cell_type": "code",
   "execution_count": 21,
   "metadata": {},
   "outputs": [
    {
     "data": {
      "text/plain": [
       "count    30616.000000\n",
       "mean        17.575091\n",
       "std         28.857798\n",
       "min          0.000000\n",
       "25%          3.000000\n",
       "50%          6.000000\n",
       "75%         10.000000\n",
       "max        128.761600\n",
       "Name: remaining_min_1, dtype: float64"
      ]
     },
     "execution_count": 21,
     "metadata": {},
     "output_type": "execute_result"
    }
   ],
   "source": [
    "d5['remaining_min_1'].describe()"
   ]
  },
  {
   "cell_type": "code",
   "execution_count": 22,
   "metadata": {
    "collapsed": true
   },
   "outputs": [],
   "source": [
    "d5['remaining_min_1'].fillna(17,inplace=True)"
   ]
  },
  {
   "cell_type": "markdown",
   "metadata": {},
   "source": [
    "knockout match Analysis"
   ]
  },
  {
   "cell_type": "code",
   "execution_count": 23,
   "metadata": {
    "collapsed": true
   },
   "outputs": [],
   "source": [
    "#selecting the appropriate column for knockout match \n",
    "d5 = d5.rename(columns={'knockout_match.1':'knockout_match_1'})\n",
    "d5.knockout_match.fillna(d5.knockout_match_1, inplace=True)\n",
    "d5 = d5.drop('knockout_match_1',axis=1)"
   ]
  },
  {
   "cell_type": "code",
   "execution_count": 24,
   "metadata": {
    "collapsed": true
   },
   "outputs": [],
   "source": [
    "d5['knockout_match'].fillna(\"U\", inplace = True)"
   ]
  },
  {
   "cell_type": "code",
   "execution_count": 25,
   "metadata": {
    "collapsed": true
   },
   "outputs": [],
   "source": [
    "d5['knockout_match'] = d5['knockout_match'].replace(to_replace ='U', value = '0.0', regex = True) \n",
    "d5['knockout_match'] = pd.to_numeric(d5['knockout_match'])\n",
    "\n",
    "for i in d5.index:\n",
    "  val = d5.get_value(i,'knockout_match')\n",
    "  if(val>1.0):\n",
    "    d5.set_value(i,'knockout_match',1.0)"
   ]
  },
  {
   "cell_type": "code",
   "execution_count": 26,
   "metadata": {},
   "outputs": [
    {
     "data": {
      "text/plain": [
       "array([0., 1.])"
      ]
     },
     "execution_count": 26,
     "metadata": {},
     "output_type": "execute_result"
    }
   ],
   "source": [
    "d5['knockout_match'].unique()"
   ]
  },
  {
   "cell_type": "markdown",
   "metadata": {},
   "source": [
    "power of shot Analysis"
   ]
  },
  {
   "cell_type": "code",
   "execution_count": 27,
   "metadata": {
    "collapsed": true
   },
   "outputs": [],
   "source": [
    "#power of shot has 1 to 7 makes more sense\n",
    "d5 = d5.rename(columns={'power_of_shot.1':'power_of_shot_1'})\n",
    "d5.power_of_shot.fillna(d5.power_of_shot_1, inplace=True)\n",
    "d5 = d5.drop('power_of_shot_1',axis=1)"
   ]
  },
  {
   "cell_type": "code",
   "execution_count": 28,
   "metadata": {},
   "outputs": [
    {
     "data": {
      "text/plain": [
       "count    30627.000000\n",
       "mean         3.108937\n",
       "std          6.761758\n",
       "min          1.000000\n",
       "25%          1.000000\n",
       "50%          3.000000\n",
       "75%          4.000000\n",
       "max        118.360000\n",
       "Name: power_of_shot, dtype: float64"
      ]
     },
     "execution_count": 28,
     "metadata": {},
     "output_type": "execute_result"
    }
   ],
   "source": [
    "d5['power_of_shot'].describe()"
   ]
  },
  {
   "cell_type": "code",
   "execution_count": 29,
   "metadata": {
    "collapsed": true
   },
   "outputs": [],
   "source": [
    "d5.loc[d5['power_of_shot'] > 7, 'power_of_shot'] = np.nan"
   ]
  },
  {
   "cell_type": "code",
   "execution_count": 30,
   "metadata": {},
   "outputs": [
    {
     "data": {
      "text/plain": [
       "array([ 1.,  2.,  3.,  4., nan,  5.,  6.,  7.])"
      ]
     },
     "execution_count": 30,
     "metadata": {},
     "output_type": "execute_result"
    }
   ],
   "source": [
    "d5['power_of_shot'].unique()"
   ]
  },
  {
   "cell_type": "code",
   "execution_count": 31,
   "metadata": {},
   "outputs": [
    {
     "data": {
      "text/plain": [
       "0    3.0\n",
       "dtype: float64"
      ]
     },
     "execution_count": 31,
     "metadata": {},
     "output_type": "execute_result"
    }
   ],
   "source": [
    "d5['power_of_shot'].mode()"
   ]
  },
  {
   "cell_type": "code",
   "execution_count": 32,
   "metadata": {},
   "outputs": [
    {
     "data": {
      "text/plain": [
       "array([1., 2., 3., 4., 5., 6., 7.])"
      ]
     },
     "execution_count": 32,
     "metadata": {},
     "output_type": "execute_result"
    }
   ],
   "source": [
    "d5['power_of_shot'].fillna(3, inplace = True)\n",
    "d5['power_of_shot'].unique()"
   ]
  },
  {
   "cell_type": "markdown",
   "metadata": {},
   "source": [
    "shot basics and area of shot Analysis"
   ]
  },
  {
   "cell_type": "code",
   "execution_count": 33,
   "metadata": {},
   "outputs": [
    {
     "data": {
      "text/plain": [
       "1502"
      ]
     },
     "execution_count": 33,
     "metadata": {},
     "output_type": "execute_result"
    }
   ],
   "source": [
    "n2=d5['area_of_shot'].isnull()\n",
    "n2[n2==True].count()"
   ]
  },
  {
   "cell_type": "code",
   "execution_count": 34,
   "metadata": {
    "collapsed": true
   },
   "outputs": [],
   "source": [
    "#because the value of na is large shouldn't be replaced by mode\n",
    "d5['area_of_shot'].fillna(\"U\", inplace = True)\n",
    "d5['shot_basics'].fillna(\"U\", inplace = True)"
   ]
  },
  {
   "cell_type": "code",
   "execution_count": 35,
   "metadata": {},
   "outputs": [
    {
     "data": {
      "text/plain": [
       "(30697, 34)"
      ]
     },
     "execution_count": 35,
     "metadata": {},
     "output_type": "execute_result"
    }
   ],
   "source": [
    "d5 = pd.get_dummies(d5,prefix_sep=\"_\",columns=[\"area_of_shot\",\"shot_basics\"])\n",
    "d5.shape"
   ]
  },
  {
   "cell_type": "code",
   "execution_count": 36,
   "metadata": {},
   "outputs": [
    {
     "data": {
      "text/plain": [
       "shot_id_number                          int64\n",
       "match_event_id                        float64\n",
       "location_x                            float64\n",
       "location_y                            float64\n",
       "power_of_shot                         float64\n",
       "knockout_match                        float64\n",
       "game_season                            object\n",
       "is_goal                               float64\n",
       "range_of_shot                          object\n",
       "date_of_game                           object\n",
       "home/away                              object\n",
       "lat/lng                                object\n",
       "type_of_shot                           object\n",
       "type_of_combined_shot                  object\n",
       "match_id                                int64\n",
       "distance_of_shot                      float64\n",
       "distance_of_shot_1                    float64\n",
       "distance_of_shot_avg                  float64\n",
       "remaining_min_1                       float64\n",
       "area_of_shot_Center(C)                  uint8\n",
       "area_of_shot_Left Side Center(LC)       uint8\n",
       "area_of_shot_Left Side(L)               uint8\n",
       "area_of_shot_Mid Ground(MG)             uint8\n",
       "area_of_shot_Right Side Center(RC)      uint8\n",
       "area_of_shot_Right Side(R)              uint8\n",
       "area_of_shot_U                          uint8\n",
       "shot_basics_Goal Area                   uint8\n",
       "shot_basics_Goal Line                   uint8\n",
       "shot_basics_Left Corner                 uint8\n",
       "shot_basics_Mid Ground Line             uint8\n",
       "shot_basics_Mid Range                   uint8\n",
       "shot_basics_Penalty Spot                uint8\n",
       "shot_basics_Right Corner                uint8\n",
       "shot_basics_U                           uint8\n",
       "dtype: object"
      ]
     },
     "execution_count": 36,
     "metadata": {},
     "output_type": "execute_result"
    }
   ],
   "source": [
    "d5.dtypes"
   ]
  },
  {
   "cell_type": "markdown",
   "metadata": {},
   "source": [
    "game_season Analysis"
   ]
  },
  {
   "cell_type": "code",
   "execution_count": 37,
   "metadata": {
    "collapsed": true
   },
   "outputs": [],
   "source": [
    "d5['game_season'].unique()\n",
    "d5['game_season'].fillna(method='ffill', inplace=True)"
   ]
  },
  {
   "cell_type": "markdown",
   "metadata": {},
   "source": [
    "type of shot Analysis"
   ]
  },
  {
   "cell_type": "code",
   "execution_count": 38,
   "metadata": {
    "collapsed": true
   },
   "outputs": [],
   "source": [
    "#filling 0 in place of na \n",
    "d5['type_of_combined_shot'].fillna(0, inplace=True)\n",
    "d5['type_of_shot'].fillna(0, inplace = True)"
   ]
  },
  {
   "cell_type": "code",
   "execution_count": 39,
   "metadata": {
    "collapsed": true
   },
   "outputs": [],
   "source": [
    "d5.to_csv('first.csv',index=False)"
   ]
  },
  {
   "cell_type": "markdown",
   "metadata": {},
   "source": [
    "location x and y Analysis"
   ]
  },
  {
   "cell_type": "code",
   "execution_count": 40,
   "metadata": {
    "collapsed": true
   },
   "outputs": [],
   "source": [
    "d5 = pd.read_csv('first.csv')\n",
    "d6 = d5.drop('location_x',axis=1)\n",
    "d6 = d6.drop('location_y',axis=1)"
   ]
  },
  {
   "cell_type": "markdown",
   "metadata": {},
   "source": [
    "home/away and lat/lng analysis"
   ]
  },
  {
   "cell_type": "code",
   "execution_count": 41,
   "metadata": {
    "collapsed": true
   },
   "outputs": [],
   "source": [
    "d6['home/away'] = d6.groupby(['match_id'])['home/away'].ffill()\n",
    "d6['home/away'] = d6.groupby(['match_id'])['home/away'].bfill()"
   ]
  },
  {
   "cell_type": "code",
   "execution_count": 42,
   "metadata": {
    "collapsed": true
   },
   "outputs": [],
   "source": [
    "d6['lat/lng'].fillna(d6['home/away'],inplace=True)\n",
    "d6['lat/lng'] = d6['lat/lng'].replace(to_replace ='@', value = 0 , regex = True) \n",
    "d6['lat/lng'] = d6['lat/lng'].replace(to_replace ='vs', value = 1 , regex = True) "
   ]
  },
  {
   "cell_type": "code",
   "execution_count": 43,
   "metadata": {},
   "outputs": [
    {
     "data": {
      "text/plain": [
       "array([0, 1], dtype=object)"
      ]
     },
     "execution_count": 43,
     "metadata": {},
     "output_type": "execute_result"
    }
   ],
   "source": [
    "d6.loc[(d6['lat/lng'] != '42.982923, -71.446094') & (d6['lat/lng'] != 1) &  (d6['lat/lng'].notnull()), 'lat/lng'] = 0\n",
    "d6.loc[d6['lat/lng'] == '42.982923, -71.446094','lat/lng'] = 1\n",
    "d6['lat/lng'].unique()"
   ]
  },
  {
   "cell_type": "code",
   "execution_count": 44,
   "metadata": {
    "collapsed": true
   },
   "outputs": [],
   "source": [
    "#to get name of opposition teams\n",
    "d6['home/away']=d6['home/away'].astype(\"str\").apply(lambda x: x.lstrip(\"MANU\"))\n",
    "d6['home/away']=d6['home/away'].astype(\"str\").apply(lambda x: x.lstrip(\"vs. \"))\n",
    "d6['home/away']=d6['home/away'].astype(\"str\").apply(lambda x: x.lstrip(\"@ \"))"
   ]
  },
  {
   "cell_type": "code",
   "execution_count": 45,
   "metadata": {
    "collapsed": true
   },
   "outputs": [],
   "source": [
    "d6 = d6.drop(['range_of_shot','distance_of_shot','distance_of_shot_1'], axis=1)\n",
    "d6 = d6.drop(['match_event_id','date_of_game'],axis=1)"
   ]
  },
  {
   "cell_type": "code",
   "execution_count": 46,
   "metadata": {
    "collapsed": true
   },
   "outputs": [],
   "source": [
    "#d7 = d6['is_goal']"
   ]
  },
  {
   "cell_type": "code",
   "execution_count": 47,
   "metadata": {},
   "outputs": [
    {
     "data": {
      "text/plain": [
       "shot_id_number                           0\n",
       "power_of_shot                            0\n",
       "knockout_match                           0\n",
       "game_season                              0\n",
       "is_goal                               6268\n",
       "home/away                                0\n",
       "lat/lng                                  0\n",
       "type_of_shot                             0\n",
       "type_of_combined_shot                    0\n",
       "match_id                                 0\n",
       "distance_of_shot_avg                     0\n",
       "remaining_min_1                          0\n",
       "area_of_shot_Center(C)                   0\n",
       "area_of_shot_Left Side Center(LC)        0\n",
       "area_of_shot_Left Side(L)                0\n",
       "area_of_shot_Mid Ground(MG)              0\n",
       "area_of_shot_Right Side Center(RC)       0\n",
       "area_of_shot_Right Side(R)               0\n",
       "area_of_shot_U                           0\n",
       "shot_basics_Goal Area                    0\n",
       "shot_basics_Goal Line                    0\n",
       "shot_basics_Left Corner                  0\n",
       "shot_basics_Mid Ground Line              0\n",
       "shot_basics_Mid Range                    0\n",
       "shot_basics_Penalty Spot                 0\n",
       "shot_basics_Right Corner                 0\n",
       "shot_basics_U                            0\n",
       "dtype: int64"
      ]
     },
     "execution_count": 47,
     "metadata": {},
     "output_type": "execute_result"
    }
   ],
   "source": [
    "#to check if we got rid of all na values\n",
    "c= d6.isnull()\n",
    "c[c==True].count()"
   ]
  },
  {
   "cell_type": "code",
   "execution_count": 48,
   "metadata": {
    "collapsed": true
   },
   "outputs": [],
   "source": [
    "d6['is_goal'].fillna(5, inplace=True)\n",
    "d6['is_goal'] = pd.to_numeric(d6['is_goal'])"
   ]
  },
  {
   "cell_type": "code",
   "execution_count": 49,
   "metadata": {
    "collapsed": true
   },
   "outputs": [],
   "source": [
    "d6.to_csv('second.csv',index=False)"
   ]
  },
  {
   "cell_type": "markdown",
   "metadata": {},
   "source": [
    "handling categorical data"
   ]
  },
  {
   "cell_type": "code",
   "execution_count": 50,
   "metadata": {
    "collapsed": true
   },
   "outputs": [],
   "source": [
    "f1 = pd.read_csv('second.csv')"
   ]
  },
  {
   "cell_type": "code",
   "execution_count": 51,
   "metadata": {},
   "outputs": [
    {
     "data": {
      "text/plain": [
       "(30697, 27)"
      ]
     },
     "execution_count": 51,
     "metadata": {},
     "output_type": "execute_result"
    }
   ],
   "source": [
    "f1.shape"
   ]
  },
  {
   "cell_type": "code",
   "execution_count": 52,
   "metadata": {
    "collapsed": true
   },
   "outputs": [],
   "source": [
    "f2 = f1.groupby(['home/away'])['is_goal'].agg('sum').reset_index().sort_values(by='is_goal',ascending=False)\n",
    "f2 = pd.DataFrame(f2)\n",
    "#f2.head()"
   ]
  },
  {
   "cell_type": "code",
   "execution_count": 53,
   "metadata": {
    "collapsed": true
   },
   "outputs": [],
   "source": [
    "f3 = f1.groupby(['match_id'])['is_goal'].agg('sum').reset_index().sort_values(by='is_goal',ascending=False)\n",
    "f3 = pd.DataFrame(f3)\n",
    "#f3.head()"
   ]
  },
  {
   "cell_type": "code",
   "execution_count": 54,
   "metadata": {
    "collapsed": true
   },
   "outputs": [],
   "source": [
    "#f4 = f1.groupby(['area_of_shot'])['is_goal'].agg('sum').reset_index().sort_values(by='is_goal',ascending=False)\n",
    "#f4 = pd.DataFrame(f4)\n",
    "#f4"
   ]
  },
  {
   "cell_type": "code",
   "execution_count": 55,
   "metadata": {
    "collapsed": true
   },
   "outputs": [],
   "source": [
    "#f5 = f1.groupby(['shot_basics'])['is_goal'].agg('sum').reset_index().sort_values(by='is_goal',ascending=False)\n",
    "#f5 = pd.DataFrame(f5)\n",
    "#f5"
   ]
  },
  {
   "cell_type": "code",
   "execution_count": 56,
   "metadata": {
    "collapsed": true
   },
   "outputs": [],
   "source": [
    "f6 = f1.groupby(['game_season'])['is_goal'].agg('sum').reset_index().sort_values(by='is_goal',ascending=False)\n",
    "f6 = pd.DataFrame(f6)\n",
    "#f6.head()"
   ]
  },
  {
   "cell_type": "code",
   "execution_count": 57,
   "metadata": {},
   "outputs": [
    {
     "data": {
      "text/html": [
       "<div>\n",
       "<style>\n",
       "    .dataframe thead tr:only-child th {\n",
       "        text-align: right;\n",
       "    }\n",
       "\n",
       "    .dataframe thead th {\n",
       "        text-align: left;\n",
       "    }\n",
       "\n",
       "    .dataframe tbody tr th {\n",
       "        vertical-align: top;\n",
       "    }\n",
       "</style>\n",
       "<table border=\"1\" class=\"dataframe\">\n",
       "  <thead>\n",
       "    <tr style=\"text-align: right;\">\n",
       "      <th></th>\n",
       "      <th>type_of_shot</th>\n",
       "      <th>is_goal</th>\n",
       "    </tr>\n",
       "  </thead>\n",
       "  <tbody>\n",
       "    <tr>\n",
       "      <th>0</th>\n",
       "      <td>0</td>\n",
       "      <td>21133.0</td>\n",
       "    </tr>\n",
       "    <tr>\n",
       "      <th>34</th>\n",
       "      <td>shot - 39</td>\n",
       "      <td>1932.0</td>\n",
       "    </tr>\n",
       "    <tr>\n",
       "      <th>35</th>\n",
       "      <td>shot - 4</td>\n",
       "      <td>1874.0</td>\n",
       "    </tr>\n",
       "    <tr>\n",
       "      <th>31</th>\n",
       "      <td>shot - 36</td>\n",
       "      <td>1576.0</td>\n",
       "    </tr>\n",
       "    <tr>\n",
       "      <th>33</th>\n",
       "      <td>shot - 38</td>\n",
       "      <td>1043.0</td>\n",
       "    </tr>\n",
       "  </tbody>\n",
       "</table>\n",
       "</div>"
      ],
      "text/plain": [
       "   type_of_shot  is_goal\n",
       "0             0  21133.0\n",
       "34    shot - 39   1932.0\n",
       "35     shot - 4   1874.0\n",
       "31    shot - 36   1576.0\n",
       "33    shot - 38   1043.0"
      ]
     },
     "execution_count": 57,
     "metadata": {},
     "output_type": "execute_result"
    }
   ],
   "source": [
    "f7 = f1.groupby(['type_of_shot'])['is_goal'].agg('sum').reset_index().sort_values(by='is_goal',ascending=False)\n",
    "f7 = pd.DataFrame(f7)\n",
    "f7.head()"
   ]
  },
  {
   "cell_type": "code",
   "execution_count": 58,
   "metadata": {},
   "outputs": [
    {
     "data": {
      "text/html": [
       "<div>\n",
       "<style>\n",
       "    .dataframe thead tr:only-child th {\n",
       "        text-align: right;\n",
       "    }\n",
       "\n",
       "    .dataframe thead th {\n",
       "        text-align: left;\n",
       "    }\n",
       "\n",
       "    .dataframe tbody tr th {\n",
       "        vertical-align: top;\n",
       "    }\n",
       "</style>\n",
       "<table border=\"1\" class=\"dataframe\">\n",
       "  <thead>\n",
       "    <tr style=\"text-align: right;\">\n",
       "      <th></th>\n",
       "      <th>type_of_combined_shot</th>\n",
       "      <th>is_goal</th>\n",
       "    </tr>\n",
       "  </thead>\n",
       "  <tbody>\n",
       "    <tr>\n",
       "      <th>0</th>\n",
       "      <td>0</td>\n",
       "      <td>21086.0</td>\n",
       "    </tr>\n",
       "    <tr>\n",
       "      <th>4</th>\n",
       "      <td>shot - 3</td>\n",
       "      <td>15399.0</td>\n",
       "    </tr>\n",
       "    <tr>\n",
       "      <th>5</th>\n",
       "      <td>shot - 4</td>\n",
       "      <td>4241.0</td>\n",
       "    </tr>\n",
       "    <tr>\n",
       "      <th>2</th>\n",
       "      <td>shot - 1</td>\n",
       "      <td>1131.0</td>\n",
       "    </tr>\n",
       "    <tr>\n",
       "      <th>1</th>\n",
       "      <td>shot - 0</td>\n",
       "      <td>130.0</td>\n",
       "    </tr>\n",
       "  </tbody>\n",
       "</table>\n",
       "</div>"
      ],
      "text/plain": [
       "  type_of_combined_shot  is_goal\n",
       "0                     0  21086.0\n",
       "4              shot - 3  15399.0\n",
       "5              shot - 4   4241.0\n",
       "2              shot - 1   1131.0\n",
       "1              shot - 0    130.0"
      ]
     },
     "execution_count": 58,
     "metadata": {},
     "output_type": "execute_result"
    }
   ],
   "source": [
    "f8 = f1.groupby(['type_of_combined_shot'])['is_goal'].agg('sum').reset_index().sort_values(by='is_goal',ascending=False)\n",
    "f8 = pd.DataFrame(f8)\n",
    "f8.head()"
   ]
  },
  {
   "cell_type": "markdown",
   "metadata": {},
   "source": [
    "replacing the string values with numeric values using merge"
   ]
  },
  {
   "cell_type": "code",
   "execution_count": 59,
   "metadata": {
    "collapsed": true
   },
   "outputs": [],
   "source": [
    "m1 = pd.merge(f1, f2, on ='home/away')\n",
    "m1 = m1.rename(columns={'is_goal_y':'home/away_n'})\n",
    "#m1.columns"
   ]
  },
  {
   "cell_type": "code",
   "execution_count": 60,
   "metadata": {
    "collapsed": true
   },
   "outputs": [],
   "source": [
    "m2 = pd.merge(m1, f3, on ='match_id')\n",
    "m2 = m2.rename(columns={'is_goal':'match_id_n'})\n",
    "#m2.columns"
   ]
  },
  {
   "cell_type": "code",
   "execution_count": 61,
   "metadata": {
    "collapsed": true
   },
   "outputs": [],
   "source": [
    "#m3 = pd.merge(m2, f4, on ='area_of_shot')\n",
    "#m3 = m3.rename(columns={'is_goal':'area_of_shot_n'})\n",
    "#m3.columns"
   ]
  },
  {
   "cell_type": "code",
   "execution_count": 62,
   "metadata": {
    "collapsed": true
   },
   "outputs": [],
   "source": [
    "#m4 = pd.merge(m3, f5, on ='shot_basics')\n",
    "#m4 = m4.rename(columns={'is_goal':'shot_basics_n'})\n",
    "#m4.columns"
   ]
  },
  {
   "cell_type": "code",
   "execution_count": 63,
   "metadata": {
    "collapsed": true
   },
   "outputs": [],
   "source": [
    "m5 = pd.merge(m2, f6, on ='game_season')\n",
    "m5 = m5.rename(columns={'is_goal':'game_season_n'})\n",
    "#m5.columns"
   ]
  },
  {
   "cell_type": "code",
   "execution_count": 64,
   "metadata": {
    "collapsed": true
   },
   "outputs": [],
   "source": [
    "m6 = pd.merge(m5, f7, on ='type_of_shot')\n",
    "m6 = m6.rename(columns={'is_goal':'type_of_shot_n'})\n",
    "#m6.columns"
   ]
  },
  {
   "cell_type": "code",
   "execution_count": 65,
   "metadata": {},
   "outputs": [
    {
     "data": {
      "text/plain": [
       "Index(['shot_id_number', 'power_of_shot', 'knockout_match', 'game_season',\n",
       "       'is_goal_x', 'home/away', 'lat/lng', 'type_of_shot',\n",
       "       'type_of_combined_shot', 'match_id', 'distance_of_shot_avg',\n",
       "       'remaining_min_1', 'area_of_shot_Center(C)',\n",
       "       'area_of_shot_Left Side Center(LC)', 'area_of_shot_Left Side(L)',\n",
       "       'area_of_shot_Mid Ground(MG)', 'area_of_shot_Right Side Center(RC)',\n",
       "       'area_of_shot_Right Side(R)', 'area_of_shot_U', 'shot_basics_Goal Area',\n",
       "       'shot_basics_Goal Line', 'shot_basics_Left Corner',\n",
       "       'shot_basics_Mid Ground Line', 'shot_basics_Mid Range',\n",
       "       'shot_basics_Penalty Spot', 'shot_basics_Right Corner', 'shot_basics_U',\n",
       "       'home/away_n', 'match_id_n', 'game_season_n', 'type_of_shot_n',\n",
       "       'type_of_combined_shot_n'],\n",
       "      dtype='object')"
      ]
     },
     "execution_count": 65,
     "metadata": {},
     "output_type": "execute_result"
    }
   ],
   "source": [
    "m7 = pd.merge(m6, f8, on ='type_of_combined_shot')\n",
    "m7 = m7.rename(columns={'is_goal':'type_of_combined_shot_n'})\n",
    "m7.columns"
   ]
  },
  {
   "cell_type": "code",
   "execution_count": 66,
   "metadata": {},
   "outputs": [
    {
     "data": {
      "text/plain": [
       "Index(['shot_id_number', 'power_of_shot', 'knockout_match', 'is_goal_x',\n",
       "       'lat/lng', 'distance_of_shot_avg', 'remaining_min_1',\n",
       "       'area_of_shot_Center(C)', 'area_of_shot_Left Side Center(LC)',\n",
       "       'area_of_shot_Left Side(L)', 'area_of_shot_Mid Ground(MG)',\n",
       "       'area_of_shot_Right Side Center(RC)', 'area_of_shot_Right Side(R)',\n",
       "       'area_of_shot_U', 'shot_basics_Goal Area', 'shot_basics_Goal Line',\n",
       "       'shot_basics_Left Corner', 'shot_basics_Mid Ground Line',\n",
       "       'shot_basics_Mid Range', 'shot_basics_Penalty Spot',\n",
       "       'shot_basics_Right Corner', 'shot_basics_U', 'home/away_n',\n",
       "       'match_id_n', 'game_season_n', 'type_of_shot_n',\n",
       "       'type_of_combined_shot_n'],\n",
       "      dtype='object')"
      ]
     },
     "execution_count": 66,
     "metadata": {},
     "output_type": "execute_result"
    }
   ],
   "source": [
    "m8 = m7.drop(['home/away','match_id', 'game_season'],axis=1)\n",
    "m8 = m8.drop(['type_of_shot','type_of_combined_shot'],axis=1)\n",
    "m8.columns"
   ]
  },
  {
   "cell_type": "code",
   "execution_count": 67,
   "metadata": {
    "collapsed": true
   },
   "outputs": [],
   "source": [
    "m8 = m8.rename(columns={'lat/lng':'home/away', 'home/away_n':'opposing_team'})"
   ]
  },
  {
   "cell_type": "code",
   "execution_count": 68,
   "metadata": {},
   "outputs": [
    {
     "data": {
      "text/plain": [
       "array([5., 0., 1.])"
      ]
     },
     "execution_count": 68,
     "metadata": {},
     "output_type": "execute_result"
    }
   ],
   "source": [
    "m8['is_goal_x'].unique()"
   ]
  },
  {
   "cell_type": "code",
   "execution_count": 69,
   "metadata": {},
   "outputs": [
    {
     "data": {
      "text/plain": [
       "6268"
      ]
     },
     "execution_count": 69,
     "metadata": {},
     "output_type": "execute_result"
    }
   ],
   "source": [
    "g=m8['is_goal_x']==5\n",
    "g[g==True].count()"
   ]
  },
  {
   "cell_type": "code",
   "execution_count": 84,
   "metadata": {
    "collapsed": true
   },
   "outputs": [],
   "source": [
    "m9= m8.loc[m8['is_goal_x'] == 5]\n",
    "m9.to_csv('test_data.csv',index=False)"
   ]
  },
  {
   "cell_type": "code",
   "execution_count": 70,
   "metadata": {
    "collapsed": true
   },
   "outputs": [],
   "source": [
    "#m8.to_csv('data(2).csv',index=False)\n",
    "#test.to_csv('test_data.csv',index=False)"
   ]
  },
  {
   "cell_type": "code",
   "execution_count": 85,
   "metadata": {
    "collapsed": true
   },
   "outputs": [],
   "source": [
    "m10= m8.loc[m8['is_goal_x'] != 5]\n",
    "m10.to_csv('train_data.csv',index=False)"
   ]
  },
  {
   "cell_type": "markdown",
   "metadata": {},
   "source": [
    "machine learning model"
   ]
  },
  {
   "cell_type": "code",
   "execution_count": 71,
   "metadata": {
    "collapsed": true
   },
   "outputs": [],
   "source": [
    "from sklearn.model_selection import train_test_split\n",
    "from sklearn.metrics import accuracy_score\n",
    "from sklearn.metrics import precision_score\n",
    "from sklearn.metrics import recall_score\n",
    "\n",
    "from sklearn.linear_model import LogisticRegression\n",
    "from sklearn.discriminant_analysis import LinearDiscriminantAnalysis\n",
    "from sklearn.discriminant_analysis import QuadraticDiscriminantAnalysis\n",
    "from sklearn.linear_model import SGDClassifier\n",
    "from sklearn.svm import LinearSVC\n",
    "from sklearn.neighbors import RadiusNeighborsClassifier\n",
    "from sklearn.naive_bayes import GaussianNB\n",
    "from sklearn.tree import DecisionTreeClassifier"
   ]
  },
  {
   "cell_type": "code",
   "execution_count": 72,
   "metadata": {
    "collapsed": true
   },
   "outputs": [],
   "source": [
    "result_dict = {}"
   ]
  },
  {
   "cell_type": "code",
   "execution_count": 73,
   "metadata": {
    "collapsed": true
   },
   "outputs": [],
   "source": [
    "def summarize_classification(y_test, y_pred):\n",
    "    \n",
    "    acc = accuracy_score(y_test, y_pred, normalize=True)\n",
    "    num_acc = accuracy_score(y_test, y_pred, normalize=False)\n",
    "\n",
    "    prec = precision_score(y_test, y_pred)\n",
    "    recall = recall_score(y_test, y_pred)\n",
    "    \n",
    "    return {'accuracy': acc, \n",
    "            'precision': prec,\n",
    "            'recall':recall, \n",
    "            'accuracy_count':num_acc}"
   ]
  },
  {
   "cell_type": "code",
   "execution_count": 74,
   "metadata": {
    "collapsed": true
   },
   "outputs": [],
   "source": [
    "def build_model(classifier_fn,                \n",
    "                name_of_y_col, \n",
    "                names_of_x_cols, \n",
    "                dataset, \n",
    "                test_frac=0.2):\n",
    "    \n",
    "    X = dataset[names_of_x_cols]\n",
    "    Y = dataset[name_of_y_col]\n",
    "\n",
    "    x_train, x_test, y_train, y_test = train_test_split(X, Y, test_size=test_frac)\n",
    "       \n",
    "    model = classifier_fn(x_train, y_train)\n",
    "    \n",
    "    y_pred = model.predict(x_test)\n",
    "\n",
    "    y_pred_train = model.predict(x_train)\n",
    "    \n",
    "    train_summary = summarize_classification(y_train, y_pred_train)\n",
    "    test_summary = summarize_classification(y_test, y_pred)\n",
    "    \n",
    "    pred_results = pd.DataFrame({'y_test': y_test,\n",
    "                                 'y_pred': y_pred})\n",
    "    \n",
    "    print(pred_results.sample(10))\n",
    "    \n",
    "    model_crosstab = pd.crosstab(pred_results.y_pred, pred_results.y_test)\n",
    "    \n",
    "    return {'training': train_summary, \n",
    "            'test': test_summary,\n",
    "            'confusion_matrix': model_crosstab}"
   ]
  },
  {
   "cell_type": "code",
   "execution_count": 75,
   "metadata": {
    "collapsed": true
   },
   "outputs": [],
   "source": [
    "def compare_results():\n",
    "    for key in result_dict:\n",
    "        print('Classification: ', key)\n",
    "\n",
    "        print()\n",
    "        print('Training data')\n",
    "        for score in result_dict[key]['training']:\n",
    "            print(score, result_dict[key]['training'][score])\n",
    "\n",
    "        print()\n",
    "        print('Test data')\n",
    "        for score in result_dict[key]['test']:\n",
    "            print(score, result_dict[key]['test'][score])\n",
    "       \n",
    "        print()"
   ]
  },
  {
   "cell_type": "code",
   "execution_count": 76,
   "metadata": {
    "collapsed": true
   },
   "outputs": [],
   "source": [
    "def logistic_fn(x_train, y_train):\n",
    "    \n",
    "    model = LogisticRegression(solver='liblinear')\n",
    "    model.fit(x_train, y_train)\n",
    "    \n",
    "    return model"
   ]
  },
  {
   "cell_type": "code",
   "execution_count": 77,
   "metadata": {
    "collapsed": true
   },
   "outputs": [],
   "source": [
    "def linear_discriminant_fn(x_train, y_train, solver='svd'):\n",
    "    \n",
    "    model = LinearDiscriminantAnalysis(solver=solver)\n",
    "    model.fit(x_train, y_train)\n",
    "    \n",
    "    return model"
   ]
  },
  {
   "cell_type": "code",
   "execution_count": 78,
   "metadata": {
    "collapsed": true
   },
   "outputs": [],
   "source": [
    "def quadratic_discriminant_fn(x_train, y_train):\n",
    "    \n",
    "    model = QuadraticDiscriminantAnalysis()\n",
    "    model.fit(x_train, y_train)\n",
    "    \n",
    "    return model"
   ]
  },
  {
   "cell_type": "code",
   "execution_count": 79,
   "metadata": {
    "collapsed": true
   },
   "outputs": [],
   "source": [
    "def sgd_fn(x_train, y_train, max_iter=1000, tol=1e-3):\n",
    "    \n",
    "    model = SGDClassifier(max_iter=max_iter, tol=tol)\n",
    "    model.fit(x_train, y_train)\n",
    "     \n",
    "    return model"
   ]
  },
  {
   "cell_type": "code",
   "execution_count": 80,
   "metadata": {
    "collapsed": true
   },
   "outputs": [],
   "source": [
    "def linear_svc_fn(x_train, y_train, C=1.0, max_iter=1000, tol=1e-3):\n",
    "    \n",
    "    model = LinearSVC(C=C, max_iter=max_iter, tol=tol, dual=False)\n",
    "    model.fit(x_train, y_train) \n",
    "    \n",
    "    return model"
   ]
  },
  {
   "cell_type": "code",
   "execution_count": 81,
   "metadata": {
    "collapsed": true
   },
   "outputs": [],
   "source": [
    "def decision_tree_fn(x_train, y_train, max_depth=None, max_features=None): \n",
    "    \n",
    "    model = DecisionTreeClassifier(max_depth=max_depth, max_features=max_features)\n",
    "    model.fit(x_train, y_train)\n",
    "    \n",
    "    return model"
   ]
  },
  {
   "cell_type": "code",
   "execution_count": 82,
   "metadata": {
    "collapsed": true
   },
   "outputs": [],
   "source": [
    "def naive_bayes_fn(x_train,y_train, priors=None):\n",
    "    \n",
    "    model = GaussianNB(priors=priors)\n",
    "    model.fit(x_train, y_train)\n",
    "    \n",
    "    return model"
   ]
  },
  {
   "cell_type": "code",
   "execution_count": 86,
   "metadata": {},
   "outputs": [],
   "source": [
    "a1 = pd.read_csv(\"train_data.csv\")\n",
    "a2 = pd.read_csv(\"test_data.csv\")\n",
    "a2.columns\n",
    "col = ['shot_id_number', 'power_of_shot', 'knockout_match', 'is_goal_x',\n",
    "       'home/away', 'distance_of_shot_avg', 'remaining_min_1',\n",
    "       'area_of_shot_Center(C)', 'area_of_shot_Left Side Center(LC)',\n",
    "       'area_of_shot_Left Side(L)', 'area_of_shot_Mid Ground(MG)',\n",
    "       'area_of_shot_Right Side Center(RC)', 'area_of_shot_Right Side(R)',\n",
    "       'area_of_shot_U', 'shot_basics_Goal Area', 'shot_basics_Goal Line',\n",
    "       'shot_basics_Left Corner', 'shot_basics_Mid Ground Line',\n",
    "       'shot_basics_Mid Range', 'shot_basics_Penalty Spot',\n",
    "       'shot_basics_Right Corner', 'shot_basics_U', 'opposing_team',\n",
    "       'match_id_n', 'game_season_n', 'type_of_shot_n',\n",
    "       'type_of_combined_shot_n']\n",
    "for i in col:\n",
    "    a2[i] = pd.to_numeric(a2[i])\n",
    "\n",
    "new_x = a2.drop('is_goal_x',axis=1)"
   ]
  },
  {
   "cell_type": "code",
   "execution_count": 87,
   "metadata": {},
   "outputs": [
    {
     "data": {
      "text/html": [
       "<div>\n",
       "<style>\n",
       "    .dataframe thead tr:only-child th {\n",
       "        text-align: right;\n",
       "    }\n",
       "\n",
       "    .dataframe thead th {\n",
       "        text-align: left;\n",
       "    }\n",
       "\n",
       "    .dataframe tbody tr th {\n",
       "        vertical-align: top;\n",
       "    }\n",
       "</style>\n",
       "<table border=\"1\" class=\"dataframe\">\n",
       "  <thead>\n",
       "    <tr style=\"text-align: right;\">\n",
       "      <th></th>\n",
       "      <th>shot_id_number</th>\n",
       "      <th>power_of_shot</th>\n",
       "      <th>knockout_match</th>\n",
       "      <th>home/away</th>\n",
       "      <th>distance_of_shot_avg</th>\n",
       "      <th>remaining_min_1</th>\n",
       "      <th>area_of_shot_Center(C)</th>\n",
       "      <th>area_of_shot_Left Side Center(LC)</th>\n",
       "      <th>area_of_shot_Left Side(L)</th>\n",
       "      <th>area_of_shot_Mid Ground(MG)</th>\n",
       "      <th>...</th>\n",
       "      <th>shot_basics_Mid Ground Line</th>\n",
       "      <th>shot_basics_Mid Range</th>\n",
       "      <th>shot_basics_Penalty Spot</th>\n",
       "      <th>shot_basics_Right Corner</th>\n",
       "      <th>shot_basics_U</th>\n",
       "      <th>opposing_team</th>\n",
       "      <th>match_id_n</th>\n",
       "      <th>game_season_n</th>\n",
       "      <th>type_of_shot_n</th>\n",
       "      <th>type_of_combined_shot_n</th>\n",
       "    </tr>\n",
       "  </thead>\n",
       "  <tbody>\n",
       "    <tr>\n",
       "      <th>0</th>\n",
       "      <td>1</td>\n",
       "      <td>1.0</td>\n",
       "      <td>0.0</td>\n",
       "      <td>0</td>\n",
       "      <td>38.0</td>\n",
       "      <td>10.00</td>\n",
       "      <td>0</td>\n",
       "      <td>0</td>\n",
       "      <td>0</td>\n",
       "      <td>0</td>\n",
       "      <td>...</td>\n",
       "      <td>0</td>\n",
       "      <td>1</td>\n",
       "      <td>0</td>\n",
       "      <td>0</td>\n",
       "      <td>0</td>\n",
       "      <td>2133.0</td>\n",
       "      <td>14.0</td>\n",
       "      <td>2543.0</td>\n",
       "      <td>223.0</td>\n",
       "      <td>21086.0</td>\n",
       "    </tr>\n",
       "    <tr>\n",
       "      <th>1</th>\n",
       "      <td>26367</td>\n",
       "      <td>3.0</td>\n",
       "      <td>1.0</td>\n",
       "      <td>0</td>\n",
       "      <td>26.0</td>\n",
       "      <td>25.64</td>\n",
       "      <td>1</td>\n",
       "      <td>0</td>\n",
       "      <td>0</td>\n",
       "      <td>0</td>\n",
       "      <td>...</td>\n",
       "      <td>0</td>\n",
       "      <td>0</td>\n",
       "      <td>0</td>\n",
       "      <td>0</td>\n",
       "      <td>0</td>\n",
       "      <td>2777.0</td>\n",
       "      <td>45.0</td>\n",
       "      <td>2543.0</td>\n",
       "      <td>223.0</td>\n",
       "      <td>21086.0</td>\n",
       "    </tr>\n",
       "    <tr>\n",
       "      <th>2</th>\n",
       "      <td>26313</td>\n",
       "      <td>4.0</td>\n",
       "      <td>1.0</td>\n",
       "      <td>0</td>\n",
       "      <td>36.2</td>\n",
       "      <td>11.00</td>\n",
       "      <td>0</td>\n",
       "      <td>0</td>\n",
       "      <td>0</td>\n",
       "      <td>0</td>\n",
       "      <td>...</td>\n",
       "      <td>0</td>\n",
       "      <td>0</td>\n",
       "      <td>0</td>\n",
       "      <td>0</td>\n",
       "      <td>1</td>\n",
       "      <td>2182.0</td>\n",
       "      <td>29.0</td>\n",
       "      <td>2543.0</td>\n",
       "      <td>223.0</td>\n",
       "      <td>21086.0</td>\n",
       "    </tr>\n",
       "    <tr>\n",
       "      <th>3</th>\n",
       "      <td>417</td>\n",
       "      <td>4.0</td>\n",
       "      <td>0.0</td>\n",
       "      <td>1</td>\n",
       "      <td>39.0</td>\n",
       "      <td>5.00</td>\n",
       "      <td>1</td>\n",
       "      <td>0</td>\n",
       "      <td>0</td>\n",
       "      <td>0</td>\n",
       "      <td>...</td>\n",
       "      <td>0</td>\n",
       "      <td>1</td>\n",
       "      <td>0</td>\n",
       "      <td>0</td>\n",
       "      <td>0</td>\n",
       "      <td>969.0</td>\n",
       "      <td>32.0</td>\n",
       "      <td>2543.0</td>\n",
       "      <td>223.0</td>\n",
       "      <td>21086.0</td>\n",
       "    </tr>\n",
       "    <tr>\n",
       "      <th>4</th>\n",
       "      <td>26977</td>\n",
       "      <td>2.0</td>\n",
       "      <td>1.0</td>\n",
       "      <td>0</td>\n",
       "      <td>36.0</td>\n",
       "      <td>11.00</td>\n",
       "      <td>0</td>\n",
       "      <td>0</td>\n",
       "      <td>0</td>\n",
       "      <td>0</td>\n",
       "      <td>...</td>\n",
       "      <td>0</td>\n",
       "      <td>1</td>\n",
       "      <td>0</td>\n",
       "      <td>0</td>\n",
       "      <td>0</td>\n",
       "      <td>770.0</td>\n",
       "      <td>16.0</td>\n",
       "      <td>2711.0</td>\n",
       "      <td>223.0</td>\n",
       "      <td>21086.0</td>\n",
       "    </tr>\n",
       "  </tbody>\n",
       "</table>\n",
       "<p>5 rows × 26 columns</p>\n",
       "</div>"
      ],
      "text/plain": [
       "   shot_id_number  power_of_shot  knockout_match  home/away  \\\n",
       "0               1            1.0             0.0          0   \n",
       "1           26367            3.0             1.0          0   \n",
       "2           26313            4.0             1.0          0   \n",
       "3             417            4.0             0.0          1   \n",
       "4           26977            2.0             1.0          0   \n",
       "\n",
       "   distance_of_shot_avg  remaining_min_1  area_of_shot_Center(C)  \\\n",
       "0                  38.0            10.00                       0   \n",
       "1                  26.0            25.64                       1   \n",
       "2                  36.2            11.00                       0   \n",
       "3                  39.0             5.00                       1   \n",
       "4                  36.0            11.00                       0   \n",
       "\n",
       "   area_of_shot_Left Side Center(LC)  area_of_shot_Left Side(L)  \\\n",
       "0                                  0                          0   \n",
       "1                                  0                          0   \n",
       "2                                  0                          0   \n",
       "3                                  0                          0   \n",
       "4                                  0                          0   \n",
       "\n",
       "   area_of_shot_Mid Ground(MG)           ...             \\\n",
       "0                            0           ...              \n",
       "1                            0           ...              \n",
       "2                            0           ...              \n",
       "3                            0           ...              \n",
       "4                            0           ...              \n",
       "\n",
       "   shot_basics_Mid Ground Line  shot_basics_Mid Range  \\\n",
       "0                            0                      1   \n",
       "1                            0                      0   \n",
       "2                            0                      0   \n",
       "3                            0                      1   \n",
       "4                            0                      1   \n",
       "\n",
       "   shot_basics_Penalty Spot  shot_basics_Right Corner  shot_basics_U  \\\n",
       "0                         0                         0              0   \n",
       "1                         0                         0              0   \n",
       "2                         0                         0              1   \n",
       "3                         0                         0              0   \n",
       "4                         0                         0              0   \n",
       "\n",
       "   opposing_team  match_id_n  game_season_n  type_of_shot_n  \\\n",
       "0         2133.0        14.0         2543.0           223.0   \n",
       "1         2777.0        45.0         2543.0           223.0   \n",
       "2         2182.0        29.0         2543.0           223.0   \n",
       "3          969.0        32.0         2543.0           223.0   \n",
       "4          770.0        16.0         2711.0           223.0   \n",
       "\n",
       "   type_of_combined_shot_n  \n",
       "0                  21086.0  \n",
       "1                  21086.0  \n",
       "2                  21086.0  \n",
       "3                  21086.0  \n",
       "4                  21086.0  \n",
       "\n",
       "[5 rows x 26 columns]"
      ]
     },
     "execution_count": 87,
     "metadata": {},
     "output_type": "execute_result"
    }
   ],
   "source": [
    "new_x.head()"
   ]
  },
  {
   "cell_type": "code",
   "execution_count": 88,
   "metadata": {},
   "outputs": [
    {
     "data": {
      "text/plain": [
       "Index(['shot_id_number', 'power_of_shot', 'knockout_match', 'is_goal_x',\n",
       "       'home/away', 'distance_of_shot_avg', 'remaining_min_1',\n",
       "       'area_of_shot_Center(C)', 'area_of_shot_Left Side Center(LC)',\n",
       "       'area_of_shot_Left Side(L)', 'area_of_shot_Mid Ground(MG)',\n",
       "       'area_of_shot_Right Side Center(RC)', 'area_of_shot_Right Side(R)',\n",
       "       'area_of_shot_U', 'shot_basics_Goal Area', 'shot_basics_Goal Line',\n",
       "       'shot_basics_Left Corner', 'shot_basics_Mid Ground Line',\n",
       "       'shot_basics_Mid Range', 'shot_basics_Penalty Spot',\n",
       "       'shot_basics_Right Corner', 'shot_basics_U', 'opposing_team',\n",
       "       'match_id_n', 'game_season_n', 'type_of_shot_n',\n",
       "       'type_of_combined_shot_n'],\n",
       "      dtype='object')"
      ]
     },
     "execution_count": 88,
     "metadata": {},
     "output_type": "execute_result"
    }
   ],
   "source": [
    "a1.columns"
   ]
  },
  {
   "cell_type": "code",
   "execution_count": 89,
   "metadata": {},
   "outputs": [
    {
     "name": "stdout",
     "output_type": "stream",
     "text": [
      "       y_pred  y_test\n",
      "15783     0.0     0.0\n",
      "14371     1.0     1.0\n",
      "11645     1.0     1.0\n",
      "23311     1.0     1.0\n",
      "8827      1.0     1.0\n",
      "23765     1.0     0.0\n",
      "18189     0.0     1.0\n",
      "10904     0.0     0.0\n",
      "11927     0.0     1.0\n",
      "21051     1.0     0.0\n",
      "Classification:  survived ~ dt\n",
      "\n",
      "Training data\n",
      "accuracy 0.9994371386174078\n",
      "precision 1.0\n",
      "recall 0.998735632183908\n",
      "accuracy_count 19532\n",
      "\n",
      "Test data\n",
      "accuracy 0.5556692591076545\n",
      "precision 0.5018001800180018\n",
      "recall 0.5117026158788435\n",
      "accuracy_count 2715\n",
      "\n"
     ]
    }
   ],
   "source": [
    "result_dict['survived ~ dt'] = build_model(decision_tree_fn,\n",
    "                                              'is_goal_x',\n",
    "                                               [ 'power_of_shot', 'knockout_match',\n",
    "       'home/away', 'distance_of_shot_avg', 'remaining_min_1',\n",
    "       'area_of_shot_Center(C)', 'area_of_shot_Left Side Center(LC)',\n",
    "       'area_of_shot_Left Side(L)', 'area_of_shot_Mid Ground(MG)',\n",
    "       'area_of_shot_Right Side Center(RC)', 'area_of_shot_Right Side(R)',\n",
    "       'area_of_shot_U', 'shot_basics_Goal Area', 'shot_basics_Goal Line',\n",
    "       'shot_basics_Left Corner', 'shot_basics_Mid Ground Line',\n",
    "       'shot_basics_Mid Range', 'shot_basics_Penalty Spot',\n",
    "       'shot_basics_Right Corner', 'shot_basics_U', 'opposing_team',\n",
    "       'match_id_n', 'game_season_n', 'type_of_shot_n',\n",
    "       'type_of_combined_shot_n'],\n",
    "                                               a1)\n",
    "\n",
    "compare_results()"
   ]
  },
  {
   "cell_type": "code",
   "execution_count": 90,
   "metadata": {
    "collapsed": true
   },
   "outputs": [],
   "source": [
    "from sklearn.model_selection import train_test_split\n",
    "\n",
    "X = a1.drop('is_goal_x', axis=1)\n",
    "Y = a1['is_goal_x']\n",
    "\n",
    "\n",
    "\n",
    "x_train, x_test, y_train, y_test = train_test_split(X, Y, test_size=0.2565802939)\n",
    "#x_test = a2.drop('is_goal_x',axis=1)"
   ]
  },
  {
   "cell_type": "code",
   "execution_count": 91,
   "metadata": {},
   "outputs": [
    {
     "data": {
      "text/plain": [
       "(24429, 27)"
      ]
     },
     "execution_count": 91,
     "metadata": {},
     "output_type": "execute_result"
    }
   ],
   "source": [
    "a1.shape"
   ]
  },
  {
   "cell_type": "code",
   "execution_count": 92,
   "metadata": {},
   "outputs": [
    {
     "name": "stderr",
     "output_type": "stream",
     "text": [
      "C:\\Users\\dhruv\\Anaconda34\\lib\\site-packages\\sklearn\\ensemble\\weight_boosting.py:29: DeprecationWarning: numpy.core.umath_tests is an internal NumPy module and should not be imported. It will be removed in a future NumPy release.\n",
      "  from numpy.core.umath_tests import inner1d\n"
     ]
    }
   ],
   "source": [
    "from sklearn.ensemble import RandomForestClassifier\n",
    "\n",
    "#Create a Gaussian Classifier\n",
    "clf=RandomForestClassifier(n_estimators=100)\n",
    "\n",
    "#Train the model using the training sets y_pred=clf.predict(X_test)\n",
    "clf.fit(x_train,y_train)\n",
    "\n",
    "y_pred=clf.predict(new_x)"
   ]
  },
  {
   "cell_type": "code",
   "execution_count": 93,
   "metadata": {},
   "outputs": [
    {
     "name": "stdout",
     "output_type": "stream",
     "text": [
      "Accuracy: 0.5197830248883216\n"
     ]
    }
   ],
   "source": [
    "from sklearn import metrics\n",
    "# Model Accuracy, how often is the classifier correct?\n",
    "print(\"Accuracy:\",metrics.accuracy_score(y_test, y_pred))"
   ]
  },
  {
   "cell_type": "code",
   "execution_count": 94,
   "metadata": {},
   "outputs": [
    {
     "name": "stdout",
     "output_type": "stream",
     "text": [
      "Collecting xgboost\n",
      "  Downloading https://files.pythonhosted.org/packages/5e/49/b95c037b717b4ceadc76b6e164603471225c27052d1611d5a2e832757945/xgboost-0.90-py2.py3-none-win_amd64.whl (18.3MB)\n",
      "Requirement already satisfied: scipy in c:\\users\\dhruv\\anaconda34\\lib\\site-packages (from xgboost)\n",
      "Requirement already satisfied: numpy in c:\\users\\dhruv\\anaconda34\\lib\\site-packages (from xgboost)\n",
      "Installing collected packages: xgboost\n",
      "Successfully installed xgboost-0.90\n"
     ]
    },
    {
     "name": "stderr",
     "output_type": "stream",
     "text": [
      "You are using pip version 9.0.1, however version 19.1.1 is available.\n",
      "You should consider upgrading via the 'python -m pip install --upgrade pip' command.\n"
     ]
    }
   ],
   "source": [
    "! pip install --user xgboost"
   ]
  },
  {
   "cell_type": "code",
   "execution_count": 97,
   "metadata": {},
   "outputs": [
    {
     "ename": "ModuleNotFoundError",
     "evalue": "No module named 'xgboost'",
     "output_type": "error",
     "traceback": [
      "\u001b[1;31m---------------------------------------------------------------------------\u001b[0m",
      "\u001b[1;31mModuleNotFoundError\u001b[0m                       Traceback (most recent call last)",
      "\u001b[1;32m<ipython-input-97-18b4ecd8d025>\u001b[0m in \u001b[0;36m<module>\u001b[1;34m()\u001b[0m\n\u001b[0;32m      1\u001b[0m \u001b[1;31m# First XGBoost model for Pima Indians dataset\u001b[0m\u001b[1;33m\u001b[0m\u001b[1;33m\u001b[0m\u001b[0m\n\u001b[1;32m----> 2\u001b[1;33m \u001b[1;32mimport\u001b[0m \u001b[0mxgboost\u001b[0m\u001b[1;33m\u001b[0m\u001b[0m\n\u001b[0m\u001b[0;32m      3\u001b[0m \u001b[1;32mfrom\u001b[0m \u001b[0mnumpy\u001b[0m \u001b[1;32mimport\u001b[0m \u001b[0mloadtxt\u001b[0m\u001b[1;33m\u001b[0m\u001b[0m\n\u001b[0;32m      4\u001b[0m \u001b[1;32mfrom\u001b[0m \u001b[0mxgboost\u001b[0m \u001b[1;32mimport\u001b[0m \u001b[0mXGBClassifier\u001b[0m\u001b[1;33m\u001b[0m\u001b[0m\n\u001b[0;32m      5\u001b[0m \u001b[1;32mfrom\u001b[0m \u001b[0msklearn\u001b[0m\u001b[1;33m.\u001b[0m\u001b[0mmodel_selection\u001b[0m \u001b[1;32mimport\u001b[0m \u001b[0mtrain_test_split\u001b[0m\u001b[1;33m\u001b[0m\u001b[0m\n",
      "\u001b[1;31mModuleNotFoundError\u001b[0m: No module named 'xgboost'"
     ]
    }
   ],
   "source": [
    "# First XGBoost model for Pima Indians dataset\n",
    "import xgboost\n",
    "from numpy import loadtxt\n",
    "from xgboost import XGBClassifier\n",
    "from sklearn.model_selection import train_test_split\n",
    "from sklearn.metrics import accuracy_score\n",
    "\n",
    "# fit model no training data\n",
    "model = XGBClassifier()\n",
    "model.fit(x_train, y_train)\n",
    "# make predictions for test data\n",
    "y_pred = model.predict(new_x)\n",
    "predictions = [round(value) for value in y_pred]\n",
    "# evaluate predictions\n",
    "accuracy = accuracy_score(y_test, predictions)\n",
    "print(\"Accuracy: %.2f%%\" % (accuracy * 100.0))"
   ]
  },
  {
   "cell_type": "code",
   "execution_count": null,
   "metadata": {},
   "outputs": [],
   "source": [
    "pred_results = pd.DataFrame({'y_pred': y_pred})\n",
    "#pred_results.to_csv('sub.csv',index=False)\n",
    "pred_results"
   ]
  },
  {
   "cell_type": "code",
   "execution_count": null,
   "metadata": {
    "collapsed": true
   },
   "outputs": [],
   "source": []
  }
 ],
 "metadata": {
  "kernelspec": {
   "display_name": "Python 3",
   "language": "python",
   "name": "python3"
  },
  "language_info": {
   "codemirror_mode": {
    "name": "ipython",
    "version": 3
   },
   "file_extension": ".py",
   "mimetype": "text/x-python",
   "name": "python",
   "nbconvert_exporter": "python",
   "pygments_lexer": "ipython3",
   "version": "3.6.3"
  }
 },
 "nbformat": 4,
 "nbformat_minor": 2
}
