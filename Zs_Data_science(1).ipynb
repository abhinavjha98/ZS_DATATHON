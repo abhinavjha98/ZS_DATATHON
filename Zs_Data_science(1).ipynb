{
 "cells": [
  {
   "cell_type": "code",
   "execution_count": 1,
   "metadata": {
    "colab": {},
    "colab_type": "code",
    "collapsed": true,
    "id": "T5lwcsrGZX5m"
   },
   "outputs": [],
   "source": [
    "import pandas as pd \n",
    "import numpy as np \n",
    "import scipy as sp \n",
    "import matplotlib.pyplot as plt "
   ]
  },
  {
   "cell_type": "markdown",
   "metadata": {
    "colab_type": "text",
    "id": "Kx-LxyXkZX5y"
   },
   "source": [
    "Reading and Analysis of data"
   ]
  },
  {
   "cell_type": "code",
   "execution_count": 0,
   "metadata": {
    "colab": {},
    "colab_type": "code",
    "id": "IRTkoMqMZX50",
    "outputId": "14c45bec-dbcc-473d-c9c8-2483e538b602"
   },
   "outputs": [
    {
     "data": {
      "text/html": [
       "<div>\n",
       "<style scoped>\n",
       "    .dataframe tbody tr th:only-of-type {\n",
       "        vertical-align: middle;\n",
       "    }\n",
       "\n",
       "    .dataframe tbody tr th {\n",
       "        vertical-align: top;\n",
       "    }\n",
       "\n",
       "    .dataframe thead th {\n",
       "        text-align: right;\n",
       "    }\n",
       "</style>\n",
       "<table border=\"1\" class=\"dataframe\">\n",
       "  <thead>\n",
       "    <tr style=\"text-align: right;\">\n",
       "      <th></th>\n",
       "      <th>Unnamed: 0</th>\n",
       "      <th>match_event_id</th>\n",
       "      <th>location_x</th>\n",
       "      <th>location_y</th>\n",
       "      <th>remaining_min</th>\n",
       "      <th>power_of_shot</th>\n",
       "      <th>knockout_match</th>\n",
       "      <th>game_season</th>\n",
       "      <th>remaining_sec</th>\n",
       "      <th>distance_of_shot</th>\n",
       "      <th>...</th>\n",
       "      <th>lat/lng</th>\n",
       "      <th>type_of_shot</th>\n",
       "      <th>type_of_combined_shot</th>\n",
       "      <th>match_id</th>\n",
       "      <th>team_id</th>\n",
       "      <th>remaining_min.1</th>\n",
       "      <th>power_of_shot.1</th>\n",
       "      <th>knockout_match.1</th>\n",
       "      <th>remaining_sec.1</th>\n",
       "      <th>distance_of_shot.1</th>\n",
       "    </tr>\n",
       "  </thead>\n",
       "  <tbody>\n",
       "    <tr>\n",
       "      <th>0</th>\n",
       "      <td>0</td>\n",
       "      <td>10.0</td>\n",
       "      <td>167.0</td>\n",
       "      <td>72.0</td>\n",
       "      <td>10.0</td>\n",
       "      <td>1.0</td>\n",
       "      <td>0.0</td>\n",
       "      <td>2000-01</td>\n",
       "      <td>27.0</td>\n",
       "      <td>38.0</td>\n",
       "      <td>...</td>\n",
       "      <td>45.539131, -122.651648</td>\n",
       "      <td>shot - 30</td>\n",
       "      <td>NaN</td>\n",
       "      <td>20000012</td>\n",
       "      <td>1610612747</td>\n",
       "      <td>10.00</td>\n",
       "      <td>1.0</td>\n",
       "      <td>50.608</td>\n",
       "      <td>54.2000</td>\n",
       "      <td>38.0</td>\n",
       "    </tr>\n",
       "    <tr>\n",
       "      <th>1</th>\n",
       "      <td>1</td>\n",
       "      <td>12.0</td>\n",
       "      <td>-157.0</td>\n",
       "      <td>0.0</td>\n",
       "      <td>10.0</td>\n",
       "      <td>1.0</td>\n",
       "      <td>0.0</td>\n",
       "      <td>2000-01</td>\n",
       "      <td>22.0</td>\n",
       "      <td>35.0</td>\n",
       "      <td>...</td>\n",
       "      <td>45.539131, -122.651648</td>\n",
       "      <td>shot - 45</td>\n",
       "      <td>NaN</td>\n",
       "      <td>20000012</td>\n",
       "      <td>1610612747</td>\n",
       "      <td>10.00</td>\n",
       "      <td>1.0</td>\n",
       "      <td>28.800</td>\n",
       "      <td>22.0000</td>\n",
       "      <td>35.0</td>\n",
       "    </tr>\n",
       "    <tr>\n",
       "      <th>2</th>\n",
       "      <td>2</td>\n",
       "      <td>35.0</td>\n",
       "      <td>-101.0</td>\n",
       "      <td>135.0</td>\n",
       "      <td>7.0</td>\n",
       "      <td>1.0</td>\n",
       "      <td>0.0</td>\n",
       "      <td>2000-01</td>\n",
       "      <td>45.0</td>\n",
       "      <td>36.0</td>\n",
       "      <td>...</td>\n",
       "      <td>45.539131, -122.651648</td>\n",
       "      <td>shot - 25</td>\n",
       "      <td>NaN</td>\n",
       "      <td>20000012</td>\n",
       "      <td>1610612747</td>\n",
       "      <td>92.64</td>\n",
       "      <td>1.0</td>\n",
       "      <td>0.000</td>\n",
       "      <td>63.7216</td>\n",
       "      <td>54.4</td>\n",
       "    </tr>\n",
       "    <tr>\n",
       "      <th>3</th>\n",
       "      <td>3</td>\n",
       "      <td>43.0</td>\n",
       "      <td>138.0</td>\n",
       "      <td>175.0</td>\n",
       "      <td>6.0</td>\n",
       "      <td>1.0</td>\n",
       "      <td>0.0</td>\n",
       "      <td>2000-01</td>\n",
       "      <td>52.0</td>\n",
       "      <td>42.0</td>\n",
       "      <td>...</td>\n",
       "      <td>45.539131, -122.651648</td>\n",
       "      <td>NaN</td>\n",
       "      <td>shot - 3</td>\n",
       "      <td>20000012</td>\n",
       "      <td>1610612747</td>\n",
       "      <td>NaN</td>\n",
       "      <td>1.0</td>\n",
       "      <td>122.608</td>\n",
       "      <td>52.0000</td>\n",
       "      <td>42.0</td>\n",
       "    </tr>\n",
       "    <tr>\n",
       "      <th>4</th>\n",
       "      <td>4</td>\n",
       "      <td>155.0</td>\n",
       "      <td>0.0</td>\n",
       "      <td>0.0</td>\n",
       "      <td>NaN</td>\n",
       "      <td>2.0</td>\n",
       "      <td>0.0</td>\n",
       "      <td>2000-01</td>\n",
       "      <td>19.0</td>\n",
       "      <td>20.0</td>\n",
       "      <td>...</td>\n",
       "      <td>45.539131, -122.651648</td>\n",
       "      <td>NaN</td>\n",
       "      <td>shot - 1</td>\n",
       "      <td>20000012</td>\n",
       "      <td>1610612747</td>\n",
       "      <td>42.64</td>\n",
       "      <td>2.0</td>\n",
       "      <td>0.000</td>\n",
       "      <td>19.0000</td>\n",
       "      <td>20.0</td>\n",
       "    </tr>\n",
       "  </tbody>\n",
       "</table>\n",
       "<p>5 rows × 28 columns</p>\n",
       "</div>"
      ],
      "text/plain": [
       "   Unnamed: 0  match_event_id  location_x  location_y  remaining_min  \\\n",
       "0           0            10.0       167.0        72.0           10.0   \n",
       "1           1            12.0      -157.0         0.0           10.0   \n",
       "2           2            35.0      -101.0       135.0            7.0   \n",
       "3           3            43.0       138.0       175.0            6.0   \n",
       "4           4           155.0         0.0         0.0            NaN   \n",
       "\n",
       "   power_of_shot  knockout_match game_season  remaining_sec  distance_of_shot  \\\n",
       "0            1.0             0.0     2000-01           27.0              38.0   \n",
       "1            1.0             0.0     2000-01           22.0              35.0   \n",
       "2            1.0             0.0     2000-01           45.0              36.0   \n",
       "3            1.0             0.0     2000-01           52.0              42.0   \n",
       "4            2.0             0.0     2000-01           19.0              20.0   \n",
       "\n",
       "         ...                         lat/lng type_of_shot  \\\n",
       "0        ...          45.539131, -122.651648    shot - 30   \n",
       "1        ...          45.539131, -122.651648    shot - 45   \n",
       "2        ...          45.539131, -122.651648    shot - 25   \n",
       "3        ...          45.539131, -122.651648          NaN   \n",
       "4        ...          45.539131, -122.651648          NaN   \n",
       "\n",
       "  type_of_combined_shot  match_id     team_id remaining_min.1 power_of_shot.1  \\\n",
       "0                   NaN  20000012  1610612747           10.00             1.0   \n",
       "1                   NaN  20000012  1610612747           10.00             1.0   \n",
       "2                   NaN  20000012  1610612747           92.64             1.0   \n",
       "3              shot - 3  20000012  1610612747             NaN             1.0   \n",
       "4              shot - 1  20000012  1610612747           42.64             2.0   \n",
       "\n",
       "   knockout_match.1 remaining_sec.1 distance_of_shot.1  \n",
       "0            50.608         54.2000               38.0  \n",
       "1            28.800         22.0000               35.0  \n",
       "2             0.000         63.7216               54.4  \n",
       "3           122.608         52.0000               42.0  \n",
       "4             0.000         19.0000               20.0  \n",
       "\n",
       "[5 rows x 28 columns]"
      ]
     },
     "execution_count": 790,
     "metadata": {
      "tags": []
     },
     "output_type": "execute_result"
    }
   ],
   "source": [
    "d1 = pd.read_csv('data.csv')\n",
    "d1.head()"
   ]
  },
  {
   "cell_type": "code",
   "execution_count": 0,
   "metadata": {
    "colab": {},
    "colab_type": "code",
    "id": "rT4Yg0ieZX6E",
    "outputId": "071fa19f-d06a-4c4a-dbf7-b808274a7bf4"
   },
   "outputs": [
    {
     "data": {
      "text/plain": [
       "(30697, 28)"
      ]
     },
     "execution_count": 791,
     "metadata": {
      "tags": []
     },
     "output_type": "execute_result"
    }
   ],
   "source": [
    "d1.shape"
   ]
  },
  {
   "cell_type": "code",
   "execution_count": 0,
   "metadata": {
    "colab": {},
    "colab_type": "code",
    "id": "JPhDnMZ5ZX6N",
    "outputId": "60ea4331-32d0-4ee3-8d67-f548f812c3ff"
   },
   "outputs": [
    {
     "data": {
      "text/html": [
       "<div>\n",
       "<style scoped>\n",
       "    .dataframe tbody tr th:only-of-type {\n",
       "        vertical-align: middle;\n",
       "    }\n",
       "\n",
       "    .dataframe tbody tr th {\n",
       "        vertical-align: top;\n",
       "    }\n",
       "\n",
       "    .dataframe thead th {\n",
       "        text-align: right;\n",
       "    }\n",
       "</style>\n",
       "<table border=\"1\" class=\"dataframe\">\n",
       "  <thead>\n",
       "    <tr style=\"text-align: right;\">\n",
       "      <th></th>\n",
       "      <th>Unnamed: 0</th>\n",
       "      <th>match_event_id</th>\n",
       "      <th>location_x</th>\n",
       "      <th>location_y</th>\n",
       "      <th>remaining_min</th>\n",
       "      <th>power_of_shot</th>\n",
       "      <th>knockout_match</th>\n",
       "      <th>game_season</th>\n",
       "      <th>distance_of_shot</th>\n",
       "      <th>is_goal</th>\n",
       "      <th>...</th>\n",
       "      <th>date_of_game</th>\n",
       "      <th>home/away</th>\n",
       "      <th>lat/lng</th>\n",
       "      <th>type_of_shot</th>\n",
       "      <th>type_of_combined_shot</th>\n",
       "      <th>match_id</th>\n",
       "      <th>remaining_min.1</th>\n",
       "      <th>power_of_shot.1</th>\n",
       "      <th>knockout_match.1</th>\n",
       "      <th>distance_of_shot.1</th>\n",
       "    </tr>\n",
       "  </thead>\n",
       "  <tbody>\n",
       "    <tr>\n",
       "      <th>0</th>\n",
       "      <td>0</td>\n",
       "      <td>10.0</td>\n",
       "      <td>167.0</td>\n",
       "      <td>72.0</td>\n",
       "      <td>10.0</td>\n",
       "      <td>1.0</td>\n",
       "      <td>0.0</td>\n",
       "      <td>2000-01</td>\n",
       "      <td>38.0</td>\n",
       "      <td>NaN</td>\n",
       "      <td>...</td>\n",
       "      <td>2000-10-31</td>\n",
       "      <td>MANU @ POR</td>\n",
       "      <td>45.539131, -122.651648</td>\n",
       "      <td>shot - 30</td>\n",
       "      <td>NaN</td>\n",
       "      <td>20000012</td>\n",
       "      <td>10.00</td>\n",
       "      <td>1.0</td>\n",
       "      <td>50.608</td>\n",
       "      <td>38.0</td>\n",
       "    </tr>\n",
       "    <tr>\n",
       "      <th>1</th>\n",
       "      <td>1</td>\n",
       "      <td>12.0</td>\n",
       "      <td>-157.0</td>\n",
       "      <td>0.0</td>\n",
       "      <td>10.0</td>\n",
       "      <td>1.0</td>\n",
       "      <td>0.0</td>\n",
       "      <td>2000-01</td>\n",
       "      <td>35.0</td>\n",
       "      <td>0.0</td>\n",
       "      <td>...</td>\n",
       "      <td>2000-10-31</td>\n",
       "      <td>MANU @ POR</td>\n",
       "      <td>45.539131, -122.651648</td>\n",
       "      <td>shot - 45</td>\n",
       "      <td>NaN</td>\n",
       "      <td>20000012</td>\n",
       "      <td>10.00</td>\n",
       "      <td>1.0</td>\n",
       "      <td>28.800</td>\n",
       "      <td>35.0</td>\n",
       "    </tr>\n",
       "    <tr>\n",
       "      <th>2</th>\n",
       "      <td>2</td>\n",
       "      <td>35.0</td>\n",
       "      <td>-101.0</td>\n",
       "      <td>135.0</td>\n",
       "      <td>7.0</td>\n",
       "      <td>1.0</td>\n",
       "      <td>0.0</td>\n",
       "      <td>2000-01</td>\n",
       "      <td>36.0</td>\n",
       "      <td>1.0</td>\n",
       "      <td>...</td>\n",
       "      <td>2000-10-31</td>\n",
       "      <td>NaN</td>\n",
       "      <td>45.539131, -122.651648</td>\n",
       "      <td>shot - 25</td>\n",
       "      <td>NaN</td>\n",
       "      <td>20000012</td>\n",
       "      <td>92.64</td>\n",
       "      <td>1.0</td>\n",
       "      <td>0.000</td>\n",
       "      <td>54.4</td>\n",
       "    </tr>\n",
       "    <tr>\n",
       "      <th>3</th>\n",
       "      <td>3</td>\n",
       "      <td>43.0</td>\n",
       "      <td>138.0</td>\n",
       "      <td>175.0</td>\n",
       "      <td>6.0</td>\n",
       "      <td>1.0</td>\n",
       "      <td>0.0</td>\n",
       "      <td>2000-01</td>\n",
       "      <td>42.0</td>\n",
       "      <td>0.0</td>\n",
       "      <td>...</td>\n",
       "      <td>2000-10-31</td>\n",
       "      <td>MANU @ POR</td>\n",
       "      <td>45.539131, -122.651648</td>\n",
       "      <td>NaN</td>\n",
       "      <td>shot - 3</td>\n",
       "      <td>20000012</td>\n",
       "      <td>NaN</td>\n",
       "      <td>1.0</td>\n",
       "      <td>122.608</td>\n",
       "      <td>42.0</td>\n",
       "    </tr>\n",
       "    <tr>\n",
       "      <th>4</th>\n",
       "      <td>4</td>\n",
       "      <td>155.0</td>\n",
       "      <td>0.0</td>\n",
       "      <td>0.0</td>\n",
       "      <td>NaN</td>\n",
       "      <td>2.0</td>\n",
       "      <td>0.0</td>\n",
       "      <td>2000-01</td>\n",
       "      <td>20.0</td>\n",
       "      <td>1.0</td>\n",
       "      <td>...</td>\n",
       "      <td>2000-10-31</td>\n",
       "      <td>MANU @ POR</td>\n",
       "      <td>45.539131, -122.651648</td>\n",
       "      <td>NaN</td>\n",
       "      <td>shot - 1</td>\n",
       "      <td>20000012</td>\n",
       "      <td>42.64</td>\n",
       "      <td>2.0</td>\n",
       "      <td>0.000</td>\n",
       "      <td>20.0</td>\n",
       "    </tr>\n",
       "  </tbody>\n",
       "</table>\n",
       "<p>5 rows × 23 columns</p>\n",
       "</div>"
      ],
      "text/plain": [
       "   Unnamed: 0  match_event_id  location_x  location_y  remaining_min  \\\n",
       "0           0            10.0       167.0        72.0           10.0   \n",
       "1           1            12.0      -157.0         0.0           10.0   \n",
       "2           2            35.0      -101.0       135.0            7.0   \n",
       "3           3            43.0       138.0       175.0            6.0   \n",
       "4           4           155.0         0.0         0.0            NaN   \n",
       "\n",
       "   power_of_shot  knockout_match game_season  distance_of_shot  is_goal  \\\n",
       "0            1.0             0.0     2000-01              38.0      NaN   \n",
       "1            1.0             0.0     2000-01              35.0      0.0   \n",
       "2            1.0             0.0     2000-01              36.0      1.0   \n",
       "3            1.0             0.0     2000-01              42.0      0.0   \n",
       "4            2.0             0.0     2000-01              20.0      1.0   \n",
       "\n",
       "          ...         date_of_game   home/away                 lat/lng  \\\n",
       "0         ...           2000-10-31  MANU @ POR  45.539131, -122.651648   \n",
       "1         ...           2000-10-31  MANU @ POR  45.539131, -122.651648   \n",
       "2         ...           2000-10-31         NaN  45.539131, -122.651648   \n",
       "3         ...           2000-10-31  MANU @ POR  45.539131, -122.651648   \n",
       "4         ...           2000-10-31  MANU @ POR  45.539131, -122.651648   \n",
       "\n",
       "  type_of_shot type_of_combined_shot  match_id remaining_min.1  \\\n",
       "0    shot - 30                   NaN  20000012           10.00   \n",
       "1    shot - 45                   NaN  20000012           10.00   \n",
       "2    shot - 25                   NaN  20000012           92.64   \n",
       "3          NaN              shot - 3  20000012             NaN   \n",
       "4          NaN              shot - 1  20000012           42.64   \n",
       "\n",
       "  power_of_shot.1  knockout_match.1  distance_of_shot.1  \n",
       "0             1.0            50.608                38.0  \n",
       "1             1.0            28.800                35.0  \n",
       "2             1.0             0.000                54.4  \n",
       "3             1.0           122.608                42.0  \n",
       "4             2.0             0.000                20.0  \n",
       "\n",
       "[5 rows x 23 columns]"
      ]
     },
     "execution_count": 792,
     "metadata": {
      "tags": []
     },
     "output_type": "execute_result"
    }
   ],
   "source": [
    "#dropping column team name, team id because it's same throughout and seconds don't hold much importance in goal detection\n",
    "d1 = d1.drop(['team_name','team_id','shot_id_number','remaining_sec','remaining_sec.1'],axis=1)\n",
    "d1.head()"
   ]
  },
  {
   "cell_type": "code",
   "execution_count": 0,
   "metadata": {
    "colab": {},
    "colab_type": "code",
    "id": "x7a6E6KTZX6X",
    "outputId": "99333c83-ca0b-487c-f22f-b0b3a766d592"
   },
   "outputs": [
    {
     "data": {
      "text/html": [
       "<div>\n",
       "<style scoped>\n",
       "    .dataframe tbody tr th:only-of-type {\n",
       "        vertical-align: middle;\n",
       "    }\n",
       "\n",
       "    .dataframe tbody tr th {\n",
       "        vertical-align: top;\n",
       "    }\n",
       "\n",
       "    .dataframe thead th {\n",
       "        text-align: right;\n",
       "    }\n",
       "</style>\n",
       "<table border=\"1\" class=\"dataframe\">\n",
       "  <thead>\n",
       "    <tr style=\"text-align: right;\">\n",
       "      <th></th>\n",
       "      <th>shot_id_number</th>\n",
       "      <th>match_event_id</th>\n",
       "      <th>location_x</th>\n",
       "      <th>location_y</th>\n",
       "      <th>remaining_min</th>\n",
       "      <th>power_of_shot</th>\n",
       "      <th>knockout_match</th>\n",
       "      <th>game_season</th>\n",
       "      <th>distance_of_shot</th>\n",
       "      <th>is_goal</th>\n",
       "      <th>...</th>\n",
       "      <th>date_of_game</th>\n",
       "      <th>home/away</th>\n",
       "      <th>lat/lng</th>\n",
       "      <th>type_of_shot</th>\n",
       "      <th>type_of_combined_shot</th>\n",
       "      <th>match_id</th>\n",
       "      <th>remaining_min.1</th>\n",
       "      <th>power_of_shot.1</th>\n",
       "      <th>knockout_match.1</th>\n",
       "      <th>distance_of_shot.1</th>\n",
       "    </tr>\n",
       "  </thead>\n",
       "  <tbody>\n",
       "    <tr>\n",
       "      <th>0</th>\n",
       "      <td>1</td>\n",
       "      <td>10.0</td>\n",
       "      <td>167.0</td>\n",
       "      <td>72.0</td>\n",
       "      <td>10.0</td>\n",
       "      <td>1.0</td>\n",
       "      <td>0.0</td>\n",
       "      <td>2000-01</td>\n",
       "      <td>38.0</td>\n",
       "      <td>NaN</td>\n",
       "      <td>...</td>\n",
       "      <td>2000-10-31</td>\n",
       "      <td>MANU @ POR</td>\n",
       "      <td>45.539131, -122.651648</td>\n",
       "      <td>shot - 30</td>\n",
       "      <td>NaN</td>\n",
       "      <td>20000012</td>\n",
       "      <td>10.00</td>\n",
       "      <td>1.0</td>\n",
       "      <td>50.608</td>\n",
       "      <td>38.0</td>\n",
       "    </tr>\n",
       "    <tr>\n",
       "      <th>1</th>\n",
       "      <td>2</td>\n",
       "      <td>12.0</td>\n",
       "      <td>-157.0</td>\n",
       "      <td>0.0</td>\n",
       "      <td>10.0</td>\n",
       "      <td>1.0</td>\n",
       "      <td>0.0</td>\n",
       "      <td>2000-01</td>\n",
       "      <td>35.0</td>\n",
       "      <td>0.0</td>\n",
       "      <td>...</td>\n",
       "      <td>2000-10-31</td>\n",
       "      <td>MANU @ POR</td>\n",
       "      <td>45.539131, -122.651648</td>\n",
       "      <td>shot - 45</td>\n",
       "      <td>NaN</td>\n",
       "      <td>20000012</td>\n",
       "      <td>10.00</td>\n",
       "      <td>1.0</td>\n",
       "      <td>28.800</td>\n",
       "      <td>35.0</td>\n",
       "    </tr>\n",
       "    <tr>\n",
       "      <th>2</th>\n",
       "      <td>3</td>\n",
       "      <td>35.0</td>\n",
       "      <td>-101.0</td>\n",
       "      <td>135.0</td>\n",
       "      <td>7.0</td>\n",
       "      <td>1.0</td>\n",
       "      <td>0.0</td>\n",
       "      <td>2000-01</td>\n",
       "      <td>36.0</td>\n",
       "      <td>1.0</td>\n",
       "      <td>...</td>\n",
       "      <td>2000-10-31</td>\n",
       "      <td>NaN</td>\n",
       "      <td>45.539131, -122.651648</td>\n",
       "      <td>shot - 25</td>\n",
       "      <td>NaN</td>\n",
       "      <td>20000012</td>\n",
       "      <td>92.64</td>\n",
       "      <td>1.0</td>\n",
       "      <td>0.000</td>\n",
       "      <td>54.4</td>\n",
       "    </tr>\n",
       "    <tr>\n",
       "      <th>3</th>\n",
       "      <td>4</td>\n",
       "      <td>43.0</td>\n",
       "      <td>138.0</td>\n",
       "      <td>175.0</td>\n",
       "      <td>6.0</td>\n",
       "      <td>1.0</td>\n",
       "      <td>0.0</td>\n",
       "      <td>2000-01</td>\n",
       "      <td>42.0</td>\n",
       "      <td>0.0</td>\n",
       "      <td>...</td>\n",
       "      <td>2000-10-31</td>\n",
       "      <td>MANU @ POR</td>\n",
       "      <td>45.539131, -122.651648</td>\n",
       "      <td>NaN</td>\n",
       "      <td>shot - 3</td>\n",
       "      <td>20000012</td>\n",
       "      <td>NaN</td>\n",
       "      <td>1.0</td>\n",
       "      <td>122.608</td>\n",
       "      <td>42.0</td>\n",
       "    </tr>\n",
       "    <tr>\n",
       "      <th>4</th>\n",
       "      <td>5</td>\n",
       "      <td>155.0</td>\n",
       "      <td>0.0</td>\n",
       "      <td>0.0</td>\n",
       "      <td>NaN</td>\n",
       "      <td>2.0</td>\n",
       "      <td>0.0</td>\n",
       "      <td>2000-01</td>\n",
       "      <td>20.0</td>\n",
       "      <td>1.0</td>\n",
       "      <td>...</td>\n",
       "      <td>2000-10-31</td>\n",
       "      <td>MANU @ POR</td>\n",
       "      <td>45.539131, -122.651648</td>\n",
       "      <td>NaN</td>\n",
       "      <td>shot - 1</td>\n",
       "      <td>20000012</td>\n",
       "      <td>42.64</td>\n",
       "      <td>2.0</td>\n",
       "      <td>0.000</td>\n",
       "      <td>20.0</td>\n",
       "    </tr>\n",
       "  </tbody>\n",
       "</table>\n",
       "<p>5 rows × 23 columns</p>\n",
       "</div>"
      ],
      "text/plain": [
       "   shot_id_number  match_event_id  location_x  location_y  remaining_min  \\\n",
       "0               1            10.0       167.0        72.0           10.0   \n",
       "1               2            12.0      -157.0         0.0           10.0   \n",
       "2               3            35.0      -101.0       135.0            7.0   \n",
       "3               4            43.0       138.0       175.0            6.0   \n",
       "4               5           155.0         0.0         0.0            NaN   \n",
       "\n",
       "   power_of_shot  knockout_match game_season  distance_of_shot  is_goal  \\\n",
       "0            1.0             0.0     2000-01              38.0      NaN   \n",
       "1            1.0             0.0     2000-01              35.0      0.0   \n",
       "2            1.0             0.0     2000-01              36.0      1.0   \n",
       "3            1.0             0.0     2000-01              42.0      0.0   \n",
       "4            2.0             0.0     2000-01              20.0      1.0   \n",
       "\n",
       "          ...         date_of_game   home/away                 lat/lng  \\\n",
       "0         ...           2000-10-31  MANU @ POR  45.539131, -122.651648   \n",
       "1         ...           2000-10-31  MANU @ POR  45.539131, -122.651648   \n",
       "2         ...           2000-10-31         NaN  45.539131, -122.651648   \n",
       "3         ...           2000-10-31  MANU @ POR  45.539131, -122.651648   \n",
       "4         ...           2000-10-31  MANU @ POR  45.539131, -122.651648   \n",
       "\n",
       "  type_of_shot type_of_combined_shot  match_id remaining_min.1  \\\n",
       "0    shot - 30                   NaN  20000012           10.00   \n",
       "1    shot - 45                   NaN  20000012           10.00   \n",
       "2    shot - 25                   NaN  20000012           92.64   \n",
       "3          NaN              shot - 3  20000012             NaN   \n",
       "4          NaN              shot - 1  20000012           42.64   \n",
       "\n",
       "  power_of_shot.1  knockout_match.1  distance_of_shot.1  \n",
       "0             1.0            50.608                38.0  \n",
       "1             1.0            28.800                35.0  \n",
       "2             1.0             0.000                54.4  \n",
       "3             1.0           122.608                42.0  \n",
       "4             2.0             0.000                20.0  \n",
       "\n",
       "[5 rows x 23 columns]"
      ]
     },
     "execution_count": 793,
     "metadata": {
      "tags": []
     },
     "output_type": "execute_result"
    }
   ],
   "source": [
    "#filling in the missing values in shot_id_number column \n",
    "d1['Unnamed: 0'] += 1\n",
    "d1 = d1.rename(columns={'Unnamed: 0': 'shot_id_number'})\n",
    "d1.head()"
   ]
  },
  {
   "cell_type": "code",
   "execution_count": 0,
   "metadata": {
    "colab": {},
    "colab_type": "code",
    "id": "go1aYsjYZX6f",
    "outputId": "732895ac-c596-41e8-b3f9-a39528aea2b6"
   },
   "outputs": [
    {
     "data": {
      "text/html": [
       "<div>\n",
       "<style scoped>\n",
       "    .dataframe tbody tr th:only-of-type {\n",
       "        vertical-align: middle;\n",
       "    }\n",
       "\n",
       "    .dataframe tbody tr th {\n",
       "        vertical-align: top;\n",
       "    }\n",
       "\n",
       "    .dataframe thead th {\n",
       "        text-align: right;\n",
       "    }\n",
       "</style>\n",
       "<table border=\"1\" class=\"dataframe\">\n",
       "  <thead>\n",
       "    <tr style=\"text-align: right;\">\n",
       "      <th></th>\n",
       "      <th>distance_of_shot</th>\n",
       "      <th>distance_of_shot_1</th>\n",
       "    </tr>\n",
       "  </thead>\n",
       "  <tbody>\n",
       "    <tr>\n",
       "      <th>0</th>\n",
       "      <td>38.0</td>\n",
       "      <td>38.0</td>\n",
       "    </tr>\n",
       "    <tr>\n",
       "      <th>1</th>\n",
       "      <td>35.0</td>\n",
       "      <td>35.0</td>\n",
       "    </tr>\n",
       "    <tr>\n",
       "      <th>2</th>\n",
       "      <td>36.0</td>\n",
       "      <td>54.4</td>\n",
       "    </tr>\n",
       "    <tr>\n",
       "      <th>3</th>\n",
       "      <td>42.0</td>\n",
       "      <td>42.0</td>\n",
       "    </tr>\n",
       "    <tr>\n",
       "      <th>4</th>\n",
       "      <td>20.0</td>\n",
       "      <td>20.0</td>\n",
       "    </tr>\n",
       "  </tbody>\n",
       "</table>\n",
       "</div>"
      ],
      "text/plain": [
       "   distance_of_shot  distance_of_shot_1\n",
       "0              38.0                38.0\n",
       "1              35.0                35.0\n",
       "2              36.0                54.4\n",
       "3              42.0                42.0\n",
       "4              20.0                20.0"
      ]
     },
     "execution_count": 794,
     "metadata": {
      "tags": []
     },
     "output_type": "execute_result"
    }
   ],
   "source": [
    "#distance of shot analysis\n",
    "#to see whether the values are same or not \n",
    "d2 = d1[['distance_of_shot','distance_of_shot.1']]\n",
    "d2 = d2.rename(columns={'distance_of_shot.1':'distance_of_shot_1'})\n",
    "d2.head()"
   ]
  },
  {
   "cell_type": "code",
   "execution_count": 0,
   "metadata": {
    "colab": {},
    "colab_type": "code",
    "id": "lgKjk56LZX6p",
    "outputId": "7f5314a3-efb9-4f16-95ae-a45b7f5d179a"
   },
   "outputs": [
    {
     "data": {
      "text/html": [
       "<div>\n",
       "<style scoped>\n",
       "    .dataframe tbody tr th:only-of-type {\n",
       "        vertical-align: middle;\n",
       "    }\n",
       "\n",
       "    .dataframe tbody tr th {\n",
       "        vertical-align: top;\n",
       "    }\n",
       "\n",
       "    .dataframe thead th {\n",
       "        text-align: right;\n",
       "    }\n",
       "</style>\n",
       "<table border=\"1\" class=\"dataframe\">\n",
       "  <thead>\n",
       "    <tr style=\"text-align: right;\">\n",
       "      <th></th>\n",
       "      <th>distance_of_shot</th>\n",
       "      <th>distance_of_shot_1</th>\n",
       "      <th>distance_of_shot_avg</th>\n",
       "    </tr>\n",
       "  </thead>\n",
       "  <tbody>\n",
       "    <tr>\n",
       "      <th>0</th>\n",
       "      <td>38.0</td>\n",
       "      <td>38.0</td>\n",
       "      <td>38.0</td>\n",
       "    </tr>\n",
       "    <tr>\n",
       "      <th>1</th>\n",
       "      <td>35.0</td>\n",
       "      <td>35.0</td>\n",
       "      <td>35.0</td>\n",
       "    </tr>\n",
       "    <tr>\n",
       "      <th>2</th>\n",
       "      <td>36.0</td>\n",
       "      <td>54.4</td>\n",
       "      <td>45.2</td>\n",
       "    </tr>\n",
       "    <tr>\n",
       "      <th>3</th>\n",
       "      <td>42.0</td>\n",
       "      <td>42.0</td>\n",
       "      <td>42.0</td>\n",
       "    </tr>\n",
       "    <tr>\n",
       "      <th>4</th>\n",
       "      <td>20.0</td>\n",
       "      <td>20.0</td>\n",
       "      <td>20.0</td>\n",
       "    </tr>\n",
       "  </tbody>\n",
       "</table>\n",
       "</div>"
      ],
      "text/plain": [
       "   distance_of_shot  distance_of_shot_1  distance_of_shot_avg\n",
       "0              38.0                38.0                  38.0\n",
       "1              35.0                35.0                  35.0\n",
       "2              36.0                54.4                  45.2\n",
       "3              42.0                42.0                  42.0\n",
       "4              20.0                20.0                  20.0"
      ]
     },
     "execution_count": 795,
     "metadata": {
      "tags": []
     },
     "output_type": "execute_result"
    }
   ],
   "source": [
    "#filling na values and finding average of the 2 cols\n",
    "d2.distance_of_shot.fillna(d2.distance_of_shot_1, inplace=True)\n",
    "d2.distance_of_shot_1.fillna(d2.distance_of_shot, inplace=True)\n",
    "d2['distance_of_shot_avg']=d2.mean(axis=1)\n",
    "d2.head()"
   ]
  },
  {
   "cell_type": "code",
   "execution_count": 0,
   "metadata": {
    "colab": {},
    "colab_type": "code",
    "id": "MhOlwJ3UZX68",
    "outputId": "096a7ce9-a225-4645-a83d-b447652aed64"
   },
   "outputs": [
    {
     "data": {
      "text/html": [
       "<div>\n",
       "<style scoped>\n",
       "    .dataframe tbody tr th:only-of-type {\n",
       "        vertical-align: middle;\n",
       "    }\n",
       "\n",
       "    .dataframe tbody tr th {\n",
       "        vertical-align: top;\n",
       "    }\n",
       "\n",
       "    .dataframe thead th {\n",
       "        text-align: right;\n",
       "    }\n",
       "</style>\n",
       "<table border=\"1\" class=\"dataframe\">\n",
       "  <thead>\n",
       "    <tr style=\"text-align: right;\">\n",
       "      <th></th>\n",
       "      <th>shot_id_number</th>\n",
       "      <th>match_event_id</th>\n",
       "      <th>location_x</th>\n",
       "      <th>location_y</th>\n",
       "      <th>remaining_min</th>\n",
       "      <th>power_of_shot</th>\n",
       "      <th>knockout_match</th>\n",
       "      <th>game_season</th>\n",
       "      <th>is_goal</th>\n",
       "      <th>area_of_shot</th>\n",
       "      <th>...</th>\n",
       "      <th>range_of_shot</th>\n",
       "      <th>date_of_game</th>\n",
       "      <th>home/away</th>\n",
       "      <th>lat/lng</th>\n",
       "      <th>type_of_shot</th>\n",
       "      <th>type_of_combined_shot</th>\n",
       "      <th>match_id</th>\n",
       "      <th>remaining_min.1</th>\n",
       "      <th>power_of_shot.1</th>\n",
       "      <th>knockout_match.1</th>\n",
       "    </tr>\n",
       "  </thead>\n",
       "  <tbody>\n",
       "    <tr>\n",
       "      <th>0</th>\n",
       "      <td>1</td>\n",
       "      <td>10.0</td>\n",
       "      <td>167.0</td>\n",
       "      <td>72.0</td>\n",
       "      <td>10.0</td>\n",
       "      <td>1.0</td>\n",
       "      <td>0.0</td>\n",
       "      <td>2000-01</td>\n",
       "      <td>NaN</td>\n",
       "      <td>Right Side(R)</td>\n",
       "      <td>...</td>\n",
       "      <td>16-24 ft.</td>\n",
       "      <td>2000-10-31</td>\n",
       "      <td>MANU @ POR</td>\n",
       "      <td>45.539131, -122.651648</td>\n",
       "      <td>shot - 30</td>\n",
       "      <td>NaN</td>\n",
       "      <td>20000012</td>\n",
       "      <td>10.00</td>\n",
       "      <td>1.0</td>\n",
       "      <td>50.608</td>\n",
       "    </tr>\n",
       "    <tr>\n",
       "      <th>1</th>\n",
       "      <td>2</td>\n",
       "      <td>12.0</td>\n",
       "      <td>-157.0</td>\n",
       "      <td>0.0</td>\n",
       "      <td>10.0</td>\n",
       "      <td>1.0</td>\n",
       "      <td>0.0</td>\n",
       "      <td>2000-01</td>\n",
       "      <td>0.0</td>\n",
       "      <td>Left Side(L)</td>\n",
       "      <td>...</td>\n",
       "      <td>8-16 ft.</td>\n",
       "      <td>2000-10-31</td>\n",
       "      <td>MANU @ POR</td>\n",
       "      <td>45.539131, -122.651648</td>\n",
       "      <td>shot - 45</td>\n",
       "      <td>NaN</td>\n",
       "      <td>20000012</td>\n",
       "      <td>10.00</td>\n",
       "      <td>1.0</td>\n",
       "      <td>28.800</td>\n",
       "    </tr>\n",
       "    <tr>\n",
       "      <th>2</th>\n",
       "      <td>3</td>\n",
       "      <td>35.0</td>\n",
       "      <td>-101.0</td>\n",
       "      <td>135.0</td>\n",
       "      <td>7.0</td>\n",
       "      <td>1.0</td>\n",
       "      <td>0.0</td>\n",
       "      <td>2000-01</td>\n",
       "      <td>1.0</td>\n",
       "      <td>Left Side Center(LC)</td>\n",
       "      <td>...</td>\n",
       "      <td>16-24 ft.</td>\n",
       "      <td>2000-10-31</td>\n",
       "      <td>NaN</td>\n",
       "      <td>45.539131, -122.651648</td>\n",
       "      <td>shot - 25</td>\n",
       "      <td>NaN</td>\n",
       "      <td>20000012</td>\n",
       "      <td>92.64</td>\n",
       "      <td>1.0</td>\n",
       "      <td>0.000</td>\n",
       "    </tr>\n",
       "    <tr>\n",
       "      <th>3</th>\n",
       "      <td>4</td>\n",
       "      <td>43.0</td>\n",
       "      <td>138.0</td>\n",
       "      <td>175.0</td>\n",
       "      <td>6.0</td>\n",
       "      <td>1.0</td>\n",
       "      <td>0.0</td>\n",
       "      <td>2000-01</td>\n",
       "      <td>0.0</td>\n",
       "      <td>Right Side Center(RC)</td>\n",
       "      <td>...</td>\n",
       "      <td>16-24 ft.</td>\n",
       "      <td>2000-10-31</td>\n",
       "      <td>MANU @ POR</td>\n",
       "      <td>45.539131, -122.651648</td>\n",
       "      <td>NaN</td>\n",
       "      <td>shot - 3</td>\n",
       "      <td>20000012</td>\n",
       "      <td>NaN</td>\n",
       "      <td>1.0</td>\n",
       "      <td>122.608</td>\n",
       "    </tr>\n",
       "    <tr>\n",
       "      <th>4</th>\n",
       "      <td>5</td>\n",
       "      <td>155.0</td>\n",
       "      <td>0.0</td>\n",
       "      <td>0.0</td>\n",
       "      <td>NaN</td>\n",
       "      <td>2.0</td>\n",
       "      <td>0.0</td>\n",
       "      <td>2000-01</td>\n",
       "      <td>1.0</td>\n",
       "      <td>Center(C)</td>\n",
       "      <td>...</td>\n",
       "      <td>Less Than 8 ft.</td>\n",
       "      <td>2000-10-31</td>\n",
       "      <td>MANU @ POR</td>\n",
       "      <td>45.539131, -122.651648</td>\n",
       "      <td>NaN</td>\n",
       "      <td>shot - 1</td>\n",
       "      <td>20000012</td>\n",
       "      <td>42.64</td>\n",
       "      <td>2.0</td>\n",
       "      <td>0.000</td>\n",
       "    </tr>\n",
       "  </tbody>\n",
       "</table>\n",
       "<p>5 rows × 21 columns</p>\n",
       "</div>"
      ],
      "text/plain": [
       "   shot_id_number  match_event_id  location_x  location_y  remaining_min  \\\n",
       "0               1            10.0       167.0        72.0           10.0   \n",
       "1               2            12.0      -157.0         0.0           10.0   \n",
       "2               3            35.0      -101.0       135.0            7.0   \n",
       "3               4            43.0       138.0       175.0            6.0   \n",
       "4               5           155.0         0.0         0.0            NaN   \n",
       "\n",
       "   power_of_shot  knockout_match game_season  is_goal           area_of_shot  \\\n",
       "0            1.0             0.0     2000-01      NaN          Right Side(R)   \n",
       "1            1.0             0.0     2000-01      0.0           Left Side(L)   \n",
       "2            1.0             0.0     2000-01      1.0   Left Side Center(LC)   \n",
       "3            1.0             0.0     2000-01      0.0  Right Side Center(RC)   \n",
       "4            2.0             0.0     2000-01      1.0              Center(C)   \n",
       "\n",
       "         ...           range_of_shot date_of_game   home/away  \\\n",
       "0        ...               16-24 ft.   2000-10-31  MANU @ POR   \n",
       "1        ...                8-16 ft.   2000-10-31  MANU @ POR   \n",
       "2        ...               16-24 ft.   2000-10-31         NaN   \n",
       "3        ...               16-24 ft.   2000-10-31  MANU @ POR   \n",
       "4        ...         Less Than 8 ft.   2000-10-31  MANU @ POR   \n",
       "\n",
       "                  lat/lng type_of_shot type_of_combined_shot  match_id  \\\n",
       "0  45.539131, -122.651648    shot - 30                   NaN  20000012   \n",
       "1  45.539131, -122.651648    shot - 45                   NaN  20000012   \n",
       "2  45.539131, -122.651648    shot - 25                   NaN  20000012   \n",
       "3  45.539131, -122.651648          NaN              shot - 3  20000012   \n",
       "4  45.539131, -122.651648          NaN              shot - 1  20000012   \n",
       "\n",
       "   remaining_min.1  power_of_shot.1  knockout_match.1  \n",
       "0            10.00              1.0            50.608  \n",
       "1            10.00              1.0            28.800  \n",
       "2            92.64              1.0             0.000  \n",
       "3              NaN              1.0           122.608  \n",
       "4            42.64              2.0             0.000  \n",
       "\n",
       "[5 rows x 21 columns]"
      ]
     },
     "execution_count": 796,
     "metadata": {
      "tags": []
     },
     "output_type": "execute_result"
    }
   ],
   "source": [
    "d1 = d1.drop(['distance_of_shot','distance_of_shot.1'],axis=1)\n",
    "d1.head()"
   ]
  },
  {
   "cell_type": "code",
   "execution_count": 0,
   "metadata": {
    "colab": {},
    "colab_type": "code",
    "id": "Q5_s2x21ZX7P",
    "outputId": "778d9ffb-06f9-43b9-a6cd-785e410484c1"
   },
   "outputs": [
    {
     "data": {
      "text/html": [
       "<div>\n",
       "<style scoped>\n",
       "    .dataframe tbody tr th:only-of-type {\n",
       "        vertical-align: middle;\n",
       "    }\n",
       "\n",
       "    .dataframe tbody tr th {\n",
       "        vertical-align: top;\n",
       "    }\n",
       "\n",
       "    .dataframe thead th {\n",
       "        text-align: right;\n",
       "    }\n",
       "</style>\n",
       "<table border=\"1\" class=\"dataframe\">\n",
       "  <thead>\n",
       "    <tr style=\"text-align: right;\">\n",
       "      <th></th>\n",
       "      <th>shot_id_number</th>\n",
       "      <th>match_event_id</th>\n",
       "      <th>location_x</th>\n",
       "      <th>location_y</th>\n",
       "      <th>remaining_min</th>\n",
       "      <th>power_of_shot</th>\n",
       "      <th>knockout_match</th>\n",
       "      <th>game_season</th>\n",
       "      <th>is_goal</th>\n",
       "      <th>area_of_shot</th>\n",
       "      <th>...</th>\n",
       "      <th>lat/lng</th>\n",
       "      <th>type_of_shot</th>\n",
       "      <th>type_of_combined_shot</th>\n",
       "      <th>match_id</th>\n",
       "      <th>remaining_min.1</th>\n",
       "      <th>power_of_shot.1</th>\n",
       "      <th>knockout_match.1</th>\n",
       "      <th>distance_of_shot</th>\n",
       "      <th>distance_of_shot_1</th>\n",
       "      <th>distance_of_shot_avg</th>\n",
       "    </tr>\n",
       "  </thead>\n",
       "  <tbody>\n",
       "    <tr>\n",
       "      <th>11676</th>\n",
       "      <td>11677</td>\n",
       "      <td>472.0</td>\n",
       "      <td>0.0</td>\n",
       "      <td>0.0</td>\n",
       "      <td>0.0</td>\n",
       "      <td>4.0</td>\n",
       "      <td>0.0</td>\n",
       "      <td>2007-08</td>\n",
       "      <td>1.0</td>\n",
       "      <td>Center(C)</td>\n",
       "      <td>...</td>\n",
       "      <td>43.062206, -87.944754</td>\n",
       "      <td>shot - 56</td>\n",
       "      <td>NaN</td>\n",
       "      <td>20700162</td>\n",
       "      <td>0.0</td>\n",
       "      <td>4.0</td>\n",
       "      <td>0.0</td>\n",
       "      <td>29.4</td>\n",
       "      <td>29.4</td>\n",
       "      <td>29.4</td>\n",
       "    </tr>\n",
       "    <tr>\n",
       "      <th>28074</th>\n",
       "      <td>28075</td>\n",
       "      <td>116.0</td>\n",
       "      <td>NaN</td>\n",
       "      <td>209.0</td>\n",
       "      <td>0.0</td>\n",
       "      <td>1.0</td>\n",
       "      <td>1.0</td>\n",
       "      <td>2007-08</td>\n",
       "      <td>1.0</td>\n",
       "      <td>Left Side Center(LC)</td>\n",
       "      <td>...</td>\n",
       "      <td>42.982923, -71.446094</td>\n",
       "      <td>NaN</td>\n",
       "      <td>shot - 3</td>\n",
       "      <td>40700142</td>\n",
       "      <td>0.0</td>\n",
       "      <td>26.6</td>\n",
       "      <td>1.0</td>\n",
       "      <td>45.0</td>\n",
       "      <td>45.0</td>\n",
       "      <td>45.0</td>\n",
       "    </tr>\n",
       "  </tbody>\n",
       "</table>\n",
       "<p>2 rows × 24 columns</p>\n",
       "</div>"
      ],
      "text/plain": [
       "       shot_id_number  match_event_id  location_x  location_y  remaining_min  \\\n",
       "11676           11677           472.0         0.0         0.0            0.0   \n",
       "28074           28075           116.0         NaN       209.0            0.0   \n",
       "\n",
       "       power_of_shot  knockout_match game_season  is_goal  \\\n",
       "11676            4.0             0.0     2007-08      1.0   \n",
       "28074            1.0             1.0     2007-08      1.0   \n",
       "\n",
       "               area_of_shot          ...                         lat/lng  \\\n",
       "11676             Center(C)          ...           43.062206, -87.944754   \n",
       "28074  Left Side Center(LC)          ...           42.982923, -71.446094   \n",
       "\n",
       "      type_of_shot type_of_combined_shot  match_id remaining_min.1  \\\n",
       "11676    shot - 56                   NaN  20700162             0.0   \n",
       "28074          NaN              shot - 3  40700142             0.0   \n",
       "\n",
       "      power_of_shot.1 knockout_match.1  distance_of_shot  distance_of_shot_1  \\\n",
       "11676             4.0              0.0              29.4                29.4   \n",
       "28074            26.6              1.0              45.0                45.0   \n",
       "\n",
       "       distance_of_shot_avg  \n",
       "11676                  29.4  \n",
       "28074                  45.0  \n",
       "\n",
       "[2 rows x 24 columns]"
      ]
     },
     "execution_count": 797,
     "metadata": {
      "tags": []
     },
     "output_type": "execute_result"
    }
   ],
   "source": [
    "#appending the average now d3 is latest \n",
    "d3 = pd.concat([d1, d2], axis=1)\n",
    "d3.sample(2)"
   ]
  },
  {
   "cell_type": "code",
   "execution_count": 0,
   "metadata": {
    "colab": {},
    "colab_type": "code",
    "collapsed": true,
    "id": "HQZUSqsbZX7g"
   },
   "outputs": [],
   "source": [
    "d3.distance_of_shot_avg.fillna(d3.range_of_shot, inplace=True)"
   ]
  },
  {
   "cell_type": "code",
   "execution_count": 0,
   "metadata": {
    "colab": {},
    "colab_type": "code",
    "id": "Ee6Jgj4nZX7n",
    "outputId": "41ba8a83-e0ee-4428-c6b2-7350291d9f3e"
   },
   "outputs": [
    {
     "name": "stderr",
     "output_type": "stream",
     "text": [
      "C:\\Users\\Ishita\\Anaconda3\\lib\\site-packages\\ipykernel_launcher.py:2: FutureWarning: get_value is deprecated and will be removed in a future release. Please use .at[] or .iat[] accessors instead\n",
      "  \n",
      "C:\\Users\\Ishita\\Anaconda3\\lib\\site-packages\\ipykernel_launcher.py:8: FutureWarning: set_value is deprecated and will be removed in a future release. Please use .at[] or .iat[] accessors instead\n",
      "  \n",
      "C:\\Users\\Ishita\\Anaconda3\\lib\\site-packages\\ipykernel_launcher.py:10: FutureWarning: set_value is deprecated and will be removed in a future release. Please use .at[] or .iat[] accessors instead\n",
      "  # Remove the CWD from sys.path while we load stuff.\n",
      "C:\\Users\\Ishita\\Anaconda3\\lib\\site-packages\\ipykernel_launcher.py:4: FutureWarning: set_value is deprecated and will be removed in a future release. Please use .at[] or .iat[] accessors instead\n",
      "  after removing the cwd from sys.path.\n",
      "C:\\Users\\Ishita\\Anaconda3\\lib\\site-packages\\ipykernel_launcher.py:6: FutureWarning: set_value is deprecated and will be removed in a future release. Please use .at[] or .iat[] accessors instead\n",
      "  \n"
     ]
    }
   ],
   "source": [
    "for i in d3.index:\n",
    "  val = d3.get_value(i,'distance_of_shot_avg')\n",
    "  if(val=='Less Than 8 ft.'):\n",
    "    d3.set_value(i,'distance_of_shot_avg',25.5863)\n",
    "  elif(val=='16-24 ft.'):\n",
    "    d3.set_value(i,'distance_of_shot_avg',40.74)\n",
    "  elif(val=='24+ ft.'):\n",
    "    d3.set_value(i,'distance_of_shot_avg',46.707029)\n",
    "  elif(val=='8-16 ft.'):\n",
    "    d3.set_value(i,'distance_of_shot_avg',34.8279)\n",
    "  elif(val=='Back Court Shot'):\n",
    "    d3.set_value(i,'distance_of_shot_avg',72.619)"
   ]
  },
  {
   "cell_type": "code",
   "execution_count": 0,
   "metadata": {
    "colab": {},
    "colab_type": "code",
    "id": "C4fPt2ixZX7v",
    "outputId": "86842340-b6c8-4c9b-8972-0d8c8b4b8a67"
   },
   "outputs": [
    {
     "data": {
      "text/html": [
       "<div>\n",
       "<style scoped>\n",
       "    .dataframe tbody tr th:only-of-type {\n",
       "        vertical-align: middle;\n",
       "    }\n",
       "\n",
       "    .dataframe tbody tr th {\n",
       "        vertical-align: top;\n",
       "    }\n",
       "\n",
       "    .dataframe thead th {\n",
       "        text-align: right;\n",
       "    }\n",
       "</style>\n",
       "<table border=\"1\" class=\"dataframe\">\n",
       "  <thead>\n",
       "    <tr style=\"text-align: right;\">\n",
       "      <th></th>\n",
       "      <th>remaining_min</th>\n",
       "      <th>remaining_min_1</th>\n",
       "    </tr>\n",
       "  </thead>\n",
       "  <tbody>\n",
       "    <tr>\n",
       "      <th>0</th>\n",
       "      <td>10.0</td>\n",
       "      <td>10.00</td>\n",
       "    </tr>\n",
       "    <tr>\n",
       "      <th>1</th>\n",
       "      <td>10.0</td>\n",
       "      <td>10.00</td>\n",
       "    </tr>\n",
       "    <tr>\n",
       "      <th>2</th>\n",
       "      <td>7.0</td>\n",
       "      <td>92.64</td>\n",
       "    </tr>\n",
       "    <tr>\n",
       "      <th>3</th>\n",
       "      <td>6.0</td>\n",
       "      <td>NaN</td>\n",
       "    </tr>\n",
       "    <tr>\n",
       "      <th>4</th>\n",
       "      <td>NaN</td>\n",
       "      <td>42.64</td>\n",
       "    </tr>\n",
       "  </tbody>\n",
       "</table>\n",
       "</div>"
      ],
      "text/plain": [
       "   remaining_min  remaining_min_1\n",
       "0           10.0            10.00\n",
       "1           10.0            10.00\n",
       "2            7.0            92.64\n",
       "3            6.0              NaN\n",
       "4            NaN            42.64"
      ]
     },
     "execution_count": 800,
     "metadata": {
      "tags": []
     },
     "output_type": "execute_result"
    }
   ],
   "source": [
    "#remaining min analysis \n",
    "#to see whether the values are same or not \n",
    "d4 = d1[['remaining_min','remaining_min.1']]\n",
    "d4 = d4.rename(columns={'remaining_min.1':'remaining_min_1'})\n",
    "d4.head()"
   ]
  },
  {
   "cell_type": "code",
   "execution_count": 0,
   "metadata": {
    "colab": {},
    "colab_type": "code",
    "id": "DVcM_dkOZX74",
    "outputId": "ad156e42-57f0-4b7f-f7db-d2acbabbb703"
   },
   "outputs": [
    {
     "data": {
      "text/html": [
       "<div>\n",
       "<style scoped>\n",
       "    .dataframe tbody tr th:only-of-type {\n",
       "        vertical-align: middle;\n",
       "    }\n",
       "\n",
       "    .dataframe tbody tr th {\n",
       "        vertical-align: top;\n",
       "    }\n",
       "\n",
       "    .dataframe thead th {\n",
       "        text-align: right;\n",
       "    }\n",
       "</style>\n",
       "<table border=\"1\" class=\"dataframe\">\n",
       "  <thead>\n",
       "    <tr style=\"text-align: right;\">\n",
       "      <th></th>\n",
       "      <th>remaining_min</th>\n",
       "      <th>remaining_min_1</th>\n",
       "    </tr>\n",
       "  </thead>\n",
       "  <tbody>\n",
       "    <tr>\n",
       "      <th>count</th>\n",
       "      <td>29135.000000</td>\n",
       "      <td>29162.000000</td>\n",
       "    </tr>\n",
       "    <tr>\n",
       "      <th>mean</th>\n",
       "      <td>4.883233</td>\n",
       "      <td>18.204615</td>\n",
       "    </tr>\n",
       "    <tr>\n",
       "      <th>std</th>\n",
       "      <td>3.452533</td>\n",
       "      <td>29.416973</td>\n",
       "    </tr>\n",
       "    <tr>\n",
       "      <th>min</th>\n",
       "      <td>0.000000</td>\n",
       "      <td>0.000000</td>\n",
       "    </tr>\n",
       "    <tr>\n",
       "      <th>25%</th>\n",
       "      <td>2.000000</td>\n",
       "      <td>3.000000</td>\n",
       "    </tr>\n",
       "    <tr>\n",
       "      <th>50%</th>\n",
       "      <td>5.000000</td>\n",
       "      <td>6.000000</td>\n",
       "    </tr>\n",
       "    <tr>\n",
       "      <th>75%</th>\n",
       "      <td>8.000000</td>\n",
       "      <td>11.000000</td>\n",
       "    </tr>\n",
       "    <tr>\n",
       "      <th>max</th>\n",
       "      <td>11.000000</td>\n",
       "      <td>128.761600</td>\n",
       "    </tr>\n",
       "  </tbody>\n",
       "</table>\n",
       "</div>"
      ],
      "text/plain": [
       "       remaining_min  remaining_min_1\n",
       "count   29135.000000     29162.000000\n",
       "mean        4.883233        18.204615\n",
       "std         3.452533        29.416973\n",
       "min         0.000000         0.000000\n",
       "25%         2.000000         3.000000\n",
       "50%         5.000000         6.000000\n",
       "75%         8.000000        11.000000\n",
       "max        11.000000       128.761600"
      ]
     },
     "execution_count": 801,
     "metadata": {
      "tags": []
     },
     "output_type": "execute_result"
    }
   ],
   "source": [
    "d4.describe()"
   ]
  },
  {
   "cell_type": "code",
   "execution_count": 0,
   "metadata": {
    "colab": {},
    "colab_type": "code",
    "id": "_0ln8xeuZX8C",
    "outputId": "c0e95d9c-992a-4606-fdea-13712fb17391"
   },
   "outputs": [
    {
     "data": {
      "text/html": [
       "<div>\n",
       "<style scoped>\n",
       "    .dataframe tbody tr th:only-of-type {\n",
       "        vertical-align: middle;\n",
       "    }\n",
       "\n",
       "    .dataframe tbody tr th {\n",
       "        vertical-align: top;\n",
       "    }\n",
       "\n",
       "    .dataframe thead th {\n",
       "        text-align: right;\n",
       "    }\n",
       "</style>\n",
       "<table border=\"1\" class=\"dataframe\">\n",
       "  <thead>\n",
       "    <tr style=\"text-align: right;\">\n",
       "      <th></th>\n",
       "      <th>remaining_min_1</th>\n",
       "    </tr>\n",
       "  </thead>\n",
       "  <tbody>\n",
       "    <tr>\n",
       "      <th>0</th>\n",
       "      <td>10.00</td>\n",
       "    </tr>\n",
       "    <tr>\n",
       "      <th>1</th>\n",
       "      <td>10.00</td>\n",
       "    </tr>\n",
       "    <tr>\n",
       "      <th>2</th>\n",
       "      <td>92.64</td>\n",
       "    </tr>\n",
       "    <tr>\n",
       "      <th>3</th>\n",
       "      <td>6.00</td>\n",
       "    </tr>\n",
       "    <tr>\n",
       "      <th>4</th>\n",
       "      <td>42.64</td>\n",
       "    </tr>\n",
       "  </tbody>\n",
       "</table>\n",
       "</div>"
      ],
      "text/plain": [
       "   remaining_min_1\n",
       "0            10.00\n",
       "1            10.00\n",
       "2            92.64\n",
       "3             6.00\n",
       "4            42.64"
      ]
     },
     "execution_count": 802,
     "metadata": {
      "tags": []
     },
     "output_type": "execute_result"
    }
   ],
   "source": [
    "#filling na values and finding average of the 2 cols\n",
    "d4.remaining_min_1.fillna(d4.remaining_min, inplace=True)\n",
    "d4= d4.drop('remaining_min',axis=1)\n",
    "d4.head()"
   ]
  },
  {
   "cell_type": "code",
   "execution_count": 0,
   "metadata": {
    "colab": {},
    "colab_type": "code",
    "id": "__DbW3wdZX8P",
    "outputId": "d12c869e-16f6-499a-d83d-ef12dc6377b0"
   },
   "outputs": [
    {
     "data": {
      "text/html": [
       "<div>\n",
       "<style scoped>\n",
       "    .dataframe tbody tr th:only-of-type {\n",
       "        vertical-align: middle;\n",
       "    }\n",
       "\n",
       "    .dataframe tbody tr th {\n",
       "        vertical-align: top;\n",
       "    }\n",
       "\n",
       "    .dataframe thead th {\n",
       "        text-align: right;\n",
       "    }\n",
       "</style>\n",
       "<table border=\"1\" class=\"dataframe\">\n",
       "  <thead>\n",
       "    <tr style=\"text-align: right;\">\n",
       "      <th></th>\n",
       "      <th>shot_id_number</th>\n",
       "      <th>match_event_id</th>\n",
       "      <th>location_x</th>\n",
       "      <th>location_y</th>\n",
       "      <th>power_of_shot</th>\n",
       "      <th>knockout_match</th>\n",
       "      <th>game_season</th>\n",
       "      <th>is_goal</th>\n",
       "      <th>area_of_shot</th>\n",
       "      <th>shot_basics</th>\n",
       "      <th>...</th>\n",
       "      <th>type_of_shot</th>\n",
       "      <th>type_of_combined_shot</th>\n",
       "      <th>match_id</th>\n",
       "      <th>remaining_min.1</th>\n",
       "      <th>power_of_shot.1</th>\n",
       "      <th>knockout_match.1</th>\n",
       "      <th>distance_of_shot</th>\n",
       "      <th>distance_of_shot_1</th>\n",
       "      <th>distance_of_shot_avg</th>\n",
       "      <th>remaining_min_1</th>\n",
       "    </tr>\n",
       "  </thead>\n",
       "  <tbody>\n",
       "    <tr>\n",
       "      <th>0</th>\n",
       "      <td>1</td>\n",
       "      <td>10.0</td>\n",
       "      <td>167.0</td>\n",
       "      <td>72.0</td>\n",
       "      <td>1.0</td>\n",
       "      <td>0.0</td>\n",
       "      <td>2000-01</td>\n",
       "      <td>NaN</td>\n",
       "      <td>Right Side(R)</td>\n",
       "      <td>Mid Range</td>\n",
       "      <td>...</td>\n",
       "      <td>shot - 30</td>\n",
       "      <td>NaN</td>\n",
       "      <td>20000012</td>\n",
       "      <td>10.00</td>\n",
       "      <td>1.0</td>\n",
       "      <td>50.608</td>\n",
       "      <td>38.0</td>\n",
       "      <td>38.0</td>\n",
       "      <td>38</td>\n",
       "      <td>10.00</td>\n",
       "    </tr>\n",
       "    <tr>\n",
       "      <th>1</th>\n",
       "      <td>2</td>\n",
       "      <td>12.0</td>\n",
       "      <td>-157.0</td>\n",
       "      <td>0.0</td>\n",
       "      <td>1.0</td>\n",
       "      <td>0.0</td>\n",
       "      <td>2000-01</td>\n",
       "      <td>0.0</td>\n",
       "      <td>Left Side(L)</td>\n",
       "      <td>Mid Range</td>\n",
       "      <td>...</td>\n",
       "      <td>shot - 45</td>\n",
       "      <td>NaN</td>\n",
       "      <td>20000012</td>\n",
       "      <td>10.00</td>\n",
       "      <td>1.0</td>\n",
       "      <td>28.800</td>\n",
       "      <td>35.0</td>\n",
       "      <td>35.0</td>\n",
       "      <td>35</td>\n",
       "      <td>10.00</td>\n",
       "    </tr>\n",
       "    <tr>\n",
       "      <th>2</th>\n",
       "      <td>3</td>\n",
       "      <td>35.0</td>\n",
       "      <td>-101.0</td>\n",
       "      <td>135.0</td>\n",
       "      <td>1.0</td>\n",
       "      <td>0.0</td>\n",
       "      <td>2000-01</td>\n",
       "      <td>1.0</td>\n",
       "      <td>Left Side Center(LC)</td>\n",
       "      <td>Mid Range</td>\n",
       "      <td>...</td>\n",
       "      <td>shot - 25</td>\n",
       "      <td>NaN</td>\n",
       "      <td>20000012</td>\n",
       "      <td>92.64</td>\n",
       "      <td>1.0</td>\n",
       "      <td>0.000</td>\n",
       "      <td>36.0</td>\n",
       "      <td>54.4</td>\n",
       "      <td>45.2</td>\n",
       "      <td>92.64</td>\n",
       "    </tr>\n",
       "    <tr>\n",
       "      <th>3</th>\n",
       "      <td>4</td>\n",
       "      <td>43.0</td>\n",
       "      <td>138.0</td>\n",
       "      <td>175.0</td>\n",
       "      <td>1.0</td>\n",
       "      <td>0.0</td>\n",
       "      <td>2000-01</td>\n",
       "      <td>0.0</td>\n",
       "      <td>Right Side Center(RC)</td>\n",
       "      <td>Mid Range</td>\n",
       "      <td>...</td>\n",
       "      <td>NaN</td>\n",
       "      <td>shot - 3</td>\n",
       "      <td>20000012</td>\n",
       "      <td>NaN</td>\n",
       "      <td>1.0</td>\n",
       "      <td>122.608</td>\n",
       "      <td>42.0</td>\n",
       "      <td>42.0</td>\n",
       "      <td>42</td>\n",
       "      <td>6.00</td>\n",
       "    </tr>\n",
       "    <tr>\n",
       "      <th>4</th>\n",
       "      <td>5</td>\n",
       "      <td>155.0</td>\n",
       "      <td>0.0</td>\n",
       "      <td>0.0</td>\n",
       "      <td>2.0</td>\n",
       "      <td>0.0</td>\n",
       "      <td>2000-01</td>\n",
       "      <td>1.0</td>\n",
       "      <td>Center(C)</td>\n",
       "      <td>Goal Area</td>\n",
       "      <td>...</td>\n",
       "      <td>NaN</td>\n",
       "      <td>shot - 1</td>\n",
       "      <td>20000012</td>\n",
       "      <td>42.64</td>\n",
       "      <td>2.0</td>\n",
       "      <td>0.000</td>\n",
       "      <td>20.0</td>\n",
       "      <td>20.0</td>\n",
       "      <td>20</td>\n",
       "      <td>42.64</td>\n",
       "    </tr>\n",
       "  </tbody>\n",
       "</table>\n",
       "<p>5 rows × 24 columns</p>\n",
       "</div>"
      ],
      "text/plain": [
       "   shot_id_number  match_event_id  location_x  location_y  power_of_shot  \\\n",
       "0               1            10.0       167.0        72.0            1.0   \n",
       "1               2            12.0      -157.0         0.0            1.0   \n",
       "2               3            35.0      -101.0       135.0            1.0   \n",
       "3               4            43.0       138.0       175.0            1.0   \n",
       "4               5           155.0         0.0         0.0            2.0   \n",
       "\n",
       "   knockout_match game_season  is_goal           area_of_shot shot_basics  \\\n",
       "0             0.0     2000-01      NaN          Right Side(R)   Mid Range   \n",
       "1             0.0     2000-01      0.0           Left Side(L)   Mid Range   \n",
       "2             0.0     2000-01      1.0   Left Side Center(LC)   Mid Range   \n",
       "3             0.0     2000-01      0.0  Right Side Center(RC)   Mid Range   \n",
       "4             0.0     2000-01      1.0              Center(C)   Goal Area   \n",
       "\n",
       "        ...        type_of_shot type_of_combined_shot  match_id  \\\n",
       "0       ...           shot - 30                   NaN  20000012   \n",
       "1       ...           shot - 45                   NaN  20000012   \n",
       "2       ...           shot - 25                   NaN  20000012   \n",
       "3       ...                 NaN              shot - 3  20000012   \n",
       "4       ...                 NaN              shot - 1  20000012   \n",
       "\n",
       "  remaining_min.1 power_of_shot.1 knockout_match.1  distance_of_shot  \\\n",
       "0           10.00             1.0           50.608              38.0   \n",
       "1           10.00             1.0           28.800              35.0   \n",
       "2           92.64             1.0            0.000              36.0   \n",
       "3             NaN             1.0          122.608              42.0   \n",
       "4           42.64             2.0            0.000              20.0   \n",
       "\n",
       "   distance_of_shot_1  distance_of_shot_avg  remaining_min_1  \n",
       "0                38.0                    38            10.00  \n",
       "1                35.0                    35            10.00  \n",
       "2                54.4                  45.2            92.64  \n",
       "3                42.0                    42             6.00  \n",
       "4                20.0                    20            42.64  \n",
       "\n",
       "[5 rows x 24 columns]"
      ]
     },
     "execution_count": 803,
     "metadata": {
      "tags": []
     },
     "output_type": "execute_result"
    }
   ],
   "source": [
    "#appending the average now d5 is latest \n",
    "d5 = pd.concat([d3, d4], axis=1)\n",
    "d5 = d5.drop('remaining_min',axis=1)\n",
    "d5.head()"
   ]
  },
  {
   "cell_type": "code",
   "execution_count": 0,
   "metadata": {
    "colab": {},
    "colab_type": "code",
    "id": "OAmkaHxEZX8b",
    "outputId": "66538958-ba54-4fe5-c272-72f4dff1cd91"
   },
   "outputs": [
    {
     "data": {
      "text/html": [
       "<div>\n",
       "<style scoped>\n",
       "    .dataframe tbody tr th:only-of-type {\n",
       "        vertical-align: middle;\n",
       "    }\n",
       "\n",
       "    .dataframe tbody tr th {\n",
       "        vertical-align: top;\n",
       "    }\n",
       "\n",
       "    .dataframe thead th {\n",
       "        text-align: right;\n",
       "    }\n",
       "</style>\n",
       "<table border=\"1\" class=\"dataframe\">\n",
       "  <thead>\n",
       "    <tr style=\"text-align: right;\">\n",
       "      <th></th>\n",
       "      <th>shot_id_number</th>\n",
       "      <th>match_event_id</th>\n",
       "      <th>location_x</th>\n",
       "      <th>location_y</th>\n",
       "      <th>power_of_shot</th>\n",
       "      <th>knockout_match</th>\n",
       "      <th>game_season</th>\n",
       "      <th>is_goal</th>\n",
       "      <th>area_of_shot</th>\n",
       "      <th>shot_basics</th>\n",
       "      <th>...</th>\n",
       "      <th>lat/lng</th>\n",
       "      <th>type_of_shot</th>\n",
       "      <th>type_of_combined_shot</th>\n",
       "      <th>match_id</th>\n",
       "      <th>remaining_min.1</th>\n",
       "      <th>power_of_shot.1</th>\n",
       "      <th>distance_of_shot</th>\n",
       "      <th>distance_of_shot_1</th>\n",
       "      <th>distance_of_shot_avg</th>\n",
       "      <th>remaining_min_1</th>\n",
       "    </tr>\n",
       "  </thead>\n",
       "  <tbody>\n",
       "    <tr>\n",
       "      <th>3528</th>\n",
       "      <td>3529</td>\n",
       "      <td>30.0</td>\n",
       "      <td>-113.0</td>\n",
       "      <td>135.0</td>\n",
       "      <td>1.0</td>\n",
       "      <td>NaN</td>\n",
       "      <td>2002-03</td>\n",
       "      <td>1.0</td>\n",
       "      <td>Left Side Center(LC)</td>\n",
       "      <td>Mid Range</td>\n",
       "      <td>...</td>\n",
       "      <td>42.982923, -71.446094</td>\n",
       "      <td>shot - 48</td>\n",
       "      <td>NaN</td>\n",
       "      <td>20200243</td>\n",
       "      <td>6.0</td>\n",
       "      <td>1.00</td>\n",
       "      <td>37.0</td>\n",
       "      <td>37.0</td>\n",
       "      <td>37</td>\n",
       "      <td>6.0</td>\n",
       "    </tr>\n",
       "    <tr>\n",
       "      <th>18543</th>\n",
       "      <td>18544</td>\n",
       "      <td>262.0</td>\n",
       "      <td>40.0</td>\n",
       "      <td>138.0</td>\n",
       "      <td>3.0</td>\n",
       "      <td>0.0</td>\n",
       "      <td>2011-12</td>\n",
       "      <td>1.0</td>\n",
       "      <td>Center(C)</td>\n",
       "      <td>Goal Line</td>\n",
       "      <td>...</td>\n",
       "      <td>43.062206, -87.944754</td>\n",
       "      <td>NaN</td>\n",
       "      <td>shot - 3</td>\n",
       "      <td>21100288</td>\n",
       "      <td>8.0</td>\n",
       "      <td>3.00</td>\n",
       "      <td>34.0</td>\n",
       "      <td>34.0</td>\n",
       "      <td>34</td>\n",
       "      <td>8.0</td>\n",
       "    </tr>\n",
       "    <tr>\n",
       "      <th>21964</th>\n",
       "      <td>21965</td>\n",
       "      <td>266.0</td>\n",
       "      <td>-119.0</td>\n",
       "      <td>101.0</td>\n",
       "      <td>3.0</td>\n",
       "      <td>0.0</td>\n",
       "      <td>2015-16</td>\n",
       "      <td>0.0</td>\n",
       "      <td>Left Side(L)</td>\n",
       "      <td>Mid Range</td>\n",
       "      <td>...</td>\n",
       "      <td>37.754130, -122.437947</td>\n",
       "      <td>NaN</td>\n",
       "      <td>shot - 3</td>\n",
       "      <td>21500214</td>\n",
       "      <td>8.0</td>\n",
       "      <td>3.00</td>\n",
       "      <td>35.0</td>\n",
       "      <td>35.0</td>\n",
       "      <td>35</td>\n",
       "      <td>8.0</td>\n",
       "    </tr>\n",
       "    <tr>\n",
       "      <th>24732</th>\n",
       "      <td>24733</td>\n",
       "      <td>30.0</td>\n",
       "      <td>-192.0</td>\n",
       "      <td>179.0</td>\n",
       "      <td>1.0</td>\n",
       "      <td>0.0</td>\n",
       "      <td>NaN</td>\n",
       "      <td>0.0</td>\n",
       "      <td>Left Side Center(LC)</td>\n",
       "      <td>Penalty Spot</td>\n",
       "      <td>...</td>\n",
       "      <td>42.982923, -71.446094</td>\n",
       "      <td>shot - 56</td>\n",
       "      <td>NaN</td>\n",
       "      <td>29800418</td>\n",
       "      <td>7.0</td>\n",
       "      <td>1.00</td>\n",
       "      <td>46.0</td>\n",
       "      <td>30.4</td>\n",
       "      <td>38.2</td>\n",
       "      <td>7.0</td>\n",
       "    </tr>\n",
       "    <tr>\n",
       "      <th>3102</th>\n",
       "      <td>3103</td>\n",
       "      <td>272.0</td>\n",
       "      <td>0.0</td>\n",
       "      <td>0.0</td>\n",
       "      <td>3.0</td>\n",
       "      <td>0.0</td>\n",
       "      <td>2001-02</td>\n",
       "      <td>1.0</td>\n",
       "      <td>Center(C)</td>\n",
       "      <td>Goal Area</td>\n",
       "      <td>...</td>\n",
       "      <td>42.982923, -71.446094</td>\n",
       "      <td>shot - 39</td>\n",
       "      <td>NaN</td>\n",
       "      <td>20101188</td>\n",
       "      <td>8.0</td>\n",
       "      <td>79.36</td>\n",
       "      <td>20.0</td>\n",
       "      <td>20.0</td>\n",
       "      <td>20</td>\n",
       "      <td>8.0</td>\n",
       "    </tr>\n",
       "    <tr>\n",
       "      <th>15873</th>\n",
       "      <td>15874</td>\n",
       "      <td>514.0</td>\n",
       "      <td>170.0</td>\n",
       "      <td>206.0</td>\n",
       "      <td>4.0</td>\n",
       "      <td>0.0</td>\n",
       "      <td>2009-10</td>\n",
       "      <td>0.0</td>\n",
       "      <td>Right Side Center(RC)</td>\n",
       "      <td>Penalty Spot</td>\n",
       "      <td>...</td>\n",
       "      <td>43.717098, -79.395917</td>\n",
       "      <td>NaN</td>\n",
       "      <td>shot - 3</td>\n",
       "      <td>20900648</td>\n",
       "      <td>0.0</td>\n",
       "      <td>113.36</td>\n",
       "      <td>46.0</td>\n",
       "      <td>46.0</td>\n",
       "      <td>46</td>\n",
       "      <td>0.0</td>\n",
       "    </tr>\n",
       "    <tr>\n",
       "      <th>13779</th>\n",
       "      <td>13780</td>\n",
       "      <td>522.0</td>\n",
       "      <td>0.0</td>\n",
       "      <td>NaN</td>\n",
       "      <td>4.0</td>\n",
       "      <td>0.0</td>\n",
       "      <td>2008-09</td>\n",
       "      <td>0.0</td>\n",
       "      <td>Center(C)</td>\n",
       "      <td>Goal Area</td>\n",
       "      <td>...</td>\n",
       "      <td>42.982923, -71.446094</td>\n",
       "      <td>shot - 39</td>\n",
       "      <td>NaN</td>\n",
       "      <td>20800487</td>\n",
       "      <td>17.2</td>\n",
       "      <td>4.00</td>\n",
       "      <td>20.0</td>\n",
       "      <td>20.0</td>\n",
       "      <td>20</td>\n",
       "      <td>17.2</td>\n",
       "    </tr>\n",
       "  </tbody>\n",
       "</table>\n",
       "<p>7 rows × 23 columns</p>\n",
       "</div>"
      ],
      "text/plain": [
       "       shot_id_number  match_event_id  location_x  location_y  power_of_shot  \\\n",
       "3528             3529            30.0      -113.0       135.0            1.0   \n",
       "18543           18544           262.0        40.0       138.0            3.0   \n",
       "21964           21965           266.0      -119.0       101.0            3.0   \n",
       "24732           24733            30.0      -192.0       179.0            1.0   \n",
       "3102             3103           272.0         0.0         0.0            3.0   \n",
       "15873           15874           514.0       170.0       206.0            4.0   \n",
       "13779           13780           522.0         0.0         NaN            4.0   \n",
       "\n",
       "       knockout_match game_season  is_goal           area_of_shot  \\\n",
       "3528              NaN     2002-03      1.0   Left Side Center(LC)   \n",
       "18543             0.0     2011-12      1.0              Center(C)   \n",
       "21964             0.0     2015-16      0.0           Left Side(L)   \n",
       "24732             0.0         NaN      0.0   Left Side Center(LC)   \n",
       "3102              0.0     2001-02      1.0              Center(C)   \n",
       "15873             0.0     2009-10      0.0  Right Side Center(RC)   \n",
       "13779             0.0     2008-09      0.0              Center(C)   \n",
       "\n",
       "        shot_basics       ...                        lat/lng type_of_shot  \\\n",
       "3528      Mid Range       ...          42.982923, -71.446094    shot - 48   \n",
       "18543     Goal Line       ...          43.062206, -87.944754          NaN   \n",
       "21964     Mid Range       ...         37.754130, -122.437947          NaN   \n",
       "24732  Penalty Spot       ...          42.982923, -71.446094    shot - 56   \n",
       "3102      Goal Area       ...          42.982923, -71.446094    shot - 39   \n",
       "15873  Penalty Spot       ...          43.717098, -79.395917          NaN   \n",
       "13779     Goal Area       ...          42.982923, -71.446094    shot - 39   \n",
       "\n",
       "      type_of_combined_shot  match_id remaining_min.1 power_of_shot.1  \\\n",
       "3528                    NaN  20200243             6.0            1.00   \n",
       "18543              shot - 3  21100288             8.0            3.00   \n",
       "21964              shot - 3  21500214             8.0            3.00   \n",
       "24732                   NaN  29800418             7.0            1.00   \n",
       "3102                    NaN  20101188             8.0           79.36   \n",
       "15873              shot - 3  20900648             0.0          113.36   \n",
       "13779                   NaN  20800487            17.2            4.00   \n",
       "\n",
       "       distance_of_shot  distance_of_shot_1  distance_of_shot_avg  \\\n",
       "3528               37.0                37.0                    37   \n",
       "18543              34.0                34.0                    34   \n",
       "21964              35.0                35.0                    35   \n",
       "24732              46.0                30.4                  38.2   \n",
       "3102               20.0                20.0                    20   \n",
       "15873              46.0                46.0                    46   \n",
       "13779              20.0                20.0                    20   \n",
       "\n",
       "       remaining_min_1  \n",
       "3528               6.0  \n",
       "18543              8.0  \n",
       "21964              8.0  \n",
       "24732              7.0  \n",
       "3102               8.0  \n",
       "15873              0.0  \n",
       "13779             17.2  \n",
       "\n",
       "[7 rows x 23 columns]"
      ]
     },
     "execution_count": 804,
     "metadata": {
      "tags": []
     },
     "output_type": "execute_result"
    }
   ],
   "source": [
    "#knockout match analysis\n",
    "#selecting the appropriate column for knockout match \n",
    "d5 = d5.rename(columns={'knockout_match.1':'knockout_match_1'})\n",
    "d5.knockout_match.fillna(d5.knockout_match_1, inplace=True)\n",
    "d5 = d5.drop('knockout_match_1',axis=1)\n",
    "d5.sample(7)"
   ]
  },
  {
   "cell_type": "code",
   "execution_count": 0,
   "metadata": {
    "colab": {},
    "colab_type": "code",
    "collapsed": true,
    "id": "qBNPvmLTZX8k"
   },
   "outputs": [],
   "source": [
    "d5['knockout_match'].fillna(\"U\", inplace = True)"
   ]
  },
  {
   "cell_type": "code",
   "execution_count": 0,
   "metadata": {
    "colab": {},
    "colab_type": "code",
    "id": "Q1Rvgv1tZX8t",
    "outputId": "9cbe903f-d756-44c6-e77b-bf7b7803a723"
   },
   "outputs": [
    {
     "data": {
      "text/html": [
       "<div>\n",
       "<style scoped>\n",
       "    .dataframe tbody tr th:only-of-type {\n",
       "        vertical-align: middle;\n",
       "    }\n",
       "\n",
       "    .dataframe tbody tr th {\n",
       "        vertical-align: top;\n",
       "    }\n",
       "\n",
       "    .dataframe thead th {\n",
       "        text-align: right;\n",
       "    }\n",
       "</style>\n",
       "<table border=\"1\" class=\"dataframe\">\n",
       "  <thead>\n",
       "    <tr style=\"text-align: right;\">\n",
       "      <th></th>\n",
       "      <th>shot_id_number</th>\n",
       "      <th>match_event_id</th>\n",
       "      <th>location_x</th>\n",
       "      <th>location_y</th>\n",
       "      <th>power_of_shot</th>\n",
       "      <th>knockout_match</th>\n",
       "      <th>game_season</th>\n",
       "      <th>is_goal</th>\n",
       "      <th>area_of_shot</th>\n",
       "      <th>shot_basics</th>\n",
       "      <th>...</th>\n",
       "      <th>home/away</th>\n",
       "      <th>lat/lng</th>\n",
       "      <th>type_of_shot</th>\n",
       "      <th>type_of_combined_shot</th>\n",
       "      <th>match_id</th>\n",
       "      <th>remaining_min.1</th>\n",
       "      <th>distance_of_shot</th>\n",
       "      <th>distance_of_shot_1</th>\n",
       "      <th>distance_of_shot_avg</th>\n",
       "      <th>remaining_min_1</th>\n",
       "    </tr>\n",
       "  </thead>\n",
       "  <tbody>\n",
       "    <tr>\n",
       "      <th>0</th>\n",
       "      <td>1</td>\n",
       "      <td>10.0</td>\n",
       "      <td>167.0</td>\n",
       "      <td>72.0</td>\n",
       "      <td>1.0</td>\n",
       "      <td>0</td>\n",
       "      <td>2000-01</td>\n",
       "      <td>NaN</td>\n",
       "      <td>Right Side(R)</td>\n",
       "      <td>Mid Range</td>\n",
       "      <td>...</td>\n",
       "      <td>MANU @ POR</td>\n",
       "      <td>45.539131, -122.651648</td>\n",
       "      <td>shot - 30</td>\n",
       "      <td>NaN</td>\n",
       "      <td>20000012</td>\n",
       "      <td>10.00</td>\n",
       "      <td>38.0</td>\n",
       "      <td>38.0</td>\n",
       "      <td>38</td>\n",
       "      <td>10.00</td>\n",
       "    </tr>\n",
       "    <tr>\n",
       "      <th>1</th>\n",
       "      <td>2</td>\n",
       "      <td>12.0</td>\n",
       "      <td>-157.0</td>\n",
       "      <td>0.0</td>\n",
       "      <td>1.0</td>\n",
       "      <td>0</td>\n",
       "      <td>2000-01</td>\n",
       "      <td>0.0</td>\n",
       "      <td>Left Side(L)</td>\n",
       "      <td>Mid Range</td>\n",
       "      <td>...</td>\n",
       "      <td>MANU @ POR</td>\n",
       "      <td>45.539131, -122.651648</td>\n",
       "      <td>shot - 45</td>\n",
       "      <td>NaN</td>\n",
       "      <td>20000012</td>\n",
       "      <td>10.00</td>\n",
       "      <td>35.0</td>\n",
       "      <td>35.0</td>\n",
       "      <td>35</td>\n",
       "      <td>10.00</td>\n",
       "    </tr>\n",
       "    <tr>\n",
       "      <th>2</th>\n",
       "      <td>3</td>\n",
       "      <td>35.0</td>\n",
       "      <td>-101.0</td>\n",
       "      <td>135.0</td>\n",
       "      <td>1.0</td>\n",
       "      <td>0</td>\n",
       "      <td>2000-01</td>\n",
       "      <td>1.0</td>\n",
       "      <td>Left Side Center(LC)</td>\n",
       "      <td>Mid Range</td>\n",
       "      <td>...</td>\n",
       "      <td>NaN</td>\n",
       "      <td>45.539131, -122.651648</td>\n",
       "      <td>shot - 25</td>\n",
       "      <td>NaN</td>\n",
       "      <td>20000012</td>\n",
       "      <td>92.64</td>\n",
       "      <td>36.0</td>\n",
       "      <td>54.4</td>\n",
       "      <td>45.2</td>\n",
       "      <td>92.64</td>\n",
       "    </tr>\n",
       "    <tr>\n",
       "      <th>3</th>\n",
       "      <td>4</td>\n",
       "      <td>43.0</td>\n",
       "      <td>138.0</td>\n",
       "      <td>175.0</td>\n",
       "      <td>1.0</td>\n",
       "      <td>0</td>\n",
       "      <td>2000-01</td>\n",
       "      <td>0.0</td>\n",
       "      <td>Right Side Center(RC)</td>\n",
       "      <td>Mid Range</td>\n",
       "      <td>...</td>\n",
       "      <td>MANU @ POR</td>\n",
       "      <td>45.539131, -122.651648</td>\n",
       "      <td>NaN</td>\n",
       "      <td>shot - 3</td>\n",
       "      <td>20000012</td>\n",
       "      <td>NaN</td>\n",
       "      <td>42.0</td>\n",
       "      <td>42.0</td>\n",
       "      <td>42</td>\n",
       "      <td>6.00</td>\n",
       "    </tr>\n",
       "    <tr>\n",
       "      <th>4</th>\n",
       "      <td>5</td>\n",
       "      <td>155.0</td>\n",
       "      <td>0.0</td>\n",
       "      <td>0.0</td>\n",
       "      <td>2.0</td>\n",
       "      <td>0</td>\n",
       "      <td>2000-01</td>\n",
       "      <td>1.0</td>\n",
       "      <td>Center(C)</td>\n",
       "      <td>Goal Area</td>\n",
       "      <td>...</td>\n",
       "      <td>MANU @ POR</td>\n",
       "      <td>45.539131, -122.651648</td>\n",
       "      <td>NaN</td>\n",
       "      <td>shot - 1</td>\n",
       "      <td>20000012</td>\n",
       "      <td>42.64</td>\n",
       "      <td>20.0</td>\n",
       "      <td>20.0</td>\n",
       "      <td>20</td>\n",
       "      <td>42.64</td>\n",
       "    </tr>\n",
       "  </tbody>\n",
       "</table>\n",
       "<p>5 rows × 22 columns</p>\n",
       "</div>"
      ],
      "text/plain": [
       "   shot_id_number  match_event_id  location_x  location_y  power_of_shot  \\\n",
       "0               1            10.0       167.0        72.0            1.0   \n",
       "1               2            12.0      -157.0         0.0            1.0   \n",
       "2               3            35.0      -101.0       135.0            1.0   \n",
       "3               4            43.0       138.0       175.0            1.0   \n",
       "4               5           155.0         0.0         0.0            2.0   \n",
       "\n",
       "  knockout_match game_season  is_goal           area_of_shot shot_basics  \\\n",
       "0              0     2000-01      NaN          Right Side(R)   Mid Range   \n",
       "1              0     2000-01      0.0           Left Side(L)   Mid Range   \n",
       "2              0     2000-01      1.0   Left Side Center(LC)   Mid Range   \n",
       "3              0     2000-01      0.0  Right Side Center(RC)   Mid Range   \n",
       "4              0     2000-01      1.0              Center(C)   Goal Area   \n",
       "\n",
       "        ...          home/away                 lat/lng type_of_shot  \\\n",
       "0       ...         MANU @ POR  45.539131, -122.651648    shot - 30   \n",
       "1       ...         MANU @ POR  45.539131, -122.651648    shot - 45   \n",
       "2       ...                NaN  45.539131, -122.651648    shot - 25   \n",
       "3       ...         MANU @ POR  45.539131, -122.651648          NaN   \n",
       "4       ...         MANU @ POR  45.539131, -122.651648          NaN   \n",
       "\n",
       "  type_of_combined_shot  match_id remaining_min.1  distance_of_shot  \\\n",
       "0                   NaN  20000012           10.00              38.0   \n",
       "1                   NaN  20000012           10.00              35.0   \n",
       "2                   NaN  20000012           92.64              36.0   \n",
       "3              shot - 3  20000012             NaN              42.0   \n",
       "4              shot - 1  20000012           42.64              20.0   \n",
       "\n",
       "   distance_of_shot_1  distance_of_shot_avg  remaining_min_1  \n",
       "0                38.0                    38            10.00  \n",
       "1                35.0                    35            10.00  \n",
       "2                54.4                  45.2            92.64  \n",
       "3                42.0                    42             6.00  \n",
       "4                20.0                    20            42.64  \n",
       "\n",
       "[5 rows x 22 columns]"
      ]
     },
     "execution_count": 806,
     "metadata": {
      "tags": []
     },
     "output_type": "execute_result"
    }
   ],
   "source": [
    "#Power of shot\n",
    "#selecting one column out of 2 replacing nan values with the most occuring power of shot type \n",
    "d5 = d5.rename(columns={'power_of_shot.1':'power_of_shot_1'})\n",
    "d5.power_of_shot.fillna(d5.power_of_shot_1, inplace=True)\n",
    "d5 = d5.drop('power_of_shot_1',axis=1)\n",
    "d5.head()"
   ]
  },
  {
   "cell_type": "code",
   "execution_count": 0,
   "metadata": {
    "colab": {},
    "colab_type": "code",
    "id": "qg1HfTqPZX87",
    "outputId": "43e03fd3-968d-4d02-fb82-80908a6b431e"
   },
   "outputs": [
    {
     "data": {
      "text/plain": [
       "count    30627.000000\n",
       "mean         3.108937\n",
       "std          6.761758\n",
       "min          1.000000\n",
       "25%          1.000000\n",
       "50%          3.000000\n",
       "75%          4.000000\n",
       "max        118.360000\n",
       "Name: power_of_shot, dtype: float64"
      ]
     },
     "execution_count": 807,
     "metadata": {
      "tags": []
     },
     "output_type": "execute_result"
    }
   ],
   "source": [
    "d5['power_of_shot'].describe()"
   ]
  },
  {
   "cell_type": "code",
   "execution_count": 0,
   "metadata": {
    "colab": {},
    "colab_type": "code",
    "id": "2IaO6tyFZX9K",
    "outputId": "02da0327-41bc-415a-8ffa-d0f2fac7fc8a"
   },
   "outputs": [
    {
     "data": {
      "text/html": [
       "<div>\n",
       "<style scoped>\n",
       "    .dataframe tbody tr th:only-of-type {\n",
       "        vertical-align: middle;\n",
       "    }\n",
       "\n",
       "    .dataframe tbody tr th {\n",
       "        vertical-align: top;\n",
       "    }\n",
       "\n",
       "    .dataframe thead th {\n",
       "        text-align: right;\n",
       "    }\n",
       "</style>\n",
       "<table border=\"1\" class=\"dataframe\">\n",
       "  <thead>\n",
       "    <tr style=\"text-align: right;\">\n",
       "      <th></th>\n",
       "      <th>shot_id_number</th>\n",
       "      <th>match_event_id</th>\n",
       "      <th>location_x</th>\n",
       "      <th>location_y</th>\n",
       "      <th>power_of_shot</th>\n",
       "      <th>knockout_match</th>\n",
       "      <th>game_season</th>\n",
       "      <th>is_goal</th>\n",
       "      <th>area_of_shot</th>\n",
       "      <th>shot_basics</th>\n",
       "      <th>...</th>\n",
       "      <th>home/away</th>\n",
       "      <th>lat/lng</th>\n",
       "      <th>type_of_shot</th>\n",
       "      <th>type_of_combined_shot</th>\n",
       "      <th>match_id</th>\n",
       "      <th>remaining_min.1</th>\n",
       "      <th>distance_of_shot</th>\n",
       "      <th>distance_of_shot_1</th>\n",
       "      <th>distance_of_shot_avg</th>\n",
       "      <th>remaining_min_1</th>\n",
       "    </tr>\n",
       "  </thead>\n",
       "  <tbody>\n",
       "    <tr>\n",
       "      <th>5104</th>\n",
       "      <td>5105</td>\n",
       "      <td>634.0</td>\n",
       "      <td>29.0</td>\n",
       "      <td>30.0</td>\n",
       "      <td>6.0</td>\n",
       "      <td>0</td>\n",
       "      <td>2003-04</td>\n",
       "      <td>0.0</td>\n",
       "      <td>Center(C)</td>\n",
       "      <td>Goal Line</td>\n",
       "      <td>...</td>\n",
       "      <td>MANU @ SAS</td>\n",
       "      <td>29.444994, -98.524120</td>\n",
       "      <td>shot - 4</td>\n",
       "      <td>NaN</td>\n",
       "      <td>20300064</td>\n",
       "      <td>0.00</td>\n",
       "      <td>24.0</td>\n",
       "      <td>24.0</td>\n",
       "      <td>24</td>\n",
       "      <td>0.00</td>\n",
       "    </tr>\n",
       "    <tr>\n",
       "      <th>18149</th>\n",
       "      <td>18150</td>\n",
       "      <td>415.0</td>\n",
       "      <td>-171.0</td>\n",
       "      <td>22.0</td>\n",
       "      <td>3.0</td>\n",
       "      <td>0</td>\n",
       "      <td>2011-12</td>\n",
       "      <td>1.0</td>\n",
       "      <td>Left Side(L)</td>\n",
       "      <td>Mid Range</td>\n",
       "      <td>...</td>\n",
       "      <td>MANU vs. NYK</td>\n",
       "      <td>42.982923, -71.446094</td>\n",
       "      <td>NaN</td>\n",
       "      <td>shot - 3</td>\n",
       "      <td>21100038</td>\n",
       "      <td>29.64</td>\n",
       "      <td>37.0</td>\n",
       "      <td>37.0</td>\n",
       "      <td>37</td>\n",
       "      <td>29.64</td>\n",
       "    </tr>\n",
       "    <tr>\n",
       "      <th>1182</th>\n",
       "      <td>1183</td>\n",
       "      <td>242.0</td>\n",
       "      <td>-23.0</td>\n",
       "      <td>126.0</td>\n",
       "      <td>3.0</td>\n",
       "      <td>0</td>\n",
       "      <td>2000-01</td>\n",
       "      <td>0.0</td>\n",
       "      <td>Center(C)</td>\n",
       "      <td>Goal Line</td>\n",
       "      <td>...</td>\n",
       "      <td>MANU @ DAL</td>\n",
       "      <td>32.757824, -96.786653</td>\n",
       "      <td>NaN</td>\n",
       "      <td>shot - 3</td>\n",
       "      <td>20000767</td>\n",
       "      <td>11.00</td>\n",
       "      <td>32.0</td>\n",
       "      <td>32.0</td>\n",
       "      <td>32</td>\n",
       "      <td>11.00</td>\n",
       "    </tr>\n",
       "    <tr>\n",
       "      <th>17308</th>\n",
       "      <td>17309</td>\n",
       "      <td>293.0</td>\n",
       "      <td>173.0</td>\n",
       "      <td>217.0</td>\n",
       "      <td>3.0</td>\n",
       "      <td>0</td>\n",
       "      <td>2010-11</td>\n",
       "      <td>0.0</td>\n",
       "      <td>Right Side Center(RC)</td>\n",
       "      <td>Penalty Spot</td>\n",
       "      <td>...</td>\n",
       "      <td>MANU vs. UTA</td>\n",
       "      <td>42.982923, -71.446094</td>\n",
       "      <td>NaN</td>\n",
       "      <td>shot - 3</td>\n",
       "      <td>21000667</td>\n",
       "      <td>7.00</td>\n",
       "      <td>47.0</td>\n",
       "      <td>47.0</td>\n",
       "      <td>47</td>\n",
       "      <td>7.00</td>\n",
       "    </tr>\n",
       "    <tr>\n",
       "      <th>2283</th>\n",
       "      <td>2284</td>\n",
       "      <td>355.0</td>\n",
       "      <td>0.0</td>\n",
       "      <td>0.0</td>\n",
       "      <td>NaN</td>\n",
       "      <td>0</td>\n",
       "      <td>2001-02</td>\n",
       "      <td>0.0</td>\n",
       "      <td>Center(C)</td>\n",
       "      <td>Goal Area</td>\n",
       "      <td>...</td>\n",
       "      <td>MANU vs. DEN</td>\n",
       "      <td>42.982923, -71.446094</td>\n",
       "      <td>shot - 46</td>\n",
       "      <td>NaN</td>\n",
       "      <td>20100588</td>\n",
       "      <td>70.64</td>\n",
       "      <td>20.0</td>\n",
       "      <td>20.0</td>\n",
       "      <td>20</td>\n",
       "      <td>70.64</td>\n",
       "    </tr>\n",
       "    <tr>\n",
       "      <th>8349</th>\n",
       "      <td>8350</td>\n",
       "      <td>375.0</td>\n",
       "      <td>-49.0</td>\n",
       "      <td>23.0</td>\n",
       "      <td>4.0</td>\n",
       "      <td>0</td>\n",
       "      <td>2005-06</td>\n",
       "      <td>0.0</td>\n",
       "      <td>Center(C)</td>\n",
       "      <td>Goal Line</td>\n",
       "      <td>...</td>\n",
       "      <td>MANU @ LAC</td>\n",
       "      <td>34.189593, -118.471724</td>\n",
       "      <td>NaN</td>\n",
       "      <td>shot - 3</td>\n",
       "      <td>20500480</td>\n",
       "      <td>50.20</td>\n",
       "      <td>25.0</td>\n",
       "      <td>25.0</td>\n",
       "      <td>25</td>\n",
       "      <td>50.20</td>\n",
       "    </tr>\n",
       "    <tr>\n",
       "      <th>12837</th>\n",
       "      <td>12838</td>\n",
       "      <td>440.0</td>\n",
       "      <td>82.0</td>\n",
       "      <td>22.0</td>\n",
       "      <td>4.0</td>\n",
       "      <td>0</td>\n",
       "      <td>NaN</td>\n",
       "      <td>1.0</td>\n",
       "      <td>Right Side(R)</td>\n",
       "      <td>Mid Range</td>\n",
       "      <td>...</td>\n",
       "      <td>MANU @ DAL</td>\n",
       "      <td>32.757824, -96.786653</td>\n",
       "      <td>shot - 54</td>\n",
       "      <td>NaN</td>\n",
       "      <td>20701003</td>\n",
       "      <td>4.00</td>\n",
       "      <td>28.0</td>\n",
       "      <td>28.0</td>\n",
       "      <td>28</td>\n",
       "      <td>4.00</td>\n",
       "    </tr>\n",
       "  </tbody>\n",
       "</table>\n",
       "<p>7 rows × 22 columns</p>\n",
       "</div>"
      ],
      "text/plain": [
       "       shot_id_number  match_event_id  location_x  location_y  power_of_shot  \\\n",
       "5104             5105           634.0        29.0        30.0            6.0   \n",
       "18149           18150           415.0      -171.0        22.0            3.0   \n",
       "1182             1183           242.0       -23.0       126.0            3.0   \n",
       "17308           17309           293.0       173.0       217.0            3.0   \n",
       "2283             2284           355.0         0.0         0.0            NaN   \n",
       "8349             8350           375.0       -49.0        23.0            4.0   \n",
       "12837           12838           440.0        82.0        22.0            4.0   \n",
       "\n",
       "      knockout_match game_season  is_goal           area_of_shot  \\\n",
       "5104               0     2003-04      0.0              Center(C)   \n",
       "18149              0     2011-12      1.0           Left Side(L)   \n",
       "1182               0     2000-01      0.0              Center(C)   \n",
       "17308              0     2010-11      0.0  Right Side Center(RC)   \n",
       "2283               0     2001-02      0.0              Center(C)   \n",
       "8349               0     2005-06      0.0              Center(C)   \n",
       "12837              0         NaN      1.0          Right Side(R)   \n",
       "\n",
       "        shot_basics       ...            home/away                 lat/lng  \\\n",
       "5104      Goal Line       ...           MANU @ SAS   29.444994, -98.524120   \n",
       "18149     Mid Range       ...         MANU vs. NYK   42.982923, -71.446094   \n",
       "1182      Goal Line       ...           MANU @ DAL   32.757824, -96.786653   \n",
       "17308  Penalty Spot       ...         MANU vs. UTA   42.982923, -71.446094   \n",
       "2283      Goal Area       ...         MANU vs. DEN   42.982923, -71.446094   \n",
       "8349      Goal Line       ...           MANU @ LAC  34.189593, -118.471724   \n",
       "12837     Mid Range       ...           MANU @ DAL   32.757824, -96.786653   \n",
       "\n",
       "      type_of_shot type_of_combined_shot  match_id remaining_min.1  \\\n",
       "5104      shot - 4                   NaN  20300064            0.00   \n",
       "18149          NaN              shot - 3  21100038           29.64   \n",
       "1182           NaN              shot - 3  20000767           11.00   \n",
       "17308          NaN              shot - 3  21000667            7.00   \n",
       "2283     shot - 46                   NaN  20100588           70.64   \n",
       "8349           NaN              shot - 3  20500480           50.20   \n",
       "12837    shot - 54                   NaN  20701003            4.00   \n",
       "\n",
       "       distance_of_shot  distance_of_shot_1  distance_of_shot_avg  \\\n",
       "5104               24.0                24.0                    24   \n",
       "18149              37.0                37.0                    37   \n",
       "1182               32.0                32.0                    32   \n",
       "17308              47.0                47.0                    47   \n",
       "2283               20.0                20.0                    20   \n",
       "8349               25.0                25.0                    25   \n",
       "12837              28.0                28.0                    28   \n",
       "\n",
       "       remaining_min_1  \n",
       "5104              0.00  \n",
       "18149            29.64  \n",
       "1182             11.00  \n",
       "17308             7.00  \n",
       "2283             70.64  \n",
       "8349             50.20  \n",
       "12837             4.00  \n",
       "\n",
       "[7 rows x 22 columns]"
      ]
     },
     "execution_count": 808,
     "metadata": {
      "tags": []
     },
     "output_type": "execute_result"
    }
   ],
   "source": [
    "d5.loc[d5['power_of_shot'] > 7, 'power_of_shot'] = np.nan\n",
    "d5.sample(7)"
   ]
  },
  {
   "cell_type": "code",
   "execution_count": 0,
   "metadata": {
    "colab": {},
    "colab_type": "code",
    "id": "pjvXhyQzZX9V",
    "outputId": "ef9d76b9-9a30-4de4-9ee2-82f426d19714"
   },
   "outputs": [
    {
     "data": {
      "text/plain": [
       "array([ 1.,  2.,  3.,  4., nan,  5.,  6.,  7.])"
      ]
     },
     "execution_count": 809,
     "metadata": {
      "tags": []
     },
     "output_type": "execute_result"
    }
   ],
   "source": [
    "d5['power_of_shot'].unique()"
   ]
  },
  {
   "cell_type": "code",
   "execution_count": 0,
   "metadata": {
    "colab": {},
    "colab_type": "code",
    "id": "aMfURsP_ZX9l",
    "outputId": "dabece37-b261-4f04-88b5-0b63071812f0"
   },
   "outputs": [
    {
     "data": {
      "text/plain": [
       "357"
      ]
     },
     "execution_count": 810,
     "metadata": {
      "tags": []
     },
     "output_type": "execute_result"
    }
   ],
   "source": [
    "#to see if the number of na's are less\n",
    "dlo = d5['power_of_shot'].isna()\n",
    "dlo[dlo==True].count()"
   ]
  },
  {
   "cell_type": "code",
   "execution_count": 0,
   "metadata": {
    "colab": {},
    "colab_type": "code",
    "id": "evGbls3KZX9u",
    "outputId": "2c3f334f-fc73-4f6d-c0c2-20140d6382b0"
   },
   "outputs": [
    {
     "data": {
      "text/plain": [
       "0    3.0\n",
       "dtype: float64"
      ]
     },
     "execution_count": 811,
     "metadata": {
      "tags": []
     },
     "output_type": "execute_result"
    }
   ],
   "source": [
    "d5['power_of_shot'].mode()"
   ]
  },
  {
   "cell_type": "code",
   "execution_count": 0,
   "metadata": {
    "colab": {},
    "colab_type": "code",
    "id": "19RnWDNTZX96",
    "outputId": "b08b9c1c-46eb-4567-df27-f3235fd65620"
   },
   "outputs": [
    {
     "data": {
      "text/plain": [
       "array([1., 2., 3., 4., 5., 6., 7.])"
      ]
     },
     "execution_count": 812,
     "metadata": {
      "tags": []
     },
     "output_type": "execute_result"
    }
   ],
   "source": [
    "d5['power_of_shot'].fillna(3, inplace = True)\n",
    "d5['power_of_shot'].unique()"
   ]
  },
  {
   "cell_type": "code",
   "execution_count": 0,
   "metadata": {
    "colab": {},
    "colab_type": "code",
    "id": "d1CR9T9xZX-H",
    "outputId": "629c76d1-7a39-46df-da29-5798561c2dca"
   },
   "outputs": [
    {
     "data": {
      "text/plain": [
       "1575"
      ]
     },
     "execution_count": 813,
     "metadata": {
      "tags": []
     },
     "output_type": "execute_result"
    }
   ],
   "source": [
    "p= d5['shot_basics'].isnull()\n",
    "p[p==True].count()"
   ]
  },
  {
   "cell_type": "code",
   "execution_count": 0,
   "metadata": {
    "colab": {},
    "colab_type": "code",
    "id": "56LCJCrpZX-X",
    "outputId": "7eaa19a7-88f3-4f0e-d0d4-4a24a656d748"
   },
   "outputs": [
    {
     "data": {
      "text/plain": [
       "0    Mid Range\n",
       "dtype: object"
      ]
     },
     "execution_count": 814,
     "metadata": {
      "tags": []
     },
     "output_type": "execute_result"
    }
   ],
   "source": [
    "d5['shot_basics'].mode()"
   ]
  },
  {
   "cell_type": "code",
   "execution_count": 0,
   "metadata": {
    "colab": {},
    "colab_type": "code",
    "collapsed": true,
    "id": "lCyDewtVZX-l"
   },
   "outputs": [],
   "source": [
    "#Shot_basics\n",
    "#replacing all nan values with undefined because number is huge\n",
    "d5['shot_basics'].fillna(\"U\", inplace = True)"
   ]
  },
  {
   "cell_type": "code",
   "execution_count": 0,
   "metadata": {
    "colab": {},
    "colab_type": "code",
    "id": "y_Ub-ye9ZX-1",
    "outputId": "be426a8f-70a2-4809-fc14-c776dc30b7ac"
   },
   "outputs": [
    {
     "data": {
      "text/plain": [
       "0"
      ]
     },
     "execution_count": 848,
     "metadata": {
      "tags": []
     },
     "output_type": "execute_result"
    }
   ],
   "source": [
    "#area of shot \n",
    "#filling na values in aread of shot with U \n",
    "p1=d5['area_of_shot'].isnull()\n",
    "p1[p1==True].count()"
   ]
  },
  {
   "cell_type": "code",
   "execution_count": 0,
   "metadata": {
    "colab": {},
    "colab_type": "code",
    "id": "Aiji0kDlZX_B",
    "outputId": "11eb20e3-b4a1-4b80-9f50-cb5098bc5c73"
   },
   "outputs": [
    {
     "data": {
      "text/plain": [
       "0    Center(C)\n",
       "dtype: object"
      ]
     },
     "execution_count": 817,
     "metadata": {
      "tags": []
     },
     "output_type": "execute_result"
    }
   ],
   "source": [
    "d5['area_of_shot'].mode()"
   ]
  },
  {
   "cell_type": "code",
   "execution_count": 0,
   "metadata": {
    "colab": {},
    "colab_type": "code",
    "collapsed": true,
    "id": "-d9fPoDQZX_I"
   },
   "outputs": [],
   "source": [
    "d5['area_of_shot'].fillna(\"U\", inplace = True)"
   ]
  },
  {
   "cell_type": "code",
   "execution_count": 0,
   "metadata": {
    "colab": {},
    "colab_type": "code",
    "id": "mAck5XhjZX_O",
    "outputId": "65c5b53d-1463-4e55-d543-670086e08cc9"
   },
   "outputs": [
    {
     "data": {
      "text/plain": [
       "array(['Mid Range', 'Goal Area', 'Goal Line', 'Penalty Spot', 'U',\n",
       "       'Right Corner', 'Mid Ground Line', 'Left Corner'], dtype=object)"
      ]
     },
     "execution_count": 819,
     "metadata": {
      "tags": []
     },
     "output_type": "execute_result"
    }
   ],
   "source": [
    "d5['shot_basics'].unique()"
   ]
  },
  {
   "cell_type": "code",
   "execution_count": 0,
   "metadata": {
    "colab": {},
    "colab_type": "code",
    "collapsed": true,
    "id": "nU9Q3ITaZX_U"
   },
   "outputs": [],
   "source": [
    "#game season \n",
    "d5['game_season'].unique()\n",
    "d5['game_season'].fillna(method='ffill', inplace=True)"
   ]
  },
  {
   "cell_type": "code",
   "execution_count": 0,
   "metadata": {
    "colab": {},
    "colab_type": "code",
    "collapsed": true,
    "id": "Jt0rSGtfZX_Z"
   },
   "outputs": [],
   "source": [
    "#type of combined shot and shots\n",
    "#filling 0 in place of na \n",
    "d5['type_of_combined_shot'].fillna(0, inplace=True)\n",
    "d5['type_of_shot'].fillna(0, inplace = True)"
   ]
  },
  {
   "cell_type": "code",
   "execution_count": 0,
   "metadata": {
    "colab": {},
    "colab_type": "code",
    "collapsed": true,
    "id": "tq62uIDvZX_f"
   },
   "outputs": [],
   "source": [
    "d5.to_csv('d5(1).csv')"
   ]
  },
  {
   "cell_type": "code",
   "execution_count": 0,
   "metadata": {
    "colab": {},
    "colab_type": "code",
    "collapsed": true,
    "id": "k2IERbqOZX_l"
   },
   "outputs": [],
   "source": [
    "d5 = pd.read_csv('d5(1).csv')\n",
    "d6 = d5.drop('location_x',axis=1)\n",
    "d6 = d6.drop('location_y',axis=1)"
   ]
  },
  {
   "cell_type": "code",
   "execution_count": 0,
   "metadata": {
    "colab": {},
    "colab_type": "code",
    "collapsed": true,
    "id": "rR6aoyfYZX_q"
   },
   "outputs": [],
   "source": [
    "d6['home/away'] = d6.groupby(['match_id'])['home/away'].ffill()\n",
    "d6['home/away'] = d6.groupby(['match_id'])['home/away'].bfill()"
   ]
  },
  {
   "cell_type": "code",
   "execution_count": 0,
   "metadata": {
    "colab": {},
    "colab_type": "code",
    "collapsed": true,
    "id": "DnfXQiPOZX_v"
   },
   "outputs": [],
   "source": [
    "d6['lat/lng'].fillna(d6['home/away'],inplace=True)\n",
    "d6['lat/lng'] = d6['lat/lng'].replace(to_replace ='@', value = 0 , regex = True) \n",
    "d6['lat/lng'] = d6['lat/lng'].replace(to_replace ='vs', value = 1 , regex = True) "
   ]
  },
  {
   "cell_type": "code",
   "execution_count": 0,
   "metadata": {
    "colab": {},
    "colab_type": "code",
    "id": "EsLovvgoZX_1",
    "outputId": "ab0e25d1-3dcd-427b-cff7-e87fde86dd40"
   },
   "outputs": [
    {
     "data": {
      "text/plain": [
       "array([0, 1], dtype=int64)"
      ]
     },
     "execution_count": 826,
     "metadata": {
      "tags": []
     },
     "output_type": "execute_result"
    }
   ],
   "source": [
    "d6.loc[(d6['lat/lng'] != '42.982923, -71.446094') & (d6['lat/lng'] != 1) &  (d6['lat/lng'].notnull()), 'lat/lng'] = 0\n",
    "d6.loc[d6['lat/lng'] == '42.982923, -71.446094','lat/lng'] = 1\n",
    "d6['lat/lng'].unique()"
   ]
  },
  {
   "cell_type": "code",
   "execution_count": 0,
   "metadata": {
    "colab": {},
    "colab_type": "code",
    "collapsed": true,
    "id": "c83hjLENZYAA"
   },
   "outputs": [],
   "source": [
    "d6['date_of_game'] = d6.groupby(['match_id'])['date_of_game'].ffill()\n",
    "d6['date_of_game'] = d6.groupby(['match_id'])['date_of_game'].bfill()"
   ]
  },
  {
   "cell_type": "code",
   "execution_count": 0,
   "metadata": {
    "colab": {},
    "colab_type": "code",
    "collapsed": true,
    "id": "Jbw9bwy9ZYAP"
   },
   "outputs": [],
   "source": [
    "d6['home/away']=d6['home/away'].astype(\"str\").apply(lambda x: x.lstrip(\"MANU\"))\n",
    "d6['home/away']=d6['home/away'].astype(\"str\").apply(lambda x: x.lstrip(\"vs. \"))\n",
    "d6['home/away']=d6['home/away'].astype(\"str\").apply(lambda x: x.lstrip(\"@ \"))"
   ]
  },
  {
   "cell_type": "code",
   "execution_count": 0,
   "metadata": {
    "colab": {},
    "colab_type": "code",
    "id": "PURiRjLLZYAV",
    "outputId": "1302ef34-a384-4382-991d-ed7d0277ea65"
   },
   "outputs": [
    {
     "data": {
      "text/plain": [
       "Unnamed: 0                  0\n",
       "shot_id_number              0\n",
       "match_event_id           1563\n",
       "power_of_shot               0\n",
       "knockout_match              0\n",
       "game_season                 0\n",
       "is_goal                  6268\n",
       "area_of_shot                0\n",
       "shot_basics                 0\n",
       "range_of_shot            1564\n",
       "date_of_game                1\n",
       "home/away                   0\n",
       "lat/lng                     0\n",
       "type_of_shot                0\n",
       "type_of_combined_shot       0\n",
       "match_id                    0\n",
       "remaining_min.1          1535\n",
       "distance_of_shot           97\n",
       "distance_of_shot_1         97\n",
       "distance_of_shot_avg        9\n",
       "remaining_min_1            81\n",
       "dtype: int64"
      ]
     },
     "execution_count": 829,
     "metadata": {
      "tags": []
     },
     "output_type": "execute_result"
    }
   ],
   "source": [
    "b= d6.isnull()\n",
    "b[b==True].count()"
   ]
  },
  {
   "cell_type": "code",
   "execution_count": 0,
   "metadata": {
    "colab": {},
    "colab_type": "code",
    "collapsed": true,
    "id": "9j_qdjCGZYAd"
   },
   "outputs": [],
   "source": [
    "d6 = d6.drop(['match_event_id','range_of_shot','remaining_min.1','distance_of_shot','distance_of_shot_1'], axis=1)\n",
    "d6 =  d6.drop(['Unnamed: 0'],axis=1)"
   ]
  },
  {
   "cell_type": "code",
   "execution_count": 0,
   "metadata": {
    "colab": {},
    "colab_type": "code",
    "id": "FblA-fpVZYAo",
    "outputId": "31516aba-3e15-4b60-8187-41a7a90421a0"
   },
   "outputs": [
    {
     "data": {
      "text/plain": [
       "count    30616.000000\n",
       "mean        17.575091\n",
       "std         28.857798\n",
       "min          0.000000\n",
       "25%          3.000000\n",
       "50%          6.000000\n",
       "75%         10.000000\n",
       "max        128.761600\n",
       "Name: remaining_min_1, dtype: float64"
      ]
     },
     "execution_count": 831,
     "metadata": {
      "tags": []
     },
     "output_type": "execute_result"
    }
   ],
   "source": [
    "d6['remaining_min_1'].describe()"
   ]
  },
  {
   "cell_type": "code",
   "execution_count": 0,
   "metadata": {
    "colab": {},
    "colab_type": "code",
    "collapsed": true,
    "id": "PaawNo1-ZYA7"
   },
   "outputs": [],
   "source": [
    "d6['remaining_min_1'].fillna(17,inplace=True)"
   ]
  },
  {
   "cell_type": "code",
   "execution_count": 0,
   "metadata": {
    "colab": {},
    "colab_type": "code",
    "collapsed": true,
    "id": "BRLifUMLZYBB"
   },
   "outputs": [],
   "source": [
    "d7 = d6['is_goal']\n",
    "d8 = d6.dropna()"
   ]
  },
  {
   "cell_type": "code",
   "execution_count": 0,
   "metadata": {
    "colab": {},
    "colab_type": "code",
    "id": "XmyFB51JZYBN",
    "outputId": "9aa2d16f-7bd1-44b7-f888-618400ff2572"
   },
   "outputs": [
    {
     "data": {
      "text/plain": [
       "shot_id_number           0\n",
       "power_of_shot            0\n",
       "knockout_match           0\n",
       "game_season              0\n",
       "is_goal                  0\n",
       "area_of_shot             0\n",
       "shot_basics              0\n",
       "date_of_game             0\n",
       "home/away                0\n",
       "lat/lng                  0\n",
       "type_of_shot             0\n",
       "type_of_combined_shot    0\n",
       "match_id                 0\n",
       "distance_of_shot_avg     0\n",
       "remaining_min_1          0\n",
       "dtype: int64"
      ]
     },
     "execution_count": 834,
     "metadata": {
      "tags": []
     },
     "output_type": "execute_result"
    }
   ],
   "source": [
    "c= d8.isnull()\n",
    "c[c==True].count()"
   ]
  },
  {
   "cell_type": "code",
   "execution_count": 0,
   "metadata": {
    "colab": {},
    "colab_type": "code",
    "collapsed": true,
    "id": "SdzKbFTrZYBV"
   },
   "outputs": [],
   "source": [
    "d8.to_csv('finaldata.csv', index=False)"
   ]
  },
  {
   "cell_type": "code",
   "execution_count": 0,
   "metadata": {
    "colab": {},
    "colab_type": "code",
    "id": "x-PzT5eyZYBc",
    "outputId": "ec0083ac-2c27-4efa-c8c4-127cdb57c5bf"
   },
   "outputs": [
    {
     "data": {
      "text/html": [
       "<div>\n",
       "<style scoped>\n",
       "    .dataframe tbody tr th:only-of-type {\n",
       "        vertical-align: middle;\n",
       "    }\n",
       "\n",
       "    .dataframe tbody tr th {\n",
       "        vertical-align: top;\n",
       "    }\n",
       "\n",
       "    .dataframe thead th {\n",
       "        text-align: right;\n",
       "    }\n",
       "</style>\n",
       "<table border=\"1\" class=\"dataframe\">\n",
       "  <thead>\n",
       "    <tr style=\"text-align: right;\">\n",
       "      <th></th>\n",
       "      <th>shot_id_number</th>\n",
       "      <th>power_of_shot</th>\n",
       "      <th>knockout_match</th>\n",
       "      <th>game_season</th>\n",
       "      <th>is_goal</th>\n",
       "      <th>area_of_shot</th>\n",
       "      <th>shot_basics</th>\n",
       "      <th>date_of_game</th>\n",
       "      <th>home/away</th>\n",
       "      <th>lat/lng</th>\n",
       "      <th>type_of_shot</th>\n",
       "      <th>type_of_combined_shot</th>\n",
       "      <th>match_id</th>\n",
       "      <th>distance_of_shot_avg</th>\n",
       "      <th>remaining_min_1</th>\n",
       "    </tr>\n",
       "  </thead>\n",
       "  <tbody>\n",
       "    <tr>\n",
       "      <th>0</th>\n",
       "      <td>2</td>\n",
       "      <td>1.0</td>\n",
       "      <td>0.0</td>\n",
       "      <td>2000-01</td>\n",
       "      <td>0.0</td>\n",
       "      <td>Left Side(L)</td>\n",
       "      <td>Mid Range</td>\n",
       "      <td>2000-10-31</td>\n",
       "      <td>POR</td>\n",
       "      <td>0</td>\n",
       "      <td>shot - 45</td>\n",
       "      <td>0</td>\n",
       "      <td>20000012</td>\n",
       "      <td>35.0</td>\n",
       "      <td>10.00</td>\n",
       "    </tr>\n",
       "    <tr>\n",
       "      <th>1</th>\n",
       "      <td>3</td>\n",
       "      <td>1.0</td>\n",
       "      <td>0.0</td>\n",
       "      <td>2000-01</td>\n",
       "      <td>1.0</td>\n",
       "      <td>Left Side Center(LC)</td>\n",
       "      <td>Mid Range</td>\n",
       "      <td>2000-10-31</td>\n",
       "      <td>POR</td>\n",
       "      <td>0</td>\n",
       "      <td>shot - 25</td>\n",
       "      <td>0</td>\n",
       "      <td>20000012</td>\n",
       "      <td>45.2</td>\n",
       "      <td>92.64</td>\n",
       "    </tr>\n",
       "    <tr>\n",
       "      <th>2</th>\n",
       "      <td>4</td>\n",
       "      <td>1.0</td>\n",
       "      <td>0.0</td>\n",
       "      <td>2000-01</td>\n",
       "      <td>0.0</td>\n",
       "      <td>Right Side Center(RC)</td>\n",
       "      <td>Mid Range</td>\n",
       "      <td>2000-10-31</td>\n",
       "      <td>POR</td>\n",
       "      <td>0</td>\n",
       "      <td>0</td>\n",
       "      <td>shot - 3</td>\n",
       "      <td>20000012</td>\n",
       "      <td>42.0</td>\n",
       "      <td>6.00</td>\n",
       "    </tr>\n",
       "    <tr>\n",
       "      <th>3</th>\n",
       "      <td>5</td>\n",
       "      <td>2.0</td>\n",
       "      <td>0.0</td>\n",
       "      <td>2000-01</td>\n",
       "      <td>1.0</td>\n",
       "      <td>Center(C)</td>\n",
       "      <td>Goal Area</td>\n",
       "      <td>2000-10-31</td>\n",
       "      <td>POR</td>\n",
       "      <td>0</td>\n",
       "      <td>0</td>\n",
       "      <td>shot - 1</td>\n",
       "      <td>20000012</td>\n",
       "      <td>20.0</td>\n",
       "      <td>42.64</td>\n",
       "    </tr>\n",
       "    <tr>\n",
       "      <th>4</th>\n",
       "      <td>6</td>\n",
       "      <td>3.0</td>\n",
       "      <td>0.0</td>\n",
       "      <td>2000-01</td>\n",
       "      <td>0.0</td>\n",
       "      <td>Left Side(L)</td>\n",
       "      <td>Mid Range</td>\n",
       "      <td>2000-10-31</td>\n",
       "      <td>POR</td>\n",
       "      <td>0</td>\n",
       "      <td>shot - 17</td>\n",
       "      <td>0</td>\n",
       "      <td>20000012</td>\n",
       "      <td>34.0</td>\n",
       "      <td>9.00</td>\n",
       "    </tr>\n",
       "  </tbody>\n",
       "</table>\n",
       "</div>"
      ],
      "text/plain": [
       "   shot_id_number  power_of_shot knockout_match game_season  is_goal  \\\n",
       "0               2            1.0            0.0     2000-01      0.0   \n",
       "1               3            1.0            0.0     2000-01      1.0   \n",
       "2               4            1.0            0.0     2000-01      0.0   \n",
       "3               5            2.0            0.0     2000-01      1.0   \n",
       "4               6            3.0            0.0     2000-01      0.0   \n",
       "\n",
       "            area_of_shot shot_basics date_of_game home/away  lat/lng  \\\n",
       "0           Left Side(L)   Mid Range   2000-10-31       POR        0   \n",
       "1   Left Side Center(LC)   Mid Range   2000-10-31       POR        0   \n",
       "2  Right Side Center(RC)   Mid Range   2000-10-31       POR        0   \n",
       "3              Center(C)   Goal Area   2000-10-31       POR        0   \n",
       "4           Left Side(L)   Mid Range   2000-10-31       POR        0   \n",
       "\n",
       "  type_of_shot type_of_combined_shot  match_id  distance_of_shot_avg  \\\n",
       "0    shot - 45                     0  20000012                  35.0   \n",
       "1    shot - 25                     0  20000012                  45.2   \n",
       "2            0              shot - 3  20000012                  42.0   \n",
       "3            0              shot - 1  20000012                  20.0   \n",
       "4    shot - 17                     0  20000012                  34.0   \n",
       "\n",
       "   remaining_min_1  \n",
       "0            10.00  \n",
       "1            92.64  \n",
       "2             6.00  \n",
       "3            42.64  \n",
       "4             9.00  "
      ]
     },
     "execution_count": 870,
     "metadata": {
      "tags": []
     },
     "output_type": "execute_result"
    }
   ],
   "source": [
    "f1 = pd.read_csv('finaldata.csv')\n",
    "f1.head()"
   ]
  },
  {
   "cell_type": "code",
   "execution_count": 0,
   "metadata": {
    "colab": {},
    "colab_type": "code",
    "id": "D6Nz17SCZYBp",
    "outputId": "1d4cd550-eb97-4cbb-f1de-a0ecb96f9220"
   },
   "outputs": [
    {
     "data": {
      "text/plain": [
       "(24421, 15)"
      ]
     },
     "execution_count": 871,
     "metadata": {
      "tags": []
     },
     "output_type": "execute_result"
    }
   ],
   "source": [
    "#f1 = f1.drop('date_of_game',axis=1)\n",
    "f1.shape"
   ]
  },
  {
   "cell_type": "code",
   "execution_count": 0,
   "metadata": {
    "colab": {},
    "colab_type": "code",
    "id": "NKguMRKqZYBy",
    "outputId": "d3759254-9a91-45c4-ae53-9ecedd7cff99"
   },
   "outputs": [
    {
     "data": {
      "text/plain": [
       "array(['Left Side(L)', 'Left Side Center(LC)', 'Right Side Center(RC)',\n",
       "       'Center(C)', 'Right Side(R)', 'U', 'Mid Ground(MG)'], dtype=object)"
      ]
     },
     "execution_count": 872,
     "metadata": {
      "tags": []
     },
     "output_type": "execute_result"
    }
   ],
   "source": [
    "f1['area_of_shot'].unique()"
   ]
  },
  {
   "cell_type": "code",
   "execution_count": 0,
   "metadata": {
    "colab": {},
    "colab_type": "code",
    "id": "peBi-u5GZYCM",
    "outputId": "348cc464-5df9-4544-f279-ae9aa687277e"
   },
   "outputs": [
    {
     "data": {
      "text/plain": [
       "array(['Mid Range', 'Goal Area', 'Goal Line', 'Penalty Spot', 'U',\n",
       "       'Right Corner', 'Mid Ground Line', 'Left Corner'], dtype=object)"
      ]
     },
     "execution_count": 873,
     "metadata": {
      "tags": []
     },
     "output_type": "execute_result"
    }
   ],
   "source": [
    "f1['shot_basics'].unique()"
   ]
  },
  {
   "cell_type": "code",
   "execution_count": 0,
   "metadata": {
    "colab": {},
    "colab_type": "code",
    "id": "J_oDiqNmZYCd",
    "outputId": "5ea31623-fc7d-4575-9ad3-8b59346bdd0f"
   },
   "outputs": [
    {
     "data": {
      "text/html": [
       "<div>\n",
       "<style scoped>\n",
       "    .dataframe tbody tr th:only-of-type {\n",
       "        vertical-align: middle;\n",
       "    }\n",
       "\n",
       "    .dataframe tbody tr th {\n",
       "        vertical-align: top;\n",
       "    }\n",
       "\n",
       "    .dataframe thead th {\n",
       "        text-align: right;\n",
       "    }\n",
       "</style>\n",
       "<table border=\"1\" class=\"dataframe\">\n",
       "  <thead>\n",
       "    <tr style=\"text-align: right;\">\n",
       "      <th></th>\n",
       "      <th>home/away</th>\n",
       "      <th>is_goal</th>\n",
       "    </tr>\n",
       "  </thead>\n",
       "  <tbody>\n",
       "    <tr>\n",
       "      <th>31</th>\n",
       "      <td>SAS</td>\n",
       "      <td>672.0</td>\n",
       "    </tr>\n",
       "    <tr>\n",
       "      <th>27</th>\n",
       "      <td>PHX</td>\n",
       "      <td>654.0</td>\n",
       "    </tr>\n",
       "    <tr>\n",
       "      <th>29</th>\n",
       "      <td>SAC</td>\n",
       "      <td>617.0</td>\n",
       "    </tr>\n",
       "    <tr>\n",
       "      <th>11</th>\n",
       "      <td>HOU</td>\n",
       "      <td>585.0</td>\n",
       "    </tr>\n",
       "    <tr>\n",
       "      <th>8</th>\n",
       "      <td>DEN</td>\n",
       "      <td>584.0</td>\n",
       "    </tr>\n",
       "  </tbody>\n",
       "</table>\n",
       "</div>"
      ],
      "text/plain": [
       "   home/away  is_goal\n",
       "31       SAS    672.0\n",
       "27       PHX    654.0\n",
       "29       SAC    617.0\n",
       "11       HOU    585.0\n",
       "8        DEN    584.0"
      ]
     },
     "execution_count": 874,
     "metadata": {
      "tags": []
     },
     "output_type": "execute_result"
    }
   ],
   "source": [
    "f2 = f1.groupby(['home/away'])['is_goal'].agg('sum').reset_index().sort_values(by='is_goal',ascending=False)\n",
    "f2 = pd.DataFrame(f2)\n",
    "f2.head()"
   ]
  },
  {
   "cell_type": "code",
   "execution_count": 0,
   "metadata": {
    "colab": {},
    "colab_type": "code",
    "id": "ChRufTcXZYCl",
    "outputId": "b5eac088-4331-47fc-e49f-1b721d5a2c66"
   },
   "outputs": [
    {
     "data": {
      "text/html": [
       "<div>\n",
       "<style scoped>\n",
       "    .dataframe tbody tr th:only-of-type {\n",
       "        vertical-align: middle;\n",
       "    }\n",
       "\n",
       "    .dataframe tbody tr th {\n",
       "        vertical-align: top;\n",
       "    }\n",
       "\n",
       "    .dataframe thead th {\n",
       "        text-align: right;\n",
       "    }\n",
       "</style>\n",
       "<table border=\"1\" class=\"dataframe\">\n",
       "  <thead>\n",
       "    <tr style=\"text-align: right;\">\n",
       "      <th></th>\n",
       "      <th>match_id</th>\n",
       "      <th>is_goal</th>\n",
       "    </tr>\n",
       "  </thead>\n",
       "  <tbody>\n",
       "    <tr>\n",
       "      <th>398</th>\n",
       "      <td>20500591</td>\n",
       "      <td>21.0</td>\n",
       "    </tr>\n",
       "    <tr>\n",
       "      <th>500</th>\n",
       "      <td>20600977</td>\n",
       "      <td>19.0</td>\n",
       "    </tr>\n",
       "    <tr>\n",
       "      <th>506</th>\n",
       "      <td>20601081</td>\n",
       "      <td>18.0</td>\n",
       "    </tr>\n",
       "    <tr>\n",
       "      <th>553</th>\n",
       "      <td>20700553</td>\n",
       "      <td>17.0</td>\n",
       "    </tr>\n",
       "    <tr>\n",
       "      <th>27</th>\n",
       "      <td>20000373</td>\n",
       "      <td>17.0</td>\n",
       "    </tr>\n",
       "  </tbody>\n",
       "</table>\n",
       "</div>"
      ],
      "text/plain": [
       "     match_id  is_goal\n",
       "398  20500591     21.0\n",
       "500  20600977     19.0\n",
       "506  20601081     18.0\n",
       "553  20700553     17.0\n",
       "27   20000373     17.0"
      ]
     },
     "execution_count": 875,
     "metadata": {
      "tags": []
     },
     "output_type": "execute_result"
    }
   ],
   "source": [
    "f3 = f1.groupby(['match_id'])['is_goal'].agg('sum').reset_index().sort_values(by='is_goal',ascending=False)\n",
    "f3 = pd.DataFrame(f3)\n",
    "f3.head()"
   ]
  },
  {
   "cell_type": "code",
   "execution_count": 0,
   "metadata": {
    "colab": {},
    "colab_type": "code",
    "id": "HCELQElFZYCv",
    "outputId": "9957a04f-16c4-44db-9444-7c92e730f944"
   },
   "outputs": [
    {
     "data": {
      "text/html": [
       "<div>\n",
       "<style scoped>\n",
       "    .dataframe tbody tr th:only-of-type {\n",
       "        vertical-align: middle;\n",
       "    }\n",
       "\n",
       "    .dataframe tbody tr th {\n",
       "        vertical-align: top;\n",
       "    }\n",
       "\n",
       "    .dataframe thead th {\n",
       "        text-align: right;\n",
       "    }\n",
       "</style>\n",
       "<table border=\"1\" class=\"dataframe\">\n",
       "  <thead>\n",
       "    <tr style=\"text-align: right;\">\n",
       "      <th></th>\n",
       "      <th>area_of_shot</th>\n",
       "      <th>is_goal</th>\n",
       "    </tr>\n",
       "  </thead>\n",
       "  <tbody>\n",
       "    <tr>\n",
       "      <th>0</th>\n",
       "      <td>Center(C)</td>\n",
       "      <td>5336.0</td>\n",
       "    </tr>\n",
       "    <tr>\n",
       "      <th>5</th>\n",
       "      <td>Right Side(R)</td>\n",
       "      <td>1390.0</td>\n",
       "    </tr>\n",
       "    <tr>\n",
       "      <th>4</th>\n",
       "      <td>Right Side Center(RC)</td>\n",
       "      <td>1384.0</td>\n",
       "    </tr>\n",
       "    <tr>\n",
       "      <th>2</th>\n",
       "      <td>Left Side(L)</td>\n",
       "      <td>1117.0</td>\n",
       "    </tr>\n",
       "    <tr>\n",
       "      <th>1</th>\n",
       "      <td>Left Side Center(LC)</td>\n",
       "      <td>1102.0</td>\n",
       "    </tr>\n",
       "    <tr>\n",
       "      <th>6</th>\n",
       "      <td>U</td>\n",
       "      <td>547.0</td>\n",
       "    </tr>\n",
       "    <tr>\n",
       "      <th>3</th>\n",
       "      <td>Mid Ground(MG)</td>\n",
       "      <td>1.0</td>\n",
       "    </tr>\n",
       "  </tbody>\n",
       "</table>\n",
       "</div>"
      ],
      "text/plain": [
       "            area_of_shot  is_goal\n",
       "0              Center(C)   5336.0\n",
       "5          Right Side(R)   1390.0\n",
       "4  Right Side Center(RC)   1384.0\n",
       "2           Left Side(L)   1117.0\n",
       "1   Left Side Center(LC)   1102.0\n",
       "6                      U    547.0\n",
       "3         Mid Ground(MG)      1.0"
      ]
     },
     "execution_count": 876,
     "metadata": {
      "tags": []
     },
     "output_type": "execute_result"
    }
   ],
   "source": [
    "f4 = f1.groupby(['area_of_shot'])['is_goal'].agg('sum').reset_index().sort_values(by='is_goal',ascending=False)\n",
    "f4 = pd.DataFrame(f4)\n",
    "f4"
   ]
  },
  {
   "cell_type": "code",
   "execution_count": 0,
   "metadata": {
    "colab": {},
    "colab_type": "code",
    "id": "hiXnX5W_ZYC2",
    "outputId": "3baf5c42-9d96-4ae8-86ac-69c3b2accc0b"
   },
   "outputs": [
    {
     "data": {
      "text/html": [
       "<div>\n",
       "<style scoped>\n",
       "    .dataframe tbody tr th:only-of-type {\n",
       "        vertical-align: middle;\n",
       "    }\n",
       "\n",
       "    .dataframe tbody tr th {\n",
       "        vertical-align: top;\n",
       "    }\n",
       "\n",
       "    .dataframe thead th {\n",
       "        text-align: right;\n",
       "    }\n",
       "</style>\n",
       "<table border=\"1\" class=\"dataframe\">\n",
       "  <thead>\n",
       "    <tr style=\"text-align: right;\">\n",
       "      <th></th>\n",
       "      <th>shot_basics</th>\n",
       "      <th>is_goal</th>\n",
       "    </tr>\n",
       "  </thead>\n",
       "  <tbody>\n",
       "    <tr>\n",
       "      <th>4</th>\n",
       "      <td>Mid Range</td>\n",
       "      <td>3851.0</td>\n",
       "    </tr>\n",
       "    <tr>\n",
       "      <th>0</th>\n",
       "      <td>Goal Area</td>\n",
       "      <td>3290.0</td>\n",
       "    </tr>\n",
       "    <tr>\n",
       "      <th>1</th>\n",
       "      <td>Goal Line</td>\n",
       "      <td>1594.0</td>\n",
       "    </tr>\n",
       "    <tr>\n",
       "      <th>5</th>\n",
       "      <td>Penalty Spot</td>\n",
       "      <td>1418.0</td>\n",
       "    </tr>\n",
       "    <tr>\n",
       "      <th>7</th>\n",
       "      <td>U</td>\n",
       "      <td>543.0</td>\n",
       "    </tr>\n",
       "    <tr>\n",
       "      <th>6</th>\n",
       "      <td>Right Corner</td>\n",
       "      <td>101.0</td>\n",
       "    </tr>\n",
       "    <tr>\n",
       "      <th>2</th>\n",
       "      <td>Left Corner</td>\n",
       "      <td>79.0</td>\n",
       "    </tr>\n",
       "    <tr>\n",
       "      <th>3</th>\n",
       "      <td>Mid Ground Line</td>\n",
       "      <td>1.0</td>\n",
       "    </tr>\n",
       "  </tbody>\n",
       "</table>\n",
       "</div>"
      ],
      "text/plain": [
       "       shot_basics  is_goal\n",
       "4        Mid Range   3851.0\n",
       "0        Goal Area   3290.0\n",
       "1        Goal Line   1594.0\n",
       "5     Penalty Spot   1418.0\n",
       "7                U    543.0\n",
       "6     Right Corner    101.0\n",
       "2      Left Corner     79.0\n",
       "3  Mid Ground Line      1.0"
      ]
     },
     "execution_count": 877,
     "metadata": {
      "tags": []
     },
     "output_type": "execute_result"
    }
   ],
   "source": [
    "f5 = f1.groupby(['shot_basics'])['is_goal'].agg('sum').reset_index().sort_values(by='is_goal',ascending=False)\n",
    "f5 = pd.DataFrame(f5)\n",
    "f5"
   ]
  },
  {
   "cell_type": "code",
   "execution_count": 0,
   "metadata": {
    "colab": {},
    "colab_type": "code",
    "id": "TnEJveG-ZYC_",
    "outputId": "03d15877-2f83-499a-8a34-d8cc32def6c8"
   },
   "outputs": [
    {
     "data": {
      "text/html": [
       "<div>\n",
       "<style scoped>\n",
       "    .dataframe tbody tr th:only-of-type {\n",
       "        vertical-align: middle;\n",
       "    }\n",
       "\n",
       "    .dataframe tbody tr th {\n",
       "        vertical-align: top;\n",
       "    }\n",
       "\n",
       "    .dataframe thead th {\n",
       "        text-align: right;\n",
       "    }\n",
       "</style>\n",
       "<table border=\"1\" class=\"dataframe\">\n",
       "  <thead>\n",
       "    <tr style=\"text-align: right;\">\n",
       "      <th></th>\n",
       "      <th>game_season</th>\n",
       "      <th>is_goal</th>\n",
       "    </tr>\n",
       "  </thead>\n",
       "  <tbody>\n",
       "    <tr>\n",
       "      <th>9</th>\n",
       "      <td>2005-06</td>\n",
       "      <td>822.0</td>\n",
       "    </tr>\n",
       "    <tr>\n",
       "      <th>12</th>\n",
       "      <td>2008-09</td>\n",
       "      <td>820.0</td>\n",
       "    </tr>\n",
       "    <tr>\n",
       "      <th>11</th>\n",
       "      <td>2007-08</td>\n",
       "      <td>806.0</td>\n",
       "    </tr>\n",
       "    <tr>\n",
       "      <th>13</th>\n",
       "      <td>2009-10</td>\n",
       "      <td>774.0</td>\n",
       "    </tr>\n",
       "    <tr>\n",
       "      <th>6</th>\n",
       "      <td>2002-03</td>\n",
       "      <td>773.0</td>\n",
       "    </tr>\n",
       "  </tbody>\n",
       "</table>\n",
       "</div>"
      ],
      "text/plain": [
       "   game_season  is_goal\n",
       "9      2005-06    822.0\n",
       "12     2008-09    820.0\n",
       "11     2007-08    806.0\n",
       "13     2009-10    774.0\n",
       "6      2002-03    773.0"
      ]
     },
     "execution_count": 878,
     "metadata": {
      "tags": []
     },
     "output_type": "execute_result"
    }
   ],
   "source": [
    "f6 = f1.groupby(['game_season'])['is_goal'].agg('sum').reset_index().sort_values(by='is_goal',ascending=False)\n",
    "f6 = pd.DataFrame(f6)\n",
    "f6.head()"
   ]
  },
  {
   "cell_type": "code",
   "execution_count": 0,
   "metadata": {
    "colab": {},
    "colab_type": "code",
    "id": "2FxOE9nNZYDO",
    "outputId": "2267b3ef-3d80-4549-e2fa-b682cf445a75"
   },
   "outputs": [
    {
     "name": "stderr",
     "output_type": "stream",
     "text": [
      "C:\\Users\\Ishita\\Anaconda3\\lib\\site-packages\\ipykernel_launcher.py:6: FutureWarning: get_value is deprecated and will be removed in a future release. Please use .at[] or .iat[] accessors instead\n",
      "  \n",
      "C:\\Users\\Ishita\\Anaconda3\\lib\\site-packages\\ipykernel_launcher.py:8: FutureWarning: set_value is deprecated and will be removed in a future release. Please use .at[] or .iat[] accessors instead\n",
      "  \n"
     ]
    }
   ],
   "source": [
    "f1['knockout_match'] = f1['knockout_match'].replace(to_replace ='U', value = '0.0', regex = True) \n",
    "f1['knockout_match'] = pd.to_numeric(f1['knockout_match'])\n",
    "\n",
    "\n",
    "for i in f1.index:\n",
    "  val = f1.get_value(i,'knockout_match')\n",
    "  if(val>1.0):\n",
    "    f1.set_value(i,'knockout_match',1.0)"
   ]
  },
  {
   "cell_type": "code",
   "execution_count": 0,
   "metadata": {
    "colab": {},
    "colab_type": "code",
    "id": "tuatYq5sZYDY",
    "outputId": "5e19fd57-a179-4f83-ce3a-4856932e4452"
   },
   "outputs": [
    {
     "data": {
      "text/plain": [
       "Index(['shot_id_number', 'power_of_shot', 'knockout_match', 'game_season',\n",
       "       'is_goal_x', 'area_of_shot', 'shot_basics', 'date_of_game', 'home/away',\n",
       "       'lat/lng', 'type_of_shot', 'type_of_combined_shot', 'match_id',\n",
       "       'distance_of_shot_avg', 'remaining_min_1', 'home/away_n'],\n",
       "      dtype='object')"
      ]
     },
     "execution_count": 928,
     "metadata": {
      "tags": []
     },
     "output_type": "execute_result"
    }
   ],
   "source": [
    "m1 = pd.merge(f1, f2, on ='home/away')\n",
    "m1 = m1.rename(columns={'is_goal_y':'home/away_n'})\n",
    "m1.columns"
   ]
  },
  {
   "cell_type": "code",
   "execution_count": 0,
   "metadata": {
    "colab": {},
    "colab_type": "code",
    "id": "n5VIO72dZYDl",
    "outputId": "8c480430-2b4f-4030-dd1b-09e6a30a3a8c"
   },
   "outputs": [
    {
     "data": {
      "text/plain": [
       "Index(['shot_id_number', 'power_of_shot', 'knockout_match', 'game_season',\n",
       "       'is_goal_x', 'area_of_shot', 'shot_basics', 'date_of_game', 'home/away',\n",
       "       'lat/lng', 'type_of_shot', 'type_of_combined_shot', 'match_id',\n",
       "       'distance_of_shot_avg', 'remaining_min_1', 'home/away_n', 'match_id_n'],\n",
       "      dtype='object')"
      ]
     },
     "execution_count": 927,
     "metadata": {
      "tags": []
     },
     "output_type": "execute_result"
    }
   ],
   "source": [
    "m2 = pd.merge(m1, f3, on ='match_id')\n",
    "m2 = m2.rename(columns={'is_goal':'match_id_n'})\n",
    "m2.columns"
   ]
  },
  {
   "cell_type": "code",
   "execution_count": 0,
   "metadata": {
    "colab": {},
    "colab_type": "code",
    "id": "zVouND3QZYDr",
    "outputId": "f97395ac-1d7f-4148-e925-a393d7251ee7"
   },
   "outputs": [
    {
     "data": {
      "text/plain": [
       "Index(['shot_id_number', 'power_of_shot', 'knockout_match', 'game_season',\n",
       "       'is_goal_x', 'area_of_shot', 'shot_basics', 'date_of_game', 'home/away',\n",
       "       'lat/lng', 'type_of_shot', 'type_of_combined_shot', 'match_id',\n",
       "       'distance_of_shot_avg', 'remaining_min_1', 'home/away_n', 'match_id_n',\n",
       "       'area_of_shot_n'],\n",
       "      dtype='object')"
      ]
     },
     "execution_count": 923,
     "metadata": {
      "tags": []
     },
     "output_type": "execute_result"
    }
   ],
   "source": [
    "m3 = pd.merge(m2, f4, on ='area_of_shot')\n",
    "m3 = m3.rename(columns={'is_goal':'area_of_shot_n'})\n",
    "m3.columns"
   ]
  },
  {
   "cell_type": "code",
   "execution_count": 0,
   "metadata": {
    "colab": {},
    "colab_type": "code",
    "id": "402NWultZYDy",
    "outputId": "691e8c9f-83e2-45ae-bbf3-b813ab40462a"
   },
   "outputs": [
    {
     "data": {
      "text/plain": [
       "Index(['shot_id_number', 'power_of_shot', 'knockout_match', 'game_season',\n",
       "       'is_goal_x', 'area_of_shot', 'shot_basics', 'date_of_game', 'home/away',\n",
       "       'lat/lng', 'type_of_shot', 'type_of_combined_shot', 'match_id',\n",
       "       'distance_of_shot_avg', 'remaining_min_1', 'home/away_n', 'match_id_n',\n",
       "       'area_of_shot_n', 'shot_basics_n'],\n",
       "      dtype='object')"
      ]
     },
     "execution_count": 925,
     "metadata": {
      "tags": []
     },
     "output_type": "execute_result"
    }
   ],
   "source": [
    "m4 = pd.merge(m3, f5, on ='shot_basics')\n",
    "m4 = m4.rename(columns={'is_goal':'shot_basics_n'})\n",
    "m4.columns"
   ]
  },
  {
   "cell_type": "code",
   "execution_count": 0,
   "metadata": {
    "colab": {},
    "colab_type": "code",
    "id": "XydqVAzvZYEA",
    "outputId": "2072f77b-c432-4d33-afce-6161188bbf89"
   },
   "outputs": [
    {
     "data": {
      "text/plain": [
       "Index(['shot_id_number', 'power_of_shot', 'knockout_match', 'game_season',\n",
       "       'is_goal_x', 'area_of_shot', 'shot_basics', 'date_of_game', 'home/away',\n",
       "       'lat/lng', 'type_of_shot', 'type_of_combined_shot', 'match_id',\n",
       "       'distance_of_shot_avg', 'remaining_min_1', 'home/away_n', 'match_id_n',\n",
       "       'area_of_shot_n', 'shot_basics_n', 'game_season_n'],\n",
       "      dtype='object')"
      ]
     },
     "execution_count": 932,
     "metadata": {
      "tags": []
     },
     "output_type": "execute_result"
    }
   ],
   "source": [
    "m5 = pd.merge(m4, f6, on ='game_season')\n",
    "m5 = m5.rename(columns={'is_goal':'game_season_n'})\n",
    "m5.columns"
   ]
  },
  {
   "cell_type": "code",
   "execution_count": 0,
   "metadata": {
    "colab": {},
    "colab_type": "code",
    "collapsed": true,
    "id": "wiFDMaQ-ZYET"
   },
   "outputs": [],
   "source": [
    "m5.to_csv('pleaseberight.csv',index=False)"
   ]
  },
  {
   "cell_type": "code",
   "execution_count": 0,
   "metadata": {
    "colab": {},
    "colab_type": "code",
    "id": "0x00jqqoZYEi",
    "outputId": "6c267249-d4d8-4982-db49-6bfd6fe0e9b7"
   },
   "outputs": [
    {
     "data": {
      "text/plain": [
       "Index(['shot_id_number', 'power_of_shot', 'knockout_match', 'is_goal_x',\n",
       "       'lat/lng', 'type_of_shot', 'type_of_combined_shot',\n",
       "       'distance_of_shot_avg', 'remaining_min_1', 'home/away_n', 'match_id_n',\n",
       "       'area_of_shot_n', 'shot_basics_n', 'game_season_n'],\n",
       "      dtype='object')"
      ]
     },
     "execution_count": 935,
     "metadata": {
      "tags": []
     },
     "output_type": "execute_result"
    }
   ],
   "source": [
    "m6 = m5.drop(['home/away', 'match_id','area_of_shot', 'shot_basics', 'game_season','date_of_game'],axis=1)\n",
    "m6.columns"
   ]
  },
  {
   "cell_type": "code",
   "execution_count": 0,
   "metadata": {
    "colab": {},
    "colab_type": "code",
    "collapsed": true,
    "id": "OJnlC7g0ZYEx"
   },
   "outputs": [],
   "source": [
    "m6 = m6.rename(columns={'lat/lng':'home/away', 'home/away_n':'opposing_team'})"
   ]
  },
  {
   "cell_type": "code",
   "execution_count": 0,
   "metadata": {
    "colab": {},
    "colab_type": "code",
    "collapsed": true,
    "id": "I6AMJaEcZYE1"
   },
   "outputs": [],
   "source": [
    "m6.to_csv('FINAL1.csv',index=False)"
   ]
  },
  {
   "cell_type": "code",
   "execution_count": 2,
   "metadata": {
    "colab": {},
    "colab_type": "code",
    "id": "5yJCumMBZYE-"
   },
   "outputs": [],
   "source": [
    "f1 = pd.read_csv(\"final2.csv\")"
   ]
  },
  {
   "cell_type": "code",
   "execution_count": 3,
   "metadata": {
    "colab": {},
    "colab_type": "code",
    "collapsed": true,
    "id": "YtShEqrWaVrp"
   },
   "outputs": [],
   "source": [
    "import pandas as pd\n",
    "\n",
    "import matplotlib.pyplot as plt"
   ]
  },
  {
   "cell_type": "code",
   "execution_count": 4,
   "metadata": {
    "collapsed": true
   },
   "outputs": [],
   "source": [
    "data = pd.read_csv(\"processed_data.csv\")"
   ]
  },
  {
   "cell_type": "code",
   "execution_count": 5,
   "metadata": {},
   "outputs": [
    {
     "data": {
      "text/html": [
       "<div>\n",
       "<style>\n",
       "    .dataframe thead tr:only-child th {\n",
       "        text-align: right;\n",
       "    }\n",
       "\n",
       "    .dataframe thead th {\n",
       "        text-align: left;\n",
       "    }\n",
       "\n",
       "    .dataframe tbody tr th {\n",
       "        vertical-align: top;\n",
       "    }\n",
       "</style>\n",
       "<table border=\"1\" class=\"dataframe\">\n",
       "  <thead>\n",
       "    <tr style=\"text-align: right;\">\n",
       "      <th></th>\n",
       "      <th>shot_id_number</th>\n",
       "      <th>power_of_shot</th>\n",
       "      <th>knockout_match</th>\n",
       "      <th>is_goal_x</th>\n",
       "      <th>home/away</th>\n",
       "      <th>distance_of_shot_avg</th>\n",
       "      <th>remaining_min_1</th>\n",
       "      <th>opposing_team</th>\n",
       "      <th>match_id_n</th>\n",
       "      <th>area_of_shot_n</th>\n",
       "      <th>shot_basics_n</th>\n",
       "      <th>game_season_n</th>\n",
       "      <th>type_of_shot_n</th>\n",
       "      <th>type_of_combined_shot_n</th>\n",
       "    </tr>\n",
       "  </thead>\n",
       "  <tbody>\n",
       "    <tr>\n",
       "      <th>0</th>\n",
       "      <td>2</td>\n",
       "      <td>1.0</td>\n",
       "      <td>0.0</td>\n",
       "      <td>0.0</td>\n",
       "      <td>0</td>\n",
       "      <td>35.0</td>\n",
       "      <td>10.0</td>\n",
       "      <td>573.0</td>\n",
       "      <td>4.0</td>\n",
       "      <td>1117.0</td>\n",
       "      <td>3851.0</td>\n",
       "      <td>698.0</td>\n",
       "      <td>38.0</td>\n",
       "      <td>5465.0</td>\n",
       "    </tr>\n",
       "    <tr>\n",
       "      <th>1</th>\n",
       "      <td>235</td>\n",
       "      <td>4.0</td>\n",
       "      <td>0.0</td>\n",
       "      <td>0.0</td>\n",
       "      <td>1</td>\n",
       "      <td>41.0</td>\n",
       "      <td>0.0</td>\n",
       "      <td>213.0</td>\n",
       "      <td>7.0</td>\n",
       "      <td>1117.0</td>\n",
       "      <td>3851.0</td>\n",
       "      <td>698.0</td>\n",
       "      <td>38.0</td>\n",
       "      <td>5465.0</td>\n",
       "    </tr>\n",
       "    <tr>\n",
       "      <th>2</th>\n",
       "      <td>286</td>\n",
       "      <td>3.0</td>\n",
       "      <td>0.0</td>\n",
       "      <td>0.0</td>\n",
       "      <td>0</td>\n",
       "      <td>50.7</td>\n",
       "      <td>11.0</td>\n",
       "      <td>467.0</td>\n",
       "      <td>10.0</td>\n",
       "      <td>1102.0</td>\n",
       "      <td>3851.0</td>\n",
       "      <td>698.0</td>\n",
       "      <td>38.0</td>\n",
       "      <td>5465.0</td>\n",
       "    </tr>\n",
       "    <tr>\n",
       "      <th>3</th>\n",
       "      <td>878</td>\n",
       "      <td>1.0</td>\n",
       "      <td>0.0</td>\n",
       "      <td>0.0</td>\n",
       "      <td>1</td>\n",
       "      <td>41.0</td>\n",
       "      <td>3.0</td>\n",
       "      <td>216.0</td>\n",
       "      <td>9.0</td>\n",
       "      <td>1102.0</td>\n",
       "      <td>3851.0</td>\n",
       "      <td>698.0</td>\n",
       "      <td>38.0</td>\n",
       "      <td>5465.0</td>\n",
       "    </tr>\n",
       "    <tr>\n",
       "      <th>4</th>\n",
       "      <td>224</td>\n",
       "      <td>3.0</td>\n",
       "      <td>0.0</td>\n",
       "      <td>1.0</td>\n",
       "      <td>1</td>\n",
       "      <td>40.0</td>\n",
       "      <td>7.0</td>\n",
       "      <td>213.0</td>\n",
       "      <td>7.0</td>\n",
       "      <td>1384.0</td>\n",
       "      <td>3851.0</td>\n",
       "      <td>698.0</td>\n",
       "      <td>38.0</td>\n",
       "      <td>5465.0</td>\n",
       "    </tr>\n",
       "  </tbody>\n",
       "</table>\n",
       "</div>"
      ],
      "text/plain": [
       "   shot_id_number  power_of_shot  knockout_match  is_goal_x  home/away  \\\n",
       "0               2            1.0             0.0        0.0          0   \n",
       "1             235            4.0             0.0        0.0          1   \n",
       "2             286            3.0             0.0        0.0          0   \n",
       "3             878            1.0             0.0        0.0          1   \n",
       "4             224            3.0             0.0        1.0          1   \n",
       "\n",
       "   distance_of_shot_avg  remaining_min_1  opposing_team  match_id_n  \\\n",
       "0                  35.0             10.0          573.0         4.0   \n",
       "1                  41.0              0.0          213.0         7.0   \n",
       "2                  50.7             11.0          467.0        10.0   \n",
       "3                  41.0              3.0          216.0         9.0   \n",
       "4                  40.0              7.0          213.0         7.0   \n",
       "\n",
       "   area_of_shot_n  shot_basics_n  game_season_n  type_of_shot_n  \\\n",
       "0          1117.0         3851.0          698.0            38.0   \n",
       "1          1117.0         3851.0          698.0            38.0   \n",
       "2          1102.0         3851.0          698.0            38.0   \n",
       "3          1102.0         3851.0          698.0            38.0   \n",
       "4          1384.0         3851.0          698.0            38.0   \n",
       "\n",
       "   type_of_combined_shot_n  \n",
       "0                   5465.0  \n",
       "1                   5465.0  \n",
       "2                   5465.0  \n",
       "3                   5465.0  \n",
       "4                   5465.0  "
      ]
     },
     "execution_count": 5,
     "metadata": {},
     "output_type": "execute_result"
    }
   ],
   "source": [
    "data.head()"
   ]
  },
  {
   "cell_type": "code",
   "execution_count": 6,
   "metadata": {
    "collapsed": true
   },
   "outputs": [],
   "source": [
    "from sklearn.model_selection import train_test_split\n",
    "\n",
    "X = data.drop('is_goal_x', axis=1)\n",
    "Y = data['is_goal_x']\n",
    "\n",
    "x_train, x_test, y_train, y_test = train_test_split(X, Y, test_size=0.2)"
   ]
  },
  {
   "cell_type": "code",
   "execution_count": 7,
   "metadata": {},
   "outputs": [
    {
     "data": {
      "text/plain": [
       "((19537, 13), (4885, 13))"
      ]
     },
     "execution_count": 7,
     "metadata": {},
     "output_type": "execute_result"
    }
   ],
   "source": [
    "x_train.shape, x_test.shape"
   ]
  },
  {
   "cell_type": "code",
   "execution_count": 8,
   "metadata": {},
   "outputs": [
    {
     "data": {
      "text/plain": [
       "((19537,), (4885,))"
      ]
     },
     "execution_count": 8,
     "metadata": {},
     "output_type": "execute_result"
    }
   ],
   "source": [
    "y_train.shape, y_test.shape"
   ]
  },
  {
   "cell_type": "code",
   "execution_count": 9,
   "metadata": {
    "collapsed": true
   },
   "outputs": [],
   "source": [
    "from sklearn.linear_model import LinearRegression\n",
    "\n",
    "linear_model = LinearRegression(fit_intercept=True).fit(x_train, y_train)"
   ]
  },
  {
   "cell_type": "code",
   "execution_count": 10,
   "metadata": {},
   "outputs": [
    {
     "name": "stdout",
     "output_type": "stream",
     "text": [
      "Training_score :  0.05382528334579806\n"
     ]
    }
   ],
   "source": [
    "print(\"Training_score : \" , linear_model.score(x_train, y_train))"
   ]
  },
  {
   "cell_type": "code",
   "execution_count": 11,
   "metadata": {},
   "outputs": [
    {
     "name": "stderr",
     "output_type": "stream",
     "text": [
      "C:\\Users\\dhruv\\Anaconda34\\lib\\site-packages\\statsmodels\\compat\\pandas.py:56: FutureWarning: The pandas.core.datetools module is deprecated and will be removed in a future version. Please use the pandas.tseries module instead.\n",
      "  from pandas.core import datetools\n"
     ]
    }
   ],
   "source": [
    "import pandas as pd\n",
    "import numpy as np\n",
    "import matplotlib.pyplot as plt\n",
    "\n",
    "import statsmodels.api as sm\n",
    "\n",
    "from sklearn.model_selection import train_test_split\n",
    "from sklearn.metrics import r2_score\n",
    "from sklearn.preprocessing import StandardScaler\n",
    "\n",
    "from sklearn.linear_model import LinearRegression\n",
    "from sklearn.linear_model import Lasso\n",
    "from sklearn.linear_model import Ridge\n",
    "from sklearn.linear_model import ElasticNet\n",
    "from sklearn.linear_model import Lars\n",
    "from sklearn.linear_model import SGDRegressor\n",
    "from sklearn.svm import SVR\n",
    "from sklearn.neighbors import KNeighborsRegressor\n",
    "from sklearn.tree import DecisionTreeRegressor\n",
    "\n",
    "import warnings\n",
    "warnings.filterwarnings(\"ignore\")"
   ]
  },
  {
   "cell_type": "code",
   "execution_count": 12,
   "metadata": {
    "collapsed": true
   },
   "outputs": [],
   "source": [
    "result_dict = {}"
   ]
  },
  {
   "cell_type": "code",
   "execution_count": 13,
   "metadata": {
    "collapsed": true
   },
   "outputs": [],
   "source": [
    "def build_model(regression_fn,                \n",
    "                name_of_y_col, \n",
    "                names_of_x_cols, \n",
    "                dataset, \n",
    "                test_frac=0.2,\n",
    "                preprocess_fn=None,\n",
    "                show_plot_Y=False,\n",
    "                show_plot_scatter=False):\n",
    "    \n",
    "    X = dataset[names_of_x_cols]\n",
    "    Y = dataset[name_of_y_col]\n",
    "\n",
    "    if preprocess_fn is not None:\n",
    "        X = preprocess_fn(X)\n",
    "\n",
    "    x_train, x_test, y_train, y_test = train_test_split(X, Y, test_size=test_frac)\n",
    "    \n",
    "    model = regression_fn(x_train, y_train)\n",
    "    \n",
    "    y_pred = model.predict(x_test)\n",
    "    \n",
    "    print(\"Training_score : \" , model.score(x_train, y_train))\n",
    "    print(\"Test_score : \", r2_score(y_test, y_pred))\n",
    "\n",
    "    if show_plot_Y == True:\n",
    "        fig, ax = plt.subplots(figsize=(12, 8))\n",
    "        \n",
    "        plt.plot(y_pred, label='Predicted')\n",
    "        plt.plot(y_test.values, label='Actual')\n",
    "        \n",
    "        plt.ylabel(name_of_y_col)\n",
    "\n",
    "        plt.legend()\n",
    "        plt.show()\n",
    "\n",
    "    if show_plot_scatter == True:\n",
    "        fig, ax = plt.subplots(figsize=(12, 8))\n",
    "        \n",
    "        plt.scatter(x_test, y_test)\n",
    "        plt.plot(x_test, y_pred, 'r')\n",
    "        \n",
    "        plt.legend(['Predicted line','Observed data'])\n",
    "        plt.show()\n",
    "    \n",
    "    return {\n",
    "            'training_score': model.score(x_train, y_train),\n",
    "            'test_score': r2_score(y_test, y_pred)\n",
    "           }"
   ]
  },
  {
   "cell_type": "code",
   "execution_count": 14,
   "metadata": {
    "collapsed": true
   },
   "outputs": [],
   "source": [
    "def compare_results():\n",
    "    for key in result_dict:\n",
    "        print('Regression: ', key)\n",
    "        print('Training score', result_dict[key]['training_score'])\n",
    "        print('Test score', result_dict[key]['test_score'])\n",
    "        print()"
   ]
  },
  {
   "cell_type": "code",
   "execution_count": 15,
   "metadata": {
    "collapsed": true
   },
   "outputs": [],
   "source": [
    "def linear_reg(x_train, y_train):\n",
    "    model = LinearRegression(normalize=True)\n",
    "    model.fit(x_train, y_train)\n",
    "    \n",
    "    return model"
   ]
  },
  {
   "cell_type": "code",
   "execution_count": 16,
   "metadata": {
    "collapsed": true
   },
   "outputs": [],
   "source": [
    "def lasso_reg(x_train, y_train, alpha=0.5):\n",
    "    model = Lasso(alpha=alpha)\n",
    "    model.fit(x_train, y_train)\n",
    "    \n",
    "    return model"
   ]
  },
  {
   "cell_type": "code",
   "execution_count": 17,
   "metadata": {
    "collapsed": true
   },
   "outputs": [],
   "source": [
    "def ridge_reg(x_train, y_train, alpha=0.5, normalize=True):\n",
    "    model = Ridge(alpha=alpha, normalize=normalize)\n",
    "    model.fit(x_train, y_train)\n",
    "    \n",
    "    return model"
   ]
  },
  {
   "cell_type": "code",
   "execution_count": 18,
   "metadata": {
    "collapsed": true
   },
   "outputs": [],
   "source": [
    "def elastic_net_reg(x_train, y_train, alpha=1, l1_ratio=0.5, \n",
    "                    normalize=False, max_iter=100000, warm_start=True, equivalent_to=\"Elastic Net\"):\n",
    "\n",
    "    print(\"Equivalent to:\", equivalent_to)\n",
    "    \n",
    "    model = ElasticNet(alpha=alpha, l1_ratio=l1_ratio, \n",
    "                       normalize=normalize, max_iter=max_iter, warm_start=warm_start)\n",
    "    model.fit(x_train, y_train)\n",
    "\n",
    "    return model"
   ]
  },
  {
   "cell_type": "code",
   "execution_count": 19,
   "metadata": {
    "collapsed": true
   },
   "outputs": [],
   "source": [
    "compare_results()"
   ]
  },
  {
   "cell_type": "code",
   "execution_count": 34,
   "metadata": {},
   "outputs": [
    {
     "name": "stdout",
     "output_type": "stream",
     "text": [
      "Training_score :  0.05251115754644431\n",
      "Test_score :  0.06425014480445068\n"
     ]
    }
   ],
   "source": [
    "result_dict['is_goal_x ~ svg'] = build_model(linear_reg,\n",
    "                                                 'is_goal_x',\n",
    "                                                ['shot_id_number', 'power_of_shot', 'knockout_match',\n",
    "       'home/away', 'distance_of_shot_avg', 'remaining_min_1', 'opposing_team',\n",
    "       'match_id_n', 'area_of_shot_n', 'shot_basics_n', 'game_season_n',\n",
    "       'type_of_shot_n', 'type_of_combined_shot_n'],\n",
    "                                                  data,\n",
    "                                                  show_plot_Y=False)"
   ]
  },
  {
   "cell_type": "code",
   "execution_count": 36,
   "metadata": {},
   "outputs": [
    {
     "data": {
      "text/plain": [
       "array([0.34724177, 0.35044773, 0.30136991, ..., 0.40145867, 0.46262718,\n",
       "       0.42078419])"
      ]
     },
     "execution_count": 36,
     "metadata": {},
     "output_type": "execute_result"
    }
   ],
   "source": [
    "y_pred = linear_model.predict(x_test)\n",
    "y_pred"
   ]
  },
  {
   "cell_type": "code",
   "execution_count": 37,
   "metadata": {},
   "outputs": [
    {
     "name": "stdout",
     "output_type": "stream",
     "text": [
      "Testing_score :  0.059371109666240374\n"
     ]
    }
   ],
   "source": [
    "from sklearn.metrics import r2_score\n",
    "\n",
    "print(\"Testing_score : \", r2_score(y_test, y_pred))"
   ]
  },
  {
   "cell_type": "code",
   "execution_count": 40,
   "metadata": {},
   "outputs": [
    {
     "data": {
      "text/html": [
       "<div>\n",
       "<style>\n",
       "    .dataframe thead tr:only-child th {\n",
       "        text-align: right;\n",
       "    }\n",
       "\n",
       "    .dataframe thead th {\n",
       "        text-align: left;\n",
       "    }\n",
       "\n",
       "    .dataframe tbody tr th {\n",
       "        vertical-align: top;\n",
       "    }\n",
       "</style>\n",
       "<table border=\"1\" class=\"dataframe\">\n",
       "  <thead>\n",
       "    <tr style=\"text-align: right;\">\n",
       "      <th></th>\n",
       "      <th>actual</th>\n",
       "      <th>predicted</th>\n",
       "    </tr>\n",
       "  </thead>\n",
       "  <tbody>\n",
       "    <tr>\n",
       "      <th>16954</th>\n",
       "      <td>1.0</td>\n",
       "      <td>0.387672</td>\n",
       "    </tr>\n",
       "    <tr>\n",
       "      <th>11358</th>\n",
       "      <td>0.0</td>\n",
       "      <td>0.520435</td>\n",
       "    </tr>\n",
       "    <tr>\n",
       "      <th>12894</th>\n",
       "      <td>0.0</td>\n",
       "      <td>0.321330</td>\n",
       "    </tr>\n",
       "    <tr>\n",
       "      <th>12309</th>\n",
       "      <td>0.0</td>\n",
       "      <td>0.521510</td>\n",
       "    </tr>\n",
       "    <tr>\n",
       "      <th>7860</th>\n",
       "      <td>1.0</td>\n",
       "      <td>0.555341</td>\n",
       "    </tr>\n",
       "    <tr>\n",
       "      <th>11900</th>\n",
       "      <td>1.0</td>\n",
       "      <td>0.369252</td>\n",
       "    </tr>\n",
       "    <tr>\n",
       "      <th>7503</th>\n",
       "      <td>1.0</td>\n",
       "      <td>0.407876</td>\n",
       "    </tr>\n",
       "    <tr>\n",
       "      <th>21390</th>\n",
       "      <td>0.0</td>\n",
       "      <td>0.394526</td>\n",
       "    </tr>\n",
       "    <tr>\n",
       "      <th>8017</th>\n",
       "      <td>1.0</td>\n",
       "      <td>0.529597</td>\n",
       "    </tr>\n",
       "    <tr>\n",
       "      <th>19406</th>\n",
       "      <td>1.0</td>\n",
       "      <td>0.346921</td>\n",
       "    </tr>\n",
       "  </tbody>\n",
       "</table>\n",
       "</div>"
      ],
      "text/plain": [
       "       actual  predicted\n",
       "16954     1.0   0.387672\n",
       "11358     0.0   0.520435\n",
       "12894     0.0   0.321330\n",
       "12309     0.0   0.521510\n",
       "7860      1.0   0.555341\n",
       "11900     1.0   0.369252\n",
       "7503      1.0   0.407876\n",
       "21390     0.0   0.394526\n",
       "8017      1.0   0.529597\n",
       "19406     1.0   0.346921"
      ]
     },
     "execution_count": 40,
     "metadata": {},
     "output_type": "execute_result"
    }
   ],
   "source": [
    "df_pred_actual = pd.DataFrame({'predicted': y_pred, 'actual': y_test})\n",
    "\n",
    "df_pred_actual.sample(10)"
   ]
  },
  {
   "cell_type": "code",
   "execution_count": 21,
   "metadata": {},
   "outputs": [
    {
     "data": {
      "text/plain": [
       "Index(['shot_id_number', 'power_of_shot', 'knockout_match', 'is_goal_x',\n",
       "       'home/away', 'distance_of_shot_avg', 'remaining_min_1', 'opposing_team',\n",
       "       'match_id_n', 'area_of_shot_n', 'shot_basics_n', 'game_season_n',\n",
       "       'type_of_shot_n', 'type_of_combined_shot_n'],\n",
       "      dtype='object')"
      ]
     },
     "execution_count": 21,
     "metadata": {},
     "output_type": "execute_result"
    }
   ],
   "source": [
    "data.columns"
   ]
  },
  {
   "cell_type": "code",
   "execution_count": 22,
   "metadata": {
    "collapsed": true
   },
   "outputs": [],
   "source": [
    "compare_results()"
   ]
  },
  {
   "cell_type": "code",
   "execution_count": 23,
   "metadata": {
    "collapsed": true
   },
   "outputs": [],
   "source": [
    "def svr_reg(x_train, y_train, kernel='linear', epsilon=0.05, C=0.3):\n",
    "    model = SVR(kernel=kernel, epsilon=epsilon, C=C)\n",
    "    model.fit(x_train,y_train)\n",
    "    \n",
    "    return model"
   ]
  },
  {
   "cell_type": "code",
   "execution_count": 24,
   "metadata": {
    "collapsed": true
   },
   "outputs": [],
   "source": [
    "def kneighbors_reg(x_train, y_train, n_neighbors=10):\n",
    "    model = KNeighborsRegressor(n_neighbors=n_neighbors)\n",
    "    model.fit(x_train, y_train)\n",
    "    \n",
    "    return model"
   ]
  },
  {
   "cell_type": "code",
   "execution_count": 25,
   "metadata": {
    "collapsed": true
   },
   "outputs": [],
   "source": [
    "def sgd_reg(x_train, y_train, max_iter=10000, tol=1e-3):\n",
    "    model = SGDRegressor(max_iter=max_iter, tol=tol)\n",
    "    model.fit(x_train, y_train)\n",
    "    \n",
    "    return model"
   ]
  },
  {
   "cell_type": "code",
   "execution_count": 26,
   "metadata": {
    "collapsed": true
   },
   "outputs": [],
   "source": [
    "def sgd_reg(x_train, y_train, max_iter=10000, tol=1e-3):\n",
    "    model = SGDRegressor(max_iter=max_iter, tol=tol)\n",
    "    model.fit(x_train, y_train)\n",
    "    \n",
    "    return model"
   ]
  },
  {
   "cell_type": "code",
   "execution_count": 27,
   "metadata": {
    "collapsed": true
   },
   "outputs": [],
   "source": [
    "def decision_tree_reg(x_train, y_train, max_depth=2):\n",
    "    model = DecisionTreeRegressor(max_depth=max_depth)\n",
    "    model.fit(x_train, y_train)\n",
    "    \n",
    "    return model"
   ]
  },
  {
   "cell_type": "code",
   "execution_count": 28,
   "metadata": {
    "collapsed": true
   },
   "outputs": [],
   "source": [
    "def lars_reg(x_train, y_train, n_nonzero_coefs=4):\n",
    "    model = Lars(n_nonzero_coefs=n_nonzero_coefs)\n",
    "    model.fit(x_train, y_train)\n",
    "    \n",
    "    return model"
   ]
  },
  {
   "cell_type": "code",
   "execution_count": null,
   "metadata": {
    "collapsed": true
   },
   "outputs": [],
   "source": []
  }
 ],
 "metadata": {
  "colab": {
   "name": "Zs_Data_science(1).ipynb",
   "provenance": [],
   "version": "0.3.2"
  },
  "kernelspec": {
   "display_name": "Python 3",
   "language": "python",
   "name": "python3"
  },
  "language_info": {
   "codemirror_mode": {
    "name": "ipython",
    "version": 3
   },
   "file_extension": ".py",
   "mimetype": "text/x-python",
   "name": "python",
   "nbconvert_exporter": "python",
   "pygments_lexer": "ipython3",
   "version": "3.6.3"
  }
 },
 "nbformat": 4,
 "nbformat_minor": 1
}
